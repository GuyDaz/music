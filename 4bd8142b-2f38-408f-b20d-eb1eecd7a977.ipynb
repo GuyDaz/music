{
 "cells": [
  {
   "cell_type": "markdown",
   "metadata": {},
   "source": [
    "<div style=\"border:solid green 2px; padding: 20px\"> <h1 style=\"color:green; margin-bottom:20px\">Reviewer's comment v1</h1>\n",
    "\n",
    "Hello, my name is Dmitrii. I'm going to review your project! Nice to meet you! 🙌\n",
    "\n",
    "You can find my comments under the heading **«Review»**. I will categorize my comments in green, blue or red boxes like this:\n",
    "\n",
    "<div class=\"alert alert-success\">\n",
    "    <b>Success:</b> if everything is done successfully\n",
    "</div>\n",
    "<div class=\"alert alert-warning\">\n",
    "    <b>Remarks:</b> if I can give some recommendations or ways to improve the project\n",
    "   \n",
    "</div>\n",
    "<div class=\"alert alert-danger\">\n",
    "    <b>Needs fixing:</b> if the block requires some corrections. Work can't be accepted with the red comments\n",
    "</div>\n",
    "\n",
    "Please don't remove my comments :) If you have any questions don't hesitate to respond to my comments in a different section. \n",
    "<div class=\"alert alert-info\"> <b>Student comments:</b> For example like this</div>   \n",
    "   "
   ]
  },
  {
   "cell_type": "markdown",
   "metadata": {},
   "source": [
    "<div style=\"border:solid green 2px; padding: 20px\">\n",
    "<b>Reviewer's comment v1:</b>\n",
    "    \n",
    "<b>Overall Feedback</b> \n",
    "    \n",
    "- Overall well done! I can see that a lot of effort has been made! Your project looks very good and you accomplished impressive results.\n",
    "- However, there are some comments/areas left to fix that will help you to make your project even better:\n",
    "    - Add for loop to update only selected columns.\n",
    "    - Update logic in the last function.\n",
    "    \n",
    "And of course, if you have any questions along the way, remember that you can always reach out to your tutor for any clarification.\n",
    "    \n",
    "I will wait for you to send me a new version of the project :)\n",
    "\n",
    "    \n",
    "</div>"
   ]
  },
  {
   "cell_type": "markdown",
   "metadata": {},
   "source": [
    "<div style=\"border:solid green 2px; padding: 20px\">\n",
    "<b>Reviewer's comment v2:</b>\n",
    "    \n",
    "<b>Overall Feedback</b> \n",
    "\n",
    "Hello, thank you for making all changes/comments in your project! There are still some minor issues to fix.\n",
    "    \n",
    "I will wait for you to send me a new version of the project!\n",
    "</div>"
   ]
  },
  {
   "cell_type": "markdown",
   "metadata": {},
   "source": [
    "<div style=\"border:solid green 2px; padding: 20px\">\n",
    "<b>Reviewer's comment v3:</b>\n",
    "    \n",
    "<b>Overall Feedback</b> \n",
    "\n",
    "Hello, thank you for making all changes/comments in your project! There is only one issue left with the for loop. Can you please check that?\n",
    "    \n",
    "I will wait for you to send me a new version of the project!\n",
    "</div>"
   ]
  },
  {
   "cell_type": "markdown",
   "metadata": {},
   "source": [
    "<div style=\"border:solid green 2px; padding: 20px\">\n",
    "<b>Reviewer's comment v4:</b>\n",
    "    \n",
    "<b>Overall Feedback</b> \n",
    "\n",
    "Thank you for making all improvements in your project! It looks perfect now and there are no critical issues. \n",
    "    \n",
    "Please keep up great work and don't hesitate to use this project as a reference in your future sprints. \n",
    "   \n",
    "Good luck on the next project 🍀 \n",
    "</div>"
   ]
  },
  {
   "cell_type": "markdown",
   "metadata": {
    "id": "E0vqbgi9ay0H"
   },
   "source": [
    "# Yandex.Music"
   ]
  },
  {
   "cell_type": "markdown",
   "metadata": {
    "id": "fhq_eyov_Zcs"
   },
   "source": [
    "# Contents <a id='back'></a>\n",
    "\n",
    "* [Introduction](#intro)\n",
    "* [Stage 1. Data overview](#data_review)\n",
    "    * [Conclusions](#data_review_conclusions)\n",
    "* [Stage 2. Data preprocessing](#data_preprocessing)\n",
    "    * [2.1 Header style](#header_style)\n",
    "    * [2.2 Missing values](#missing_values)\n",
    "    * [2.3 Duplicates](#duplicates)\n",
    "    * [2.4 Conclusions](#data_preprocessing_conclusions)\n",
    "* [Stage 3. Testing the hypotheses](#hypotheses)\n",
    "    * [3.1 Hypothesis 1: user activity in the two cities](#activity)\n",
    "    * [3.2 Hypothesis 2: music preferences on Monday and Friday](#week)\n",
    "    * [3.3 Hypothesis 3: genre preferences in Springfield and Shelbyville](#genre)\n",
    "* [Findings](#end)"
   ]
  },
  {
   "cell_type": "markdown",
   "metadata": {
    "id": "VUC88oWjTJw2"
   },
   "source": [
    "## Introduction <a id='intro'></a>\n",
    "Whenever we're doing research, we need to formulate hypotheses that we can then test. Sometimes we accept these hypotheses; other times, we reject them. To make the right decisions, a business must be able to understand whether or not it's making the right assumptions.\n",
    "\n",
    "In this project, you'll compare the music preferences of the cities of Springfield and Shelbyville. You'll study real Yandex.Music data to test the hypotheses below and compare user behavior for these two cities.\n",
    "\n",
    "### Goal: \n",
    "Test three hypotheses:\n",
    "1. User activity differs depending on the day of the week and from city to city. \n",
    "2. On Monday mornings, Springfield and Shelbyville residents listen to different genres. This is also true for Friday evenings. \n",
    "3. Springfield and Shelbyville listeners have different preferences. In Springfield, they prefer pop, while Shelbyville has more rap fans.\n",
    "\n",
    "### Stages \n",
    "Data on user behavior is stored in the file `/datasets/music_project_en.csv`. There is no information about the quality of the data, so you will need to explore it before testing the hypotheses. \n",
    "\n",
    "First, you'll evaluate the quality of the data and see whether its issues are significant. Then, during data preprocessing, you will try to account for the most critical problems.\n",
    " \n",
    "Your project will consist of three stages:\n",
    " 1. Data overview\n",
    " 2. Data preprocessing\n",
    " 3. Testing the hypotheses\n",
    " \n",
    "[Back to Contents](#back)"
   ]
  },
  {
   "cell_type": "markdown",
   "metadata": {},
   "source": [
    "<div class=\"alert alert-success\">\n",
    "<b>Reviewer's comment v1:</b>\n",
    "    \n",
    "Great that you added additional information about project tasks. It gives an overview of what you are going to achieve in this project.\n"
   ]
  },
  {
   "cell_type": "markdown",
   "metadata": {
    "id": "Ml1hmfXC_Zcs"
   },
   "source": [
    "## Stage 1. Data overview <a id='data_review'></a>\n",
    "\n",
    "Open the data on Yandex.Music and explore it."
   ]
  },
  {
   "cell_type": "markdown",
   "metadata": {
    "id": "57eAOGIz_Zcs"
   },
   "source": [
    "You'll need `pandas`, so import it."
   ]
  },
  {
   "cell_type": "code",
   "execution_count": 1,
   "metadata": {
    "id": "AXN7PHPN_Zcs"
   },
   "outputs": [],
   "source": [
    "# importing pandas\n",
    "import pandas as pd"
   ]
  },
  {
   "cell_type": "markdown",
   "metadata": {
    "id": "SG23P8tt_Zcs"
   },
   "source": [
    "Read the file `music_project_en.csv` from the `/datasets/` folder and save it in the `df` variable:"
   ]
  },
  {
   "cell_type": "code",
   "execution_count": 2,
   "metadata": {
    "id": "fFVu7vqh_Zct"
   },
   "outputs": [
    {
     "data": {
      "text/html": [
       "<div>\n",
       "<style scoped>\n",
       "    .dataframe tbody tr th:only-of-type {\n",
       "        vertical-align: middle;\n",
       "    }\n",
       "\n",
       "    .dataframe tbody tr th {\n",
       "        vertical-align: top;\n",
       "    }\n",
       "\n",
       "    .dataframe thead th {\n",
       "        text-align: right;\n",
       "    }\n",
       "</style>\n",
       "<table border=\"1\" class=\"dataframe\">\n",
       "  <thead>\n",
       "    <tr style=\"text-align: right;\">\n",
       "      <th></th>\n",
       "      <th>userID</th>\n",
       "      <th>Track</th>\n",
       "      <th>artist</th>\n",
       "      <th>genre</th>\n",
       "      <th>City</th>\n",
       "      <th>time</th>\n",
       "      <th>Day</th>\n",
       "    </tr>\n",
       "  </thead>\n",
       "  <tbody>\n",
       "    <tr>\n",
       "      <th>count</th>\n",
       "      <td>65079</td>\n",
       "      <td>63736</td>\n",
       "      <td>57512</td>\n",
       "      <td>63881</td>\n",
       "      <td>65079</td>\n",
       "      <td>65079</td>\n",
       "      <td>65079</td>\n",
       "    </tr>\n",
       "    <tr>\n",
       "      <th>unique</th>\n",
       "      <td>41748</td>\n",
       "      <td>39666</td>\n",
       "      <td>37806</td>\n",
       "      <td>268</td>\n",
       "      <td>2</td>\n",
       "      <td>20392</td>\n",
       "      <td>3</td>\n",
       "    </tr>\n",
       "    <tr>\n",
       "      <th>top</th>\n",
       "      <td>A8AE9169</td>\n",
       "      <td>Brand</td>\n",
       "      <td>Kartvelli</td>\n",
       "      <td>pop</td>\n",
       "      <td>Springfield</td>\n",
       "      <td>21:51:22</td>\n",
       "      <td>Friday</td>\n",
       "    </tr>\n",
       "    <tr>\n",
       "      <th>freq</th>\n",
       "      <td>76</td>\n",
       "      <td>136</td>\n",
       "      <td>136</td>\n",
       "      <td>8850</td>\n",
       "      <td>45360</td>\n",
       "      <td>14</td>\n",
       "      <td>23149</td>\n",
       "    </tr>\n",
       "  </tbody>\n",
       "</table>\n",
       "</div>"
      ],
      "text/plain": [
       "          userID  Track     artist  genre       City        time     Day\n",
       "count      65079  63736      57512  63881        65079     65079   65079\n",
       "unique     41748  39666      37806    268            2     20392       3\n",
       "top     A8AE9169  Brand  Kartvelli    pop  Springfield  21:51:22  Friday\n",
       "freq          76    136        136   8850        45360        14   23149"
      ]
     },
     "execution_count": 2,
     "metadata": {},
     "output_type": "execute_result"
    }
   ],
   "source": [
    "# reading the file and storing it to df\n",
    "df = pd.read_csv('/datasets/music_project_en.csv')\n",
    "df.describe()"
   ]
  },
  {
   "cell_type": "markdown",
   "metadata": {
    "id": "rDoOMd3uTqnZ"
   },
   "source": [
    "Print the first 10 table rows:"
   ]
  },
  {
   "cell_type": "code",
   "execution_count": 3,
   "metadata": {
    "id": "oWTVX3gW_Zct",
    "scrolled": true
   },
   "outputs": [
    {
     "name": "stdout",
     "output_type": "stream",
     "text": [
      "     userID                        Track            artist   genre  \\\n",
      "0  FFB692EC            Kamigata To Boots  The Mass Missile    rock   \n",
      "1  55204538  Delayed Because of Accident  Andreas Rönnberg    rock   \n",
      "2    20EC38            Funiculì funiculà       Mario Lanza     pop   \n",
      "3  A3DD03C9        Dragons in the Sunset        Fire + Ice    folk   \n",
      "4  E2DC1FAE                  Soul People        Space Echo   dance   \n",
      "5  842029A1                       Chains          Obladaet  rusrap   \n",
      "6  4CB90AA5                         True      Roman Messer   dance   \n",
      "7  F03E1C1F             Feeling This Way   Polina Griffith   dance   \n",
      "8  8FA1D3BE                     L’estate       Julia Dalia  ruspop   \n",
      "9  E772D5C0                    Pessimist               NaN   dance   \n",
      "\n",
      "        City        time        Day  \n",
      "0  Shelbyville  20:28:33  Wednesday  \n",
      "1  Springfield  14:07:09     Friday  \n",
      "2  Shelbyville  20:58:07  Wednesday  \n",
      "3  Shelbyville  08:37:09     Monday  \n",
      "4  Springfield  08:34:34     Monday  \n",
      "5  Shelbyville  13:09:41     Friday  \n",
      "6  Springfield  13:00:07  Wednesday  \n",
      "7  Springfield  20:47:49  Wednesday  \n",
      "8  Springfield  09:17:40     Friday  \n",
      "9  Shelbyville  21:20:49  Wednesday  \n"
     ]
    }
   ],
   "source": [
    "# obtaining the first 10 rows from the df table\n",
    "print(df.head(10))"
   ]
  },
  {
   "cell_type": "markdown",
   "metadata": {},
   "source": [
    "<div class=\"alert alert-success\">\n",
    "<b>Reviewer's comment v1:</b>\n",
    "    \n",
    "You can also use here other methods like `.sample(n)` or `.tail(n)` to show sample of data. \n",
    "    \n",
    "You can read about it here: https://pandas.pydata.org/docs/reference/api/pandas.DataFrame.sample.html\n",
    "    "
   ]
  },
  {
   "cell_type": "markdown",
   "metadata": {},
   "source": [
    "<div class=\"alert alert-warning\">\n",
    "<b>Reviewer's comment v1:</b>\n",
    "       \n",
    "Btw you can omit print() method in project notebooks as JupyterHub by default provides correct output. "
   ]
  },
  {
   "cell_type": "markdown",
   "metadata": {
    "id": "EO73Kwic_Zct"
   },
   "source": [
    "Obtaining the general information about the table with one command:"
   ]
  },
  {
   "cell_type": "code",
   "execution_count": 4,
   "metadata": {
    "id": "DSf2kIb-_Zct"
   },
   "outputs": [
    {
     "name": "stdout",
     "output_type": "stream",
     "text": [
      "<class 'pandas.core.frame.DataFrame'>\n",
      "RangeIndex: 65079 entries, 0 to 65078\n",
      "Data columns (total 7 columns):\n",
      " #   Column    Non-Null Count  Dtype \n",
      "---  ------    --------------  ----- \n",
      " 0     userID  65079 non-null  object\n",
      " 1   Track     63736 non-null  object\n",
      " 2   artist    57512 non-null  object\n",
      " 3   genre     63881 non-null  object\n",
      " 4     City    65079 non-null  object\n",
      " 5   time      65079 non-null  object\n",
      " 6   Day       65079 non-null  object\n",
      "dtypes: object(7)\n",
      "memory usage: 3.5+ MB\n",
      "None\n"
     ]
    }
   ],
   "source": [
    "# obtaining general information about the data in df\n",
    "print(df.info())"
   ]
  },
  {
   "cell_type": "markdown",
   "metadata": {
    "id": "TaQ2Iwbr_Zct"
   },
   "source": [
    "The table contains seven columns. They all store the same data type: `object`.\n",
    "\n",
    "According to the documentation:\n",
    "- `'userID'` — user identifier\n",
    "- `'Track'` — track title\n",
    "- `'artist'` — artist's name\n",
    "- `'genre'`\n",
    "- `'City'` — user's city\n",
    "- `'time'` — the exact time the track was played\n",
    "- `'Day'` — day of the week\n",
    "\n",
    "We can see three issues with style in the column names:\n",
    "1. Some names are uppercase, some are lowercase.\n",
    "2. There are spaces in some names.\n",
    "3. `Detect the third issue yourself and describe it here`.\n",
    "\n",
    "The number of column values is different. This means the data contains missing values.\n"
   ]
  },
  {
   "cell_type": "markdown",
   "metadata": {
    "id": "MCB6-dXG_Zct"
   },
   "source": [
    "### Conclusions <a id='data_review_conclusions'></a> \n",
    "\n",
    "Each row in the table stores data on a track that was played. Some columns describe the track itself: its title, artist and genre. The rest convey information about the user: the city they come from, the time they played the track. \n",
    "\n",
    "It's clear that the data is sufficient to test the hypotheses. However, there are missing values.\n",
    "\n",
    "To move forward, we need to preprocess the data."
   ]
  },
  {
   "cell_type": "markdown",
   "metadata": {},
   "source": [
    "<div class=\"alert alert-success\">\n",
    "<b>Reviewer's comment v1:</b>\n",
    "    \n",
    "Great data overview and correct conclusions. "
   ]
  },
  {
   "cell_type": "markdown",
   "metadata": {
    "id": "3eL__vcwViOi"
   },
   "source": [
    "[Back to Contents](#back)"
   ]
  },
  {
   "cell_type": "markdown",
   "metadata": {
    "id": "SjYF6Ub9_Zct"
   },
   "source": [
    "## Stage 2. Data preprocessing <a id='data_preprocessing'></a>\n",
    "Correct the formatting in the column headers and deal with the missing values. Then, check whether there are duplicates in the data."
   ]
  },
  {
   "cell_type": "markdown",
   "metadata": {
    "id": "dIaKXr29_Zct"
   },
   "source": [
    "### Header style <a id='header_style'></a>\n",
    "Print the column header:"
   ]
  },
  {
   "cell_type": "markdown",
   "metadata": {
    "id": "qubhgnlO_Zct"
   },
   "source": [
    "Not all missing values affect the research. For instance, the missing values in `track` and `artist` are not critical. You can simply replace them with clear markers.\n",
    "\n",
    "But missing values in `'genre'` can affect the comparison of music preferences in Springfield and Shelbyville. In real life, it would be useful to learn the reasons why the data is missing and try to make up for them. But we do not have that opportunity in this project. So you will have to:\n",
    "* Fill in these missing values with markers\n",
    "* Evaluate how much the missing values may affect your computations"
   ]
  },
  {
   "cell_type": "code",
   "execution_count": 5,
   "metadata": {
    "id": "oKOTdF_Q_Zct"
   },
   "outputs": [
    {
     "name": "stdout",
     "output_type": "stream",
     "text": [
      "Index(['  userID', 'Track', 'artist', 'genre', '  City  ', 'time', 'Day'], dtype='object')\n"
     ]
    }
   ],
   "source": [
    "# the list of column names in the df table\n",
    "print(df.columns)"
   ]
  },
  {
   "cell_type": "markdown",
   "metadata": {
    "id": "zj5534cv_Zct"
   },
   "source": [
    "Change column names according to the rules of good style:\n",
    "* If the name has several words, use snake_case\n",
    "* All characters must be lowercase\n",
    "* Delete spaces"
   ]
  },
  {
   "cell_type": "code",
   "execution_count": 6,
   "metadata": {
    "id": "ISlFqs5y_Zct"
   },
   "outputs": [],
   "source": [
    "# renaming columns\n",
    "df= df.rename(columns={\n",
    "    '  userID' : 'user_id',\n",
    "    'Track' : 'track',\n",
    "    '  City  ' : 'city',\n",
    "    'Day' : 'day'\n",
    "})"
   ]
  },
  {
   "cell_type": "markdown",
   "metadata": {
    "id": "1dqbh00J_Zct"
   },
   "source": [
    "Check the result. Print the names of the columns once more:"
   ]
  },
  {
   "cell_type": "code",
   "execution_count": 7,
   "metadata": {
    "id": "d4NOAmTW_Zct"
   },
   "outputs": [
    {
     "name": "stdout",
     "output_type": "stream",
     "text": [
      "Index(['user_id', 'track', 'artist', 'genre', 'city', 'time', 'day'], dtype='object')\n"
     ]
    }
   ],
   "source": [
    "# checking result: the list of column names\n",
    "print(df.columns)"
   ]
  },
  {
   "cell_type": "markdown",
   "metadata": {},
   "source": [
    "<div class=\"alert alert-success\">\n",
    "<b>Reviewer's comment v1:</b>\n",
    "    \n",
    "It is great that you correctly applied rename method. "
   ]
  },
  {
   "cell_type": "markdown",
   "metadata": {
    "id": "xYJk6ksJVpOl"
   },
   "source": [
    "[Back to Contents](#back)"
   ]
  },
  {
   "cell_type": "markdown",
   "metadata": {
    "id": "5ISfbcfY_Zct"
   },
   "source": [
    "### Missing values <a id='missing_values'></a>\n",
    "First, find the number of missing values in the table. To do so, use two `pandas` methods:"
   ]
  },
  {
   "cell_type": "code",
   "execution_count": 8,
   "metadata": {
    "id": "RskX29qr_Zct"
   },
   "outputs": [
    {
     "name": "stdout",
     "output_type": "stream",
     "text": [
      "user_id       0\n",
      "track      1343\n",
      "artist     7567\n",
      "genre      1198\n",
      "city          0\n",
      "time          0\n",
      "day           0\n",
      "dtype: int64\n",
      "user_id       0\n",
      "track      1343\n",
      "artist     7567\n",
      "genre      1198\n",
      "city          0\n",
      "time          0\n",
      "day           0\n",
      "dtype: int64\n"
     ]
    }
   ],
   "source": [
    "# calculating missing values\n",
    "print(df.isna().sum())\n",
    "print(df.isnull().sum())"
   ]
  },
  {
   "cell_type": "markdown",
   "metadata": {},
   "source": [
    "<div class=\"alert alert-success\">\n",
    "<b>Reviewer's comment v1</b>\n",
    "    \n",
    "Great that you selected `isna()` method to find missing values! \n",
    "\n",
    "It is also sometimes helpful to check not only the total amount of missing values in each column but also look at the percentage of missing values. It helps to understand the overall impact. You can check percentage using, for example, this code:\n",
    "\n",
    "`df.isnull().sum()/len(df)`"
   ]
  },
  {
   "cell_type": "markdown",
   "metadata": {
    "id": "fSv2laPA_Zct"
   },
   "source": [
    "Replace the missing values in `'track'`, `'artist'`, and `'genre'` with the string `'unknown'`. To do this, create the `columns_to_replace` list, loop over it with `for`, and replace the missing values in each of the columns:"
   ]
  },
  {
   "cell_type": "code",
   "execution_count": 9,
   "metadata": {
    "id": "KplB5qWs_Zct"
   },
   "outputs": [],
   "source": [
    "# looping over column names and replacing missing values with 'unknown'\n",
    "columns_to_replace = ['track','artist','genre']\n",
    "for column in columns_to_replace:\n",
    "     df[column] = df[column].fillna('unknown')\n",
    "    "
   ]
  },
  {
   "cell_type": "markdown",
   "metadata": {},
   "source": [
    "<div class=\"alert alert-danger\">\n",
    "<b>Reviewer's comment v1:</b>\n",
    "    \n",
    "Here you need to apply for loop to replace missing values in these 3 columns. \n",
    "\n",
    "Can you please add that?"
   ]
  },
  {
   "cell_type": "markdown",
   "metadata": {},
   "source": [
    "<div class=\"alert alert-danger\">\n",
    "<b>Reviewer's comment v2:</b>\n",
    "    \n",
    "Unfortunately, there are some issues in your for loop. \n",
    "    \n",
    "You need to run through the column names in the loop while updating values: \n",
    "    \n",
    "    columns_to_replace = ['track', '...', ...]\n",
    "    for column in columns_to_replace:\n",
    "        df[column] = .... \n",
    "\n",
    "You can check examples on Practicum platform or here: https://www.w3schools.com/python/python_for_loops.asp"
   ]
  },
  {
   "cell_type": "markdown",
   "metadata": {},
   "source": [
    "<div class=\"alert alert-danger\">\n",
    "<b>Reviewer's comment v3:</b>\n",
    "    \n",
    "Unfortunately, smth went wrong in your code above. Can you please check that? \n",
    "    \n",
    "Also, I can recommend you to always run your project once again on the customer's servers before submitting your work to avoid possible errors. You can do that using: Kernel -> Restart & run all.\n",
    "    \n",
    "PS: In the for loop itself you need to apply logic for each column and rewrite data in it in the following way: \n",
    "    \n",
    "    for column in columns_to_replace:\n",
    "        df[column] = df[column].fillna('unknown')"
   ]
  },
  {
   "cell_type": "markdown",
   "metadata": {},
   "source": [
    "<div class=\"alert alert-success\">\n",
    "<b>Reviewer's comment v4:</b>\n",
    "\n",
    "Everything is correct now. "
   ]
  },
  {
   "cell_type": "markdown",
   "metadata": {
    "id": "Ilsm-MZo_Zct"
   },
   "source": [
    "Make sure the table contains no more missing values. Count the missing values again."
   ]
  },
  {
   "cell_type": "code",
   "execution_count": 10,
   "metadata": {
    "id": "Tq4nYRX4_Zct"
   },
   "outputs": [
    {
     "name": "stdout",
     "output_type": "stream",
     "text": [
      "user_id    0\n",
      "track      0\n",
      "artist     0\n",
      "genre      0\n",
      "city       0\n",
      "time       0\n",
      "day        0\n",
      "dtype: int64\n"
     ]
    }
   ],
   "source": [
    "# counting missing values\n",
    "print(df.isna().sum())"
   ]
  },
  {
   "cell_type": "markdown",
   "metadata": {
    "id": "74ZIBmq9VrsK"
   },
   "source": [
    "[Back to Contents](#back)"
   ]
  },
  {
   "cell_type": "markdown",
   "metadata": {
    "id": "BWKRtBJ3_Zct"
   },
   "source": [
    "### Duplicates <a id='duplicates'></a>\n",
    "Find the number of obvious duplicates in the table using one command:"
   ]
  },
  {
   "cell_type": "code",
   "execution_count": 11,
   "metadata": {
    "id": "36eES_S0_Zct"
   },
   "outputs": [
    {
     "name": "stdout",
     "output_type": "stream",
     "text": [
      "3826\n"
     ]
    }
   ],
   "source": [
    "# counting clear duplicates\n",
    "print(df.duplicated().sum())"
   ]
  },
  {
   "cell_type": "markdown",
   "metadata": {
    "id": "Ot25h6XR_Zct"
   },
   "source": [
    "Call the `pandas` method for getting rid of obvious duplicates:"
   ]
  },
  {
   "cell_type": "code",
   "execution_count": 12,
   "metadata": {
    "id": "exFHq6tt_Zct"
   },
   "outputs": [],
   "source": [
    "# removing obvious duplicates\n",
    "df = df.drop_duplicates().reset_index(drop=True)"
   ]
  },
  {
   "cell_type": "markdown",
   "metadata": {
    "id": "Im2YwBEG_Zct"
   },
   "source": [
    "Count obvious duplicates once more to make sure you have removed all of them:"
   ]
  },
  {
   "cell_type": "markdown",
   "metadata": {},
   "source": [
    "<div class=\"alert alert-warning\">\n",
    "<b>Reviewer's comment v1</b>\n",
    "    \n",
    "Note that it is also required additionally to re-create the indexes in your dataframe. To achieve that, you can use `reset_index()`.\n",
    "    \n",
    "Without that, the index column will not be ordinal anymore, as `drop_duplicates()` deleted some lines, hence the dataframe becomes less informative.\n",
    "    \n",
    "    \n",
    "You can read about it here: https://pandas.pydata.org/docs/reference/api/pandas.DataFrame.reset_index.html\n",
    "    \n",
    "And parameter `drop=True` could be helpful to rewrite existent index instead of creating a second ordinal column."
   ]
  },
  {
   "cell_type": "code",
   "execution_count": 13,
   "metadata": {
    "id": "-8PuNWQ0_Zct"
   },
   "outputs": [
    {
     "name": "stdout",
     "output_type": "stream",
     "text": [
      "0\n"
     ]
    }
   ],
   "source": [
    "# checking for duplicates\n",
    "print(df.duplicated().sum())"
   ]
  },
  {
   "cell_type": "markdown",
   "metadata": {
    "id": "QlFBsxAr_Zct"
   },
   "source": [
    "Now get rid of implicit duplicates in the `genre` column. For example, the name of a genre can be written in different ways. Such errors will also affect the result."
   ]
  },
  {
   "cell_type": "markdown",
   "metadata": {
    "id": "eSjWwsOh_Zct"
   },
   "source": [
    "Print a list of unique genre names, sorted in alphabetical order. To do so:\n",
    "* Retrieve the intended DataFrame column \n",
    "* Apply a sorting method to it\n",
    "* For the sorted column, call the method that will return all unique column values"
   ]
  },
  {
   "cell_type": "code",
   "execution_count": 14,
   "metadata": {
    "id": "JIUcqzZN_Zct"
   },
   "outputs": [
    {
     "name": "stdout",
     "output_type": "stream",
     "text": [
      "['acid' 'acoustic' 'action' 'adult' 'africa' 'afrikaans' 'alternative'\n",
      " 'ambient' 'americana' 'animated' 'anime' 'arabesk' 'arabic' 'arena'\n",
      " 'argentinetango' 'art' 'audiobook' 'avantgarde' 'axé' 'baile' 'balkan'\n",
      " 'beats' 'bigroom' 'black' 'bluegrass' 'blues' 'bollywood' 'bossa'\n",
      " 'brazilian' 'breakbeat' 'breaks' 'broadway' 'cantautori' 'cantopop'\n",
      " 'canzone' 'caribbean' 'caucasian' 'celtic' 'chamber' 'children' 'chill'\n",
      " 'chinese' 'choral' 'christian' 'christmas' 'classical' 'classicmetal'\n",
      " 'club' 'colombian' 'comedy' 'conjazz' 'contemporary' 'country' 'cuban'\n",
      " 'dance' 'dancehall' 'dancepop' 'dark' 'death' 'deep' 'deutschrock'\n",
      " 'deutschspr' 'dirty' 'disco' 'dnb' 'documentary' 'downbeat' 'downtempo'\n",
      " 'drum' 'dub' 'dubstep' 'eastern' 'easy' 'electronic' 'electropop' 'emo'\n",
      " 'entehno' 'epicmetal' 'estrada' 'ethnic' 'eurofolk' 'european'\n",
      " 'experimental' 'extrememetal' 'fado' 'film' 'fitness' 'flamenco' 'folk'\n",
      " 'folklore' 'folkmetal' 'folkrock' 'folktronica' 'forró' 'frankreich'\n",
      " 'französisch' 'french' 'funk' 'future' 'gangsta' 'garage' 'german'\n",
      " 'ghazal' 'gitarre' 'glitch' 'gospel' 'gothic' 'grime' 'grunge' 'gypsy'\n",
      " 'handsup' \"hard'n'heavy\" 'hardcore' 'hardstyle' 'hardtechno' 'hip'\n",
      " 'hip-hop' 'hiphop' 'historisch' 'holiday' 'hop' 'horror' 'house' 'idm'\n",
      " 'independent' 'indian' 'indie' 'indipop' 'industrial' 'inspirational'\n",
      " 'instrumental' 'international' 'irish' 'jam' 'japanese' 'jazz' 'jewish'\n",
      " 'jpop' 'jungle' 'k-pop' 'karadeniz' 'karaoke' 'kayokyoku' 'korean'\n",
      " 'laiko' 'latin' 'latino' 'leftfield' 'local' 'lounge' 'loungeelectronic'\n",
      " 'lovers' 'malaysian' 'mandopop' 'marschmusik' 'meditative'\n",
      " 'mediterranean' 'melodic' 'metal' 'metalcore' 'mexican' 'middle'\n",
      " 'minimal' 'miscellaneous' 'modern' 'mood' 'mpb' 'muslim' 'native'\n",
      " 'neoklassik' 'neue' 'new' 'newage' 'newwave' 'nu' 'nujazz' 'numetal'\n",
      " 'oceania' 'old' 'opera' 'orchestral' 'other' 'piano' 'pop'\n",
      " 'popelectronic' 'popeurodance' 'post' 'posthardcore' 'postrock' 'power'\n",
      " 'progmetal' 'progressive' 'psychedelic' 'punjabi' 'punk' 'quebecois'\n",
      " 'ragga' 'ram' 'rancheras' 'rap' 'rave' 'reggae' 'reggaeton' 'regional'\n",
      " 'relax' 'religious' 'retro' 'rhythm' 'rnb' 'rnr' 'rock' 'rockabilly'\n",
      " 'romance' 'roots' 'ruspop' 'rusrap' 'rusrock' 'salsa' 'samba' 'schlager'\n",
      " 'self' 'sertanejo' 'shoegazing' 'showtunes' 'singer' 'ska' 'slow'\n",
      " 'smooth' 'soul' 'soulful' 'sound' 'soundtrack' 'southern' 'specialty'\n",
      " 'speech' 'spiritual' 'sport' 'stonerrock' 'surf' 'swing' 'synthpop'\n",
      " 'sängerportrait' 'tango' 'tanzorchester' 'taraftar' 'tech' 'techno'\n",
      " 'thrash' 'top' 'traditional' 'tradjazz' 'trance' 'tribal' 'trip'\n",
      " 'triphop' 'tropical' 'türk' 'türkçe' 'unknown' 'urban' 'uzbek' 'variété'\n",
      " 'vi' 'videogame' 'vocal' 'western' 'world' 'worldbeat' 'ïîï']\n"
     ]
    }
   ],
   "source": [
    "# viewing unique genre names\n",
    "print(df['genre'].sort_values().unique())"
   ]
  },
  {
   "cell_type": "markdown",
   "metadata": {},
   "source": [
    "<div class=\"alert alert-success\">\n",
    "<b>Reviewer's comment v1</b>\n",
    "    \n",
    "Well done! You correctly applied a `.unique()` and `.sort_values()` methods. \n",
    "    "
   ]
  },
  {
   "cell_type": "markdown",
   "metadata": {
    "id": "qej-Qmuo_Zct"
   },
   "source": [
    "Look through the list to find implicit duplicates of the genre `hiphop`. These could be names written incorrectly or alternative names of the same genre.\n",
    "\n",
    "You will see the following implicit duplicates:\n",
    "* `hip`\n",
    "* `hop`\n",
    "* `hip-hop`\n",
    "\n",
    "To get rid of them, declare the function `replace_wrong_genres()` with two parameters: \n",
    "* `wrong_genres=` — the list of duplicates\n",
    "* `correct_genre=` — the string with the correct value\n",
    "\n",
    "The function should correct the names in the `'genre'` column from the `df` table, i.e. replace each value from the `wrong_genres` list with the value in `correct_genre`."
   ]
  },
  {
   "cell_type": "code",
   "execution_count": 15,
   "metadata": {
    "id": "ErNDkmns_Zct"
   },
   "outputs": [],
   "source": [
    "# function for replacing implicit duplicates\n",
    "def replace_wrong_genres(wrong_genres,correct_genre):\n",
    "    df['genre'] = df['genre'].replace(wrong_genres,correct_genre)"
   ]
  },
  {
   "cell_type": "markdown",
   "metadata": {
    "id": "aDoBJxbA_Zct"
   },
   "source": [
    "Call `replace_wrong_genres()` and pass it arguments so that it clears implicit duplcates (`hip`, `hop`, and `hip-hop`) and replaces them with `hiphop`:"
   ]
  },
  {
   "cell_type": "code",
   "execution_count": 16,
   "metadata": {
    "id": "YN5i2hpmSo09"
   },
   "outputs": [],
   "source": [
    "# removing implicit duplicates\n",
    "replace_wrong_genres(['hip','hop','hip-hop'],'hiphop')"
   ]
  },
  {
   "cell_type": "markdown",
   "metadata": {},
   "source": [
    "<div class=\"alert alert-success\">\n",
    "<b>Reviewer's comment v1</b>\n",
    "    \n",
    "Your function works perfectly fine.\n",
    "    \n",
    "If you want to check the output of the function you can add the following line at the end.\n",
    "    \n",
    "    `return(wrong_genres, correct_genre)`"
   ]
  },
  {
   "cell_type": "markdown",
   "metadata": {
    "id": "zQKF16_RG15m"
   },
   "source": [
    "Make sure the duplicate names were removed. Print the list of unique values from the `'genre'` column:"
   ]
  },
  {
   "cell_type": "code",
   "execution_count": 17,
   "metadata": {
    "id": "wvixALnFG15m"
   },
   "outputs": [
    {
     "name": "stdout",
     "output_type": "stream",
     "text": [
      "['acid' 'acoustic' 'action' 'adult' 'africa' 'afrikaans' 'alternative'\n",
      " 'ambient' 'americana' 'animated' 'anime' 'arabesk' 'arabic' 'arena'\n",
      " 'argentinetango' 'art' 'audiobook' 'avantgarde' 'axé' 'baile' 'balkan'\n",
      " 'beats' 'bigroom' 'black' 'bluegrass' 'blues' 'bollywood' 'bossa'\n",
      " 'brazilian' 'breakbeat' 'breaks' 'broadway' 'cantautori' 'cantopop'\n",
      " 'canzone' 'caribbean' 'caucasian' 'celtic' 'chamber' 'children' 'chill'\n",
      " 'chinese' 'choral' 'christian' 'christmas' 'classical' 'classicmetal'\n",
      " 'club' 'colombian' 'comedy' 'conjazz' 'contemporary' 'country' 'cuban'\n",
      " 'dance' 'dancehall' 'dancepop' 'dark' 'death' 'deep' 'deutschrock'\n",
      " 'deutschspr' 'dirty' 'disco' 'dnb' 'documentary' 'downbeat' 'downtempo'\n",
      " 'drum' 'dub' 'dubstep' 'eastern' 'easy' 'electronic' 'electropop' 'emo'\n",
      " 'entehno' 'epicmetal' 'estrada' 'ethnic' 'eurofolk' 'european'\n",
      " 'experimental' 'extrememetal' 'fado' 'film' 'fitness' 'flamenco' 'folk'\n",
      " 'folklore' 'folkmetal' 'folkrock' 'folktronica' 'forró' 'frankreich'\n",
      " 'französisch' 'french' 'funk' 'future' 'gangsta' 'garage' 'german'\n",
      " 'ghazal' 'gitarre' 'glitch' 'gospel' 'gothic' 'grime' 'grunge' 'gypsy'\n",
      " 'handsup' \"hard'n'heavy\" 'hardcore' 'hardstyle' 'hardtechno' 'hiphop'\n",
      " 'historisch' 'holiday' 'horror' 'house' 'idm' 'independent' 'indian'\n",
      " 'indie' 'indipop' 'industrial' 'inspirational' 'instrumental'\n",
      " 'international' 'irish' 'jam' 'japanese' 'jazz' 'jewish' 'jpop' 'jungle'\n",
      " 'k-pop' 'karadeniz' 'karaoke' 'kayokyoku' 'korean' 'laiko' 'latin'\n",
      " 'latino' 'leftfield' 'local' 'lounge' 'loungeelectronic' 'lovers'\n",
      " 'malaysian' 'mandopop' 'marschmusik' 'meditative' 'mediterranean'\n",
      " 'melodic' 'metal' 'metalcore' 'mexican' 'middle' 'minimal'\n",
      " 'miscellaneous' 'modern' 'mood' 'mpb' 'muslim' 'native' 'neoklassik'\n",
      " 'neue' 'new' 'newage' 'newwave' 'nu' 'nujazz' 'numetal' 'oceania' 'old'\n",
      " 'opera' 'orchestral' 'other' 'piano' 'pop' 'popelectronic' 'popeurodance'\n",
      " 'post' 'posthardcore' 'postrock' 'power' 'progmetal' 'progressive'\n",
      " 'psychedelic' 'punjabi' 'punk' 'quebecois' 'ragga' 'ram' 'rancheras'\n",
      " 'rap' 'rave' 'reggae' 'reggaeton' 'regional' 'relax' 'religious' 'retro'\n",
      " 'rhythm' 'rnb' 'rnr' 'rock' 'rockabilly' 'romance' 'roots' 'ruspop'\n",
      " 'rusrap' 'rusrock' 'salsa' 'samba' 'schlager' 'self' 'sertanejo'\n",
      " 'shoegazing' 'showtunes' 'singer' 'ska' 'slow' 'smooth' 'soul' 'soulful'\n",
      " 'sound' 'soundtrack' 'southern' 'specialty' 'speech' 'spiritual' 'sport'\n",
      " 'stonerrock' 'surf' 'swing' 'synthpop' 'sängerportrait' 'tango'\n",
      " 'tanzorchester' 'taraftar' 'tech' 'techno' 'thrash' 'top' 'traditional'\n",
      " 'tradjazz' 'trance' 'tribal' 'trip' 'triphop' 'tropical' 'türk' 'türkçe'\n",
      " 'unknown' 'urban' 'uzbek' 'variété' 'vi' 'videogame' 'vocal' 'western'\n",
      " 'world' 'worldbeat' 'ïîï']\n"
     ]
    }
   ],
   "source": [
    "# checking for implicit duplicates\n",
    "print(df['genre'].sort_values().unique())"
   ]
  },
  {
   "cell_type": "markdown",
   "metadata": {
    "id": "ALgNbvF3VtPA"
   },
   "source": [
    "[Back to Contents](#back)"
   ]
  },
  {
   "cell_type": "markdown",
   "metadata": {
    "id": "jz6a9-7HQUDd"
   },
   "source": [
    "### Conclusions <a id='data_preprocessing_conclusions'></a>\n",
    "We detected three issues with the data:\n",
    "\n",
    "- Incorrect header styles\n",
    "- Missing values\n",
    "- Obvious and implicit duplicates\n",
    "\n",
    "The headers have been cleaned up to make processing the table simpler.\n",
    "\n",
    "All missing values have been replaced with `'unknown'`. But we still have to see whether the missing values in `'genre'` will affect our calculations.\n",
    "\n",
    "The absence of duplicates will make the results more precise and easier to understand.\n",
    "\n",
    "Now we can move on to testing hypotheses. "
   ]
  },
  {
   "cell_type": "markdown",
   "metadata": {},
   "source": [
    "<div class=\"alert alert-success\">\n",
    "<b>Reviewer's comment v1:</b>\n",
    "    \n",
    "Great, you correctly identified and fixed missing values and duplicates."
   ]
  },
  {
   "cell_type": "markdown",
   "metadata": {
    "id": "eK1es74rVujj"
   },
   "source": [
    "[Back to Contents](#back)"
   ]
  },
  {
   "cell_type": "markdown",
   "metadata": {
    "id": "WttZHXH0SqKk"
   },
   "source": [
    "## Stage 3. Testing hypotheses <a id='hypotheses'></a>"
   ]
  },
  {
   "cell_type": "markdown",
   "metadata": {
    "id": "Im936VVi_Zcu"
   },
   "source": [
    "### Hypothesis 1: comparing user behavior in two cities <a id='activity'></a>"
   ]
  },
  {
   "cell_type": "markdown",
   "metadata": {
    "id": "nwt_MuaL_Zcu"
   },
   "source": [
    "According to the first hypothesis, users from Springfield and Shelbyville listen to music differently. Test this using the data on three days of the week: Monday, Wednesday, and Friday.\n",
    "\n",
    "* Divide the users into groups by city.\n",
    "* Compare how many tracks each group played on Monday, Wednesday, and Friday.\n"
   ]
  },
  {
   "cell_type": "markdown",
   "metadata": {
    "id": "8Dw_YMmT_Zcu"
   },
   "source": [
    "For the sake of practice, perform each computation separately. \n",
    "\n",
    "Evaluate user activity in each city. Group the data by city and find the number of songs played in each group.\n",
    "\n"
   ]
  },
  {
   "cell_type": "code",
   "execution_count": 18,
   "metadata": {
    "id": "0_Qs96oh_Zcu"
   },
   "outputs": [
    {
     "name": "stdout",
     "output_type": "stream",
     "text": [
      "city\n",
      "Shelbyville    18512\n",
      "Springfield    42741\n",
      "Name: track, dtype: int64\n"
     ]
    }
   ],
   "source": [
    "# Counting up the tracks played in each city\n",
    "print(df.groupby('city')['track'].count())"
   ]
  },
  {
   "cell_type": "markdown",
   "metadata": {
    "id": "dzli3w8o_Zcu"
   },
   "source": [
    "Springfield has more tracks played than Shelbyville. But that does not imply that citizens of Springfield listen to music more often. This city is simply bigger, and there are more users.\n",
    "\n",
    "Now group the data by day of the week and find the number of tracks played on Monday, Wednesday, and Friday.\n"
   ]
  },
  {
   "cell_type": "code",
   "execution_count": 19,
   "metadata": {
    "id": "uZMKjiJz_Zcu"
   },
   "outputs": [
    {
     "name": "stdout",
     "output_type": "stream",
     "text": [
      "day\n",
      "Friday       21840\n",
      "Monday       21354\n",
      "Wednesday    18059\n",
      "Name: track, dtype: int64\n"
     ]
    }
   ],
   "source": [
    "# Calculating tracks played on each of the three days\n",
    "print(df.groupby('day')['track'].count())"
   ]
  },
  {
   "cell_type": "markdown",
   "metadata": {},
   "source": [
    "<div class=\"alert alert-success\">\n",
    "<b>Reviewer's comment v1:</b>\n",
    "    \n",
    "Everything is correct here and we got only required information."
   ]
  },
  {
   "cell_type": "markdown",
   "metadata": {
    "id": "cC2tNrlL_Zcu"
   },
   "source": [
    "Wednesday is the quietest day overall. But if we consider the two cities separately, we might come to a different conclusion."
   ]
  },
  {
   "cell_type": "markdown",
   "metadata": {
    "id": "POzs8bGa_Zcu"
   },
   "source": [
    "You have seen how grouping by city or day works. Now write a function that will group by both.\n",
    "\n",
    "Create the `number_tracks()` function to calculate the number of songs played for a given day and city. It will require two parameters:\n",
    "* day of the week\n",
    "* name of the city\n",
    "\n",
    "In the function, use a variable to store the rows from the original table, where:\n",
    "  * `'day'` column value is equal to the `day` parameter\n",
    "  * `'city'` column value is equal to the `city` parameter\n",
    "\n",
    "Apply consecutive filtering with logical indexing.\n",
    "\n",
    "Then calculate the `'user_id'` column values in the resulting table. Store the result to a new variable. Return this variable from the function."
   ]
  },
  {
   "cell_type": "code",
   "execution_count": 20,
   "metadata": {
    "id": "Nz3GdQB1_Zcu"
   },
   "outputs": [],
   "source": [
    "# <creating the function number_tracks()>\n",
    "# We'll declare a function with two parameters: day=, city=.\n",
    "# Let the track_list variable store the df rows where\n",
    "# the value in the 'day' column is equal to the day= parameter and, at the same time, \n",
    "# the value in the 'city' column is equal to the city= parameter (apply consecutive filtering \n",
    "# with logical indexing).\n",
    "# Let the track_list_count variable store the number of 'user_id' column values in track_list\n",
    "# (found with the count() method).\n",
    "# Let the function return a number: the value of track_list_count.\n",
    "\n",
    "# The function counts tracked played for a certain city and day.\n",
    "# It first retrieves the rows with the intended day from the table,\n",
    "# then filters out the rows with the intended city from the result,\n",
    "# then finds the number of 'user_id' values in the filtered table,\n",
    "# then returns that number.\n",
    "# To see what it returns, wrap the function call in print().\n",
    "def number_tracks(day,city):\n",
    "    track_list = df[(df['day'] == day) & (df['city'] == city)]\n",
    "    track_list_count = track_list['user_id'].count()\n",
    "    print(track_list_count)\n",
    "    \n",
    "    \n",
    "    \n"
   ]
  },
  {
   "cell_type": "markdown",
   "metadata": {},
   "source": [
    "<div class=\"alert alert-warning\">\n",
    "<b>Reviewer's comment v1:</b>\n",
    "    \n",
    "Everything is correct here, but only minor remark about how documenting functions.\n",
    "\n",
    "There is a common convention to use docstings to comments functions in python. It helps to keep code clean and embrace transparency and readability when multiple teams are working on the same complex code.\n",
    "\n",
    "You can read about this, for example, here: https://www.datacamp.com/community/tutorials/docstrings-python"
   ]
  },
  {
   "cell_type": "markdown",
   "metadata": {
    "id": "ytf7xFrFJQ2r"
   },
   "source": [
    "Call `number_tracks()` six times, changing the parameter values, so that you retrieve the data on both cities for each of the three days."
   ]
  },
  {
   "cell_type": "code",
   "execution_count": 21,
   "metadata": {
    "id": "rJcRATNQ_Zcu"
   },
   "outputs": [
    {
     "name": "stdout",
     "output_type": "stream",
     "text": [
      "15740\n"
     ]
    }
   ],
   "source": [
    "# the number of songs played in Springfield on Monday\n",
    "number_tracks('Monday','Springfield')"
   ]
  },
  {
   "cell_type": "code",
   "execution_count": 22,
   "metadata": {
    "id": "hq_ncZ5T_Zcu"
   },
   "outputs": [
    {
     "name": "stdout",
     "output_type": "stream",
     "text": [
      "5614\n"
     ]
    }
   ],
   "source": [
    "# the number of songs played in Shelbyville on Monday\n",
    "number_tracks('Monday','Shelbyville')"
   ]
  },
  {
   "cell_type": "code",
   "execution_count": 23,
   "metadata": {
    "id": "_NTy2VPU_Zcu"
   },
   "outputs": [
    {
     "name": "stdout",
     "output_type": "stream",
     "text": [
      "11056\n"
     ]
    }
   ],
   "source": [
    "# the number of songs played in Springfield on Wednesday\n",
    "number_tracks('Wednesday','Springfield')"
   ]
  },
  {
   "cell_type": "code",
   "execution_count": 24,
   "metadata": {
    "id": "j2y3TAwo_Zcu"
   },
   "outputs": [
    {
     "name": "stdout",
     "output_type": "stream",
     "text": [
      "7003\n"
     ]
    }
   ],
   "source": [
    "# the number of songs played in Shelbyville on Wednesday\n",
    "number_tracks('Wednesday','Shelbyville')"
   ]
  },
  {
   "cell_type": "code",
   "execution_count": 25,
   "metadata": {
    "id": "vYDw5u_K_Zcu"
   },
   "outputs": [
    {
     "name": "stdout",
     "output_type": "stream",
     "text": [
      "15945\n"
     ]
    }
   ],
   "source": [
    "# the number of songs played in Springfield on Friday\n",
    "number_tracks('Friday','Springfield')"
   ]
  },
  {
   "cell_type": "code",
   "execution_count": 26,
   "metadata": {
    "id": "8_yzFtW3_Zcu"
   },
   "outputs": [
    {
     "name": "stdout",
     "output_type": "stream",
     "text": [
      "5895\n"
     ]
    }
   ],
   "source": [
    "# the number of songs played in Shelbyville on Friday\n",
    "number_tracks('Friday','Shelbyville')"
   ]
  },
  {
   "cell_type": "markdown",
   "metadata": {
    "id": "7QXffbO-_Zcu"
   },
   "source": [
    "Use `pd.DataFrame` to create a table, where\n",
    "* Column names are: `['city', 'monday', 'wednesday', 'friday']`\n",
    "* The data is the results you got from `number_tracks()`"
   ]
  },
  {
   "cell_type": "code",
   "execution_count": 27,
   "metadata": {
    "id": "APAcLpOr_Zcu"
   },
   "outputs": [
    {
     "name": "stdout",
     "output_type": "stream",
     "text": [
      "          city  monday  wednesday  friday\n",
      "0  Springfield   15740      11056   15945\n",
      "1  Shelbyville    5614       7003    5895\n"
     ]
    }
   ],
   "source": [
    "# table with results\n",
    "cf = pd.DataFrame(data=[['Springfield',15740,11056,15945],['Shelbyville',5614,7003,5895]] ,columns=['city', 'monday', 'wednesday', 'friday'])\n",
    "print(cf)"
   ]
  },
  {
   "cell_type": "markdown",
   "metadata": {},
   "source": [
    "<div class=\"alert alert-success\">\n",
    "<b>Reviewer's comment v1:</b>\n",
    "    \n",
    "Also everything is correct here! "
   ]
  },
  {
   "cell_type": "markdown",
   "metadata": {
    "id": "-EgPIHYu_Zcu"
   },
   "source": [
    "**Conclusions**\n",
    "\n",
    "The data reveals differences in user behavior:\n",
    "\n",
    "- In Springfield, the number of songs played peaks on Mondays and Fridays, while on Wednesday there is a decrease in activity.\n",
    "- In Shelbyville, on the contrary, users listen to music more on Wednesday. User activity on Monday and Friday is smaller.\n",
    "\n",
    "So the first hypothesis seems to be correct."
   ]
  },
  {
   "cell_type": "markdown",
   "metadata": {
    "id": "p7nFQajCVw5B"
   },
   "source": [
    "[Back to Contents](#back)"
   ]
  },
  {
   "cell_type": "markdown",
   "metadata": {
    "id": "atZAxtq4_Zcu"
   },
   "source": [
    "### Hypothesis 2: music at the beginning and end of the week <a id='week'></a>"
   ]
  },
  {
   "cell_type": "markdown",
   "metadata": {
    "id": "eXrQqXFH_Zcu"
   },
   "source": [
    "According to the second hypothesis, on Monday morning and Friday night, citizens of Springfield listen to genres that differ from ones users from Shelbyville enjoy."
   ]
  },
  {
   "cell_type": "markdown",
   "metadata": {
    "id": "S8UcW6Hw_Zcu"
   },
   "source": [
    "Get tables (make sure that the name of your combined table matches the DataFrame given in the two code blocks below):\n",
    "* For Springfield — `spr_general`\n",
    "* For Shelbyville — `shel_general`"
   ]
  },
  {
   "cell_type": "code",
   "execution_count": 28,
   "metadata": {
    "id": "qeaFfM_P_Zcu",
    "pycharm": {
     "is_executing": true
    }
   },
   "outputs": [],
   "source": [
    "# create the spr_general table from the df rows, \n",
    "# where the value in the 'city' column is 'Springfield'\n",
    "spr_general = df[df['city']== 'Springfield']\n"
   ]
  },
  {
   "cell_type": "markdown",
   "metadata": {},
   "source": [
    "<div class=\"alert alert-success\">\n",
    "<b>Reviewer's comment v1:</b>\n",
    "    \n",
    "You correctly used logical indexing to filter data by city! \n",
    "\n",
    "Additionally there are other methods that could be helpful to filter your data, for example:`query()`.\n",
    "\n",
    "    \n",
    "`spr_general = df.query('city == \"Springfield\"')`\n",
    "    \n",
    "You can read about them additionally here: \n",
    "https://towardsdatascience.com/10-examples-that-will-make-you-use-pandas-query-function-more-often-a8fb3e9361cb\n",
    "https://towardsdatascience.com/how-to-use-loc-and-iloc-for-selecting-data-in-pandas-bd09cb4c3d79    "
   ]
  },
  {
   "cell_type": "code",
   "execution_count": 29,
   "metadata": {
    "id": "ORaVRKto_Zcu"
   },
   "outputs": [],
   "source": [
    "# create the shel_general from the df rows,\n",
    "# where the value in the 'city' column is 'Shelbyville'\n",
    "shel_general = df[df['city']== 'Shelbyville']"
   ]
  },
  {
   "cell_type": "markdown",
   "metadata": {
    "id": "MEJV-CX2_Zcu"
   },
   "source": [
    "Write the `genre_weekday()` function with four parameters:\n",
    "* A table for data (`df`)\n",
    "* The day of the week (`day`)\n",
    "* The first timestamp, in 'hh:mm' format (`time1`)\n",
    "* The last timestamp, in 'hh:mm' format (`time2`)\n",
    "\n",
    "The function should return info on the 15 most popular genres on a given day within the period between the two timestamps."
   ]
  },
  {
   "cell_type": "code",
   "execution_count": 30,
   "metadata": {
    "id": "laJT9BYl_Zcu"
   },
   "outputs": [],
   "source": [
    "# 1) Let the genre_df variable store the rows that meet several conditions:\n",
    "#    - the value in the 'day' column is equal to the value of the day= argument\n",
    "#    - the value in the 'time' column is greater than the value of the time1= argument\n",
    "#    - the value in the 'time' column is smaller than the value of the time2= argument\n",
    "#    Use consecutive filtering with logical indexing.\n",
    "\n",
    "# 2) Group genre_df by the 'genre' column, take one of its columns, \n",
    "#    and use the count() method to find the number of entries for each of \n",
    "#    the represented genres; store the resulting Series to the\n",
    "#    genre_df_count variable\n",
    "\n",
    "# 3) Sort genre_df_count in descending order of frequency and store the result\n",
    "#    to the genre_df_sorted variable\n",
    "\n",
    "# 4) Return a Series object with the first 15 genre_df_sorted value - the 15 most\n",
    "#    popular genres (on a given day, within a certain timeframe)\n",
    "\n",
    "# Write your function here\n",
    "def genre_weekday(df,day,time1,time2):\n",
    "    # consecutive filtering\n",
    "    # Create the variable genre_df which will store only those df rows where the day is equal to day=\n",
    "    genre_df = df[df['day']==day] # write your code here\n",
    "\n",
    "    # filter again so that genre_df will store only those rows where the time is smaller than time2=\n",
    "    genre_df = genre_df.loc[(genre_df['time']< time2)]  # write your code here\n",
    "\n",
    "    # filter once more so that genre_df will store only rows where the time is greater than time1=\n",
    "    genre_df = genre_df.loc[(genre_df['time']> time1)]  # write your code here\n",
    "\n",
    "    # group the filtered DataFrame by the column with the names of genres, take the genre column, and find the number of rows for each genre with the count() method\n",
    "    genre_df_count = genre_df.groupby('genre')['genre'].count() # write your code here\n",
    "\n",
    "    # sort the result in descending order (so that the most popular genres come first in the Series object)\n",
    "    genre_df_sorted = genre_df_count.sort_values(ascending=False) # write your code here\n",
    "\n",
    "    # we will return the Series object storing the 15 most popular genres on a given day in a given timeframe\n",
    "    return genre_df_sorted[:15]"
   ]
  },
  {
   "cell_type": "markdown",
   "metadata": {},
   "source": [
    "<div class=\"alert alert-danger\">\n",
    "<b>Reviewer's comment v1:</b>\n",
    "    \n",
    "Here in the function with each new step we need to use results of the previous steps: \n",
    "    \n",
    "    \n",
    "So, for example, the second line should be \n",
    "    \n",
    "    genre_df = genre_df.loc[(genre_df['time']<time2)] \n",
    "                                                      \n",
    "and so on. Can you please update that? \n",
    "                                                      \n",
    "Btw data filtering is case sensitive, so your function calls, unfortunately, will not provide any results. The following structure will work: genre_weekday(spr_general, 'Monday', '07:00:00', '11:00:00')"
   ]
  },
  {
   "cell_type": "markdown",
   "metadata": {},
   "source": [
    "<div class=\"alert alert-danger\">\n",
    "<b>Reviewer's comment v2:</b>\n",
    "    \n",
    "Unfortunately, the same issues remain on the 4th line of your code.\n",
    "\n",
    "Can you please double-check whether you are indeed using the latest dataframe on each new step?"
   ]
  },
  {
   "cell_type": "markdown",
   "metadata": {
    "id": "la2s2_PF_Zcu"
   },
   "source": [
    "Compare the results of the `genre_weekday()` function for Springfield and Shelbyville on Monday morning (from 7AM to 11AM) and on Friday evening (from 17:00 to 23:00):"
   ]
  },
  {
   "cell_type": "code",
   "execution_count": 31,
   "metadata": {
    "id": "yz7itPUQ_Zcu"
   },
   "outputs": [
    {
     "data": {
      "text/plain": [
       "genre\n",
       "pop            781\n",
       "dance          549\n",
       "electronic     480\n",
       "rock           474\n",
       "hiphop         286\n",
       "ruspop         186\n",
       "world          181\n",
       "rusrap         175\n",
       "alternative    164\n",
       "unknown        161\n",
       "classical      157\n",
       "metal          120\n",
       "jazz           100\n",
       "folk            97\n",
       "soundtrack      95\n",
       "Name: genre, dtype: int64"
      ]
     },
     "execution_count": 31,
     "metadata": {},
     "output_type": "execute_result"
    }
   ],
   "source": [
    "# calling the function for Monday morning in Springfield (use spr_general instead of the df table)\n",
    "genre_weekday(spr_general,'Monday','07:00:00', '11:00:00')"
   ]
  },
  {
   "cell_type": "code",
   "execution_count": 32,
   "metadata": {
    "id": "kwUcHPdy_Zcu"
   },
   "outputs": [
    {
     "data": {
      "text/plain": [
       "genre\n",
       "pop            218\n",
       "dance          182\n",
       "rock           162\n",
       "electronic     147\n",
       "hiphop          80\n",
       "ruspop          64\n",
       "alternative     58\n",
       "rusrap          55\n",
       "jazz            44\n",
       "classical       40\n",
       "world           36\n",
       "rap             32\n",
       "soundtrack      31\n",
       "rnb             27\n",
       "metal           27\n",
       "Name: genre, dtype: int64"
      ]
     },
     "execution_count": 32,
     "metadata": {},
     "output_type": "execute_result"
    }
   ],
   "source": [
    "# calling the function for Monday morning in Shelbyville (use shel_general instead of the df table)\n",
    "genre_weekday(shel_general,'Monday','07:00:00', '11:00:00')"
   ]
  },
  {
   "cell_type": "code",
   "execution_count": 33,
   "metadata": {
    "id": "EzXVRE1o_Zcu"
   },
   "outputs": [
    {
     "data": {
      "text/plain": [
       "genre\n",
       "pop            713\n",
       "rock           517\n",
       "dance          495\n",
       "electronic     482\n",
       "hiphop         273\n",
       "world          208\n",
       "ruspop         170\n",
       "classical      163\n",
       "alternative    163\n",
       "rusrap         142\n",
       "jazz           111\n",
       "unknown        110\n",
       "soundtrack     105\n",
       "rnb             90\n",
       "metal           88\n",
       "Name: genre, dtype: int64"
      ]
     },
     "execution_count": 33,
     "metadata": {},
     "output_type": "execute_result"
    }
   ],
   "source": [
    "# calling the function for Friday evening in Springfield\n",
    "genre_weekday(spr_general,'Friday','17:00:00', '23:00:00')"
   ]
  },
  {
   "cell_type": "code",
   "execution_count": 34,
   "metadata": {
    "id": "JZaEKu5v_Zcu"
   },
   "outputs": [
    {
     "data": {
      "text/plain": [
       "genre\n",
       "pop            256\n",
       "rock           216\n",
       "electronic     216\n",
       "dance          210\n",
       "hiphop          97\n",
       "alternative     63\n",
       "jazz            61\n",
       "classical       60\n",
       "rusrap          59\n",
       "world           54\n",
       "unknown         47\n",
       "ruspop          47\n",
       "soundtrack      40\n",
       "metal           39\n",
       "rap             36\n",
       "Name: genre, dtype: int64"
      ]
     },
     "execution_count": 34,
     "metadata": {},
     "output_type": "execute_result"
    }
   ],
   "source": [
    "# calling the function for Friday evening in Shelbyville\n",
    "genre_weekday(shel_general,'Friday','17:00:00', '23:00:00')"
   ]
  },
  {
   "cell_type": "markdown",
   "metadata": {},
   "source": [
    "<div class=\"alert alert-success\">\n",
    "<b>Reviewer's comment v3:</b>\n",
    "    \n",
    "And with the help of the function, we got all the necessary information! "
   ]
  },
  {
   "cell_type": "markdown",
   "metadata": {
    "id": "wrCe4MNX_Zcu"
   },
   "source": [
    "**Conclusion**\n",
    "\n",
    "Having compared the top 15 genres on Monday morning, we can draw the following conclusions:\n",
    "\n",
    "1. Users from Springfield and Shelbyville listen to similar music. The top five genres are the same, only rock and electronic have switched places.\n",
    "\n",
    "2. In Springfield, the number of missing values turned out to be so big that the value `'unknown'` came in 10th. This means that missing values make up a considerable portion of the data, which may be a basis for questioning the reliability of our conclusions.\n",
    "\n",
    "For Friday evening, the situation is similar. Individual genres vary somewhat, but on the whole, the top 15 is similar for the two cities.\n",
    "\n",
    "Thus, the second hypothesis has been partially proven true:\n",
    "* Users listen to similar music at the beginning and end of the week.\n",
    "* There is no major difference between Springfield and Shelbyville. In both cities, pop is the most popular genre.\n",
    "\n",
    "However, the number of missing values makes this result questionable. In Springfield, there are so many that they affect our top 15. Were we not missing these values, things might look different."
   ]
  },
  {
   "cell_type": "markdown",
   "metadata": {
    "id": "jLmXgdanVyhP"
   },
   "source": [
    "[Back to Contents](#back)"
   ]
  },
  {
   "cell_type": "markdown",
   "metadata": {
    "id": "JolODAqr_Zcu"
   },
   "source": [
    "### Hypothesis 3: genre preferences in Springfield and Shelbyville <a id='genre'></a>\n",
    "\n",
    "Hypothesis: Shelbyville loves rap music. Springfield's citizens are more into pop."
   ]
  },
  {
   "cell_type": "markdown",
   "metadata": {
    "id": "DlegSvaT_Zcu"
   },
   "source": [
    "Group the `spr_general` table by genre and find the number of songs played for each genre with the `count()` method. Then sort the result in descending order and store it to `spr_genres`."
   ]
  },
  {
   "cell_type": "code",
   "execution_count": 35,
   "metadata": {
    "id": "r19lIPke_Zcu"
   },
   "outputs": [],
   "source": [
    "# on one line: group the spr_general table by the 'genre' column, \n",
    "# count the 'genre' values with count() in the grouping, \n",
    "# sort the resulting Series in descending order, and store it to spr_genres\n",
    "spr_genres = spr_general.groupby('genre')['genre'].count().sort_values(ascending=False)"
   ]
  },
  {
   "cell_type": "markdown",
   "metadata": {
    "id": "6kMuomxTiIr8"
   },
   "source": [
    "Print the first 10 rows from `spr_genres`:"
   ]
  },
  {
   "cell_type": "code",
   "execution_count": 36,
   "metadata": {
    "id": "WhCSooF8_Zcv"
   },
   "outputs": [
    {
     "name": "stdout",
     "output_type": "stream",
     "text": [
      "genre\n",
      "pop            5892\n",
      "dance          4435\n",
      "rock           3965\n",
      "electronic     3786\n",
      "hiphop         2096\n",
      "classical      1616\n",
      "world          1432\n",
      "alternative    1379\n",
      "ruspop         1372\n",
      "rusrap         1161\n",
      "Name: genre, dtype: int64\n"
     ]
    }
   ],
   "source": [
    "# printing the first 10 rows of spr_genres\n",
    "print(spr_genres.head(10))"
   ]
  },
  {
   "cell_type": "markdown",
   "metadata": {},
   "source": [
    "<div class=\"alert alert-success\">\n",
    "<b>Reviewer's comment v1:</b>\n",
    "    \n",
    "👏"
   ]
  },
  {
   "cell_type": "markdown",
   "metadata": {
    "id": "cnPG2vnN_Zcv"
   },
   "source": [
    "Now do the same with the data on Shelbyville.\n",
    "\n",
    "Group the `shel_general` table by genre and find the number of songs played for each genre. Then sort the result in descending order and store it to the `shel_genres` table:\n"
   ]
  },
  {
   "cell_type": "code",
   "execution_count": 37,
   "metadata": {
    "id": "gluLIpE7_Zcv"
   },
   "outputs": [],
   "source": [
    "# on one line: group the shel_general table by the 'genre' column, \n",
    "# count the 'genre' values in the grouping with count(), \n",
    "# sort the resulting Series in descending order and store it to shel_genres\n",
    "shel_genres = shel_general.groupby('genre')['genre'].count().sort_values(ascending=False)"
   ]
  },
  {
   "cell_type": "markdown",
   "metadata": {
    "id": "5Doha_ODgyQ8"
   },
   "source": [
    "Print the first 10 rows of `shel_genres`:"
   ]
  },
  {
   "cell_type": "code",
   "execution_count": 38,
   "metadata": {
    "id": "uaGJHjVU_Zcv"
   },
   "outputs": [
    {
     "name": "stdout",
     "output_type": "stream",
     "text": [
      "genre\n",
      "pop            2431\n",
      "dance          1932\n",
      "rock           1879\n",
      "electronic     1736\n",
      "hiphop          960\n",
      "alternative     649\n",
      "classical       646\n",
      "rusrap          564\n",
      "ruspop          538\n",
      "world           515\n",
      "Name: genre, dtype: int64\n"
     ]
    }
   ],
   "source": [
    "# printing the first 10 rows from shel_genres\n",
    "print(shel_genres.head(10))"
   ]
  },
  {
   "cell_type": "markdown",
   "metadata": {
    "id": "RY51YJYu_Zcv"
   },
   "source": [
    "**Conclusion**"
   ]
  },
  {
   "cell_type": "markdown",
   "metadata": {
    "id": "nVhnJEm__Zcv"
   },
   "source": [
    "The hypothesis has been partially proven true:\n",
    "* Pop music is the most popular genre in Springfield, as expected.\n",
    "* However, pop music turned out to be equally popular in Springfield and Shelbyville, and rap wasn't in the top 5 for either city.\n"
   ]
  },
  {
   "cell_type": "markdown",
   "metadata": {},
   "source": [
    "<div class=\"alert alert-success\">\n",
    "<b>Reviewer's comment v1:</b>\n",
    "    \n",
    "And here you also got correct results. "
   ]
  },
  {
   "cell_type": "markdown",
   "metadata": {
    "id": "Byr0RfpPVz14"
   },
   "source": [
    "[Back to Contents](#back)"
   ]
  },
  {
   "cell_type": "markdown",
   "metadata": {
    "id": "ykKQ0N65_Zcv"
   },
   "source": [
    "# Findings <a id='end'></a>"
   ]
  },
  {
   "cell_type": "markdown",
   "metadata": {
    "id": "tjUwbHb3_Zcv"
   },
   "source": [
    "We have tested the following three hypotheses:\n",
    "\n",
    "1. User activity differs depending on the day of the week and from city to city. \n",
    "2. On Monday mornings, Springfield and Shelbyville residents listen to different genres. This is also true for Friday evenings. \n",
    "3. Springfield and Shelbyville listeners have different preferences. In both Springfield and Shelbyville, they prefer pop.\n",
    "\n",
    "After analyzing the data, we concluded:\n",
    "\n",
    "1. User activity in Springfield and Shelbyville depends on the day of the week, though the cities vary in different ways. \n",
    "\n",
    "The first hypothesis is fully accepted.\n",
    "\n",
    "2. Musical preferences do not vary significantly over the course of the week in both Springfield and Shelbyville. We can see small differences in order on Mondays, but:\n",
    "* In Springfield and Shelbyville, people listen to pop music most.\n",
    "\n",
    "So we can't accept this hypothesis. We must also keep in mind that the result could have been different if not for the missing values.\n",
    "\n",
    "3. It turns out that the musical preferences of users from Springfield and Shelbyville are quite similar.\n",
    "\n",
    "The third hypothesis is rejected. If there is any difference in preferences, it cannot be seen from this data.\n",
    "\n",
    "### Note \n",
    "In real projects, research involves statistical hypothesis testing, which is more precise and more quantitative. Also note that you cannot always draw conclusions about an entire city based on the data from just one source.\n",
    "\n",
    "You will study hypothesis testing in the sprint on statistical data analysis."
   ]
  },
  {
   "cell_type": "markdown",
   "metadata": {},
   "source": [
    "<div class=\"alert alert-success\">\n",
    "<b>Reviewer's comment v1:</b>\n",
    " \n",
    "Overall you did a great research. I only left some feedback in the notebook.\n",
    "    \n",
    "A small tip regarding overall conclusion in the project: \n",
    "    It represents the overall work progress that you achieved. On a real project, this is probably the only thing the business will read. Therefore, it is crucial to indicate in a structured way all conclusions that you made on each step in the project.\n",
    "\n",
    "For example:\n",
    "\n",
    "- Replaced missing values in the following data with the following method.\n",
    "- Replaced data types in the following columns.\n",
    "- etc.\n",
    "- We observe that ... factors impact ... \n",
    "- My analysis show ...\n",
    "- I can recommend the following next steps / activities ...\n",
    "\n",
    "It is also important to provide explanations and interpretations that will be interesting for business based on your analysis.\n",
    "\n",
    "</div>"
   ]
  },
  {
   "cell_type": "markdown",
   "metadata": {
    "id": "Ju4AHDSgV1FE"
   },
   "source": [
    "[Back to Contents](#back)"
   ]
  }
 ],
 "metadata": {
  "ExecuteTimeLog": [
   {
    "duration": 70,
    "start_time": "2022-07-19T19:18:23.471Z"
   },
   {
    "duration": 383,
    "start_time": "2022-07-19T19:18:43.529Z"
   },
   {
    "duration": 2,
    "start_time": "2022-07-19T19:19:19.133Z"
   },
   {
    "duration": 317,
    "start_time": "2022-07-19T19:19:20.878Z"
   },
   {
    "duration": 6,
    "start_time": "2022-07-19T19:19:23.648Z"
   },
   {
    "duration": 7,
    "start_time": "2022-07-19T19:19:44.910Z"
   },
   {
    "duration": 47,
    "start_time": "2022-07-21T17:06:15.251Z"
   },
   {
    "duration": 8,
    "start_time": "2022-07-21T17:06:56.535Z"
   },
   {
    "duration": 9,
    "start_time": "2022-07-21T17:07:01.685Z"
   },
   {
    "duration": 464,
    "start_time": "2022-07-21T17:07:21.227Z"
   },
   {
    "duration": 428,
    "start_time": "2022-07-21T17:07:22.690Z"
   },
   {
    "duration": 6,
    "start_time": "2022-07-21T17:07:24.364Z"
   },
   {
    "duration": 28,
    "start_time": "2022-07-21T17:07:26.037Z"
   },
   {
    "duration": 4,
    "start_time": "2022-07-21T17:07:32.359Z"
   },
   {
    "duration": 3,
    "start_time": "2022-07-21T17:07:36.245Z"
   },
   {
    "duration": 4,
    "start_time": "2022-07-21T17:07:41.478Z"
   },
   {
    "duration": 25,
    "start_time": "2022-07-21T17:09:53.501Z"
   },
   {
    "duration": 5,
    "start_time": "2022-07-21T17:09:55.141Z"
   },
   {
    "duration": 42,
    "start_time": "2022-07-21T17:12:22.536Z"
   },
   {
    "duration": 49,
    "start_time": "2022-09-07T06:24:11.886Z"
   },
   {
    "duration": 5,
    "start_time": "2022-09-07T06:24:19.512Z"
   },
   {
    "duration": 338,
    "start_time": "2022-09-07T06:24:34.861Z"
   },
   {
    "duration": 543,
    "start_time": "2022-09-07T06:24:35.201Z"
   },
   {
    "duration": 6,
    "start_time": "2022-09-07T06:24:35.746Z"
   },
   {
    "duration": 26,
    "start_time": "2022-09-07T06:24:35.754Z"
   },
   {
    "duration": 3,
    "start_time": "2022-09-07T06:24:35.781Z"
   },
   {
    "duration": 26,
    "start_time": "2022-09-07T06:24:35.785Z"
   },
   {
    "duration": 5,
    "start_time": "2022-09-07T06:24:35.813Z"
   },
   {
    "duration": 36,
    "start_time": "2022-09-07T06:24:35.819Z"
   },
   {
    "duration": 72,
    "start_time": "2022-09-07T06:24:35.857Z"
   },
   {
    "duration": 0,
    "start_time": "2022-09-07T06:24:35.932Z"
   },
   {
    "duration": 0,
    "start_time": "2022-09-07T06:24:35.933Z"
   },
   {
    "duration": 0,
    "start_time": "2022-09-07T06:24:35.934Z"
   },
   {
    "duration": 0,
    "start_time": "2022-09-07T06:24:35.935Z"
   },
   {
    "duration": 0,
    "start_time": "2022-09-07T06:24:35.936Z"
   },
   {
    "duration": 0,
    "start_time": "2022-09-07T06:24:35.937Z"
   },
   {
    "duration": 0,
    "start_time": "2022-09-07T06:24:35.938Z"
   },
   {
    "duration": 0,
    "start_time": "2022-09-07T06:24:35.938Z"
   },
   {
    "duration": 0,
    "start_time": "2022-09-07T06:24:35.940Z"
   },
   {
    "duration": 0,
    "start_time": "2022-09-07T06:24:35.940Z"
   },
   {
    "duration": 0,
    "start_time": "2022-09-07T06:24:35.941Z"
   },
   {
    "duration": 0,
    "start_time": "2022-09-07T06:24:35.942Z"
   },
   {
    "duration": 0,
    "start_time": "2022-09-07T06:24:35.943Z"
   },
   {
    "duration": 0,
    "start_time": "2022-09-07T06:24:35.944Z"
   },
   {
    "duration": 0,
    "start_time": "2022-09-07T06:24:35.946Z"
   },
   {
    "duration": 0,
    "start_time": "2022-09-07T06:24:35.947Z"
   },
   {
    "duration": 0,
    "start_time": "2022-09-07T06:24:35.948Z"
   },
   {
    "duration": 0,
    "start_time": "2022-09-07T06:24:35.949Z"
   },
   {
    "duration": 0,
    "start_time": "2022-09-07T06:24:35.950Z"
   },
   {
    "duration": 0,
    "start_time": "2022-09-07T06:24:35.951Z"
   },
   {
    "duration": 0,
    "start_time": "2022-09-07T06:24:35.952Z"
   },
   {
    "duration": 0,
    "start_time": "2022-09-07T06:24:35.953Z"
   },
   {
    "duration": 0,
    "start_time": "2022-09-07T06:24:35.954Z"
   },
   {
    "duration": 0,
    "start_time": "2022-09-07T06:24:35.955Z"
   },
   {
    "duration": 0,
    "start_time": "2022-09-07T06:24:35.956Z"
   },
   {
    "duration": 0,
    "start_time": "2022-09-07T06:24:35.957Z"
   },
   {
    "duration": 0,
    "start_time": "2022-09-07T06:24:35.958Z"
   },
   {
    "duration": 0,
    "start_time": "2022-09-07T06:24:35.959Z"
   },
   {
    "duration": 0,
    "start_time": "2022-09-07T06:24:35.960Z"
   },
   {
    "duration": 405,
    "start_time": "2022-09-07T06:25:22.918Z"
   },
   {
    "duration": 248,
    "start_time": "2022-09-07T06:25:23.325Z"
   },
   {
    "duration": 6,
    "start_time": "2022-09-07T06:25:23.575Z"
   },
   {
    "duration": 35,
    "start_time": "2022-09-07T06:25:23.583Z"
   },
   {
    "duration": 3,
    "start_time": "2022-09-07T06:25:23.620Z"
   },
   {
    "duration": 14,
    "start_time": "2022-09-07T06:25:23.624Z"
   },
   {
    "duration": 5,
    "start_time": "2022-09-07T06:25:23.640Z"
   },
   {
    "duration": 39,
    "start_time": "2022-09-07T06:25:23.647Z"
   },
   {
    "duration": 198,
    "start_time": "2022-09-07T06:25:23.706Z"
   },
   {
    "duration": 0,
    "start_time": "2022-09-07T06:25:23.930Z"
   },
   {
    "duration": 0,
    "start_time": "2022-09-07T06:25:23.932Z"
   },
   {
    "duration": 0,
    "start_time": "2022-09-07T06:25:23.933Z"
   },
   {
    "duration": 0,
    "start_time": "2022-09-07T06:25:23.934Z"
   },
   {
    "duration": 0,
    "start_time": "2022-09-07T06:25:23.935Z"
   },
   {
    "duration": 0,
    "start_time": "2022-09-07T06:25:23.936Z"
   },
   {
    "duration": 0,
    "start_time": "2022-09-07T06:25:23.938Z"
   },
   {
    "duration": 0,
    "start_time": "2022-09-07T06:25:23.938Z"
   },
   {
    "duration": 0,
    "start_time": "2022-09-07T06:25:23.939Z"
   },
   {
    "duration": 0,
    "start_time": "2022-09-07T06:25:23.940Z"
   },
   {
    "duration": 0,
    "start_time": "2022-09-07T06:25:23.942Z"
   },
   {
    "duration": 0,
    "start_time": "2022-09-07T06:25:23.942Z"
   },
   {
    "duration": 0,
    "start_time": "2022-09-07T06:25:23.943Z"
   },
   {
    "duration": 0,
    "start_time": "2022-09-07T06:25:23.944Z"
   },
   {
    "duration": 0,
    "start_time": "2022-09-07T06:25:23.945Z"
   },
   {
    "duration": 0,
    "start_time": "2022-09-07T06:25:23.947Z"
   },
   {
    "duration": 0,
    "start_time": "2022-09-07T06:25:23.947Z"
   },
   {
    "duration": 0,
    "start_time": "2022-09-07T06:25:23.948Z"
   },
   {
    "duration": 0,
    "start_time": "2022-09-07T06:25:24.006Z"
   },
   {
    "duration": 0,
    "start_time": "2022-09-07T06:25:24.007Z"
   },
   {
    "duration": 0,
    "start_time": "2022-09-07T06:25:24.008Z"
   },
   {
    "duration": 0,
    "start_time": "2022-09-07T06:25:24.009Z"
   },
   {
    "duration": 0,
    "start_time": "2022-09-07T06:25:24.010Z"
   },
   {
    "duration": 0,
    "start_time": "2022-09-07T06:25:24.011Z"
   },
   {
    "duration": 0,
    "start_time": "2022-09-07T06:25:24.012Z"
   },
   {
    "duration": 0,
    "start_time": "2022-09-07T06:25:24.013Z"
   },
   {
    "duration": 0,
    "start_time": "2022-09-07T06:25:24.014Z"
   },
   {
    "duration": 0,
    "start_time": "2022-09-07T06:25:24.015Z"
   },
   {
    "duration": 0,
    "start_time": "2022-09-07T06:25:24.016Z"
   },
   {
    "duration": 428,
    "start_time": "2022-09-07T06:26:09.488Z"
   },
   {
    "duration": 292,
    "start_time": "2022-09-07T06:26:09.917Z"
   },
   {
    "duration": 7,
    "start_time": "2022-09-07T06:26:10.211Z"
   },
   {
    "duration": 31,
    "start_time": "2022-09-07T06:26:10.221Z"
   },
   {
    "duration": 4,
    "start_time": "2022-09-07T06:26:10.253Z"
   },
   {
    "duration": 21,
    "start_time": "2022-09-07T06:26:10.258Z"
   },
   {
    "duration": 26,
    "start_time": "2022-09-07T06:26:10.281Z"
   },
   {
    "duration": 46,
    "start_time": "2022-09-07T06:26:10.309Z"
   },
   {
    "duration": 1525,
    "start_time": "2022-09-07T06:26:10.356Z"
   },
   {
    "duration": 0,
    "start_time": "2022-09-07T06:26:11.885Z"
   },
   {
    "duration": 0,
    "start_time": "2022-09-07T06:26:11.886Z"
   },
   {
    "duration": 0,
    "start_time": "2022-09-07T06:26:11.887Z"
   },
   {
    "duration": 0,
    "start_time": "2022-09-07T06:26:11.888Z"
   },
   {
    "duration": 0,
    "start_time": "2022-09-07T06:26:11.890Z"
   },
   {
    "duration": 0,
    "start_time": "2022-09-07T06:26:11.891Z"
   },
   {
    "duration": 0,
    "start_time": "2022-09-07T06:26:11.893Z"
   },
   {
    "duration": 0,
    "start_time": "2022-09-07T06:26:11.894Z"
   },
   {
    "duration": 0,
    "start_time": "2022-09-07T06:26:11.895Z"
   },
   {
    "duration": 0,
    "start_time": "2022-09-07T06:26:11.897Z"
   },
   {
    "duration": 0,
    "start_time": "2022-09-07T06:26:11.898Z"
   },
   {
    "duration": 0,
    "start_time": "2022-09-07T06:26:11.900Z"
   },
   {
    "duration": 0,
    "start_time": "2022-09-07T06:26:11.901Z"
   },
   {
    "duration": 0,
    "start_time": "2022-09-07T06:26:11.903Z"
   },
   {
    "duration": 1,
    "start_time": "2022-09-07T06:26:11.904Z"
   },
   {
    "duration": 0,
    "start_time": "2022-09-07T06:26:11.906Z"
   },
   {
    "duration": 0,
    "start_time": "2022-09-07T06:26:11.908Z"
   },
   {
    "duration": 0,
    "start_time": "2022-09-07T06:26:11.909Z"
   },
   {
    "duration": 0,
    "start_time": "2022-09-07T06:26:11.911Z"
   },
   {
    "duration": 0,
    "start_time": "2022-09-07T06:26:11.913Z"
   },
   {
    "duration": 0,
    "start_time": "2022-09-07T06:26:11.914Z"
   },
   {
    "duration": 1,
    "start_time": "2022-09-07T06:26:11.915Z"
   },
   {
    "duration": 0,
    "start_time": "2022-09-07T06:26:11.917Z"
   },
   {
    "duration": 0,
    "start_time": "2022-09-07T06:26:11.920Z"
   },
   {
    "duration": 0,
    "start_time": "2022-09-07T06:26:11.921Z"
   },
   {
    "duration": 0,
    "start_time": "2022-09-07T06:26:11.923Z"
   },
   {
    "duration": 0,
    "start_time": "2022-09-07T06:26:11.924Z"
   },
   {
    "duration": 0,
    "start_time": "2022-09-07T06:26:11.926Z"
   },
   {
    "duration": 0,
    "start_time": "2022-09-07T06:26:11.928Z"
   },
   {
    "duration": 385,
    "start_time": "2022-09-07T06:27:24.725Z"
   },
   {
    "duration": 263,
    "start_time": "2022-09-07T06:27:25.112Z"
   },
   {
    "duration": 6,
    "start_time": "2022-09-07T06:27:25.376Z"
   },
   {
    "duration": 40,
    "start_time": "2022-09-07T06:27:25.385Z"
   },
   {
    "duration": 3,
    "start_time": "2022-09-07T06:27:25.428Z"
   },
   {
    "duration": 13,
    "start_time": "2022-09-07T06:27:25.432Z"
   },
   {
    "duration": 3,
    "start_time": "2022-09-07T06:27:25.447Z"
   },
   {
    "duration": 56,
    "start_time": "2022-09-07T06:27:25.452Z"
   },
   {
    "duration": 26,
    "start_time": "2022-09-07T06:27:25.511Z"
   },
   {
    "duration": 73,
    "start_time": "2022-09-07T06:27:25.541Z"
   },
   {
    "duration": 0,
    "start_time": "2022-09-07T06:27:25.616Z"
   },
   {
    "duration": 0,
    "start_time": "2022-09-07T06:27:25.617Z"
   },
   {
    "duration": 0,
    "start_time": "2022-09-07T06:27:25.619Z"
   },
   {
    "duration": 0,
    "start_time": "2022-09-07T06:27:25.620Z"
   },
   {
    "duration": 0,
    "start_time": "2022-09-07T06:27:25.621Z"
   },
   {
    "duration": 0,
    "start_time": "2022-09-07T06:27:25.623Z"
   },
   {
    "duration": 0,
    "start_time": "2022-09-07T06:27:25.624Z"
   },
   {
    "duration": 0,
    "start_time": "2022-09-07T06:27:25.626Z"
   },
   {
    "duration": 0,
    "start_time": "2022-09-07T06:27:25.627Z"
   },
   {
    "duration": 0,
    "start_time": "2022-09-07T06:27:25.628Z"
   },
   {
    "duration": 0,
    "start_time": "2022-09-07T06:27:25.630Z"
   },
   {
    "duration": 0,
    "start_time": "2022-09-07T06:27:25.631Z"
   },
   {
    "duration": 0,
    "start_time": "2022-09-07T06:27:25.632Z"
   },
   {
    "duration": 0,
    "start_time": "2022-09-07T06:27:25.633Z"
   },
   {
    "duration": 0,
    "start_time": "2022-09-07T06:27:25.635Z"
   },
   {
    "duration": 0,
    "start_time": "2022-09-07T06:27:25.636Z"
   },
   {
    "duration": 0,
    "start_time": "2022-09-07T06:27:25.638Z"
   },
   {
    "duration": 0,
    "start_time": "2022-09-07T06:27:25.639Z"
   },
   {
    "duration": 0,
    "start_time": "2022-09-07T06:27:25.640Z"
   },
   {
    "duration": 0,
    "start_time": "2022-09-07T06:27:25.641Z"
   },
   {
    "duration": 0,
    "start_time": "2022-09-07T06:27:25.643Z"
   },
   {
    "duration": 0,
    "start_time": "2022-09-07T06:27:25.644Z"
   },
   {
    "duration": 0,
    "start_time": "2022-09-07T06:27:25.645Z"
   },
   {
    "duration": 0,
    "start_time": "2022-09-07T06:27:25.646Z"
   },
   {
    "duration": 0,
    "start_time": "2022-09-07T06:27:25.647Z"
   },
   {
    "duration": 0,
    "start_time": "2022-09-07T06:27:25.648Z"
   },
   {
    "duration": 0,
    "start_time": "2022-09-07T06:27:25.649Z"
   },
   {
    "duration": 0,
    "start_time": "2022-09-07T06:27:25.650Z"
   },
   {
    "duration": 407,
    "start_time": "2022-09-07T06:27:55.667Z"
   },
   {
    "duration": 314,
    "start_time": "2022-09-07T06:27:56.077Z"
   },
   {
    "duration": 7,
    "start_time": "2022-09-07T06:27:56.393Z"
   },
   {
    "duration": 33,
    "start_time": "2022-09-07T06:27:56.406Z"
   },
   {
    "duration": 4,
    "start_time": "2022-09-07T06:27:56.441Z"
   },
   {
    "duration": 18,
    "start_time": "2022-09-07T06:27:56.447Z"
   },
   {
    "duration": 7,
    "start_time": "2022-09-07T06:27:56.467Z"
   },
   {
    "duration": 60,
    "start_time": "2022-09-07T06:27:56.476Z"
   },
   {
    "duration": 33,
    "start_time": "2022-09-07T06:27:56.538Z"
   },
   {
    "duration": 36,
    "start_time": "2022-09-07T06:27:56.573Z"
   },
   {
    "duration": 3,
    "start_time": "2022-09-07T06:27:56.611Z"
   },
   {
    "duration": 11,
    "start_time": "2022-09-07T06:27:56.615Z"
   },
   {
    "duration": 6,
    "start_time": "2022-09-07T06:27:56.628Z"
   },
   {
    "duration": 3,
    "start_time": "2022-09-07T06:27:56.639Z"
   },
   {
    "duration": 10,
    "start_time": "2022-09-07T06:27:56.643Z"
   },
   {
    "duration": 7,
    "start_time": "2022-09-07T06:27:56.654Z"
   },
   {
    "duration": 7,
    "start_time": "2022-09-07T06:27:56.662Z"
   },
   {
    "duration": 4,
    "start_time": "2022-09-07T06:27:56.671Z"
   },
   {
    "duration": 16,
    "start_time": "2022-09-07T06:27:56.677Z"
   },
   {
    "duration": 5,
    "start_time": "2022-09-07T06:27:56.695Z"
   },
   {
    "duration": 3,
    "start_time": "2022-09-07T06:27:56.706Z"
   },
   {
    "duration": 4,
    "start_time": "2022-09-07T06:27:56.711Z"
   },
   {
    "duration": 5,
    "start_time": "2022-09-07T06:27:56.717Z"
   },
   {
    "duration": 6,
    "start_time": "2022-09-07T06:27:56.723Z"
   },
   {
    "duration": 5,
    "start_time": "2022-09-07T06:27:56.731Z"
   },
   {
    "duration": 5,
    "start_time": "2022-09-07T06:27:56.737Z"
   },
   {
    "duration": 5,
    "start_time": "2022-09-07T06:27:56.743Z"
   },
   {
    "duration": 9,
    "start_time": "2022-09-07T06:27:56.749Z"
   },
   {
    "duration": 7,
    "start_time": "2022-09-07T06:27:56.760Z"
   },
   {
    "duration": 101,
    "start_time": "2022-09-07T06:27:56.768Z"
   },
   {
    "duration": 0,
    "start_time": "2022-09-07T06:27:56.871Z"
   },
   {
    "duration": 0,
    "start_time": "2022-09-07T06:27:56.872Z"
   },
   {
    "duration": 0,
    "start_time": "2022-09-07T06:27:56.873Z"
   },
   {
    "duration": 0,
    "start_time": "2022-09-07T06:27:56.875Z"
   },
   {
    "duration": 0,
    "start_time": "2022-09-07T06:27:56.876Z"
   },
   {
    "duration": 0,
    "start_time": "2022-09-07T06:27:56.877Z"
   },
   {
    "duration": 0,
    "start_time": "2022-09-07T06:27:56.878Z"
   },
   {
    "duration": 0,
    "start_time": "2022-09-07T06:27:56.878Z"
   },
   {
    "duration": 426,
    "start_time": "2022-09-07T06:28:57.603Z"
   },
   {
    "duration": 300,
    "start_time": "2022-09-07T06:28:58.031Z"
   },
   {
    "duration": 6,
    "start_time": "2022-09-07T06:28:58.333Z"
   },
   {
    "duration": 36,
    "start_time": "2022-09-07T06:28:58.341Z"
   },
   {
    "duration": 3,
    "start_time": "2022-09-07T06:28:58.379Z"
   },
   {
    "duration": 26,
    "start_time": "2022-09-07T06:28:58.384Z"
   },
   {
    "duration": 6,
    "start_time": "2022-09-07T06:28:58.412Z"
   },
   {
    "duration": 41,
    "start_time": "2022-09-07T06:28:58.420Z"
   },
   {
    "duration": 58,
    "start_time": "2022-09-07T06:28:58.463Z"
   },
   {
    "duration": 28,
    "start_time": "2022-09-07T06:28:58.525Z"
   },
   {
    "duration": 3,
    "start_time": "2022-09-07T06:28:58.555Z"
   },
   {
    "duration": 6,
    "start_time": "2022-09-07T06:28:58.559Z"
   },
   {
    "duration": 5,
    "start_time": "2022-09-07T06:28:58.566Z"
   },
   {
    "duration": 7,
    "start_time": "2022-09-07T06:28:58.573Z"
   },
   {
    "duration": 25,
    "start_time": "2022-09-07T06:28:58.581Z"
   },
   {
    "duration": 4,
    "start_time": "2022-09-07T06:28:58.608Z"
   },
   {
    "duration": 14,
    "start_time": "2022-09-07T06:28:58.614Z"
   },
   {
    "duration": 12,
    "start_time": "2022-09-07T06:28:58.630Z"
   },
   {
    "duration": 10,
    "start_time": "2022-09-07T06:28:58.644Z"
   },
   {
    "duration": 11,
    "start_time": "2022-09-07T06:28:58.655Z"
   },
   {
    "duration": 14,
    "start_time": "2022-09-07T06:28:58.668Z"
   },
   {
    "duration": 11,
    "start_time": "2022-09-07T06:28:58.683Z"
   },
   {
    "duration": 12,
    "start_time": "2022-09-07T06:28:58.695Z"
   },
   {
    "duration": 6,
    "start_time": "2022-09-07T06:28:58.709Z"
   },
   {
    "duration": 18,
    "start_time": "2022-09-07T06:28:58.717Z"
   },
   {
    "duration": 11,
    "start_time": "2022-09-07T06:28:58.736Z"
   },
   {
    "duration": 9,
    "start_time": "2022-09-07T06:28:58.748Z"
   },
   {
    "duration": 5,
    "start_time": "2022-09-07T06:28:58.759Z"
   },
   {
    "duration": 9,
    "start_time": "2022-09-07T06:28:58.765Z"
   },
   {
    "duration": 73,
    "start_time": "2022-09-07T06:28:58.776Z"
   },
   {
    "duration": 0,
    "start_time": "2022-09-07T06:28:58.850Z"
   },
   {
    "duration": 0,
    "start_time": "2022-09-07T06:28:58.851Z"
   },
   {
    "duration": 0,
    "start_time": "2022-09-07T06:28:58.852Z"
   },
   {
    "duration": 0,
    "start_time": "2022-09-07T06:28:58.853Z"
   },
   {
    "duration": 0,
    "start_time": "2022-09-07T06:28:58.854Z"
   },
   {
    "duration": 0,
    "start_time": "2022-09-07T06:28:58.855Z"
   },
   {
    "duration": 0,
    "start_time": "2022-09-07T06:28:58.857Z"
   },
   {
    "duration": 0,
    "start_time": "2022-09-07T06:28:58.857Z"
   },
   {
    "duration": 414,
    "start_time": "2022-09-07T06:31:11.793Z"
   },
   {
    "duration": 282,
    "start_time": "2022-09-07T06:31:12.210Z"
   },
   {
    "duration": 7,
    "start_time": "2022-09-07T06:31:12.494Z"
   },
   {
    "duration": 28,
    "start_time": "2022-09-07T06:31:12.505Z"
   },
   {
    "duration": 10,
    "start_time": "2022-09-07T06:31:12.536Z"
   },
   {
    "duration": 14,
    "start_time": "2022-09-07T06:31:12.548Z"
   },
   {
    "duration": 9,
    "start_time": "2022-09-07T06:31:12.563Z"
   },
   {
    "duration": 56,
    "start_time": "2022-09-07T06:31:12.573Z"
   },
   {
    "duration": 1322,
    "start_time": "2022-09-07T06:31:12.631Z"
   },
   {
    "duration": 0,
    "start_time": "2022-09-07T06:31:13.956Z"
   },
   {
    "duration": 0,
    "start_time": "2022-09-07T06:31:13.957Z"
   },
   {
    "duration": 0,
    "start_time": "2022-09-07T06:31:13.958Z"
   },
   {
    "duration": 0,
    "start_time": "2022-09-07T06:31:13.960Z"
   },
   {
    "duration": 0,
    "start_time": "2022-09-07T06:31:13.962Z"
   },
   {
    "duration": 0,
    "start_time": "2022-09-07T06:31:13.963Z"
   },
   {
    "duration": 0,
    "start_time": "2022-09-07T06:31:13.965Z"
   },
   {
    "duration": 0,
    "start_time": "2022-09-07T06:31:13.966Z"
   },
   {
    "duration": 0,
    "start_time": "2022-09-07T06:31:13.968Z"
   },
   {
    "duration": 0,
    "start_time": "2022-09-07T06:31:13.970Z"
   },
   {
    "duration": 0,
    "start_time": "2022-09-07T06:31:13.972Z"
   },
   {
    "duration": 0,
    "start_time": "2022-09-07T06:31:13.973Z"
   },
   {
    "duration": 0,
    "start_time": "2022-09-07T06:31:13.975Z"
   },
   {
    "duration": 0,
    "start_time": "2022-09-07T06:31:13.977Z"
   },
   {
    "duration": 0,
    "start_time": "2022-09-07T06:31:13.978Z"
   },
   {
    "duration": 0,
    "start_time": "2022-09-07T06:31:13.980Z"
   },
   {
    "duration": 0,
    "start_time": "2022-09-07T06:31:13.981Z"
   },
   {
    "duration": 1,
    "start_time": "2022-09-07T06:31:13.982Z"
   },
   {
    "duration": 0,
    "start_time": "2022-09-07T06:31:13.984Z"
   },
   {
    "duration": 0,
    "start_time": "2022-09-07T06:31:13.987Z"
   },
   {
    "duration": 0,
    "start_time": "2022-09-07T06:31:13.988Z"
   },
   {
    "duration": 0,
    "start_time": "2022-09-07T06:31:13.990Z"
   },
   {
    "duration": 0,
    "start_time": "2022-09-07T06:31:13.991Z"
   },
   {
    "duration": 0,
    "start_time": "2022-09-07T06:31:14.006Z"
   },
   {
    "duration": 0,
    "start_time": "2022-09-07T06:31:14.007Z"
   },
   {
    "duration": 0,
    "start_time": "2022-09-07T06:31:14.009Z"
   },
   {
    "duration": 0,
    "start_time": "2022-09-07T06:31:14.010Z"
   },
   {
    "duration": 0,
    "start_time": "2022-09-07T06:31:14.011Z"
   },
   {
    "duration": 0,
    "start_time": "2022-09-07T06:31:14.013Z"
   },
   {
    "duration": 381,
    "start_time": "2022-09-07T06:31:28.674Z"
   },
   {
    "duration": 268,
    "start_time": "2022-09-07T06:31:29.057Z"
   },
   {
    "duration": 6,
    "start_time": "2022-09-07T06:31:29.328Z"
   },
   {
    "duration": 32,
    "start_time": "2022-09-07T06:31:29.336Z"
   },
   {
    "duration": 4,
    "start_time": "2022-09-07T06:31:29.370Z"
   },
   {
    "duration": 40,
    "start_time": "2022-09-07T06:31:29.376Z"
   },
   {
    "duration": 4,
    "start_time": "2022-09-07T06:31:29.418Z"
   },
   {
    "duration": 41,
    "start_time": "2022-09-07T06:31:29.424Z"
   },
   {
    "duration": 55,
    "start_time": "2022-09-07T06:31:29.467Z"
   },
   {
    "duration": 20,
    "start_time": "2022-09-07T06:31:29.525Z"
   },
   {
    "duration": 6,
    "start_time": "2022-09-07T06:31:29.546Z"
   },
   {
    "duration": 5,
    "start_time": "2022-09-07T06:31:29.553Z"
   },
   {
    "duration": 5,
    "start_time": "2022-09-07T06:31:29.560Z"
   },
   {
    "duration": 18,
    "start_time": "2022-09-07T06:31:29.566Z"
   },
   {
    "duration": 5,
    "start_time": "2022-09-07T06:31:29.586Z"
   },
   {
    "duration": 13,
    "start_time": "2022-09-07T06:31:29.592Z"
   },
   {
    "duration": 2,
    "start_time": "2022-09-07T06:31:29.607Z"
   },
   {
    "duration": 5,
    "start_time": "2022-09-07T06:31:29.610Z"
   },
   {
    "duration": 5,
    "start_time": "2022-09-07T06:31:29.616Z"
   },
   {
    "duration": 6,
    "start_time": "2022-09-07T06:31:29.622Z"
   },
   {
    "duration": 6,
    "start_time": "2022-09-07T06:31:29.629Z"
   },
   {
    "duration": 5,
    "start_time": "2022-09-07T06:31:29.636Z"
   },
   {
    "duration": 7,
    "start_time": "2022-09-07T06:31:29.642Z"
   },
   {
    "duration": 6,
    "start_time": "2022-09-07T06:31:29.650Z"
   },
   {
    "duration": 5,
    "start_time": "2022-09-07T06:31:29.657Z"
   },
   {
    "duration": 8,
    "start_time": "2022-09-07T06:31:29.664Z"
   },
   {
    "duration": 6,
    "start_time": "2022-09-07T06:31:29.673Z"
   },
   {
    "duration": 26,
    "start_time": "2022-09-07T06:31:29.682Z"
   },
   {
    "duration": 9,
    "start_time": "2022-09-07T06:31:29.710Z"
   },
   {
    "duration": 96,
    "start_time": "2022-09-07T06:31:29.721Z"
   },
   {
    "duration": 0,
    "start_time": "2022-09-07T06:31:29.819Z"
   },
   {
    "duration": 0,
    "start_time": "2022-09-07T06:31:29.821Z"
   },
   {
    "duration": 0,
    "start_time": "2022-09-07T06:31:29.822Z"
   },
   {
    "duration": 0,
    "start_time": "2022-09-07T06:31:29.824Z"
   },
   {
    "duration": 0,
    "start_time": "2022-09-07T06:31:29.826Z"
   },
   {
    "duration": 0,
    "start_time": "2022-09-07T06:31:29.827Z"
   },
   {
    "duration": 0,
    "start_time": "2022-09-07T06:31:29.828Z"
   },
   {
    "duration": 0,
    "start_time": "2022-09-07T06:31:29.830Z"
   },
   {
    "duration": 418,
    "start_time": "2022-09-07T06:33:34.397Z"
   },
   {
    "duration": 272,
    "start_time": "2022-09-07T06:33:34.818Z"
   },
   {
    "duration": 6,
    "start_time": "2022-09-07T06:33:35.091Z"
   },
   {
    "duration": 51,
    "start_time": "2022-09-07T06:33:35.099Z"
   },
   {
    "duration": 4,
    "start_time": "2022-09-07T06:33:35.153Z"
   },
   {
    "duration": 19,
    "start_time": "2022-09-07T06:33:35.158Z"
   },
   {
    "duration": 6,
    "start_time": "2022-09-07T06:33:35.179Z"
   },
   {
    "duration": 43,
    "start_time": "2022-09-07T06:33:35.186Z"
   },
   {
    "duration": 39,
    "start_time": "2022-09-07T06:33:35.231Z"
   },
   {
    "duration": 31,
    "start_time": "2022-09-07T06:33:35.275Z"
   },
   {
    "duration": 66,
    "start_time": "2022-09-07T06:33:35.308Z"
   },
   {
    "duration": 83,
    "start_time": "2022-09-07T06:33:35.376Z"
   },
   {
    "duration": 57,
    "start_time": "2022-09-07T06:33:35.460Z"
   },
   {
    "duration": 3,
    "start_time": "2022-09-07T06:33:35.519Z"
   },
   {
    "duration": 21,
    "start_time": "2022-09-07T06:33:35.524Z"
   },
   {
    "duration": 5,
    "start_time": "2022-09-07T06:33:35.547Z"
   },
   {
    "duration": 6,
    "start_time": "2022-09-07T06:33:35.553Z"
   },
   {
    "duration": 6,
    "start_time": "2022-09-07T06:33:35.560Z"
   },
   {
    "duration": 5,
    "start_time": "2022-09-07T06:33:35.567Z"
   },
   {
    "duration": 4,
    "start_time": "2022-09-07T06:33:35.574Z"
   },
   {
    "duration": 6,
    "start_time": "2022-09-07T06:33:35.580Z"
   },
   {
    "duration": 6,
    "start_time": "2022-09-07T06:33:35.587Z"
   },
   {
    "duration": 4,
    "start_time": "2022-09-07T06:33:35.594Z"
   },
   {
    "duration": 6,
    "start_time": "2022-09-07T06:33:35.599Z"
   },
   {
    "duration": 5,
    "start_time": "2022-09-07T06:33:35.607Z"
   },
   {
    "duration": 8,
    "start_time": "2022-09-07T06:33:35.614Z"
   },
   {
    "duration": 6,
    "start_time": "2022-09-07T06:33:35.625Z"
   },
   {
    "duration": 9,
    "start_time": "2022-09-07T06:33:35.637Z"
   },
   {
    "duration": 6,
    "start_time": "2022-09-07T06:33:35.647Z"
   },
   {
    "duration": 185,
    "start_time": "2022-09-07T06:33:35.654Z"
   },
   {
    "duration": 0,
    "start_time": "2022-09-07T06:33:35.841Z"
   },
   {
    "duration": 0,
    "start_time": "2022-09-07T06:33:35.843Z"
   },
   {
    "duration": 0,
    "start_time": "2022-09-07T06:33:35.846Z"
   },
   {
    "duration": 1,
    "start_time": "2022-09-07T06:33:35.848Z"
   },
   {
    "duration": 0,
    "start_time": "2022-09-07T06:33:35.850Z"
   },
   {
    "duration": 0,
    "start_time": "2022-09-07T06:33:35.852Z"
   },
   {
    "duration": 0,
    "start_time": "2022-09-07T06:33:35.854Z"
   },
   {
    "duration": 0,
    "start_time": "2022-09-07T06:33:35.855Z"
   },
   {
    "duration": 429,
    "start_time": "2022-09-07T06:36:34.833Z"
   },
   {
    "duration": 361,
    "start_time": "2022-09-07T06:36:35.265Z"
   },
   {
    "duration": 11,
    "start_time": "2022-09-07T06:36:35.629Z"
   },
   {
    "duration": 56,
    "start_time": "2022-09-07T06:36:35.641Z"
   },
   {
    "duration": 8,
    "start_time": "2022-09-07T06:36:35.701Z"
   },
   {
    "duration": 37,
    "start_time": "2022-09-07T06:36:35.713Z"
   },
   {
    "duration": 8,
    "start_time": "2022-09-07T06:36:35.752Z"
   },
   {
    "duration": 76,
    "start_time": "2022-09-07T06:36:35.762Z"
   },
   {
    "duration": 44,
    "start_time": "2022-09-07T06:36:35.840Z"
   },
   {
    "duration": 61,
    "start_time": "2022-09-07T06:36:35.887Z"
   },
   {
    "duration": 97,
    "start_time": "2022-09-07T06:36:35.951Z"
   },
   {
    "duration": 96,
    "start_time": "2022-09-07T06:36:36.050Z"
   },
   {
    "duration": 92,
    "start_time": "2022-09-07T06:36:36.148Z"
   },
   {
    "duration": 62,
    "start_time": "2022-09-07T06:36:36.248Z"
   },
   {
    "duration": 5,
    "start_time": "2022-09-07T06:36:36.328Z"
   },
   {
    "duration": 26,
    "start_time": "2022-09-07T06:36:36.335Z"
   },
   {
    "duration": 14,
    "start_time": "2022-09-07T06:36:36.364Z"
   },
   {
    "duration": 27,
    "start_time": "2022-09-07T06:36:36.381Z"
   },
   {
    "duration": 61,
    "start_time": "2022-09-07T06:36:36.412Z"
   },
   {
    "duration": 13,
    "start_time": "2022-09-07T06:36:36.476Z"
   },
   {
    "duration": 48,
    "start_time": "2022-09-07T06:36:36.491Z"
   },
   {
    "duration": 27,
    "start_time": "2022-09-07T06:36:36.542Z"
   },
   {
    "duration": 19,
    "start_time": "2022-09-07T06:36:36.572Z"
   },
   {
    "duration": 61,
    "start_time": "2022-09-07T06:36:36.593Z"
   },
   {
    "duration": 12,
    "start_time": "2022-09-07T06:36:36.656Z"
   },
   {
    "duration": 27,
    "start_time": "2022-09-07T06:36:36.670Z"
   },
   {
    "duration": 44,
    "start_time": "2022-09-07T06:36:36.699Z"
   },
   {
    "duration": 9,
    "start_time": "2022-09-07T06:36:36.749Z"
   },
   {
    "duration": 7,
    "start_time": "2022-09-07T06:36:36.761Z"
   },
   {
    "duration": 223,
    "start_time": "2022-09-07T06:36:36.770Z"
   },
   {
    "duration": 0,
    "start_time": "2022-09-07T06:36:36.995Z"
   },
   {
    "duration": 0,
    "start_time": "2022-09-07T06:36:36.996Z"
   },
   {
    "duration": 0,
    "start_time": "2022-09-07T06:36:36.998Z"
   },
   {
    "duration": 0,
    "start_time": "2022-09-07T06:36:36.999Z"
   },
   {
    "duration": 0,
    "start_time": "2022-09-07T06:36:37.000Z"
   },
   {
    "duration": 0,
    "start_time": "2022-09-07T06:36:37.001Z"
   },
   {
    "duration": 0,
    "start_time": "2022-09-07T06:36:37.003Z"
   },
   {
    "duration": 0,
    "start_time": "2022-09-07T06:36:37.004Z"
   },
   {
    "duration": 443,
    "start_time": "2022-09-07T06:42:18.794Z"
   },
   {
    "duration": 327,
    "start_time": "2022-09-07T06:42:19.241Z"
   },
   {
    "duration": 9,
    "start_time": "2022-09-07T06:42:19.570Z"
   },
   {
    "duration": 60,
    "start_time": "2022-09-07T06:42:19.582Z"
   },
   {
    "duration": 4,
    "start_time": "2022-09-07T06:42:19.647Z"
   },
   {
    "duration": 17,
    "start_time": "2022-09-07T06:42:19.654Z"
   },
   {
    "duration": 5,
    "start_time": "2022-09-07T06:42:19.674Z"
   },
   {
    "duration": 96,
    "start_time": "2022-09-07T06:42:19.681Z"
   },
   {
    "duration": 66,
    "start_time": "2022-09-07T06:42:19.779Z"
   },
   {
    "duration": 22,
    "start_time": "2022-09-07T06:42:19.849Z"
   },
   {
    "duration": 73,
    "start_time": "2022-09-07T06:42:19.872Z"
   },
   {
    "duration": 88,
    "start_time": "2022-09-07T06:42:19.947Z"
   },
   {
    "duration": 71,
    "start_time": "2022-09-07T06:42:20.041Z"
   },
   {
    "duration": 49,
    "start_time": "2022-09-07T06:42:20.115Z"
   },
   {
    "duration": 3,
    "start_time": "2022-09-07T06:42:20.167Z"
   },
   {
    "duration": 105,
    "start_time": "2022-09-07T06:42:20.172Z"
   },
   {
    "duration": 0,
    "start_time": "2022-09-07T06:42:20.279Z"
   },
   {
    "duration": 0,
    "start_time": "2022-09-07T06:42:20.281Z"
   },
   {
    "duration": 0,
    "start_time": "2022-09-07T06:42:20.282Z"
   },
   {
    "duration": 0,
    "start_time": "2022-09-07T06:42:20.283Z"
   },
   {
    "duration": 0,
    "start_time": "2022-09-07T06:42:20.285Z"
   },
   {
    "duration": 0,
    "start_time": "2022-09-07T06:42:20.286Z"
   },
   {
    "duration": 0,
    "start_time": "2022-09-07T06:42:20.286Z"
   },
   {
    "duration": 0,
    "start_time": "2022-09-07T06:42:20.287Z"
   },
   {
    "duration": 0,
    "start_time": "2022-09-07T06:42:20.311Z"
   },
   {
    "duration": 0,
    "start_time": "2022-09-07T06:42:20.312Z"
   },
   {
    "duration": 0,
    "start_time": "2022-09-07T06:42:20.314Z"
   },
   {
    "duration": 0,
    "start_time": "2022-09-07T06:42:20.319Z"
   },
   {
    "duration": 0,
    "start_time": "2022-09-07T06:42:20.321Z"
   },
   {
    "duration": 0,
    "start_time": "2022-09-07T06:42:20.322Z"
   },
   {
    "duration": 0,
    "start_time": "2022-09-07T06:42:20.327Z"
   },
   {
    "duration": 0,
    "start_time": "2022-09-07T06:42:20.328Z"
   },
   {
    "duration": 0,
    "start_time": "2022-09-07T06:42:20.330Z"
   },
   {
    "duration": 0,
    "start_time": "2022-09-07T06:42:20.331Z"
   },
   {
    "duration": 0,
    "start_time": "2022-09-07T06:42:20.333Z"
   },
   {
    "duration": 0,
    "start_time": "2022-09-07T06:42:20.334Z"
   },
   {
    "duration": 0,
    "start_time": "2022-09-07T06:42:20.335Z"
   },
   {
    "duration": 0,
    "start_time": "2022-09-07T06:42:20.337Z"
   },
   {
    "duration": 418,
    "start_time": "2022-09-07T06:42:52.984Z"
   },
   {
    "duration": 314,
    "start_time": "2022-09-07T06:42:53.403Z"
   },
   {
    "duration": 10,
    "start_time": "2022-09-07T06:42:53.720Z"
   },
   {
    "duration": 48,
    "start_time": "2022-09-07T06:42:53.734Z"
   },
   {
    "duration": 16,
    "start_time": "2022-09-07T06:42:53.784Z"
   },
   {
    "duration": 52,
    "start_time": "2022-09-07T06:42:53.802Z"
   },
   {
    "duration": 13,
    "start_time": "2022-09-07T06:42:53.856Z"
   },
   {
    "duration": 50,
    "start_time": "2022-09-07T06:42:53.870Z"
   },
   {
    "duration": 44,
    "start_time": "2022-09-07T06:42:53.923Z"
   },
   {
    "duration": 19,
    "start_time": "2022-09-07T06:42:53.970Z"
   },
   {
    "duration": 86,
    "start_time": "2022-09-07T06:42:53.991Z"
   },
   {
    "duration": 83,
    "start_time": "2022-09-07T06:42:54.078Z"
   },
   {
    "duration": 93,
    "start_time": "2022-09-07T06:42:54.163Z"
   },
   {
    "duration": 81,
    "start_time": "2022-09-07T06:42:54.258Z"
   },
   {
    "duration": 6,
    "start_time": "2022-09-07T06:42:54.347Z"
   },
   {
    "duration": 18,
    "start_time": "2022-09-07T06:42:54.354Z"
   },
   {
    "duration": 62,
    "start_time": "2022-09-07T06:42:54.375Z"
   },
   {
    "duration": 22,
    "start_time": "2022-09-07T06:42:54.439Z"
   },
   {
    "duration": 6,
    "start_time": "2022-09-07T06:42:54.463Z"
   },
   {
    "duration": 4,
    "start_time": "2022-09-07T06:42:54.472Z"
   },
   {
    "duration": 8,
    "start_time": "2022-09-07T06:42:54.478Z"
   },
   {
    "duration": 5,
    "start_time": "2022-09-07T06:42:54.488Z"
   },
   {
    "duration": 7,
    "start_time": "2022-09-07T06:42:54.495Z"
   },
   {
    "duration": 47,
    "start_time": "2022-09-07T06:42:54.507Z"
   },
   {
    "duration": 13,
    "start_time": "2022-09-07T06:42:54.556Z"
   },
   {
    "duration": 8,
    "start_time": "2022-09-07T06:42:54.572Z"
   },
   {
    "duration": 7,
    "start_time": "2022-09-07T06:42:54.582Z"
   },
   {
    "duration": 5,
    "start_time": "2022-09-07T06:42:54.593Z"
   },
   {
    "duration": 7,
    "start_time": "2022-09-07T06:42:54.600Z"
   },
   {
    "duration": 119,
    "start_time": "2022-09-07T06:42:54.618Z"
   },
   {
    "duration": 0,
    "start_time": "2022-09-07T06:42:54.739Z"
   },
   {
    "duration": 0,
    "start_time": "2022-09-07T06:42:54.739Z"
   },
   {
    "duration": 0,
    "start_time": "2022-09-07T06:42:54.740Z"
   },
   {
    "duration": 0,
    "start_time": "2022-09-07T06:42:54.741Z"
   },
   {
    "duration": 0,
    "start_time": "2022-09-07T06:42:54.742Z"
   },
   {
    "duration": 0,
    "start_time": "2022-09-07T06:42:54.747Z"
   },
   {
    "duration": 0,
    "start_time": "2022-09-07T06:42:54.748Z"
   },
   {
    "duration": 0,
    "start_time": "2022-09-07T06:42:54.748Z"
   },
   {
    "duration": 438,
    "start_time": "2022-09-07T06:45:24.549Z"
   },
   {
    "duration": 348,
    "start_time": "2022-09-07T06:45:24.990Z"
   },
   {
    "duration": 7,
    "start_time": "2022-09-07T06:45:25.346Z"
   },
   {
    "duration": 35,
    "start_time": "2022-09-07T06:45:25.355Z"
   },
   {
    "duration": 4,
    "start_time": "2022-09-07T06:45:25.393Z"
   },
   {
    "duration": 46,
    "start_time": "2022-09-07T06:45:25.399Z"
   },
   {
    "duration": 4,
    "start_time": "2022-09-07T06:45:25.447Z"
   },
   {
    "duration": 40,
    "start_time": "2022-09-07T06:45:25.453Z"
   },
   {
    "duration": 53,
    "start_time": "2022-09-07T06:45:25.495Z"
   },
   {
    "duration": 19,
    "start_time": "2022-09-07T06:45:25.550Z"
   },
   {
    "duration": 83,
    "start_time": "2022-09-07T06:45:25.571Z"
   },
   {
    "duration": 89,
    "start_time": "2022-09-07T06:45:25.656Z"
   },
   {
    "duration": 52,
    "start_time": "2022-09-07T06:45:25.746Z"
   },
   {
    "duration": 54,
    "start_time": "2022-09-07T06:45:25.810Z"
   },
   {
    "duration": 3,
    "start_time": "2022-09-07T06:45:25.866Z"
   },
   {
    "duration": 12,
    "start_time": "2022-09-07T06:45:25.870Z"
   },
   {
    "duration": 73,
    "start_time": "2022-09-07T06:45:25.884Z"
   },
   {
    "duration": 11,
    "start_time": "2022-09-07T06:45:25.958Z"
   },
   {
    "duration": 3,
    "start_time": "2022-09-07T06:45:25.970Z"
   },
   {
    "duration": 8,
    "start_time": "2022-09-07T06:45:25.975Z"
   },
   {
    "duration": 30,
    "start_time": "2022-09-07T06:45:25.985Z"
   },
   {
    "duration": 59,
    "start_time": "2022-09-07T06:45:26.026Z"
   },
   {
    "duration": 75,
    "start_time": "2022-09-07T06:45:26.088Z"
   },
   {
    "duration": 16,
    "start_time": "2022-09-07T06:45:26.165Z"
   },
   {
    "duration": 23,
    "start_time": "2022-09-07T06:45:26.183Z"
   },
   {
    "duration": 51,
    "start_time": "2022-09-07T06:45:26.208Z"
   },
   {
    "duration": 22,
    "start_time": "2022-09-07T06:45:26.261Z"
   },
   {
    "duration": 14,
    "start_time": "2022-09-07T06:45:26.285Z"
   },
   {
    "duration": 13,
    "start_time": "2022-09-07T06:45:26.301Z"
   },
   {
    "duration": 126,
    "start_time": "2022-09-07T06:45:26.317Z"
   },
   {
    "duration": 0,
    "start_time": "2022-09-07T06:45:26.445Z"
   },
   {
    "duration": 0,
    "start_time": "2022-09-07T06:45:26.447Z"
   },
   {
    "duration": 0,
    "start_time": "2022-09-07T06:45:26.448Z"
   },
   {
    "duration": 0,
    "start_time": "2022-09-07T06:45:26.450Z"
   },
   {
    "duration": 0,
    "start_time": "2022-09-07T06:45:26.451Z"
   },
   {
    "duration": 0,
    "start_time": "2022-09-07T06:45:26.452Z"
   },
   {
    "duration": 0,
    "start_time": "2022-09-07T06:45:26.453Z"
   },
   {
    "duration": 0,
    "start_time": "2022-09-07T06:45:26.455Z"
   },
   {
    "duration": 475,
    "start_time": "2022-09-07T06:46:08.277Z"
   },
   {
    "duration": 421,
    "start_time": "2022-09-07T06:46:08.760Z"
   },
   {
    "duration": 8,
    "start_time": "2022-09-07T06:46:09.184Z"
   },
   {
    "duration": 49,
    "start_time": "2022-09-07T06:46:09.195Z"
   },
   {
    "duration": 8,
    "start_time": "2022-09-07T06:46:09.247Z"
   },
   {
    "duration": 16,
    "start_time": "2022-09-07T06:46:09.256Z"
   },
   {
    "duration": 10,
    "start_time": "2022-09-07T06:46:09.274Z"
   },
   {
    "duration": 99,
    "start_time": "2022-09-07T06:46:09.286Z"
   },
   {
    "duration": 80,
    "start_time": "2022-09-07T06:46:09.387Z"
   },
   {
    "duration": 28,
    "start_time": "2022-09-07T06:46:09.472Z"
   },
   {
    "duration": 82,
    "start_time": "2022-09-07T06:46:09.502Z"
   },
   {
    "duration": 94,
    "start_time": "2022-09-07T06:46:09.586Z"
   },
   {
    "duration": 99,
    "start_time": "2022-09-07T06:46:09.682Z"
   },
   {
    "duration": 82,
    "start_time": "2022-09-07T06:46:09.782Z"
   },
   {
    "duration": 6,
    "start_time": "2022-09-07T06:46:09.867Z"
   },
   {
    "duration": 16,
    "start_time": "2022-09-07T06:46:09.875Z"
   },
   {
    "duration": 59,
    "start_time": "2022-09-07T06:46:09.892Z"
   },
   {
    "duration": 12,
    "start_time": "2022-09-07T06:46:09.953Z"
   },
   {
    "duration": 11,
    "start_time": "2022-09-07T06:46:09.967Z"
   },
   {
    "duration": 2,
    "start_time": "2022-09-07T06:46:09.980Z"
   },
   {
    "duration": 6,
    "start_time": "2022-09-07T06:46:10.007Z"
   },
   {
    "duration": 35,
    "start_time": "2022-09-07T06:46:10.015Z"
   },
   {
    "duration": 10,
    "start_time": "2022-09-07T06:46:10.052Z"
   },
   {
    "duration": 8,
    "start_time": "2022-09-07T06:46:10.064Z"
   },
   {
    "duration": 5,
    "start_time": "2022-09-07T06:46:10.074Z"
   },
   {
    "duration": 4,
    "start_time": "2022-09-07T06:46:10.081Z"
   },
   {
    "duration": 3,
    "start_time": "2022-09-07T06:46:10.091Z"
   },
   {
    "duration": 4,
    "start_time": "2022-09-07T06:46:10.097Z"
   },
   {
    "duration": 45,
    "start_time": "2022-09-07T06:46:10.103Z"
   },
   {
    "duration": 158,
    "start_time": "2022-09-07T06:46:10.149Z"
   },
   {
    "duration": 0,
    "start_time": "2022-09-07T06:46:10.309Z"
   },
   {
    "duration": 0,
    "start_time": "2022-09-07T06:46:10.310Z"
   },
   {
    "duration": 0,
    "start_time": "2022-09-07T06:46:10.311Z"
   },
   {
    "duration": 0,
    "start_time": "2022-09-07T06:46:10.311Z"
   },
   {
    "duration": 0,
    "start_time": "2022-09-07T06:46:10.312Z"
   },
   {
    "duration": 0,
    "start_time": "2022-09-07T06:46:10.313Z"
   },
   {
    "duration": 0,
    "start_time": "2022-09-07T06:46:10.313Z"
   },
   {
    "duration": 0,
    "start_time": "2022-09-07T06:46:10.314Z"
   },
   {
    "duration": 454,
    "start_time": "2022-09-07T07:09:08.604Z"
   },
   {
    "duration": 322,
    "start_time": "2022-09-07T07:09:09.060Z"
   },
   {
    "duration": 6,
    "start_time": "2022-09-07T07:09:09.384Z"
   },
   {
    "duration": 84,
    "start_time": "2022-09-07T07:09:09.392Z"
   },
   {
    "duration": 4,
    "start_time": "2022-09-07T07:09:09.478Z"
   },
   {
    "duration": 14,
    "start_time": "2022-09-07T07:09:09.483Z"
   },
   {
    "duration": 49,
    "start_time": "2022-09-07T07:09:09.499Z"
   },
   {
    "duration": 42,
    "start_time": "2022-09-07T07:09:09.550Z"
   },
   {
    "duration": 62,
    "start_time": "2022-09-07T07:09:09.594Z"
   },
   {
    "duration": 20,
    "start_time": "2022-09-07T07:09:09.660Z"
   },
   {
    "duration": 87,
    "start_time": "2022-09-07T07:09:09.682Z"
   },
   {
    "duration": 84,
    "start_time": "2022-09-07T07:09:09.771Z"
   },
   {
    "duration": 77,
    "start_time": "2022-09-07T07:09:09.857Z"
   },
   {
    "duration": 38,
    "start_time": "2022-09-07T07:09:09.941Z"
   },
   {
    "duration": 3,
    "start_time": "2022-09-07T07:09:09.981Z"
   },
   {
    "duration": 27,
    "start_time": "2022-09-07T07:09:09.986Z"
   },
   {
    "duration": 78,
    "start_time": "2022-09-07T07:09:10.015Z"
   },
   {
    "duration": 12,
    "start_time": "2022-09-07T07:09:10.095Z"
   },
   {
    "duration": 63,
    "start_time": "2022-09-07T07:09:10.108Z"
   },
   {
    "duration": 111,
    "start_time": "2022-09-07T07:09:10.174Z"
   },
   {
    "duration": 0,
    "start_time": "2022-09-07T07:09:10.288Z"
   },
   {
    "duration": 0,
    "start_time": "2022-09-07T07:09:10.289Z"
   },
   {
    "duration": 0,
    "start_time": "2022-09-07T07:09:10.290Z"
   },
   {
    "duration": 0,
    "start_time": "2022-09-07T07:09:10.292Z"
   },
   {
    "duration": 0,
    "start_time": "2022-09-07T07:09:10.294Z"
   },
   {
    "duration": 0,
    "start_time": "2022-09-07T07:09:10.295Z"
   },
   {
    "duration": 0,
    "start_time": "2022-09-07T07:09:10.297Z"
   },
   {
    "duration": 0,
    "start_time": "2022-09-07T07:09:10.298Z"
   },
   {
    "duration": 0,
    "start_time": "2022-09-07T07:09:10.300Z"
   },
   {
    "duration": 0,
    "start_time": "2022-09-07T07:09:10.302Z"
   },
   {
    "duration": 0,
    "start_time": "2022-09-07T07:09:10.304Z"
   },
   {
    "duration": 0,
    "start_time": "2022-09-07T07:09:10.306Z"
   },
   {
    "duration": 0,
    "start_time": "2022-09-07T07:09:10.307Z"
   },
   {
    "duration": 0,
    "start_time": "2022-09-07T07:09:10.309Z"
   },
   {
    "duration": 0,
    "start_time": "2022-09-07T07:09:10.310Z"
   },
   {
    "duration": 0,
    "start_time": "2022-09-07T07:09:10.314Z"
   },
   {
    "duration": 0,
    "start_time": "2022-09-07T07:09:10.315Z"
   },
   {
    "duration": 0,
    "start_time": "2022-09-07T07:09:10.317Z"
   },
   {
    "duration": 386,
    "start_time": "2022-09-07T07:09:22.380Z"
   },
   {
    "duration": 322,
    "start_time": "2022-09-07T07:09:22.768Z"
   },
   {
    "duration": 6,
    "start_time": "2022-09-07T07:09:23.092Z"
   },
   {
    "duration": 76,
    "start_time": "2022-09-07T07:09:23.108Z"
   },
   {
    "duration": 14,
    "start_time": "2022-09-07T07:09:23.186Z"
   },
   {
    "duration": 72,
    "start_time": "2022-09-07T07:09:23.201Z"
   },
   {
    "duration": 27,
    "start_time": "2022-09-07T07:09:23.275Z"
   },
   {
    "duration": 89,
    "start_time": "2022-09-07T07:09:23.303Z"
   },
   {
    "duration": 57,
    "start_time": "2022-09-07T07:09:23.394Z"
   },
   {
    "duration": 34,
    "start_time": "2022-09-07T07:09:23.457Z"
   },
   {
    "duration": 82,
    "start_time": "2022-09-07T07:09:23.493Z"
   },
   {
    "duration": 71,
    "start_time": "2022-09-07T07:09:23.577Z"
   },
   {
    "duration": 62,
    "start_time": "2022-09-07T07:09:23.649Z"
   },
   {
    "duration": 47,
    "start_time": "2022-09-07T07:09:23.714Z"
   },
   {
    "duration": 3,
    "start_time": "2022-09-07T07:09:23.763Z"
   },
   {
    "duration": 35,
    "start_time": "2022-09-07T07:09:23.768Z"
   },
   {
    "duration": 72,
    "start_time": "2022-09-07T07:09:23.805Z"
   },
   {
    "duration": 19,
    "start_time": "2022-09-07T07:09:23.879Z"
   },
   {
    "duration": 17,
    "start_time": "2022-09-07T07:09:23.900Z"
   },
   {
    "duration": 47,
    "start_time": "2022-09-07T07:09:23.919Z"
   },
   {
    "duration": 1686,
    "start_time": "2022-09-07T07:09:23.968Z"
   },
   {
    "duration": 0,
    "start_time": "2022-09-07T07:09:25.656Z"
   },
   {
    "duration": 0,
    "start_time": "2022-09-07T07:09:25.659Z"
   },
   {
    "duration": 0,
    "start_time": "2022-09-07T07:09:25.660Z"
   },
   {
    "duration": 0,
    "start_time": "2022-09-07T07:09:25.661Z"
   },
   {
    "duration": 0,
    "start_time": "2022-09-07T07:09:25.663Z"
   },
   {
    "duration": 0,
    "start_time": "2022-09-07T07:09:25.664Z"
   },
   {
    "duration": 0,
    "start_time": "2022-09-07T07:09:25.665Z"
   },
   {
    "duration": 0,
    "start_time": "2022-09-07T07:09:25.666Z"
   },
   {
    "duration": 0,
    "start_time": "2022-09-07T07:09:25.667Z"
   },
   {
    "duration": 0,
    "start_time": "2022-09-07T07:09:25.669Z"
   },
   {
    "duration": 0,
    "start_time": "2022-09-07T07:09:25.670Z"
   },
   {
    "duration": 0,
    "start_time": "2022-09-07T07:09:25.671Z"
   },
   {
    "duration": 0,
    "start_time": "2022-09-07T07:09:25.672Z"
   },
   {
    "duration": 0,
    "start_time": "2022-09-07T07:09:25.672Z"
   },
   {
    "duration": 0,
    "start_time": "2022-09-07T07:09:25.673Z"
   },
   {
    "duration": 0,
    "start_time": "2022-09-07T07:09:25.674Z"
   },
   {
    "duration": 0,
    "start_time": "2022-09-07T07:09:25.676Z"
   },
   {
    "duration": 403,
    "start_time": "2022-09-07T07:15:58.295Z"
   },
   {
    "duration": 342,
    "start_time": "2022-09-07T07:15:58.700Z"
   },
   {
    "duration": 10,
    "start_time": "2022-09-07T07:15:59.047Z"
   },
   {
    "duration": 28,
    "start_time": "2022-09-07T07:15:59.059Z"
   },
   {
    "duration": 3,
    "start_time": "2022-09-07T07:15:59.089Z"
   },
   {
    "duration": 24,
    "start_time": "2022-09-07T07:15:59.093Z"
   },
   {
    "duration": 31,
    "start_time": "2022-09-07T07:15:59.124Z"
   },
   {
    "duration": 53,
    "start_time": "2022-09-07T07:15:59.157Z"
   },
   {
    "duration": 46,
    "start_time": "2022-09-07T07:15:59.212Z"
   },
   {
    "duration": 21,
    "start_time": "2022-09-07T07:15:59.261Z"
   },
   {
    "duration": 84,
    "start_time": "2022-09-07T07:15:59.283Z"
   },
   {
    "duration": 74,
    "start_time": "2022-09-07T07:15:59.369Z"
   },
   {
    "duration": 69,
    "start_time": "2022-09-07T07:15:59.452Z"
   },
   {
    "duration": 43,
    "start_time": "2022-09-07T07:15:59.526Z"
   },
   {
    "duration": 3,
    "start_time": "2022-09-07T07:15:59.571Z"
   },
   {
    "duration": 12,
    "start_time": "2022-09-07T07:15:59.575Z"
   },
   {
    "duration": 48,
    "start_time": "2022-09-07T07:15:59.589Z"
   },
   {
    "duration": 12,
    "start_time": "2022-09-07T07:15:59.639Z"
   },
   {
    "duration": 12,
    "start_time": "2022-09-07T07:15:59.653Z"
   },
   {
    "duration": 4,
    "start_time": "2022-09-07T07:15:59.666Z"
   },
   {
    "duration": 2695,
    "start_time": "2022-09-07T07:15:59.672Z"
   },
   {
    "duration": 0,
    "start_time": "2022-09-07T07:16:02.370Z"
   },
   {
    "duration": 0,
    "start_time": "2022-09-07T07:16:02.371Z"
   },
   {
    "duration": 0,
    "start_time": "2022-09-07T07:16:02.372Z"
   },
   {
    "duration": 0,
    "start_time": "2022-09-07T07:16:02.374Z"
   },
   {
    "duration": 1,
    "start_time": "2022-09-07T07:16:02.375Z"
   },
   {
    "duration": 0,
    "start_time": "2022-09-07T07:16:02.377Z"
   },
   {
    "duration": 0,
    "start_time": "2022-09-07T07:16:02.378Z"
   },
   {
    "duration": 0,
    "start_time": "2022-09-07T07:16:02.379Z"
   },
   {
    "duration": 0,
    "start_time": "2022-09-07T07:16:02.380Z"
   },
   {
    "duration": 0,
    "start_time": "2022-09-07T07:16:02.381Z"
   },
   {
    "duration": 0,
    "start_time": "2022-09-07T07:16:02.382Z"
   },
   {
    "duration": 0,
    "start_time": "2022-09-07T07:16:02.383Z"
   },
   {
    "duration": 0,
    "start_time": "2022-09-07T07:16:02.384Z"
   },
   {
    "duration": 0,
    "start_time": "2022-09-07T07:16:02.385Z"
   },
   {
    "duration": 0,
    "start_time": "2022-09-07T07:16:02.386Z"
   },
   {
    "duration": 0,
    "start_time": "2022-09-07T07:16:02.388Z"
   },
   {
    "duration": 0,
    "start_time": "2022-09-07T07:16:02.389Z"
   },
   {
    "duration": 408,
    "start_time": "2022-09-07T07:16:42.888Z"
   },
   {
    "duration": 349,
    "start_time": "2022-09-07T07:16:43.298Z"
   },
   {
    "duration": 7,
    "start_time": "2022-09-07T07:16:43.651Z"
   },
   {
    "duration": 47,
    "start_time": "2022-09-07T07:16:43.660Z"
   },
   {
    "duration": 33,
    "start_time": "2022-09-07T07:16:43.716Z"
   },
   {
    "duration": 46,
    "start_time": "2022-09-07T07:16:43.751Z"
   },
   {
    "duration": 47,
    "start_time": "2022-09-07T07:16:43.799Z"
   },
   {
    "duration": 81,
    "start_time": "2022-09-07T07:16:43.847Z"
   },
   {
    "duration": 56,
    "start_time": "2022-09-07T07:16:43.931Z"
   },
   {
    "duration": 24,
    "start_time": "2022-09-07T07:16:43.990Z"
   },
   {
    "duration": 122,
    "start_time": "2022-09-07T07:16:44.016Z"
   },
   {
    "duration": 66,
    "start_time": "2022-09-07T07:16:44.147Z"
   },
   {
    "duration": 59,
    "start_time": "2022-09-07T07:16:44.215Z"
   },
   {
    "duration": 43,
    "start_time": "2022-09-07T07:16:44.276Z"
   },
   {
    "duration": 21,
    "start_time": "2022-09-07T07:16:44.325Z"
   },
   {
    "duration": 25,
    "start_time": "2022-09-07T07:16:44.347Z"
   },
   {
    "duration": 36,
    "start_time": "2022-09-07T07:16:44.373Z"
   },
   {
    "duration": 14,
    "start_time": "2022-09-07T07:16:44.410Z"
   },
   {
    "duration": 31,
    "start_time": "2022-09-07T07:16:44.426Z"
   },
   {
    "duration": 3,
    "start_time": "2022-09-07T07:16:44.459Z"
   },
   {
    "duration": 500,
    "start_time": "2022-09-07T07:16:44.463Z"
   },
   {
    "duration": 1,
    "start_time": "2022-09-07T07:16:44.964Z"
   },
   {
    "duration": 0,
    "start_time": "2022-09-07T07:16:44.966Z"
   },
   {
    "duration": 0,
    "start_time": "2022-09-07T07:16:44.967Z"
   },
   {
    "duration": 0,
    "start_time": "2022-09-07T07:16:44.968Z"
   },
   {
    "duration": 0,
    "start_time": "2022-09-07T07:16:44.969Z"
   },
   {
    "duration": 0,
    "start_time": "2022-09-07T07:16:44.969Z"
   },
   {
    "duration": 0,
    "start_time": "2022-09-07T07:16:44.970Z"
   },
   {
    "duration": 0,
    "start_time": "2022-09-07T07:16:44.971Z"
   },
   {
    "duration": 0,
    "start_time": "2022-09-07T07:16:44.972Z"
   },
   {
    "duration": 0,
    "start_time": "2022-09-07T07:16:44.973Z"
   },
   {
    "duration": 0,
    "start_time": "2022-09-07T07:16:44.974Z"
   },
   {
    "duration": 0,
    "start_time": "2022-09-07T07:16:44.975Z"
   },
   {
    "duration": 0,
    "start_time": "2022-09-07T07:16:44.975Z"
   },
   {
    "duration": 0,
    "start_time": "2022-09-07T07:16:44.977Z"
   },
   {
    "duration": 0,
    "start_time": "2022-09-07T07:16:44.978Z"
   },
   {
    "duration": 0,
    "start_time": "2022-09-07T07:16:44.979Z"
   },
   {
    "duration": 0,
    "start_time": "2022-09-07T07:16:44.980Z"
   },
   {
    "duration": 407,
    "start_time": "2022-09-07T07:17:07.102Z"
   },
   {
    "duration": 330,
    "start_time": "2022-09-07T07:17:07.520Z"
   },
   {
    "duration": 7,
    "start_time": "2022-09-07T07:17:07.851Z"
   },
   {
    "duration": 30,
    "start_time": "2022-09-07T07:17:07.860Z"
   },
   {
    "duration": 3,
    "start_time": "2022-09-07T07:17:07.893Z"
   },
   {
    "duration": 25,
    "start_time": "2022-09-07T07:17:07.912Z"
   },
   {
    "duration": 9,
    "start_time": "2022-09-07T07:17:07.946Z"
   },
   {
    "duration": 39,
    "start_time": "2022-09-07T07:17:07.957Z"
   },
   {
    "duration": 55,
    "start_time": "2022-09-07T07:17:07.997Z"
   },
   {
    "duration": 24,
    "start_time": "2022-09-07T07:17:08.054Z"
   },
   {
    "duration": 79,
    "start_time": "2022-09-07T07:17:08.080Z"
   },
   {
    "duration": 70,
    "start_time": "2022-09-07T07:17:08.160Z"
   },
   {
    "duration": 57,
    "start_time": "2022-09-07T07:17:08.242Z"
   },
   {
    "duration": 58,
    "start_time": "2022-09-07T07:17:08.302Z"
   },
   {
    "duration": 3,
    "start_time": "2022-09-07T07:17:08.362Z"
   },
   {
    "duration": 13,
    "start_time": "2022-09-07T07:17:08.366Z"
   },
   {
    "duration": 64,
    "start_time": "2022-09-07T07:17:08.381Z"
   },
   {
    "duration": 12,
    "start_time": "2022-09-07T07:17:08.447Z"
   },
   {
    "duration": 11,
    "start_time": "2022-09-07T07:17:08.461Z"
   },
   {
    "duration": 4,
    "start_time": "2022-09-07T07:17:08.473Z"
   },
   {
    "duration": 563,
    "start_time": "2022-09-07T07:17:08.478Z"
   },
   {
    "duration": 0,
    "start_time": "2022-09-07T07:17:09.043Z"
   },
   {
    "duration": 0,
    "start_time": "2022-09-07T07:17:09.044Z"
   },
   {
    "duration": 0,
    "start_time": "2022-09-07T07:17:09.046Z"
   },
   {
    "duration": 0,
    "start_time": "2022-09-07T07:17:09.047Z"
   },
   {
    "duration": 0,
    "start_time": "2022-09-07T07:17:09.048Z"
   },
   {
    "duration": 0,
    "start_time": "2022-09-07T07:17:09.049Z"
   },
   {
    "duration": 0,
    "start_time": "2022-09-07T07:17:09.050Z"
   },
   {
    "duration": 0,
    "start_time": "2022-09-07T07:17:09.050Z"
   },
   {
    "duration": 0,
    "start_time": "2022-09-07T07:17:09.051Z"
   },
   {
    "duration": 0,
    "start_time": "2022-09-07T07:17:09.052Z"
   },
   {
    "duration": 0,
    "start_time": "2022-09-07T07:17:09.053Z"
   },
   {
    "duration": 0,
    "start_time": "2022-09-07T07:17:09.055Z"
   },
   {
    "duration": 0,
    "start_time": "2022-09-07T07:17:09.056Z"
   },
   {
    "duration": 0,
    "start_time": "2022-09-07T07:17:09.057Z"
   },
   {
    "duration": 0,
    "start_time": "2022-09-07T07:17:09.058Z"
   },
   {
    "duration": 0,
    "start_time": "2022-09-07T07:17:09.059Z"
   },
   {
    "duration": 0,
    "start_time": "2022-09-07T07:17:09.060Z"
   },
   {
    "duration": 393,
    "start_time": "2022-09-07T07:17:37.429Z"
   },
   {
    "duration": 300,
    "start_time": "2022-09-07T07:17:37.829Z"
   },
   {
    "duration": 7,
    "start_time": "2022-09-07T07:17:38.131Z"
   },
   {
    "duration": 43,
    "start_time": "2022-09-07T07:17:38.140Z"
   },
   {
    "duration": 3,
    "start_time": "2022-09-07T07:17:38.184Z"
   },
   {
    "duration": 14,
    "start_time": "2022-09-07T07:17:38.189Z"
   },
   {
    "duration": 47,
    "start_time": "2022-09-07T07:17:38.204Z"
   },
   {
    "duration": 41,
    "start_time": "2022-09-07T07:17:38.253Z"
   },
   {
    "duration": 58,
    "start_time": "2022-09-07T07:17:38.296Z"
   },
   {
    "duration": 26,
    "start_time": "2022-09-07T07:17:38.360Z"
   },
   {
    "duration": 70,
    "start_time": "2022-09-07T07:17:38.388Z"
   },
   {
    "duration": 90,
    "start_time": "2022-09-07T07:17:38.460Z"
   },
   {
    "duration": 63,
    "start_time": "2022-09-07T07:17:38.554Z"
   },
   {
    "duration": 53,
    "start_time": "2022-09-07T07:17:38.626Z"
   },
   {
    "duration": 3,
    "start_time": "2022-09-07T07:17:38.681Z"
   },
   {
    "duration": 13,
    "start_time": "2022-09-07T07:17:38.686Z"
   },
   {
    "duration": 56,
    "start_time": "2022-09-07T07:17:38.701Z"
   },
   {
    "duration": 11,
    "start_time": "2022-09-07T07:17:38.759Z"
   },
   {
    "duration": 10,
    "start_time": "2022-09-07T07:17:38.772Z"
   },
   {
    "duration": 110,
    "start_time": "2022-09-07T07:17:38.784Z"
   },
   {
    "duration": 0,
    "start_time": "2022-09-07T07:17:38.896Z"
   },
   {
    "duration": 0,
    "start_time": "2022-09-07T07:17:38.897Z"
   },
   {
    "duration": 0,
    "start_time": "2022-09-07T07:17:38.899Z"
   },
   {
    "duration": 0,
    "start_time": "2022-09-07T07:17:38.900Z"
   },
   {
    "duration": 0,
    "start_time": "2022-09-07T07:17:38.901Z"
   },
   {
    "duration": 0,
    "start_time": "2022-09-07T07:17:38.902Z"
   },
   {
    "duration": 0,
    "start_time": "2022-09-07T07:17:38.904Z"
   },
   {
    "duration": 0,
    "start_time": "2022-09-07T07:17:38.905Z"
   },
   {
    "duration": 0,
    "start_time": "2022-09-07T07:17:38.905Z"
   },
   {
    "duration": 0,
    "start_time": "2022-09-07T07:17:38.906Z"
   },
   {
    "duration": 0,
    "start_time": "2022-09-07T07:17:38.911Z"
   },
   {
    "duration": 0,
    "start_time": "2022-09-07T07:17:38.911Z"
   },
   {
    "duration": 0,
    "start_time": "2022-09-07T07:17:38.912Z"
   },
   {
    "duration": 0,
    "start_time": "2022-09-07T07:17:38.912Z"
   },
   {
    "duration": 0,
    "start_time": "2022-09-07T07:17:38.913Z"
   },
   {
    "duration": 0,
    "start_time": "2022-09-07T07:17:38.914Z"
   },
   {
    "duration": 0,
    "start_time": "2022-09-07T07:17:38.914Z"
   },
   {
    "duration": 0,
    "start_time": "2022-09-07T07:17:38.922Z"
   },
   {
    "duration": 449,
    "start_time": "2022-09-07T07:17:52.999Z"
   },
   {
    "duration": 323,
    "start_time": "2022-09-07T07:17:53.450Z"
   },
   {
    "duration": 6,
    "start_time": "2022-09-07T07:17:53.774Z"
   },
   {
    "duration": 40,
    "start_time": "2022-09-07T07:17:53.783Z"
   },
   {
    "duration": 38,
    "start_time": "2022-09-07T07:17:53.825Z"
   },
   {
    "duration": 17,
    "start_time": "2022-09-07T07:17:53.865Z"
   },
   {
    "duration": 13,
    "start_time": "2022-09-07T07:17:53.883Z"
   },
   {
    "duration": 68,
    "start_time": "2022-09-07T07:17:53.898Z"
   },
   {
    "duration": 35,
    "start_time": "2022-09-07T07:17:53.968Z"
   },
   {
    "duration": 38,
    "start_time": "2022-09-07T07:17:54.007Z"
   },
   {
    "duration": 91,
    "start_time": "2022-09-07T07:17:54.049Z"
   },
   {
    "duration": 68,
    "start_time": "2022-09-07T07:17:54.145Z"
   },
   {
    "duration": 65,
    "start_time": "2022-09-07T07:17:54.218Z"
   },
   {
    "duration": 57,
    "start_time": "2022-09-07T07:17:54.284Z"
   },
   {
    "duration": 11,
    "start_time": "2022-09-07T07:17:54.343Z"
   },
   {
    "duration": 23,
    "start_time": "2022-09-07T07:17:54.356Z"
   },
   {
    "duration": 43,
    "start_time": "2022-09-07T07:17:54.381Z"
   },
   {
    "duration": 41,
    "start_time": "2022-09-07T07:17:54.432Z"
   },
   {
    "duration": 13,
    "start_time": "2022-09-07T07:17:54.474Z"
   },
   {
    "duration": 172,
    "start_time": "2022-09-07T07:17:54.489Z"
   },
   {
    "duration": 0,
    "start_time": "2022-09-07T07:17:54.663Z"
   },
   {
    "duration": 0,
    "start_time": "2022-09-07T07:17:54.665Z"
   },
   {
    "duration": 0,
    "start_time": "2022-09-07T07:17:54.666Z"
   },
   {
    "duration": 0,
    "start_time": "2022-09-07T07:17:54.667Z"
   },
   {
    "duration": 0,
    "start_time": "2022-09-07T07:17:54.668Z"
   },
   {
    "duration": 0,
    "start_time": "2022-09-07T07:17:54.669Z"
   },
   {
    "duration": 0,
    "start_time": "2022-09-07T07:17:54.671Z"
   },
   {
    "duration": 0,
    "start_time": "2022-09-07T07:17:54.672Z"
   },
   {
    "duration": 0,
    "start_time": "2022-09-07T07:17:54.673Z"
   },
   {
    "duration": 0,
    "start_time": "2022-09-07T07:17:54.674Z"
   },
   {
    "duration": 0,
    "start_time": "2022-09-07T07:17:54.675Z"
   },
   {
    "duration": 0,
    "start_time": "2022-09-07T07:17:54.676Z"
   },
   {
    "duration": 0,
    "start_time": "2022-09-07T07:17:54.677Z"
   },
   {
    "duration": 0,
    "start_time": "2022-09-07T07:17:54.678Z"
   },
   {
    "duration": 0,
    "start_time": "2022-09-07T07:17:54.679Z"
   },
   {
    "duration": 0,
    "start_time": "2022-09-07T07:17:54.680Z"
   },
   {
    "duration": 0,
    "start_time": "2022-09-07T07:17:54.681Z"
   },
   {
    "duration": 0,
    "start_time": "2022-09-07T07:17:54.682Z"
   },
   {
    "duration": 405,
    "start_time": "2022-09-07T07:20:18.587Z"
   },
   {
    "duration": 297,
    "start_time": "2022-09-07T07:20:18.994Z"
   },
   {
    "duration": 6,
    "start_time": "2022-09-07T07:20:19.293Z"
   },
   {
    "duration": 54,
    "start_time": "2022-09-07T07:20:19.305Z"
   },
   {
    "duration": 3,
    "start_time": "2022-09-07T07:20:19.361Z"
   },
   {
    "duration": 16,
    "start_time": "2022-09-07T07:20:19.366Z"
   },
   {
    "duration": 6,
    "start_time": "2022-09-07T07:20:19.384Z"
   },
   {
    "duration": 56,
    "start_time": "2022-09-07T07:20:19.392Z"
   },
   {
    "duration": 37,
    "start_time": "2022-09-07T07:20:19.450Z"
   },
   {
    "duration": 41,
    "start_time": "2022-09-07T07:20:19.491Z"
   },
   {
    "duration": 67,
    "start_time": "2022-09-07T07:20:19.534Z"
   },
   {
    "duration": 74,
    "start_time": "2022-09-07T07:20:19.603Z"
   },
   {
    "duration": 78,
    "start_time": "2022-09-07T07:20:19.679Z"
   },
   {
    "duration": 54,
    "start_time": "2022-09-07T07:20:19.759Z"
   },
   {
    "duration": 10,
    "start_time": "2022-09-07T07:20:19.817Z"
   },
   {
    "duration": 27,
    "start_time": "2022-09-07T07:20:19.828Z"
   },
   {
    "duration": 63,
    "start_time": "2022-09-07T07:20:19.857Z"
   },
   {
    "duration": 15,
    "start_time": "2022-09-07T07:20:19.922Z"
   },
   {
    "duration": 11,
    "start_time": "2022-09-07T07:20:19.938Z"
   },
   {
    "duration": 4,
    "start_time": "2022-09-07T07:20:19.951Z"
   },
   {
    "duration": 1818,
    "start_time": "2022-09-07T07:20:19.956Z"
   },
   {
    "duration": 0,
    "start_time": "2022-09-07T07:20:21.777Z"
   },
   {
    "duration": 0,
    "start_time": "2022-09-07T07:20:21.778Z"
   },
   {
    "duration": 0,
    "start_time": "2022-09-07T07:20:21.779Z"
   },
   {
    "duration": 0,
    "start_time": "2022-09-07T07:20:21.780Z"
   },
   {
    "duration": 0,
    "start_time": "2022-09-07T07:20:21.781Z"
   },
   {
    "duration": 0,
    "start_time": "2022-09-07T07:20:21.782Z"
   },
   {
    "duration": 0,
    "start_time": "2022-09-07T07:20:21.782Z"
   },
   {
    "duration": 0,
    "start_time": "2022-09-07T07:20:21.783Z"
   },
   {
    "duration": 0,
    "start_time": "2022-09-07T07:20:21.784Z"
   },
   {
    "duration": 0,
    "start_time": "2022-09-07T07:20:21.785Z"
   },
   {
    "duration": 0,
    "start_time": "2022-09-07T07:20:21.786Z"
   },
   {
    "duration": 0,
    "start_time": "2022-09-07T07:20:21.787Z"
   },
   {
    "duration": 0,
    "start_time": "2022-09-07T07:20:21.788Z"
   },
   {
    "duration": 0,
    "start_time": "2022-09-07T07:20:21.789Z"
   },
   {
    "duration": 0,
    "start_time": "2022-09-07T07:20:21.790Z"
   },
   {
    "duration": 0,
    "start_time": "2022-09-07T07:20:21.791Z"
   },
   {
    "duration": 0,
    "start_time": "2022-09-07T07:20:21.792Z"
   },
   {
    "duration": 417,
    "start_time": "2022-09-07T07:37:48.803Z"
   },
   {
    "duration": 277,
    "start_time": "2022-09-07T07:37:49.226Z"
   },
   {
    "duration": 14,
    "start_time": "2022-09-07T07:37:49.505Z"
   },
   {
    "duration": 31,
    "start_time": "2022-09-07T07:37:49.530Z"
   },
   {
    "duration": 4,
    "start_time": "2022-09-07T07:37:49.562Z"
   },
   {
    "duration": 17,
    "start_time": "2022-09-07T07:37:49.567Z"
   },
   {
    "duration": 5,
    "start_time": "2022-09-07T07:37:49.585Z"
   },
   {
    "duration": 55,
    "start_time": "2022-09-07T07:37:49.591Z"
   },
   {
    "duration": 37,
    "start_time": "2022-09-07T07:37:49.648Z"
   },
   {
    "duration": 39,
    "start_time": "2022-09-07T07:37:49.688Z"
   },
   {
    "duration": 77,
    "start_time": "2022-09-07T07:37:49.728Z"
   },
   {
    "duration": 63,
    "start_time": "2022-09-07T07:37:49.814Z"
   },
   {
    "duration": 66,
    "start_time": "2022-09-07T07:37:49.879Z"
   },
   {
    "duration": 33,
    "start_time": "2022-09-07T07:37:49.947Z"
   },
   {
    "duration": 3,
    "start_time": "2022-09-07T07:37:49.982Z"
   },
   {
    "duration": 33,
    "start_time": "2022-09-07T07:37:49.986Z"
   },
   {
    "duration": 53,
    "start_time": "2022-09-07T07:37:50.021Z"
   },
   {
    "duration": 10,
    "start_time": "2022-09-07T07:37:50.076Z"
   },
   {
    "duration": 11,
    "start_time": "2022-09-07T07:37:50.088Z"
   },
   {
    "duration": 8,
    "start_time": "2022-09-07T07:37:50.111Z"
   },
   {
    "duration": 29,
    "start_time": "2022-09-07T07:37:50.120Z"
   },
   {
    "duration": 4,
    "start_time": "2022-09-07T07:37:50.151Z"
   },
   {
    "duration": 4,
    "start_time": "2022-09-07T07:37:50.156Z"
   },
   {
    "duration": 5,
    "start_time": "2022-09-07T07:37:50.162Z"
   },
   {
    "duration": 5,
    "start_time": "2022-09-07T07:37:50.168Z"
   },
   {
    "duration": 5,
    "start_time": "2022-09-07T07:37:50.175Z"
   },
   {
    "duration": 84,
    "start_time": "2022-09-07T07:37:50.181Z"
   },
   {
    "duration": 0,
    "start_time": "2022-09-07T07:37:50.267Z"
   },
   {
    "duration": 0,
    "start_time": "2022-09-07T07:37:50.268Z"
   },
   {
    "duration": 0,
    "start_time": "2022-09-07T07:37:50.269Z"
   },
   {
    "duration": 0,
    "start_time": "2022-09-07T07:37:50.270Z"
   },
   {
    "duration": 0,
    "start_time": "2022-09-07T07:37:50.271Z"
   },
   {
    "duration": 0,
    "start_time": "2022-09-07T07:37:50.272Z"
   },
   {
    "duration": 0,
    "start_time": "2022-09-07T07:37:50.273Z"
   },
   {
    "duration": 0,
    "start_time": "2022-09-07T07:37:50.275Z"
   },
   {
    "duration": 0,
    "start_time": "2022-09-07T07:37:50.276Z"
   },
   {
    "duration": 0,
    "start_time": "2022-09-07T07:37:50.277Z"
   },
   {
    "duration": 0,
    "start_time": "2022-09-07T07:37:50.277Z"
   },
   {
    "duration": 403,
    "start_time": "2022-09-07T07:39:45.489Z"
   },
   {
    "duration": 367,
    "start_time": "2022-09-07T07:39:45.894Z"
   },
   {
    "duration": 7,
    "start_time": "2022-09-07T07:39:46.263Z"
   },
   {
    "duration": 64,
    "start_time": "2022-09-07T07:39:46.272Z"
   },
   {
    "duration": 17,
    "start_time": "2022-09-07T07:39:46.341Z"
   },
   {
    "duration": 31,
    "start_time": "2022-09-07T07:39:46.360Z"
   },
   {
    "duration": 41,
    "start_time": "2022-09-07T07:39:46.393Z"
   },
   {
    "duration": 60,
    "start_time": "2022-09-07T07:39:46.435Z"
   },
   {
    "duration": 51,
    "start_time": "2022-09-07T07:39:46.497Z"
   },
   {
    "duration": 46,
    "start_time": "2022-09-07T07:39:46.549Z"
   },
   {
    "duration": 90,
    "start_time": "2022-09-07T07:39:46.597Z"
   },
   {
    "duration": 71,
    "start_time": "2022-09-07T07:39:46.689Z"
   },
   {
    "duration": 70,
    "start_time": "2022-09-07T07:39:46.762Z"
   },
   {
    "duration": 34,
    "start_time": "2022-09-07T07:39:46.838Z"
   },
   {
    "duration": 5,
    "start_time": "2022-09-07T07:39:46.873Z"
   },
   {
    "duration": 15,
    "start_time": "2022-09-07T07:39:46.880Z"
   },
   {
    "duration": 64,
    "start_time": "2022-09-07T07:39:46.897Z"
   },
   {
    "duration": 22,
    "start_time": "2022-09-07T07:39:46.963Z"
   },
   {
    "duration": 18,
    "start_time": "2022-09-07T07:39:46.986Z"
   },
   {
    "duration": 35,
    "start_time": "2022-09-07T07:39:47.007Z"
   },
   {
    "duration": 27,
    "start_time": "2022-09-07T07:39:47.044Z"
   },
   {
    "duration": 10,
    "start_time": "2022-09-07T07:39:47.072Z"
   },
   {
    "duration": 50,
    "start_time": "2022-09-07T07:39:47.083Z"
   },
   {
    "duration": 17,
    "start_time": "2022-09-07T07:39:47.134Z"
   },
   {
    "duration": 12,
    "start_time": "2022-09-07T07:39:47.152Z"
   },
   {
    "duration": 11,
    "start_time": "2022-09-07T07:39:47.166Z"
   },
   {
    "duration": 87,
    "start_time": "2022-09-07T07:39:47.178Z"
   },
   {
    "duration": 0,
    "start_time": "2022-09-07T07:39:47.266Z"
   },
   {
    "duration": 0,
    "start_time": "2022-09-07T07:39:47.268Z"
   },
   {
    "duration": 0,
    "start_time": "2022-09-07T07:39:47.269Z"
   },
   {
    "duration": 0,
    "start_time": "2022-09-07T07:39:47.271Z"
   },
   {
    "duration": 0,
    "start_time": "2022-09-07T07:39:47.272Z"
   },
   {
    "duration": 0,
    "start_time": "2022-09-07T07:39:47.273Z"
   },
   {
    "duration": 0,
    "start_time": "2022-09-07T07:39:47.275Z"
   },
   {
    "duration": 0,
    "start_time": "2022-09-07T07:39:47.276Z"
   },
   {
    "duration": 0,
    "start_time": "2022-09-07T07:39:47.277Z"
   },
   {
    "duration": 0,
    "start_time": "2022-09-07T07:39:47.278Z"
   },
   {
    "duration": 0,
    "start_time": "2022-09-07T07:39:47.280Z"
   },
   {
    "duration": 363,
    "start_time": "2022-09-07T07:42:12.661Z"
   },
   {
    "duration": 287,
    "start_time": "2022-09-07T07:42:13.026Z"
   },
   {
    "duration": 17,
    "start_time": "2022-09-07T07:42:13.314Z"
   },
   {
    "duration": 26,
    "start_time": "2022-09-07T07:42:13.333Z"
   },
   {
    "duration": 5,
    "start_time": "2022-09-07T07:42:13.360Z"
   },
   {
    "duration": 14,
    "start_time": "2022-09-07T07:42:13.366Z"
   },
   {
    "duration": 11,
    "start_time": "2022-09-07T07:42:13.382Z"
   },
   {
    "duration": 54,
    "start_time": "2022-09-07T07:42:13.394Z"
   },
   {
    "duration": 34,
    "start_time": "2022-09-07T07:42:13.449Z"
   },
   {
    "duration": 47,
    "start_time": "2022-09-07T07:42:13.487Z"
   },
   {
    "duration": 59,
    "start_time": "2022-09-07T07:42:13.538Z"
   },
   {
    "duration": 68,
    "start_time": "2022-09-07T07:42:13.599Z"
   },
   {
    "duration": 70,
    "start_time": "2022-09-07T07:42:13.669Z"
   },
   {
    "duration": 34,
    "start_time": "2022-09-07T07:42:13.740Z"
   },
   {
    "duration": 3,
    "start_time": "2022-09-07T07:42:13.776Z"
   },
   {
    "duration": 36,
    "start_time": "2022-09-07T07:42:13.780Z"
   },
   {
    "duration": 36,
    "start_time": "2022-09-07T07:42:13.822Z"
   },
   {
    "duration": 11,
    "start_time": "2022-09-07T07:42:13.860Z"
   },
   {
    "duration": 11,
    "start_time": "2022-09-07T07:42:13.873Z"
   },
   {
    "duration": 4,
    "start_time": "2022-09-07T07:42:13.886Z"
   },
   {
    "duration": 26,
    "start_time": "2022-09-07T07:42:13.891Z"
   },
   {
    "duration": 29,
    "start_time": "2022-09-07T07:42:13.918Z"
   },
   {
    "duration": 12,
    "start_time": "2022-09-07T07:42:13.948Z"
   },
   {
    "duration": 12,
    "start_time": "2022-09-07T07:42:13.961Z"
   },
   {
    "duration": 14,
    "start_time": "2022-09-07T07:42:13.974Z"
   },
   {
    "duration": 29,
    "start_time": "2022-09-07T07:42:13.990Z"
   },
   {
    "duration": 79,
    "start_time": "2022-09-07T07:42:14.021Z"
   },
   {
    "duration": 0,
    "start_time": "2022-09-07T07:42:14.102Z"
   },
   {
    "duration": 0,
    "start_time": "2022-09-07T07:42:14.103Z"
   },
   {
    "duration": 0,
    "start_time": "2022-09-07T07:42:14.105Z"
   },
   {
    "duration": 0,
    "start_time": "2022-09-07T07:42:14.109Z"
   },
   {
    "duration": 0,
    "start_time": "2022-09-07T07:42:14.110Z"
   },
   {
    "duration": 0,
    "start_time": "2022-09-07T07:42:14.111Z"
   },
   {
    "duration": 0,
    "start_time": "2022-09-07T07:42:14.111Z"
   },
   {
    "duration": 0,
    "start_time": "2022-09-07T07:42:14.114Z"
   },
   {
    "duration": 0,
    "start_time": "2022-09-07T07:42:14.115Z"
   },
   {
    "duration": 0,
    "start_time": "2022-09-07T07:42:14.115Z"
   },
   {
    "duration": 0,
    "start_time": "2022-09-07T07:42:14.116Z"
   },
   {
    "duration": 436,
    "start_time": "2022-09-07T07:43:48.031Z"
   },
   {
    "duration": 340,
    "start_time": "2022-09-07T07:43:48.469Z"
   },
   {
    "duration": 9,
    "start_time": "2022-09-07T07:43:48.810Z"
   },
   {
    "duration": 58,
    "start_time": "2022-09-07T07:43:48.821Z"
   },
   {
    "duration": 9,
    "start_time": "2022-09-07T07:43:48.881Z"
   },
   {
    "duration": 27,
    "start_time": "2022-09-07T07:43:48.891Z"
   },
   {
    "duration": 39,
    "start_time": "2022-09-07T07:43:48.920Z"
   },
   {
    "duration": 90,
    "start_time": "2022-09-07T07:43:48.961Z"
   },
   {
    "duration": 46,
    "start_time": "2022-09-07T07:43:49.054Z"
   },
   {
    "duration": 32,
    "start_time": "2022-09-07T07:43:49.102Z"
   },
   {
    "duration": 84,
    "start_time": "2022-09-07T07:43:49.135Z"
   },
   {
    "duration": 97,
    "start_time": "2022-09-07T07:43:49.224Z"
   },
   {
    "duration": 61,
    "start_time": "2022-09-07T07:43:49.324Z"
   },
   {
    "duration": 60,
    "start_time": "2022-09-07T07:43:49.387Z"
   },
   {
    "duration": 12,
    "start_time": "2022-09-07T07:43:49.449Z"
   },
   {
    "duration": 12,
    "start_time": "2022-09-07T07:43:49.463Z"
   },
   {
    "duration": 55,
    "start_time": "2022-09-07T07:43:49.476Z"
   },
   {
    "duration": 19,
    "start_time": "2022-09-07T07:43:49.533Z"
   },
   {
    "duration": 20,
    "start_time": "2022-09-07T07:43:49.557Z"
   },
   {
    "duration": 5,
    "start_time": "2022-09-07T07:43:49.579Z"
   },
   {
    "duration": 26,
    "start_time": "2022-09-07T07:43:49.585Z"
   },
   {
    "duration": 38,
    "start_time": "2022-09-07T07:43:49.624Z"
   },
   {
    "duration": 13,
    "start_time": "2022-09-07T07:43:49.664Z"
   },
   {
    "duration": 12,
    "start_time": "2022-09-07T07:43:49.679Z"
   },
   {
    "duration": 24,
    "start_time": "2022-09-07T07:43:49.693Z"
   },
   {
    "duration": 40,
    "start_time": "2022-09-07T07:43:49.724Z"
   },
   {
    "duration": 85,
    "start_time": "2022-09-07T07:43:49.766Z"
   },
   {
    "duration": 0,
    "start_time": "2022-09-07T07:43:49.854Z"
   },
   {
    "duration": 0,
    "start_time": "2022-09-07T07:43:49.854Z"
   },
   {
    "duration": 0,
    "start_time": "2022-09-07T07:43:49.857Z"
   },
   {
    "duration": 0,
    "start_time": "2022-09-07T07:43:49.858Z"
   },
   {
    "duration": 0,
    "start_time": "2022-09-07T07:43:49.859Z"
   },
   {
    "duration": 0,
    "start_time": "2022-09-07T07:43:49.860Z"
   },
   {
    "duration": 0,
    "start_time": "2022-09-07T07:43:49.861Z"
   },
   {
    "duration": 0,
    "start_time": "2022-09-07T07:43:49.862Z"
   },
   {
    "duration": 0,
    "start_time": "2022-09-07T07:43:49.864Z"
   },
   {
    "duration": 0,
    "start_time": "2022-09-07T07:43:49.865Z"
   },
   {
    "duration": 0,
    "start_time": "2022-09-07T07:43:49.866Z"
   },
   {
    "duration": 403,
    "start_time": "2022-09-07T07:45:17.898Z"
   },
   {
    "duration": 324,
    "start_time": "2022-09-07T07:45:18.303Z"
   },
   {
    "duration": 7,
    "start_time": "2022-09-07T07:45:18.631Z"
   },
   {
    "duration": 29,
    "start_time": "2022-09-07T07:45:18.640Z"
   },
   {
    "duration": 3,
    "start_time": "2022-09-07T07:45:18.670Z"
   },
   {
    "duration": 15,
    "start_time": "2022-09-07T07:45:18.675Z"
   },
   {
    "duration": 6,
    "start_time": "2022-09-07T07:45:18.692Z"
   },
   {
    "duration": 56,
    "start_time": "2022-09-07T07:45:18.700Z"
   },
   {
    "duration": 58,
    "start_time": "2022-09-07T07:45:18.757Z"
   },
   {
    "duration": 26,
    "start_time": "2022-09-07T07:45:18.822Z"
   },
   {
    "duration": 75,
    "start_time": "2022-09-07T07:45:18.850Z"
   },
   {
    "duration": 60,
    "start_time": "2022-09-07T07:45:18.929Z"
   },
   {
    "duration": 75,
    "start_time": "2022-09-07T07:45:18.991Z"
   },
   {
    "duration": 32,
    "start_time": "2022-09-07T07:45:19.068Z"
   },
   {
    "duration": 15,
    "start_time": "2022-09-07T07:45:19.102Z"
   },
   {
    "duration": 20,
    "start_time": "2022-09-07T07:45:19.124Z"
   },
   {
    "duration": 30,
    "start_time": "2022-09-07T07:45:19.146Z"
   },
   {
    "duration": 10,
    "start_time": "2022-09-07T07:45:19.177Z"
   },
   {
    "duration": 13,
    "start_time": "2022-09-07T07:45:19.188Z"
   },
   {
    "duration": 4,
    "start_time": "2022-09-07T07:45:19.202Z"
   },
   {
    "duration": 37,
    "start_time": "2022-09-07T07:45:19.215Z"
   },
   {
    "duration": 14,
    "start_time": "2022-09-07T07:45:19.253Z"
   },
   {
    "duration": 13,
    "start_time": "2022-09-07T07:45:19.269Z"
   },
   {
    "duration": 15,
    "start_time": "2022-09-07T07:45:19.283Z"
   },
   {
    "duration": 26,
    "start_time": "2022-09-07T07:45:19.299Z"
   },
   {
    "duration": 16,
    "start_time": "2022-09-07T07:45:19.333Z"
   },
   {
    "duration": 79,
    "start_time": "2022-09-07T07:45:19.350Z"
   },
   {
    "duration": 0,
    "start_time": "2022-09-07T07:45:19.435Z"
   },
   {
    "duration": 0,
    "start_time": "2022-09-07T07:45:19.436Z"
   },
   {
    "duration": 0,
    "start_time": "2022-09-07T07:45:19.437Z"
   },
   {
    "duration": 0,
    "start_time": "2022-09-07T07:45:19.438Z"
   },
   {
    "duration": 0,
    "start_time": "2022-09-07T07:45:19.439Z"
   },
   {
    "duration": 0,
    "start_time": "2022-09-07T07:45:19.440Z"
   },
   {
    "duration": 1,
    "start_time": "2022-09-07T07:45:19.441Z"
   },
   {
    "duration": 0,
    "start_time": "2022-09-07T07:45:19.442Z"
   },
   {
    "duration": 0,
    "start_time": "2022-09-07T07:45:19.443Z"
   },
   {
    "duration": 0,
    "start_time": "2022-09-07T07:45:19.444Z"
   },
   {
    "duration": 0,
    "start_time": "2022-09-07T07:45:19.445Z"
   },
   {
    "duration": 363,
    "start_time": "2022-09-07T07:47:00.969Z"
   },
   {
    "duration": 295,
    "start_time": "2022-09-07T07:47:01.336Z"
   },
   {
    "duration": 7,
    "start_time": "2022-09-07T07:47:01.634Z"
   },
   {
    "duration": 91,
    "start_time": "2022-09-07T07:47:01.643Z"
   },
   {
    "duration": 18,
    "start_time": "2022-09-07T07:47:01.735Z"
   },
   {
    "duration": 27,
    "start_time": "2022-09-07T07:47:01.755Z"
   },
   {
    "duration": 19,
    "start_time": "2022-09-07T07:47:01.784Z"
   },
   {
    "duration": 81,
    "start_time": "2022-09-07T07:47:01.804Z"
   },
   {
    "duration": 49,
    "start_time": "2022-09-07T07:47:01.887Z"
   },
   {
    "duration": 19,
    "start_time": "2022-09-07T07:47:01.940Z"
   },
   {
    "duration": 85,
    "start_time": "2022-09-07T07:47:01.961Z"
   },
   {
    "duration": 87,
    "start_time": "2022-09-07T07:47:02.048Z"
   },
   {
    "duration": 56,
    "start_time": "2022-09-07T07:47:02.137Z"
   },
   {
    "duration": 47,
    "start_time": "2022-09-07T07:47:02.194Z"
   },
   {
    "duration": 41,
    "start_time": "2022-09-07T07:47:02.243Z"
   },
   {
    "duration": 13,
    "start_time": "2022-09-07T07:47:02.286Z"
   },
   {
    "duration": 43,
    "start_time": "2022-09-07T07:47:02.301Z"
   },
   {
    "duration": 10,
    "start_time": "2022-09-07T07:47:02.346Z"
   },
   {
    "duration": 13,
    "start_time": "2022-09-07T07:47:02.357Z"
   },
   {
    "duration": 3,
    "start_time": "2022-09-07T07:47:02.372Z"
   },
   {
    "duration": 36,
    "start_time": "2022-09-07T07:47:02.376Z"
   },
   {
    "duration": 26,
    "start_time": "2022-09-07T07:47:02.417Z"
   },
   {
    "duration": 34,
    "start_time": "2022-09-07T07:47:02.445Z"
   },
   {
    "duration": 34,
    "start_time": "2022-09-07T07:47:02.481Z"
   },
   {
    "duration": 35,
    "start_time": "2022-09-07T07:47:02.516Z"
   },
   {
    "duration": 12,
    "start_time": "2022-09-07T07:47:02.552Z"
   },
   {
    "duration": 81,
    "start_time": "2022-09-07T07:47:02.565Z"
   },
   {
    "duration": 0,
    "start_time": "2022-09-07T07:47:02.648Z"
   },
   {
    "duration": 0,
    "start_time": "2022-09-07T07:47:02.649Z"
   },
   {
    "duration": 0,
    "start_time": "2022-09-07T07:47:02.650Z"
   },
   {
    "duration": 0,
    "start_time": "2022-09-07T07:47:02.651Z"
   },
   {
    "duration": 0,
    "start_time": "2022-09-07T07:47:02.652Z"
   },
   {
    "duration": 0,
    "start_time": "2022-09-07T07:47:02.653Z"
   },
   {
    "duration": 0,
    "start_time": "2022-09-07T07:47:02.654Z"
   },
   {
    "duration": 0,
    "start_time": "2022-09-07T07:47:02.654Z"
   },
   {
    "duration": 0,
    "start_time": "2022-09-07T07:47:02.655Z"
   },
   {
    "duration": 0,
    "start_time": "2022-09-07T07:47:02.656Z"
   },
   {
    "duration": 1,
    "start_time": "2022-09-07T07:47:02.656Z"
   },
   {
    "duration": 395,
    "start_time": "2022-09-07T07:52:57.072Z"
   },
   {
    "duration": 324,
    "start_time": "2022-09-07T07:52:57.469Z"
   },
   {
    "duration": 23,
    "start_time": "2022-09-07T07:52:57.794Z"
   },
   {
    "duration": 49,
    "start_time": "2022-09-07T07:52:57.819Z"
   },
   {
    "duration": 3,
    "start_time": "2022-09-07T07:52:57.871Z"
   },
   {
    "duration": 17,
    "start_time": "2022-09-07T07:52:57.876Z"
   },
   {
    "duration": 11,
    "start_time": "2022-09-07T07:52:57.895Z"
   },
   {
    "duration": 76,
    "start_time": "2022-09-07T07:52:57.910Z"
   },
   {
    "duration": 51,
    "start_time": "2022-09-07T07:52:57.988Z"
   },
   {
    "duration": 24,
    "start_time": "2022-09-07T07:52:58.042Z"
   },
   {
    "duration": 85,
    "start_time": "2022-09-07T07:52:58.068Z"
   },
   {
    "duration": 88,
    "start_time": "2022-09-07T07:52:58.156Z"
   },
   {
    "duration": 79,
    "start_time": "2022-09-07T07:52:58.245Z"
   },
   {
    "duration": 41,
    "start_time": "2022-09-07T07:52:58.326Z"
   },
   {
    "duration": 5,
    "start_time": "2022-09-07T07:52:58.369Z"
   },
   {
    "duration": 17,
    "start_time": "2022-09-07T07:52:58.376Z"
   },
   {
    "duration": 57,
    "start_time": "2022-09-07T07:52:58.395Z"
   },
   {
    "duration": 11,
    "start_time": "2022-09-07T07:52:58.453Z"
   },
   {
    "duration": 10,
    "start_time": "2022-09-07T07:52:58.466Z"
   },
   {
    "duration": 28,
    "start_time": "2022-09-07T07:52:58.478Z"
   },
   {
    "duration": 22,
    "start_time": "2022-09-07T07:52:58.508Z"
   },
   {
    "duration": 18,
    "start_time": "2022-09-07T07:52:58.532Z"
   },
   {
    "duration": 13,
    "start_time": "2022-09-07T07:52:58.551Z"
   },
   {
    "duration": 15,
    "start_time": "2022-09-07T07:52:58.566Z"
   },
   {
    "duration": 39,
    "start_time": "2022-09-07T07:52:58.583Z"
   },
   {
    "duration": 15,
    "start_time": "2022-09-07T07:52:58.624Z"
   },
   {
    "duration": 93,
    "start_time": "2022-09-07T07:52:58.640Z"
   },
   {
    "duration": 0,
    "start_time": "2022-09-07T07:52:58.735Z"
   },
   {
    "duration": 0,
    "start_time": "2022-09-07T07:52:58.736Z"
   },
   {
    "duration": 0,
    "start_time": "2022-09-07T07:52:58.737Z"
   },
   {
    "duration": 0,
    "start_time": "2022-09-07T07:52:58.738Z"
   },
   {
    "duration": 0,
    "start_time": "2022-09-07T07:52:58.740Z"
   },
   {
    "duration": 0,
    "start_time": "2022-09-07T07:52:58.741Z"
   },
   {
    "duration": 0,
    "start_time": "2022-09-07T07:52:58.742Z"
   },
   {
    "duration": 0,
    "start_time": "2022-09-07T07:52:58.743Z"
   },
   {
    "duration": 0,
    "start_time": "2022-09-07T07:52:58.744Z"
   },
   {
    "duration": 0,
    "start_time": "2022-09-07T07:52:58.745Z"
   },
   {
    "duration": 0,
    "start_time": "2022-09-07T07:52:58.746Z"
   },
   {
    "duration": 409,
    "start_time": "2022-09-07T07:53:25.378Z"
   },
   {
    "duration": 372,
    "start_time": "2022-09-07T07:53:25.789Z"
   },
   {
    "duration": 9,
    "start_time": "2022-09-07T07:53:26.163Z"
   },
   {
    "duration": 43,
    "start_time": "2022-09-07T07:53:26.173Z"
   },
   {
    "duration": 25,
    "start_time": "2022-09-07T07:53:26.221Z"
   },
   {
    "duration": 14,
    "start_time": "2022-09-07T07:53:26.253Z"
   },
   {
    "duration": 9,
    "start_time": "2022-09-07T07:53:26.269Z"
   },
   {
    "duration": 75,
    "start_time": "2022-09-07T07:53:26.280Z"
   },
   {
    "duration": 44,
    "start_time": "2022-09-07T07:53:26.358Z"
   },
   {
    "duration": 34,
    "start_time": "2022-09-07T07:53:26.406Z"
   },
   {
    "duration": 92,
    "start_time": "2022-09-07T07:53:26.442Z"
   },
   {
    "duration": 82,
    "start_time": "2022-09-07T07:53:26.536Z"
   },
   {
    "duration": 60,
    "start_time": "2022-09-07T07:53:26.623Z"
   },
   {
    "duration": 55,
    "start_time": "2022-09-07T07:53:26.685Z"
   },
   {
    "duration": 9,
    "start_time": "2022-09-07T07:53:26.742Z"
   },
   {
    "duration": 12,
    "start_time": "2022-09-07T07:53:26.752Z"
   },
   {
    "duration": 33,
    "start_time": "2022-09-07T07:53:26.765Z"
   },
   {
    "duration": 22,
    "start_time": "2022-09-07T07:53:26.808Z"
   },
   {
    "duration": 29,
    "start_time": "2022-09-07T07:53:26.832Z"
   },
   {
    "duration": 3,
    "start_time": "2022-09-07T07:53:26.862Z"
   },
   {
    "duration": 19,
    "start_time": "2022-09-07T07:53:26.867Z"
   },
   {
    "duration": 12,
    "start_time": "2022-09-07T07:53:26.887Z"
   },
   {
    "duration": 28,
    "start_time": "2022-09-07T07:53:26.900Z"
   },
   {
    "duration": 26,
    "start_time": "2022-09-07T07:53:26.930Z"
   },
   {
    "duration": 14,
    "start_time": "2022-09-07T07:53:26.957Z"
   },
   {
    "duration": 12,
    "start_time": "2022-09-07T07:53:26.972Z"
   },
   {
    "duration": 85,
    "start_time": "2022-09-07T07:53:26.986Z"
   },
   {
    "duration": 0,
    "start_time": "2022-09-07T07:53:27.073Z"
   },
   {
    "duration": 0,
    "start_time": "2022-09-07T07:53:27.074Z"
   },
   {
    "duration": 0,
    "start_time": "2022-09-07T07:53:27.075Z"
   },
   {
    "duration": 0,
    "start_time": "2022-09-07T07:53:27.076Z"
   },
   {
    "duration": 0,
    "start_time": "2022-09-07T07:53:27.077Z"
   },
   {
    "duration": 0,
    "start_time": "2022-09-07T07:53:27.077Z"
   },
   {
    "duration": 0,
    "start_time": "2022-09-07T07:53:27.078Z"
   },
   {
    "duration": 0,
    "start_time": "2022-09-07T07:53:27.079Z"
   },
   {
    "duration": 0,
    "start_time": "2022-09-07T07:53:27.080Z"
   },
   {
    "duration": 0,
    "start_time": "2022-09-07T07:53:27.082Z"
   },
   {
    "duration": 0,
    "start_time": "2022-09-07T07:53:27.082Z"
   },
   {
    "duration": 439,
    "start_time": "2022-09-07T07:56:27.601Z"
   },
   {
    "duration": 297,
    "start_time": "2022-09-07T07:56:28.042Z"
   },
   {
    "duration": 7,
    "start_time": "2022-09-07T07:56:28.340Z"
   },
   {
    "duration": 47,
    "start_time": "2022-09-07T07:56:28.348Z"
   },
   {
    "duration": 30,
    "start_time": "2022-09-07T07:56:28.396Z"
   },
   {
    "duration": 23,
    "start_time": "2022-09-07T07:56:28.434Z"
   },
   {
    "duration": 19,
    "start_time": "2022-09-07T07:56:28.458Z"
   },
   {
    "duration": 64,
    "start_time": "2022-09-07T07:56:28.478Z"
   },
   {
    "duration": 36,
    "start_time": "2022-09-07T07:56:28.544Z"
   },
   {
    "duration": 38,
    "start_time": "2022-09-07T07:56:28.584Z"
   },
   {
    "duration": 67,
    "start_time": "2022-09-07T07:56:28.625Z"
   },
   {
    "duration": 71,
    "start_time": "2022-09-07T07:56:28.694Z"
   },
   {
    "duration": 68,
    "start_time": "2022-09-07T07:56:28.767Z"
   },
   {
    "duration": 35,
    "start_time": "2022-09-07T07:56:28.837Z"
   },
   {
    "duration": 3,
    "start_time": "2022-09-07T07:56:28.874Z"
   },
   {
    "duration": 29,
    "start_time": "2022-09-07T07:56:28.878Z"
   },
   {
    "duration": 61,
    "start_time": "2022-09-07T07:56:28.908Z"
   },
   {
    "duration": 14,
    "start_time": "2022-09-07T07:56:28.970Z"
   },
   {
    "duration": 39,
    "start_time": "2022-09-07T07:56:28.985Z"
   },
   {
    "duration": 11,
    "start_time": "2022-09-07T07:56:29.030Z"
   },
   {
    "duration": 33,
    "start_time": "2022-09-07T07:56:29.042Z"
   },
   {
    "duration": 22,
    "start_time": "2022-09-07T07:56:29.077Z"
   },
   {
    "duration": 42,
    "start_time": "2022-09-07T07:56:29.100Z"
   },
   {
    "duration": 27,
    "start_time": "2022-09-07T07:56:29.144Z"
   },
   {
    "duration": 33,
    "start_time": "2022-09-07T07:56:29.173Z"
   },
   {
    "duration": 38,
    "start_time": "2022-09-07T07:56:29.210Z"
   },
   {
    "duration": 81,
    "start_time": "2022-09-07T07:56:29.250Z"
   },
   {
    "duration": 0,
    "start_time": "2022-09-07T07:56:29.333Z"
   },
   {
    "duration": 0,
    "start_time": "2022-09-07T07:56:29.334Z"
   },
   {
    "duration": 0,
    "start_time": "2022-09-07T07:56:29.336Z"
   },
   {
    "duration": 0,
    "start_time": "2022-09-07T07:56:29.337Z"
   },
   {
    "duration": 0,
    "start_time": "2022-09-07T07:56:29.338Z"
   },
   {
    "duration": 0,
    "start_time": "2022-09-07T07:56:29.339Z"
   },
   {
    "duration": 0,
    "start_time": "2022-09-07T07:56:29.340Z"
   },
   {
    "duration": 0,
    "start_time": "2022-09-07T07:56:29.341Z"
   },
   {
    "duration": 0,
    "start_time": "2022-09-07T07:56:29.342Z"
   },
   {
    "duration": 0,
    "start_time": "2022-09-07T07:56:29.343Z"
   },
   {
    "duration": 0,
    "start_time": "2022-09-07T07:56:29.344Z"
   },
   {
    "duration": 442,
    "start_time": "2022-09-07T08:18:09.098Z"
   },
   {
    "duration": 330,
    "start_time": "2022-09-07T08:18:09.543Z"
   },
   {
    "duration": 6,
    "start_time": "2022-09-07T08:18:09.875Z"
   },
   {
    "duration": 49,
    "start_time": "2022-09-07T08:18:09.884Z"
   },
   {
    "duration": 4,
    "start_time": "2022-09-07T08:18:09.935Z"
   },
   {
    "duration": 14,
    "start_time": "2022-09-07T08:18:09.941Z"
   },
   {
    "duration": 6,
    "start_time": "2022-09-07T08:18:09.957Z"
   },
   {
    "duration": 69,
    "start_time": "2022-09-07T08:18:09.964Z"
   },
   {
    "duration": 45,
    "start_time": "2022-09-07T08:18:10.036Z"
   },
   {
    "duration": 39,
    "start_time": "2022-09-07T08:18:10.085Z"
   },
   {
    "duration": 66,
    "start_time": "2022-09-07T08:18:10.134Z"
   },
   {
    "duration": 76,
    "start_time": "2022-09-07T08:18:10.201Z"
   },
   {
    "duration": 74,
    "start_time": "2022-09-07T08:18:10.279Z"
   },
   {
    "duration": 36,
    "start_time": "2022-09-07T08:18:10.354Z"
   },
   {
    "duration": 29,
    "start_time": "2022-09-07T08:18:10.392Z"
   },
   {
    "duration": 31,
    "start_time": "2022-09-07T08:18:10.423Z"
   },
   {
    "duration": 38,
    "start_time": "2022-09-07T08:18:10.456Z"
   },
   {
    "duration": 23,
    "start_time": "2022-09-07T08:18:10.496Z"
   },
   {
    "duration": 18,
    "start_time": "2022-09-07T08:18:10.526Z"
   },
   {
    "duration": 4,
    "start_time": "2022-09-07T08:18:10.545Z"
   },
   {
    "duration": 21,
    "start_time": "2022-09-07T08:18:10.551Z"
   },
   {
    "duration": 14,
    "start_time": "2022-09-07T08:18:10.574Z"
   },
   {
    "duration": 23,
    "start_time": "2022-09-07T08:18:10.590Z"
   },
   {
    "duration": 24,
    "start_time": "2022-09-07T08:18:10.615Z"
   },
   {
    "duration": 17,
    "start_time": "2022-09-07T08:18:10.640Z"
   },
   {
    "duration": 14,
    "start_time": "2022-09-07T08:18:10.659Z"
   },
   {
    "duration": 8,
    "start_time": "2022-09-07T08:18:10.674Z"
   },
   {
    "duration": 3,
    "start_time": "2022-09-07T08:18:10.685Z"
   },
   {
    "duration": 14,
    "start_time": "2022-09-07T08:18:10.706Z"
   },
   {
    "duration": 74,
    "start_time": "2022-09-07T08:18:10.727Z"
   },
   {
    "duration": 0,
    "start_time": "2022-09-07T08:18:10.802Z"
   },
   {
    "duration": 0,
    "start_time": "2022-09-07T08:18:10.803Z"
   },
   {
    "duration": 0,
    "start_time": "2022-09-07T08:18:10.814Z"
   },
   {
    "duration": 0,
    "start_time": "2022-09-07T08:18:10.815Z"
   },
   {
    "duration": 0,
    "start_time": "2022-09-07T08:18:10.815Z"
   },
   {
    "duration": 0,
    "start_time": "2022-09-07T08:18:10.816Z"
   },
   {
    "duration": 0,
    "start_time": "2022-09-07T08:18:10.817Z"
   },
   {
    "duration": 0,
    "start_time": "2022-09-07T08:18:10.818Z"
   },
   {
    "duration": 375,
    "start_time": "2022-09-07T08:21:20.372Z"
   },
   {
    "duration": 294,
    "start_time": "2022-09-07T08:21:20.749Z"
   },
   {
    "duration": 6,
    "start_time": "2022-09-07T08:21:21.045Z"
   },
   {
    "duration": 26,
    "start_time": "2022-09-07T08:21:21.053Z"
   },
   {
    "duration": 3,
    "start_time": "2022-09-07T08:21:21.081Z"
   },
   {
    "duration": 38,
    "start_time": "2022-09-07T08:21:21.085Z"
   },
   {
    "duration": 16,
    "start_time": "2022-09-07T08:21:21.125Z"
   },
   {
    "duration": 43,
    "start_time": "2022-09-07T08:21:21.143Z"
   },
   {
    "duration": 42,
    "start_time": "2022-09-07T08:21:21.187Z"
   },
   {
    "duration": 23,
    "start_time": "2022-09-07T08:21:21.233Z"
   },
   {
    "duration": 74,
    "start_time": "2022-09-07T08:21:21.258Z"
   },
   {
    "duration": 60,
    "start_time": "2022-09-07T08:21:21.334Z"
   },
   {
    "duration": 65,
    "start_time": "2022-09-07T08:21:21.395Z"
   },
   {
    "duration": 56,
    "start_time": "2022-09-07T08:21:21.461Z"
   },
   {
    "duration": 6,
    "start_time": "2022-09-07T08:21:21.521Z"
   },
   {
    "duration": 13,
    "start_time": "2022-09-07T08:21:21.530Z"
   },
   {
    "duration": 32,
    "start_time": "2022-09-07T08:21:21.544Z"
   },
   {
    "duration": 11,
    "start_time": "2022-09-07T08:21:21.578Z"
   },
   {
    "duration": 33,
    "start_time": "2022-09-07T08:21:21.591Z"
   },
   {
    "duration": 4,
    "start_time": "2022-09-07T08:21:21.626Z"
   },
   {
    "duration": 15,
    "start_time": "2022-09-07T08:21:21.634Z"
   },
   {
    "duration": 15,
    "start_time": "2022-09-07T08:21:21.650Z"
   },
   {
    "duration": 16,
    "start_time": "2022-09-07T08:21:21.667Z"
   },
   {
    "duration": 12,
    "start_time": "2022-09-07T08:21:21.684Z"
   },
   {
    "duration": 30,
    "start_time": "2022-09-07T08:21:21.698Z"
   },
   {
    "duration": 26,
    "start_time": "2022-09-07T08:21:21.730Z"
   },
   {
    "duration": 12,
    "start_time": "2022-09-07T08:21:21.757Z"
   },
   {
    "duration": 19,
    "start_time": "2022-09-07T08:21:21.771Z"
   },
   {
    "duration": 25,
    "start_time": "2022-09-07T08:21:21.792Z"
   },
   {
    "duration": 91,
    "start_time": "2022-09-07T08:21:21.818Z"
   },
   {
    "duration": 1,
    "start_time": "2022-09-07T08:21:21.910Z"
   },
   {
    "duration": 0,
    "start_time": "2022-09-07T08:21:21.911Z"
   },
   {
    "duration": 0,
    "start_time": "2022-09-07T08:21:21.912Z"
   },
   {
    "duration": 0,
    "start_time": "2022-09-07T08:21:21.912Z"
   },
   {
    "duration": 0,
    "start_time": "2022-09-07T08:21:21.915Z"
   },
   {
    "duration": 0,
    "start_time": "2022-09-07T08:21:21.917Z"
   },
   {
    "duration": 0,
    "start_time": "2022-09-07T08:21:21.919Z"
   },
   {
    "duration": 0,
    "start_time": "2022-09-07T08:21:21.920Z"
   },
   {
    "duration": 356,
    "start_time": "2022-09-07T08:29:45.164Z"
   },
   {
    "duration": 304,
    "start_time": "2022-09-07T08:29:45.522Z"
   },
   {
    "duration": 7,
    "start_time": "2022-09-07T08:29:45.829Z"
   },
   {
    "duration": 34,
    "start_time": "2022-09-07T08:29:45.838Z"
   },
   {
    "duration": 3,
    "start_time": "2022-09-07T08:29:45.873Z"
   },
   {
    "duration": 16,
    "start_time": "2022-09-07T08:29:45.877Z"
   },
   {
    "duration": 6,
    "start_time": "2022-09-07T08:29:45.895Z"
   },
   {
    "duration": 69,
    "start_time": "2022-09-07T08:29:45.902Z"
   },
   {
    "duration": 52,
    "start_time": "2022-09-07T08:29:45.972Z"
   },
   {
    "duration": 38,
    "start_time": "2022-09-07T08:29:46.029Z"
   },
   {
    "duration": 94,
    "start_time": "2022-09-07T08:29:46.069Z"
   },
   {
    "duration": 84,
    "start_time": "2022-09-07T08:29:46.165Z"
   },
   {
    "duration": 79,
    "start_time": "2022-09-07T08:29:46.250Z"
   },
   {
    "duration": 41,
    "start_time": "2022-09-07T08:29:46.332Z"
   },
   {
    "duration": 4,
    "start_time": "2022-09-07T08:29:46.374Z"
   },
   {
    "duration": 16,
    "start_time": "2022-09-07T08:29:46.380Z"
   },
   {
    "duration": 45,
    "start_time": "2022-09-07T08:29:46.406Z"
   },
   {
    "duration": 22,
    "start_time": "2022-09-07T08:29:46.453Z"
   },
   {
    "duration": 13,
    "start_time": "2022-09-07T08:29:46.478Z"
   },
   {
    "duration": 18,
    "start_time": "2022-09-07T08:29:46.493Z"
   },
   {
    "duration": 20,
    "start_time": "2022-09-07T08:29:46.512Z"
   },
   {
    "duration": 18,
    "start_time": "2022-09-07T08:29:46.536Z"
   },
   {
    "duration": 14,
    "start_time": "2022-09-07T08:29:46.556Z"
   },
   {
    "duration": 14,
    "start_time": "2022-09-07T08:29:46.572Z"
   },
   {
    "duration": 43,
    "start_time": "2022-09-07T08:29:46.588Z"
   },
   {
    "duration": 20,
    "start_time": "2022-09-07T08:29:46.632Z"
   },
   {
    "duration": 12,
    "start_time": "2022-09-07T08:29:46.654Z"
   },
   {
    "duration": 14,
    "start_time": "2022-09-07T08:29:46.669Z"
   },
   {
    "duration": 9,
    "start_time": "2022-09-07T08:29:46.684Z"
   },
   {
    "duration": 4,
    "start_time": "2022-09-07T08:29:46.694Z"
   },
   {
    "duration": 29,
    "start_time": "2022-09-07T08:29:46.700Z"
   },
   {
    "duration": 8,
    "start_time": "2022-09-07T08:29:46.730Z"
   },
   {
    "duration": 8,
    "start_time": "2022-09-07T08:29:46.739Z"
   },
   {
    "duration": 6,
    "start_time": "2022-09-07T08:29:46.748Z"
   },
   {
    "duration": 6,
    "start_time": "2022-09-07T08:29:46.756Z"
   },
   {
    "duration": 12,
    "start_time": "2022-09-07T08:29:46.763Z"
   },
   {
    "duration": 5,
    "start_time": "2022-09-07T08:29:46.777Z"
   },
   {
    "duration": 7,
    "start_time": "2022-09-07T08:29:46.783Z"
   },
   {
    "duration": 398,
    "start_time": "2022-09-07T08:31:05.591Z"
   },
   {
    "duration": 343,
    "start_time": "2022-09-07T08:31:05.990Z"
   },
   {
    "duration": 8,
    "start_time": "2022-09-07T08:31:06.335Z"
   },
   {
    "duration": 38,
    "start_time": "2022-09-07T08:31:06.345Z"
   },
   {
    "duration": 14,
    "start_time": "2022-09-07T08:31:06.385Z"
   },
   {
    "duration": 37,
    "start_time": "2022-09-07T08:31:06.400Z"
   },
   {
    "duration": 24,
    "start_time": "2022-09-07T08:31:06.439Z"
   },
   {
    "duration": 63,
    "start_time": "2022-09-07T08:31:06.465Z"
   },
   {
    "duration": 50,
    "start_time": "2022-09-07T08:31:06.530Z"
   },
   {
    "duration": 19,
    "start_time": "2022-09-07T08:31:06.583Z"
   },
   {
    "duration": 88,
    "start_time": "2022-09-07T08:31:06.604Z"
   },
   {
    "duration": 78,
    "start_time": "2022-09-07T08:31:06.694Z"
   },
   {
    "duration": 63,
    "start_time": "2022-09-07T08:31:06.773Z"
   },
   {
    "duration": 33,
    "start_time": "2022-09-07T08:31:06.838Z"
   },
   {
    "duration": 3,
    "start_time": "2022-09-07T08:31:06.872Z"
   },
   {
    "duration": 34,
    "start_time": "2022-09-07T08:31:06.877Z"
   },
   {
    "duration": 43,
    "start_time": "2022-09-07T08:31:06.912Z"
   },
   {
    "duration": 10,
    "start_time": "2022-09-07T08:31:06.956Z"
   },
   {
    "duration": 10,
    "start_time": "2022-09-07T08:31:06.968Z"
   },
   {
    "duration": 3,
    "start_time": "2022-09-07T08:31:06.980Z"
   },
   {
    "duration": 46,
    "start_time": "2022-09-07T08:31:06.984Z"
   },
   {
    "duration": 18,
    "start_time": "2022-09-07T08:31:07.034Z"
   },
   {
    "duration": 15,
    "start_time": "2022-09-07T08:31:07.053Z"
   },
   {
    "duration": 14,
    "start_time": "2022-09-07T08:31:07.069Z"
   },
   {
    "duration": 34,
    "start_time": "2022-09-07T08:31:07.085Z"
   },
   {
    "duration": 27,
    "start_time": "2022-09-07T08:31:07.120Z"
   },
   {
    "duration": 6,
    "start_time": "2022-09-07T08:31:07.149Z"
   },
   {
    "duration": 12,
    "start_time": "2022-09-07T08:31:07.158Z"
   },
   {
    "duration": 10,
    "start_time": "2022-09-07T08:31:07.172Z"
   },
   {
    "duration": 5,
    "start_time": "2022-09-07T08:31:07.183Z"
   },
   {
    "duration": 799,
    "start_time": "2022-09-07T08:31:07.189Z"
   },
   {
    "duration": 0,
    "start_time": "2022-09-07T08:31:07.989Z"
   },
   {
    "duration": 0,
    "start_time": "2022-09-07T08:31:07.991Z"
   },
   {
    "duration": 0,
    "start_time": "2022-09-07T08:31:07.992Z"
   },
   {
    "duration": 0,
    "start_time": "2022-09-07T08:31:07.993Z"
   },
   {
    "duration": 0,
    "start_time": "2022-09-07T08:31:07.994Z"
   },
   {
    "duration": 0,
    "start_time": "2022-09-07T08:31:07.996Z"
   },
   {
    "duration": 0,
    "start_time": "2022-09-07T08:31:07.997Z"
   },
   {
    "duration": 406,
    "start_time": "2022-09-07T08:31:48.359Z"
   },
   {
    "duration": 324,
    "start_time": "2022-09-07T08:31:48.767Z"
   },
   {
    "duration": 7,
    "start_time": "2022-09-07T08:31:49.093Z"
   },
   {
    "duration": 63,
    "start_time": "2022-09-07T08:31:49.114Z"
   },
   {
    "duration": 5,
    "start_time": "2022-09-07T08:31:49.179Z"
   },
   {
    "duration": 25,
    "start_time": "2022-09-07T08:31:49.187Z"
   },
   {
    "duration": 59,
    "start_time": "2022-09-07T08:31:49.214Z"
   },
   {
    "duration": 60,
    "start_time": "2022-09-07T08:31:49.275Z"
   },
   {
    "duration": 65,
    "start_time": "2022-09-07T08:31:49.336Z"
   },
   {
    "duration": 30,
    "start_time": "2022-09-07T08:31:49.405Z"
   },
   {
    "duration": 88,
    "start_time": "2022-09-07T08:31:49.448Z"
   },
   {
    "duration": 72,
    "start_time": "2022-09-07T08:31:49.537Z"
   },
   {
    "duration": 100,
    "start_time": "2022-09-07T08:31:49.616Z"
   },
   {
    "duration": 58,
    "start_time": "2022-09-07T08:31:49.719Z"
   },
   {
    "duration": 4,
    "start_time": "2022-09-07T08:31:49.779Z"
   },
   {
    "duration": 18,
    "start_time": "2022-09-07T08:31:49.785Z"
   },
   {
    "duration": 73,
    "start_time": "2022-09-07T08:31:49.806Z"
   },
   {
    "duration": 10,
    "start_time": "2022-09-07T08:31:49.881Z"
   },
   {
    "duration": 14,
    "start_time": "2022-09-07T08:31:49.893Z"
   },
   {
    "duration": 8,
    "start_time": "2022-09-07T08:31:49.910Z"
   },
   {
    "duration": 44,
    "start_time": "2022-09-07T08:31:49.919Z"
   },
   {
    "duration": 16,
    "start_time": "2022-09-07T08:31:49.965Z"
   },
   {
    "duration": 14,
    "start_time": "2022-09-07T08:31:49.983Z"
   },
   {
    "duration": 19,
    "start_time": "2022-09-07T08:31:49.998Z"
   },
   {
    "duration": 63,
    "start_time": "2022-09-07T08:31:50.018Z"
   },
   {
    "duration": 21,
    "start_time": "2022-09-07T08:31:50.083Z"
   },
   {
    "duration": 9,
    "start_time": "2022-09-07T08:31:50.107Z"
   },
   {
    "duration": 46,
    "start_time": "2022-09-07T08:31:50.119Z"
   },
   {
    "duration": 11,
    "start_time": "2022-09-07T08:31:50.167Z"
   },
   {
    "duration": 5,
    "start_time": "2022-09-07T08:31:50.180Z"
   },
   {
    "duration": 94,
    "start_time": "2022-09-07T08:31:50.187Z"
   },
   {
    "duration": 2,
    "start_time": "2022-09-07T08:31:50.283Z"
   },
   {
    "duration": 10,
    "start_time": "2022-09-07T08:31:50.287Z"
   },
   {
    "duration": 6,
    "start_time": "2022-09-07T08:31:50.298Z"
   },
   {
    "duration": 46,
    "start_time": "2022-09-07T08:31:50.305Z"
   },
   {
    "duration": 8,
    "start_time": "2022-09-07T08:31:50.353Z"
   },
   {
    "duration": 11,
    "start_time": "2022-09-07T08:31:50.363Z"
   },
   {
    "duration": 13,
    "start_time": "2022-09-07T08:31:50.376Z"
   },
   {
    "duration": 379,
    "start_time": "2022-09-07T08:33:46.675Z"
   },
   {
    "duration": 322,
    "start_time": "2022-09-07T08:33:47.056Z"
   },
   {
    "duration": 7,
    "start_time": "2022-09-07T08:33:47.380Z"
   },
   {
    "duration": 50,
    "start_time": "2022-09-07T08:33:47.388Z"
   },
   {
    "duration": 3,
    "start_time": "2022-09-07T08:33:47.441Z"
   },
   {
    "duration": 20,
    "start_time": "2022-09-07T08:33:47.446Z"
   },
   {
    "duration": 18,
    "start_time": "2022-09-07T08:33:47.468Z"
   },
   {
    "duration": 111,
    "start_time": "2022-09-07T08:33:47.487Z"
   },
   {
    "duration": 56,
    "start_time": "2022-09-07T08:33:47.599Z"
   },
   {
    "duration": 20,
    "start_time": "2022-09-07T08:33:47.656Z"
   },
   {
    "duration": 91,
    "start_time": "2022-09-07T08:33:47.678Z"
   },
   {
    "duration": 73,
    "start_time": "2022-09-07T08:33:47.771Z"
   },
   {
    "duration": 61,
    "start_time": "2022-09-07T08:33:47.846Z"
   },
   {
    "duration": 44,
    "start_time": "2022-09-07T08:33:47.909Z"
   },
   {
    "duration": 10,
    "start_time": "2022-09-07T08:33:47.954Z"
   },
   {
    "duration": 31,
    "start_time": "2022-09-07T08:33:47.966Z"
   },
   {
    "duration": 48,
    "start_time": "2022-09-07T08:33:47.999Z"
   },
   {
    "duration": 17,
    "start_time": "2022-09-07T08:33:48.049Z"
   },
   {
    "duration": 23,
    "start_time": "2022-09-07T08:33:48.068Z"
   },
   {
    "duration": 3,
    "start_time": "2022-09-07T08:33:48.093Z"
   },
   {
    "duration": 53,
    "start_time": "2022-09-07T08:33:48.098Z"
   },
   {
    "duration": 12,
    "start_time": "2022-09-07T08:33:48.153Z"
   },
   {
    "duration": 12,
    "start_time": "2022-09-07T08:33:48.166Z"
   },
   {
    "duration": 38,
    "start_time": "2022-09-07T08:33:48.180Z"
   },
   {
    "duration": 19,
    "start_time": "2022-09-07T08:33:48.223Z"
   },
   {
    "duration": 12,
    "start_time": "2022-09-07T08:33:48.244Z"
   },
   {
    "duration": 27,
    "start_time": "2022-09-07T08:33:48.258Z"
   },
   {
    "duration": 27,
    "start_time": "2022-09-07T08:33:48.306Z"
   },
   {
    "duration": 13,
    "start_time": "2022-09-07T08:33:48.339Z"
   },
   {
    "duration": 5,
    "start_time": "2022-09-07T08:33:48.354Z"
   },
   {
    "duration": 77,
    "start_time": "2022-09-07T08:33:48.409Z"
   },
   {
    "duration": 24,
    "start_time": "2022-09-07T08:33:48.487Z"
   },
   {
    "duration": 18,
    "start_time": "2022-09-07T08:33:48.514Z"
   },
   {
    "duration": 5,
    "start_time": "2022-09-07T08:33:48.533Z"
   },
   {
    "duration": 6,
    "start_time": "2022-09-07T08:33:48.539Z"
   },
   {
    "duration": 6,
    "start_time": "2022-09-07T08:33:48.546Z"
   },
   {
    "duration": 4,
    "start_time": "2022-09-07T08:33:48.554Z"
   },
   {
    "duration": 5,
    "start_time": "2022-09-07T08:33:48.559Z"
   },
   {
    "duration": 411,
    "start_time": "2022-09-07T08:34:09.947Z"
   },
   {
    "duration": 323,
    "start_time": "2022-09-07T08:34:10.361Z"
   },
   {
    "duration": 6,
    "start_time": "2022-09-07T08:34:10.685Z"
   },
   {
    "duration": 47,
    "start_time": "2022-09-07T08:34:10.693Z"
   },
   {
    "duration": 6,
    "start_time": "2022-09-07T08:34:10.742Z"
   },
   {
    "duration": 20,
    "start_time": "2022-09-07T08:34:10.750Z"
   },
   {
    "duration": 6,
    "start_time": "2022-09-07T08:34:10.773Z"
   },
   {
    "duration": 67,
    "start_time": "2022-09-07T08:34:10.780Z"
   },
   {
    "duration": 43,
    "start_time": "2022-09-07T08:34:10.848Z"
   },
   {
    "duration": 32,
    "start_time": "2022-09-07T08:34:10.910Z"
   },
   {
    "duration": 78,
    "start_time": "2022-09-07T08:34:10.944Z"
   },
   {
    "duration": 82,
    "start_time": "2022-09-07T08:34:11.024Z"
   },
   {
    "duration": 73,
    "start_time": "2022-09-07T08:34:11.112Z"
   },
   {
    "duration": 58,
    "start_time": "2022-09-07T08:34:11.187Z"
   },
   {
    "duration": 4,
    "start_time": "2022-09-07T08:34:11.247Z"
   },
   {
    "duration": 19,
    "start_time": "2022-09-07T08:34:11.253Z"
   },
   {
    "duration": 63,
    "start_time": "2022-09-07T08:34:11.274Z"
   },
   {
    "duration": 12,
    "start_time": "2022-09-07T08:34:11.339Z"
   },
   {
    "duration": 11,
    "start_time": "2022-09-07T08:34:11.353Z"
   },
   {
    "duration": 5,
    "start_time": "2022-09-07T08:34:11.365Z"
   },
   {
    "duration": 38,
    "start_time": "2022-09-07T08:34:11.371Z"
   },
   {
    "duration": 38,
    "start_time": "2022-09-07T08:34:11.411Z"
   },
   {
    "duration": 14,
    "start_time": "2022-09-07T08:34:11.451Z"
   },
   {
    "duration": 19,
    "start_time": "2022-09-07T08:34:11.466Z"
   },
   {
    "duration": 16,
    "start_time": "2022-09-07T08:34:11.487Z"
   },
   {
    "duration": 42,
    "start_time": "2022-09-07T08:34:11.505Z"
   },
   {
    "duration": 8,
    "start_time": "2022-09-07T08:34:11.549Z"
   },
   {
    "duration": 14,
    "start_time": "2022-09-07T08:34:11.560Z"
   },
   {
    "duration": 13,
    "start_time": "2022-09-07T08:34:11.576Z"
   },
   {
    "duration": 5,
    "start_time": "2022-09-07T08:34:11.590Z"
   },
   {
    "duration": 72,
    "start_time": "2022-09-07T08:34:11.597Z"
   },
   {
    "duration": 3,
    "start_time": "2022-09-07T08:34:11.670Z"
   },
   {
    "duration": 16,
    "start_time": "2022-09-07T08:34:11.674Z"
   },
   {
    "duration": 8,
    "start_time": "2022-09-07T08:34:11.691Z"
   },
   {
    "duration": 36,
    "start_time": "2022-09-07T08:34:11.700Z"
   },
   {
    "duration": 8,
    "start_time": "2022-09-07T08:34:11.738Z"
   },
   {
    "duration": 5,
    "start_time": "2022-09-07T08:34:11.747Z"
   },
   {
    "duration": 5,
    "start_time": "2022-09-07T08:34:11.754Z"
   },
   {
    "duration": 425,
    "start_time": "2022-09-07T08:35:17.111Z"
   },
   {
    "duration": 315,
    "start_time": "2022-09-07T08:35:17.539Z"
   },
   {
    "duration": 7,
    "start_time": "2022-09-07T08:35:17.856Z"
   },
   {
    "duration": 55,
    "start_time": "2022-09-07T08:35:17.866Z"
   },
   {
    "duration": 22,
    "start_time": "2022-09-07T08:35:17.925Z"
   },
   {
    "duration": 19,
    "start_time": "2022-09-07T08:35:17.949Z"
   },
   {
    "duration": 11,
    "start_time": "2022-09-07T08:35:17.970Z"
   },
   {
    "duration": 88,
    "start_time": "2022-09-07T08:35:17.982Z"
   },
   {
    "duration": 54,
    "start_time": "2022-09-07T08:35:18.073Z"
   },
   {
    "duration": 35,
    "start_time": "2022-09-07T08:35:18.132Z"
   },
   {
    "duration": 82,
    "start_time": "2022-09-07T08:35:18.169Z"
   },
   {
    "duration": 82,
    "start_time": "2022-09-07T08:35:18.253Z"
   },
   {
    "duration": 56,
    "start_time": "2022-09-07T08:35:18.337Z"
   },
   {
    "duration": 53,
    "start_time": "2022-09-07T08:35:18.394Z"
   },
   {
    "duration": 3,
    "start_time": "2022-09-07T08:35:18.448Z"
   },
   {
    "duration": 13,
    "start_time": "2022-09-07T08:35:18.452Z"
   },
   {
    "duration": 41,
    "start_time": "2022-09-07T08:35:18.466Z"
   },
   {
    "duration": 18,
    "start_time": "2022-09-07T08:35:18.512Z"
   },
   {
    "duration": 56,
    "start_time": "2022-09-07T08:35:18.532Z"
   },
   {
    "duration": 3,
    "start_time": "2022-09-07T08:35:18.590Z"
   },
   {
    "duration": 58,
    "start_time": "2022-09-07T08:35:18.595Z"
   },
   {
    "duration": 13,
    "start_time": "2022-09-07T08:35:18.655Z"
   },
   {
    "duration": 18,
    "start_time": "2022-09-07T08:35:18.669Z"
   },
   {
    "duration": 14,
    "start_time": "2022-09-07T08:35:18.688Z"
   },
   {
    "duration": 41,
    "start_time": "2022-09-07T08:35:18.704Z"
   },
   {
    "duration": 13,
    "start_time": "2022-09-07T08:35:18.746Z"
   },
   {
    "duration": 9,
    "start_time": "2022-09-07T08:35:18.761Z"
   },
   {
    "duration": 15,
    "start_time": "2022-09-07T08:35:18.773Z"
   },
   {
    "duration": 11,
    "start_time": "2022-09-07T08:35:18.789Z"
   },
   {
    "duration": 5,
    "start_time": "2022-09-07T08:35:18.801Z"
   },
   {
    "duration": 75,
    "start_time": "2022-09-07T08:35:18.813Z"
   },
   {
    "duration": 38,
    "start_time": "2022-09-07T08:35:18.889Z"
   },
   {
    "duration": 54,
    "start_time": "2022-09-07T08:35:18.931Z"
   },
   {
    "duration": 50,
    "start_time": "2022-09-07T08:35:18.986Z"
   },
   {
    "duration": 3,
    "start_time": "2022-09-07T08:35:19.038Z"
   },
   {
    "duration": 5,
    "start_time": "2022-09-07T08:35:19.043Z"
   },
   {
    "duration": 10,
    "start_time": "2022-09-07T08:35:19.049Z"
   },
   {
    "duration": 5,
    "start_time": "2022-09-07T08:35:19.060Z"
   },
   {
    "duration": 393,
    "start_time": "2022-09-07T08:36:05.056Z"
   },
   {
    "duration": 297,
    "start_time": "2022-09-07T08:36:05.451Z"
   },
   {
    "duration": 5,
    "start_time": "2022-09-07T08:36:05.750Z"
   },
   {
    "duration": 30,
    "start_time": "2022-09-07T08:36:05.757Z"
   },
   {
    "duration": 3,
    "start_time": "2022-09-07T08:36:05.788Z"
   },
   {
    "duration": 26,
    "start_time": "2022-09-07T08:36:05.793Z"
   },
   {
    "duration": 39,
    "start_time": "2022-09-07T08:36:05.820Z"
   },
   {
    "duration": 38,
    "start_time": "2022-09-07T08:36:05.860Z"
   },
   {
    "duration": 52,
    "start_time": "2022-09-07T08:36:05.900Z"
   },
   {
    "duration": 19,
    "start_time": "2022-09-07T08:36:05.956Z"
   },
   {
    "duration": 94,
    "start_time": "2022-09-07T08:36:05.977Z"
   },
   {
    "duration": 86,
    "start_time": "2022-09-07T08:36:06.073Z"
   },
   {
    "duration": 73,
    "start_time": "2022-09-07T08:36:06.164Z"
   },
   {
    "duration": 50,
    "start_time": "2022-09-07T08:36:06.241Z"
   },
   {
    "duration": 4,
    "start_time": "2022-09-07T08:36:06.293Z"
   },
   {
    "duration": 67,
    "start_time": "2022-09-07T08:36:06.299Z"
   },
   {
    "duration": 53,
    "start_time": "2022-09-07T08:36:06.368Z"
   },
   {
    "duration": 14,
    "start_time": "2022-09-07T08:36:06.429Z"
   },
   {
    "duration": 30,
    "start_time": "2022-09-07T08:36:06.444Z"
   },
   {
    "duration": 10,
    "start_time": "2022-09-07T08:36:06.476Z"
   },
   {
    "duration": 34,
    "start_time": "2022-09-07T08:36:06.488Z"
   },
   {
    "duration": 54,
    "start_time": "2022-09-07T08:36:06.525Z"
   },
   {
    "duration": 14,
    "start_time": "2022-09-07T08:36:06.580Z"
   },
   {
    "duration": 15,
    "start_time": "2022-09-07T08:36:06.596Z"
   },
   {
    "duration": 51,
    "start_time": "2022-09-07T08:36:06.613Z"
   },
   {
    "duration": 13,
    "start_time": "2022-09-07T08:36:06.666Z"
   },
   {
    "duration": 6,
    "start_time": "2022-09-07T08:36:06.681Z"
   },
   {
    "duration": 20,
    "start_time": "2022-09-07T08:36:06.690Z"
   },
   {
    "duration": 45,
    "start_time": "2022-09-07T08:36:06.712Z"
   },
   {
    "duration": 4,
    "start_time": "2022-09-07T08:36:06.759Z"
   },
   {
    "duration": 158,
    "start_time": "2022-09-07T08:36:06.765Z"
   },
   {
    "duration": 0,
    "start_time": "2022-09-07T08:36:06.925Z"
   },
   {
    "duration": 0,
    "start_time": "2022-09-07T08:36:06.927Z"
   },
   {
    "duration": 0,
    "start_time": "2022-09-07T08:36:06.928Z"
   },
   {
    "duration": 0,
    "start_time": "2022-09-07T08:36:06.929Z"
   },
   {
    "duration": 0,
    "start_time": "2022-09-07T08:36:06.930Z"
   },
   {
    "duration": 0,
    "start_time": "2022-09-07T08:36:06.931Z"
   },
   {
    "duration": 0,
    "start_time": "2022-09-07T08:36:06.932Z"
   },
   {
    "duration": 381,
    "start_time": "2022-09-07T08:37:17.086Z"
   },
   {
    "duration": 314,
    "start_time": "2022-09-07T08:37:17.468Z"
   },
   {
    "duration": 7,
    "start_time": "2022-09-07T08:37:17.784Z"
   },
   {
    "duration": 63,
    "start_time": "2022-09-07T08:37:17.793Z"
   },
   {
    "duration": 3,
    "start_time": "2022-09-07T08:37:17.858Z"
   },
   {
    "duration": 18,
    "start_time": "2022-09-07T08:37:17.862Z"
   },
   {
    "duration": 12,
    "start_time": "2022-09-07T08:37:17.882Z"
   },
   {
    "duration": 62,
    "start_time": "2022-09-07T08:37:17.896Z"
   },
   {
    "duration": 34,
    "start_time": "2022-09-07T08:37:17.959Z"
   },
   {
    "duration": 42,
    "start_time": "2022-09-07T08:37:17.996Z"
   },
   {
    "duration": 82,
    "start_time": "2022-09-07T08:37:18.039Z"
   },
   {
    "duration": 67,
    "start_time": "2022-09-07T08:37:18.124Z"
   },
   {
    "duration": 70,
    "start_time": "2022-09-07T08:37:18.193Z"
   },
   {
    "duration": 55,
    "start_time": "2022-09-07T08:37:18.265Z"
   },
   {
    "duration": 4,
    "start_time": "2022-09-07T08:37:18.322Z"
   },
   {
    "duration": 38,
    "start_time": "2022-09-07T08:37:18.328Z"
   },
   {
    "duration": 33,
    "start_time": "2022-09-07T08:37:18.367Z"
   },
   {
    "duration": 21,
    "start_time": "2022-09-07T08:37:18.401Z"
   },
   {
    "duration": 35,
    "start_time": "2022-09-07T08:37:18.424Z"
   },
   {
    "duration": 4,
    "start_time": "2022-09-07T08:37:18.461Z"
   },
   {
    "duration": 17,
    "start_time": "2022-09-07T08:37:18.466Z"
   },
   {
    "duration": 14,
    "start_time": "2022-09-07T08:37:18.485Z"
   },
   {
    "duration": 28,
    "start_time": "2022-09-07T08:37:18.501Z"
   },
   {
    "duration": 34,
    "start_time": "2022-09-07T08:37:18.530Z"
   },
   {
    "duration": 20,
    "start_time": "2022-09-07T08:37:18.566Z"
   },
   {
    "duration": 13,
    "start_time": "2022-09-07T08:37:18.588Z"
   },
   {
    "duration": 15,
    "start_time": "2022-09-07T08:37:18.602Z"
   },
   {
    "duration": 40,
    "start_time": "2022-09-07T08:37:18.620Z"
   },
   {
    "duration": 11,
    "start_time": "2022-09-07T08:37:18.662Z"
   },
   {
    "duration": 5,
    "start_time": "2022-09-07T08:37:18.674Z"
   },
   {
    "duration": 190,
    "start_time": "2022-09-07T08:37:18.681Z"
   },
   {
    "duration": 0,
    "start_time": "2022-09-07T08:37:18.872Z"
   },
   {
    "duration": 0,
    "start_time": "2022-09-07T08:37:18.874Z"
   },
   {
    "duration": 0,
    "start_time": "2022-09-07T08:37:18.875Z"
   },
   {
    "duration": 0,
    "start_time": "2022-09-07T08:37:18.876Z"
   },
   {
    "duration": 0,
    "start_time": "2022-09-07T08:37:18.877Z"
   },
   {
    "duration": 0,
    "start_time": "2022-09-07T08:37:18.879Z"
   },
   {
    "duration": 0,
    "start_time": "2022-09-07T08:37:18.880Z"
   },
   {
    "duration": 377,
    "start_time": "2022-09-07T08:37:29.460Z"
   },
   {
    "duration": 328,
    "start_time": "2022-09-07T08:37:29.843Z"
   },
   {
    "duration": 6,
    "start_time": "2022-09-07T08:37:30.173Z"
   },
   {
    "duration": 59,
    "start_time": "2022-09-07T08:37:30.180Z"
   },
   {
    "duration": 11,
    "start_time": "2022-09-07T08:37:30.245Z"
   },
   {
    "duration": 45,
    "start_time": "2022-09-07T08:37:30.258Z"
   },
   {
    "duration": 60,
    "start_time": "2022-09-07T08:37:30.305Z"
   },
   {
    "duration": 63,
    "start_time": "2022-09-07T08:37:30.367Z"
   },
   {
    "duration": 57,
    "start_time": "2022-09-07T08:37:30.432Z"
   },
   {
    "duration": 24,
    "start_time": "2022-09-07T08:37:30.491Z"
   },
   {
    "duration": 121,
    "start_time": "2022-09-07T08:37:30.516Z"
   },
   {
    "duration": 75,
    "start_time": "2022-09-07T08:37:30.640Z"
   },
   {
    "duration": 70,
    "start_time": "2022-09-07T08:37:30.718Z"
   },
   {
    "duration": 57,
    "start_time": "2022-09-07T08:37:30.791Z"
   },
   {
    "duration": 4,
    "start_time": "2022-09-07T08:37:30.850Z"
   },
   {
    "duration": 14,
    "start_time": "2022-09-07T08:37:30.856Z"
   },
   {
    "duration": 69,
    "start_time": "2022-09-07T08:37:30.871Z"
   },
   {
    "duration": 18,
    "start_time": "2022-09-07T08:37:30.941Z"
   },
   {
    "duration": 18,
    "start_time": "2022-09-07T08:37:30.961Z"
   },
   {
    "duration": 13,
    "start_time": "2022-09-07T08:37:30.981Z"
   },
   {
    "duration": 64,
    "start_time": "2022-09-07T08:37:30.996Z"
   },
   {
    "duration": 20,
    "start_time": "2022-09-07T08:37:31.061Z"
   },
   {
    "duration": 19,
    "start_time": "2022-09-07T08:37:31.082Z"
   },
   {
    "duration": 50,
    "start_time": "2022-09-07T08:37:31.102Z"
   },
   {
    "duration": 21,
    "start_time": "2022-09-07T08:37:31.154Z"
   },
   {
    "duration": 15,
    "start_time": "2022-09-07T08:37:31.177Z"
   },
   {
    "duration": 58,
    "start_time": "2022-09-07T08:37:31.194Z"
   },
   {
    "duration": 20,
    "start_time": "2022-09-07T08:37:31.254Z"
   },
   {
    "duration": 45,
    "start_time": "2022-09-07T08:37:31.276Z"
   },
   {
    "duration": 27,
    "start_time": "2022-09-07T08:37:31.329Z"
   },
   {
    "duration": 784,
    "start_time": "2022-09-07T08:37:31.357Z"
   },
   {
    "duration": 0,
    "start_time": "2022-09-07T08:37:32.143Z"
   },
   {
    "duration": 0,
    "start_time": "2022-09-07T08:37:32.144Z"
   },
   {
    "duration": 0,
    "start_time": "2022-09-07T08:37:32.145Z"
   },
   {
    "duration": 0,
    "start_time": "2022-09-07T08:37:32.146Z"
   },
   {
    "duration": 0,
    "start_time": "2022-09-07T08:37:32.147Z"
   },
   {
    "duration": 0,
    "start_time": "2022-09-07T08:37:32.148Z"
   },
   {
    "duration": 0,
    "start_time": "2022-09-07T08:37:32.149Z"
   },
   {
    "duration": 383,
    "start_time": "2022-09-07T08:43:51.444Z"
   },
   {
    "duration": 311,
    "start_time": "2022-09-07T08:43:51.829Z"
   },
   {
    "duration": 6,
    "start_time": "2022-09-07T08:43:52.142Z"
   },
   {
    "duration": 28,
    "start_time": "2022-09-07T08:43:52.150Z"
   },
   {
    "duration": 4,
    "start_time": "2022-09-07T08:43:52.180Z"
   },
   {
    "duration": 37,
    "start_time": "2022-09-07T08:43:52.186Z"
   },
   {
    "duration": 10,
    "start_time": "2022-09-07T08:43:52.230Z"
   },
   {
    "duration": 41,
    "start_time": "2022-09-07T08:43:52.241Z"
   },
   {
    "duration": 51,
    "start_time": "2022-09-07T08:43:52.283Z"
   },
   {
    "duration": 35,
    "start_time": "2022-09-07T08:43:52.341Z"
   },
   {
    "duration": 66,
    "start_time": "2022-09-07T08:43:52.378Z"
   },
   {
    "duration": 94,
    "start_time": "2022-09-07T08:43:52.446Z"
   },
   {
    "duration": 58,
    "start_time": "2022-09-07T08:43:52.541Z"
   },
   {
    "duration": 54,
    "start_time": "2022-09-07T08:43:52.601Z"
   },
   {
    "duration": 10,
    "start_time": "2022-09-07T08:43:52.657Z"
   },
   {
    "duration": 28,
    "start_time": "2022-09-07T08:43:52.668Z"
   },
   {
    "duration": 52,
    "start_time": "2022-09-07T08:43:52.698Z"
   },
   {
    "duration": 24,
    "start_time": "2022-09-07T08:43:52.751Z"
   },
   {
    "duration": 10,
    "start_time": "2022-09-07T08:43:52.777Z"
   },
   {
    "duration": 20,
    "start_time": "2022-09-07T08:43:52.790Z"
   },
   {
    "duration": 25,
    "start_time": "2022-09-07T08:43:52.815Z"
   },
   {
    "duration": 27,
    "start_time": "2022-09-07T08:43:52.841Z"
   },
   {
    "duration": 24,
    "start_time": "2022-09-07T08:43:52.869Z"
   },
   {
    "duration": 16,
    "start_time": "2022-09-07T08:43:52.895Z"
   },
   {
    "duration": 49,
    "start_time": "2022-09-07T08:43:52.916Z"
   },
   {
    "duration": 13,
    "start_time": "2022-09-07T08:43:52.967Z"
   },
   {
    "duration": 9,
    "start_time": "2022-09-07T08:43:52.981Z"
   },
   {
    "duration": 29,
    "start_time": "2022-09-07T08:43:52.993Z"
   },
   {
    "duration": 32,
    "start_time": "2022-09-07T08:43:53.025Z"
   },
   {
    "duration": 15,
    "start_time": "2022-09-07T08:43:53.059Z"
   },
   {
    "duration": 93,
    "start_time": "2022-09-07T08:43:53.075Z"
   },
   {
    "duration": 0,
    "start_time": "2022-09-07T08:43:53.170Z"
   },
   {
    "duration": 0,
    "start_time": "2022-09-07T08:43:53.171Z"
   },
   {
    "duration": 0,
    "start_time": "2022-09-07T08:43:53.173Z"
   },
   {
    "duration": 0,
    "start_time": "2022-09-07T08:43:53.174Z"
   },
   {
    "duration": 0,
    "start_time": "2022-09-07T08:43:53.175Z"
   },
   {
    "duration": 0,
    "start_time": "2022-09-07T08:43:53.176Z"
   },
   {
    "duration": 0,
    "start_time": "2022-09-07T08:43:53.177Z"
   },
   {
    "duration": 414,
    "start_time": "2022-09-07T08:44:07.951Z"
   },
   {
    "duration": 357,
    "start_time": "2022-09-07T08:44:08.369Z"
   },
   {
    "duration": 11,
    "start_time": "2022-09-07T08:44:08.727Z"
   },
   {
    "duration": 37,
    "start_time": "2022-09-07T08:44:08.743Z"
   },
   {
    "duration": 5,
    "start_time": "2022-09-07T08:44:08.783Z"
   },
   {
    "duration": 27,
    "start_time": "2022-09-07T08:44:08.790Z"
   },
   {
    "duration": 28,
    "start_time": "2022-09-07T08:44:08.819Z"
   },
   {
    "duration": 43,
    "start_time": "2022-09-07T08:44:08.848Z"
   },
   {
    "duration": 66,
    "start_time": "2022-09-07T08:44:08.893Z"
   },
   {
    "duration": 23,
    "start_time": "2022-09-07T08:44:08.961Z"
   },
   {
    "duration": 80,
    "start_time": "2022-09-07T08:44:08.986Z"
   },
   {
    "duration": 96,
    "start_time": "2022-09-07T08:44:09.068Z"
   },
   {
    "duration": 79,
    "start_time": "2022-09-07T08:44:09.166Z"
   },
   {
    "duration": 38,
    "start_time": "2022-09-07T08:44:09.249Z"
   },
   {
    "duration": 4,
    "start_time": "2022-09-07T08:44:09.288Z"
   },
   {
    "duration": 30,
    "start_time": "2022-09-07T08:44:09.293Z"
   },
   {
    "duration": 57,
    "start_time": "2022-09-07T08:44:09.324Z"
   },
   {
    "duration": 11,
    "start_time": "2022-09-07T08:44:09.383Z"
   },
   {
    "duration": 16,
    "start_time": "2022-09-07T08:44:09.396Z"
   },
   {
    "duration": 21,
    "start_time": "2022-09-07T08:44:09.420Z"
   },
   {
    "duration": 22,
    "start_time": "2022-09-07T08:44:09.444Z"
   },
   {
    "duration": 13,
    "start_time": "2022-09-07T08:44:09.468Z"
   },
   {
    "duration": 17,
    "start_time": "2022-09-07T08:44:09.483Z"
   },
   {
    "duration": 26,
    "start_time": "2022-09-07T08:44:09.502Z"
   },
   {
    "duration": 28,
    "start_time": "2022-09-07T08:44:09.530Z"
   },
   {
    "duration": 15,
    "start_time": "2022-09-07T08:44:09.560Z"
   },
   {
    "duration": 6,
    "start_time": "2022-09-07T08:44:09.578Z"
   },
   {
    "duration": 25,
    "start_time": "2022-09-07T08:44:09.586Z"
   },
   {
    "duration": 24,
    "start_time": "2022-09-07T08:44:09.613Z"
   },
   {
    "duration": 8,
    "start_time": "2022-09-07T08:44:09.639Z"
   },
   {
    "duration": 69,
    "start_time": "2022-09-07T08:44:09.648Z"
   },
   {
    "duration": 470,
    "start_time": "2022-09-07T08:44:09.719Z"
   },
   {
    "duration": 0,
    "start_time": "2022-09-07T08:44:10.191Z"
   },
   {
    "duration": 0,
    "start_time": "2022-09-07T08:44:10.192Z"
   },
   {
    "duration": 0,
    "start_time": "2022-09-07T08:44:10.193Z"
   },
   {
    "duration": 0,
    "start_time": "2022-09-07T08:44:10.194Z"
   },
   {
    "duration": 0,
    "start_time": "2022-09-07T08:44:10.196Z"
   },
   {
    "duration": 0,
    "start_time": "2022-09-07T08:44:10.197Z"
   },
   {
    "duration": 452,
    "start_time": "2022-09-07T08:44:46.031Z"
   },
   {
    "duration": 327,
    "start_time": "2022-09-07T08:44:46.485Z"
   },
   {
    "duration": 14,
    "start_time": "2022-09-07T08:44:46.820Z"
   },
   {
    "duration": 30,
    "start_time": "2022-09-07T08:44:46.836Z"
   },
   {
    "duration": 3,
    "start_time": "2022-09-07T08:44:46.868Z"
   },
   {
    "duration": 18,
    "start_time": "2022-09-07T08:44:46.872Z"
   },
   {
    "duration": 13,
    "start_time": "2022-09-07T08:44:46.892Z"
   },
   {
    "duration": 77,
    "start_time": "2022-09-07T08:44:46.906Z"
   },
   {
    "duration": 52,
    "start_time": "2022-09-07T08:44:46.984Z"
   },
   {
    "duration": 24,
    "start_time": "2022-09-07T08:44:47.037Z"
   },
   {
    "duration": 80,
    "start_time": "2022-09-07T08:44:47.062Z"
   },
   {
    "duration": 73,
    "start_time": "2022-09-07T08:44:47.144Z"
   },
   {
    "duration": 71,
    "start_time": "2022-09-07T08:44:47.219Z"
   },
   {
    "duration": 59,
    "start_time": "2022-09-07T08:44:47.293Z"
   },
   {
    "duration": 3,
    "start_time": "2022-09-07T08:44:47.353Z"
   },
   {
    "duration": 13,
    "start_time": "2022-09-07T08:44:47.358Z"
   },
   {
    "duration": 47,
    "start_time": "2022-09-07T08:44:47.373Z"
   },
   {
    "duration": 14,
    "start_time": "2022-09-07T08:44:47.422Z"
   },
   {
    "duration": 21,
    "start_time": "2022-09-07T08:44:47.437Z"
   },
   {
    "duration": 3,
    "start_time": "2022-09-07T08:44:47.459Z"
   },
   {
    "duration": 17,
    "start_time": "2022-09-07T08:44:47.464Z"
   },
   {
    "duration": 30,
    "start_time": "2022-09-07T08:44:47.482Z"
   },
   {
    "duration": 18,
    "start_time": "2022-09-07T08:44:47.513Z"
   },
   {
    "duration": 26,
    "start_time": "2022-09-07T08:44:47.532Z"
   },
   {
    "duration": 15,
    "start_time": "2022-09-07T08:44:47.560Z"
   },
   {
    "duration": 13,
    "start_time": "2022-09-07T08:44:47.576Z"
   },
   {
    "duration": 17,
    "start_time": "2022-09-07T08:44:47.591Z"
   },
   {
    "duration": 44,
    "start_time": "2022-09-07T08:44:47.610Z"
   },
   {
    "duration": 10,
    "start_time": "2022-09-07T08:44:47.657Z"
   },
   {
    "duration": 12,
    "start_time": "2022-09-07T08:44:47.668Z"
   },
   {
    "duration": 82,
    "start_time": "2022-09-07T08:44:47.681Z"
   },
   {
    "duration": 511,
    "start_time": "2022-09-07T08:44:47.764Z"
   },
   {
    "duration": 0,
    "start_time": "2022-09-07T08:44:48.277Z"
   },
   {
    "duration": 0,
    "start_time": "2022-09-07T08:44:48.278Z"
   },
   {
    "duration": 0,
    "start_time": "2022-09-07T08:44:48.280Z"
   },
   {
    "duration": 0,
    "start_time": "2022-09-07T08:44:48.281Z"
   },
   {
    "duration": 0,
    "start_time": "2022-09-07T08:44:48.282Z"
   },
   {
    "duration": 0,
    "start_time": "2022-09-07T08:44:48.283Z"
   },
   {
    "duration": 384,
    "start_time": "2022-09-07T08:46:03.961Z"
   },
   {
    "duration": 298,
    "start_time": "2022-09-07T08:46:04.348Z"
   },
   {
    "duration": 9,
    "start_time": "2022-09-07T08:46:04.648Z"
   },
   {
    "duration": 25,
    "start_time": "2022-09-07T08:46:04.658Z"
   },
   {
    "duration": 3,
    "start_time": "2022-09-07T08:46:04.685Z"
   },
   {
    "duration": 38,
    "start_time": "2022-09-07T08:46:04.689Z"
   },
   {
    "duration": 13,
    "start_time": "2022-09-07T08:46:04.737Z"
   },
   {
    "duration": 43,
    "start_time": "2022-09-07T08:46:04.752Z"
   },
   {
    "duration": 53,
    "start_time": "2022-09-07T08:46:04.796Z"
   },
   {
    "duration": 24,
    "start_time": "2022-09-07T08:46:04.850Z"
   },
   {
    "duration": 72,
    "start_time": "2022-09-07T08:46:04.875Z"
   },
   {
    "duration": 73,
    "start_time": "2022-09-07T08:46:04.950Z"
   },
   {
    "duration": 63,
    "start_time": "2022-09-07T08:46:05.027Z"
   },
   {
    "duration": 62,
    "start_time": "2022-09-07T08:46:05.092Z"
   },
   {
    "duration": 3,
    "start_time": "2022-09-07T08:46:05.156Z"
   },
   {
    "duration": 13,
    "start_time": "2022-09-07T08:46:05.160Z"
   },
   {
    "duration": 49,
    "start_time": "2022-09-07T08:46:05.175Z"
   },
   {
    "duration": 14,
    "start_time": "2022-09-07T08:46:05.226Z"
   },
   {
    "duration": 19,
    "start_time": "2022-09-07T08:46:05.242Z"
   },
   {
    "duration": 5,
    "start_time": "2022-09-07T08:46:05.262Z"
   },
   {
    "duration": 32,
    "start_time": "2022-09-07T08:46:05.269Z"
   },
   {
    "duration": 26,
    "start_time": "2022-09-07T08:46:05.302Z"
   },
   {
    "duration": 32,
    "start_time": "2022-09-07T08:46:05.331Z"
   },
   {
    "duration": 20,
    "start_time": "2022-09-07T08:46:05.364Z"
   },
   {
    "duration": 21,
    "start_time": "2022-09-07T08:46:05.386Z"
   },
   {
    "duration": 37,
    "start_time": "2022-09-07T08:46:05.409Z"
   },
   {
    "duration": 16,
    "start_time": "2022-09-07T08:46:05.448Z"
   },
   {
    "duration": 14,
    "start_time": "2022-09-07T08:46:05.465Z"
   },
   {
    "duration": 9,
    "start_time": "2022-09-07T08:46:05.481Z"
   },
   {
    "duration": 5,
    "start_time": "2022-09-07T08:46:05.492Z"
   },
   {
    "duration": 100,
    "start_time": "2022-09-07T08:46:05.498Z"
   },
   {
    "duration": 690,
    "start_time": "2022-09-07T08:46:05.600Z"
   },
   {
    "duration": 0,
    "start_time": "2022-09-07T08:46:06.293Z"
   },
   {
    "duration": 0,
    "start_time": "2022-09-07T08:46:06.294Z"
   },
   {
    "duration": 0,
    "start_time": "2022-09-07T08:46:06.296Z"
   },
   {
    "duration": 0,
    "start_time": "2022-09-07T08:46:06.297Z"
   },
   {
    "duration": 0,
    "start_time": "2022-09-07T08:46:06.298Z"
   },
   {
    "duration": 0,
    "start_time": "2022-09-07T08:46:06.299Z"
   },
   {
    "duration": 436,
    "start_time": "2022-09-07T08:46:16.820Z"
   },
   {
    "duration": 317,
    "start_time": "2022-09-07T08:46:17.258Z"
   },
   {
    "duration": 6,
    "start_time": "2022-09-07T08:46:17.577Z"
   },
   {
    "duration": 57,
    "start_time": "2022-09-07T08:46:17.585Z"
   },
   {
    "duration": 22,
    "start_time": "2022-09-07T08:46:17.644Z"
   },
   {
    "duration": 22,
    "start_time": "2022-09-07T08:46:17.668Z"
   },
   {
    "duration": 17,
    "start_time": "2022-09-07T08:46:17.691Z"
   },
   {
    "duration": 86,
    "start_time": "2022-09-07T08:46:17.715Z"
   },
   {
    "duration": 64,
    "start_time": "2022-09-07T08:46:17.802Z"
   },
   {
    "duration": 23,
    "start_time": "2022-09-07T08:46:17.868Z"
   },
   {
    "duration": 82,
    "start_time": "2022-09-07T08:46:17.893Z"
   },
   {
    "duration": 84,
    "start_time": "2022-09-07T08:46:17.977Z"
   },
   {
    "duration": 80,
    "start_time": "2022-09-07T08:46:18.063Z"
   },
   {
    "duration": 38,
    "start_time": "2022-09-07T08:46:18.150Z"
   },
   {
    "duration": 3,
    "start_time": "2022-09-07T08:46:18.190Z"
   },
   {
    "duration": 32,
    "start_time": "2022-09-07T08:46:18.195Z"
   },
   {
    "duration": 58,
    "start_time": "2022-09-07T08:46:18.240Z"
   },
   {
    "duration": 13,
    "start_time": "2022-09-07T08:46:18.300Z"
   },
   {
    "duration": 37,
    "start_time": "2022-09-07T08:46:18.316Z"
   },
   {
    "duration": 7,
    "start_time": "2022-09-07T08:46:18.356Z"
   },
   {
    "duration": 17,
    "start_time": "2022-09-07T08:46:18.364Z"
   },
   {
    "duration": 15,
    "start_time": "2022-09-07T08:46:18.383Z"
   },
   {
    "duration": 49,
    "start_time": "2022-09-07T08:46:18.400Z"
   },
   {
    "duration": 42,
    "start_time": "2022-09-07T08:46:18.450Z"
   },
   {
    "duration": 21,
    "start_time": "2022-09-07T08:46:18.494Z"
   },
   {
    "duration": 51,
    "start_time": "2022-09-07T08:46:18.519Z"
   },
   {
    "duration": 16,
    "start_time": "2022-09-07T08:46:18.571Z"
   },
   {
    "duration": 35,
    "start_time": "2022-09-07T08:46:18.589Z"
   },
   {
    "duration": 53,
    "start_time": "2022-09-07T08:46:18.640Z"
   },
   {
    "duration": 8,
    "start_time": "2022-09-07T08:46:18.696Z"
   },
   {
    "duration": 106,
    "start_time": "2022-09-07T08:46:18.710Z"
   },
   {
    "duration": 38,
    "start_time": "2022-09-07T08:46:18.818Z"
   },
   {
    "duration": 85,
    "start_time": "2022-09-07T08:46:18.858Z"
   },
   {
    "duration": 36,
    "start_time": "2022-09-07T08:46:18.944Z"
   },
   {
    "duration": 2,
    "start_time": "2022-09-07T08:46:18.981Z"
   },
   {
    "duration": 16,
    "start_time": "2022-09-07T08:46:18.985Z"
   },
   {
    "duration": 55,
    "start_time": "2022-09-07T08:46:19.003Z"
   },
   {
    "duration": 19,
    "start_time": "2022-09-07T08:46:19.060Z"
   },
   {
    "duration": 427,
    "start_time": "2022-09-07T08:46:56.729Z"
   },
   {
    "duration": 396,
    "start_time": "2022-09-07T08:46:57.158Z"
   },
   {
    "duration": 9,
    "start_time": "2022-09-07T08:46:57.556Z"
   },
   {
    "duration": 34,
    "start_time": "2022-09-07T08:46:57.566Z"
   },
   {
    "duration": 7,
    "start_time": "2022-09-07T08:46:57.611Z"
   },
   {
    "duration": 41,
    "start_time": "2022-09-07T08:46:57.620Z"
   },
   {
    "duration": 13,
    "start_time": "2022-09-07T08:46:57.663Z"
   },
   {
    "duration": 67,
    "start_time": "2022-09-07T08:46:57.678Z"
   },
   {
    "duration": 45,
    "start_time": "2022-09-07T08:46:57.752Z"
   },
   {
    "duration": 37,
    "start_time": "2022-09-07T08:46:57.799Z"
   },
   {
    "duration": 90,
    "start_time": "2022-09-07T08:46:57.841Z"
   },
   {
    "duration": 94,
    "start_time": "2022-09-07T08:46:57.944Z"
   },
   {
    "duration": 66,
    "start_time": "2022-09-07T08:46:58.047Z"
   },
   {
    "duration": 53,
    "start_time": "2022-09-07T08:46:58.116Z"
   },
   {
    "duration": 3,
    "start_time": "2022-09-07T08:46:58.171Z"
   },
   {
    "duration": 13,
    "start_time": "2022-09-07T08:46:58.175Z"
   },
   {
    "duration": 69,
    "start_time": "2022-09-07T08:46:58.190Z"
   },
   {
    "duration": 11,
    "start_time": "2022-09-07T08:46:58.261Z"
   },
   {
    "duration": 12,
    "start_time": "2022-09-07T08:46:58.273Z"
   },
   {
    "duration": 13,
    "start_time": "2022-09-07T08:46:58.306Z"
   },
   {
    "duration": 40,
    "start_time": "2022-09-07T08:46:58.321Z"
   },
   {
    "duration": 15,
    "start_time": "2022-09-07T08:46:58.364Z"
   },
   {
    "duration": 16,
    "start_time": "2022-09-07T08:46:58.381Z"
   },
   {
    "duration": 18,
    "start_time": "2022-09-07T08:46:58.399Z"
   },
   {
    "duration": 51,
    "start_time": "2022-09-07T08:46:58.419Z"
   },
   {
    "duration": 14,
    "start_time": "2022-09-07T08:46:58.471Z"
   },
   {
    "duration": 14,
    "start_time": "2022-09-07T08:46:58.487Z"
   },
   {
    "duration": 54,
    "start_time": "2022-09-07T08:46:58.503Z"
   },
   {
    "duration": 10,
    "start_time": "2022-09-07T08:46:58.560Z"
   },
   {
    "duration": 7,
    "start_time": "2022-09-07T08:46:58.572Z"
   },
   {
    "duration": 103,
    "start_time": "2022-09-07T08:46:58.581Z"
   },
   {
    "duration": 0,
    "start_time": "2022-09-07T08:46:58.685Z"
   },
   {
    "duration": 0,
    "start_time": "2022-09-07T08:46:58.687Z"
   },
   {
    "duration": 0,
    "start_time": "2022-09-07T08:46:58.688Z"
   },
   {
    "duration": 0,
    "start_time": "2022-09-07T08:46:58.689Z"
   },
   {
    "duration": 0,
    "start_time": "2022-09-07T08:46:58.690Z"
   },
   {
    "duration": 0,
    "start_time": "2022-09-07T08:46:58.692Z"
   },
   {
    "duration": 0,
    "start_time": "2022-09-07T08:46:58.693Z"
   },
   {
    "duration": 388,
    "start_time": "2022-09-07T08:47:18.685Z"
   },
   {
    "duration": 303,
    "start_time": "2022-09-07T08:47:19.075Z"
   },
   {
    "duration": 6,
    "start_time": "2022-09-07T08:47:19.380Z"
   },
   {
    "duration": 42,
    "start_time": "2022-09-07T08:47:19.388Z"
   },
   {
    "duration": 25,
    "start_time": "2022-09-07T08:47:19.432Z"
   },
   {
    "duration": 17,
    "start_time": "2022-09-07T08:47:19.459Z"
   },
   {
    "duration": 6,
    "start_time": "2022-09-07T08:47:19.477Z"
   },
   {
    "duration": 57,
    "start_time": "2022-09-07T08:47:19.484Z"
   },
   {
    "duration": 35,
    "start_time": "2022-09-07T08:47:19.547Z"
   },
   {
    "duration": 21,
    "start_time": "2022-09-07T08:47:19.586Z"
   },
   {
    "duration": 83,
    "start_time": "2022-09-07T08:47:19.612Z"
   },
   {
    "duration": 78,
    "start_time": "2022-09-07T08:47:19.697Z"
   },
   {
    "duration": 75,
    "start_time": "2022-09-07T08:47:19.777Z"
   },
   {
    "duration": 34,
    "start_time": "2022-09-07T08:47:19.854Z"
   },
   {
    "duration": 3,
    "start_time": "2022-09-07T08:47:19.889Z"
   },
   {
    "duration": 26,
    "start_time": "2022-09-07T08:47:19.893Z"
   },
   {
    "duration": 62,
    "start_time": "2022-09-07T08:47:19.920Z"
   },
   {
    "duration": 10,
    "start_time": "2022-09-07T08:47:19.983Z"
   },
   {
    "duration": 11,
    "start_time": "2022-09-07T08:47:19.995Z"
   },
   {
    "duration": 28,
    "start_time": "2022-09-07T08:47:20.014Z"
   },
   {
    "duration": 28,
    "start_time": "2022-09-07T08:47:20.044Z"
   },
   {
    "duration": 18,
    "start_time": "2022-09-07T08:47:20.073Z"
   },
   {
    "duration": 26,
    "start_time": "2022-09-07T08:47:20.093Z"
   },
   {
    "duration": 39,
    "start_time": "2022-09-07T08:47:20.123Z"
   },
   {
    "duration": 14,
    "start_time": "2022-09-07T08:47:20.164Z"
   },
   {
    "duration": 12,
    "start_time": "2022-09-07T08:47:20.180Z"
   },
   {
    "duration": 11,
    "start_time": "2022-09-07T08:47:20.193Z"
   },
   {
    "duration": 46,
    "start_time": "2022-09-07T08:47:20.212Z"
   },
   {
    "duration": 10,
    "start_time": "2022-09-07T08:47:20.260Z"
   },
   {
    "duration": 4,
    "start_time": "2022-09-07T08:47:20.271Z"
   },
   {
    "duration": 67,
    "start_time": "2022-09-07T08:47:20.276Z"
   },
   {
    "duration": 21,
    "start_time": "2022-09-07T08:47:20.346Z"
   },
   {
    "duration": 52,
    "start_time": "2022-09-07T08:47:20.369Z"
   },
   {
    "duration": 29,
    "start_time": "2022-09-07T08:47:20.423Z"
   },
   {
    "duration": 7,
    "start_time": "2022-09-07T08:47:20.453Z"
   },
   {
    "duration": 7,
    "start_time": "2022-09-07T08:47:20.461Z"
   },
   {
    "duration": 4,
    "start_time": "2022-09-07T08:47:20.470Z"
   },
   {
    "duration": 6,
    "start_time": "2022-09-07T08:47:20.476Z"
   },
   {
    "duration": 454,
    "start_time": "2022-09-07T08:48:06.410Z"
   },
   {
    "duration": 312,
    "start_time": "2022-09-07T08:48:06.866Z"
   },
   {
    "duration": 6,
    "start_time": "2022-09-07T08:48:07.179Z"
   },
   {
    "duration": 46,
    "start_time": "2022-09-07T08:48:07.187Z"
   },
   {
    "duration": 14,
    "start_time": "2022-09-07T08:48:07.238Z"
   },
   {
    "duration": 15,
    "start_time": "2022-09-07T08:48:07.253Z"
   },
   {
    "duration": 7,
    "start_time": "2022-09-07T08:48:07.269Z"
   },
   {
    "duration": 49,
    "start_time": "2022-09-07T08:48:07.277Z"
   },
   {
    "duration": 43,
    "start_time": "2022-09-07T08:48:07.327Z"
   },
   {
    "duration": 20,
    "start_time": "2022-09-07T08:48:07.373Z"
   },
   {
    "duration": 81,
    "start_time": "2022-09-07T08:48:07.394Z"
   },
   {
    "duration": 86,
    "start_time": "2022-09-07T08:48:07.477Z"
   },
   {
    "duration": 66,
    "start_time": "2022-09-07T08:48:07.565Z"
   },
   {
    "duration": 44,
    "start_time": "2022-09-07T08:48:07.633Z"
   },
   {
    "duration": 3,
    "start_time": "2022-09-07T08:48:07.679Z"
   },
   {
    "duration": 34,
    "start_time": "2022-09-07T08:48:07.683Z"
   },
   {
    "duration": 63,
    "start_time": "2022-09-07T08:48:07.725Z"
   },
   {
    "duration": 12,
    "start_time": "2022-09-07T08:48:07.790Z"
   },
   {
    "duration": 53,
    "start_time": "2022-09-07T08:48:07.804Z"
   },
   {
    "duration": 18,
    "start_time": "2022-09-07T08:48:07.859Z"
   },
   {
    "duration": 46,
    "start_time": "2022-09-07T08:48:07.879Z"
   },
   {
    "duration": 26,
    "start_time": "2022-09-07T08:48:07.927Z"
   },
   {
    "duration": 14,
    "start_time": "2022-09-07T08:48:07.955Z"
   },
   {
    "duration": 13,
    "start_time": "2022-09-07T08:48:07.971Z"
   },
   {
    "duration": 15,
    "start_time": "2022-09-07T08:48:07.986Z"
   },
   {
    "duration": 30,
    "start_time": "2022-09-07T08:48:08.008Z"
   },
   {
    "duration": 19,
    "start_time": "2022-09-07T08:48:08.040Z"
   },
   {
    "duration": 15,
    "start_time": "2022-09-07T08:48:08.062Z"
   },
   {
    "duration": 9,
    "start_time": "2022-09-07T08:48:08.079Z"
   },
   {
    "duration": 3,
    "start_time": "2022-09-07T08:48:08.090Z"
   },
   {
    "duration": 499,
    "start_time": "2022-09-07T08:48:08.094Z"
   },
   {
    "duration": 0,
    "start_time": "2022-09-07T08:48:08.595Z"
   },
   {
    "duration": 0,
    "start_time": "2022-09-07T08:48:08.596Z"
   },
   {
    "duration": 0,
    "start_time": "2022-09-07T08:48:08.597Z"
   },
   {
    "duration": 0,
    "start_time": "2022-09-07T08:48:08.598Z"
   },
   {
    "duration": 0,
    "start_time": "2022-09-07T08:48:08.599Z"
   },
   {
    "duration": 0,
    "start_time": "2022-09-07T08:48:08.600Z"
   },
   {
    "duration": 0,
    "start_time": "2022-09-07T08:48:08.601Z"
   },
   {
    "duration": 389,
    "start_time": "2022-09-07T08:48:19.876Z"
   },
   {
    "duration": 308,
    "start_time": "2022-09-07T08:48:20.268Z"
   },
   {
    "duration": 6,
    "start_time": "2022-09-07T08:48:20.577Z"
   },
   {
    "duration": 50,
    "start_time": "2022-09-07T08:48:20.585Z"
   },
   {
    "duration": 26,
    "start_time": "2022-09-07T08:48:20.636Z"
   },
   {
    "duration": 16,
    "start_time": "2022-09-07T08:48:20.664Z"
   },
   {
    "duration": 6,
    "start_time": "2022-09-07T08:48:20.682Z"
   },
   {
    "duration": 52,
    "start_time": "2022-09-07T08:48:20.689Z"
   },
   {
    "duration": 45,
    "start_time": "2022-09-07T08:48:20.745Z"
   },
   {
    "duration": 47,
    "start_time": "2022-09-07T08:48:20.794Z"
   },
   {
    "duration": 90,
    "start_time": "2022-09-07T08:48:20.843Z"
   },
   {
    "duration": 73,
    "start_time": "2022-09-07T08:48:20.937Z"
   },
   {
    "duration": 65,
    "start_time": "2022-09-07T08:48:21.012Z"
   },
   {
    "duration": 68,
    "start_time": "2022-09-07T08:48:21.079Z"
   },
   {
    "duration": 5,
    "start_time": "2022-09-07T08:48:21.156Z"
   },
   {
    "duration": 20,
    "start_time": "2022-09-07T08:48:21.163Z"
   },
   {
    "duration": 64,
    "start_time": "2022-09-07T08:48:21.185Z"
   },
   {
    "duration": 17,
    "start_time": "2022-09-07T08:48:21.255Z"
   },
   {
    "duration": 10,
    "start_time": "2022-09-07T08:48:21.274Z"
   },
   {
    "duration": 4,
    "start_time": "2022-09-07T08:48:21.285Z"
   },
   {
    "duration": 25,
    "start_time": "2022-09-07T08:48:21.291Z"
   },
   {
    "duration": 29,
    "start_time": "2022-09-07T08:48:21.323Z"
   },
   {
    "duration": 14,
    "start_time": "2022-09-07T08:48:21.353Z"
   },
   {
    "duration": 12,
    "start_time": "2022-09-07T08:48:21.368Z"
   },
   {
    "duration": 19,
    "start_time": "2022-09-07T08:48:21.382Z"
   },
   {
    "duration": 18,
    "start_time": "2022-09-07T08:48:21.403Z"
   },
   {
    "duration": 37,
    "start_time": "2022-09-07T08:48:21.423Z"
   },
   {
    "duration": 12,
    "start_time": "2022-09-07T08:48:21.463Z"
   },
   {
    "duration": 10,
    "start_time": "2022-09-07T08:48:21.477Z"
   },
   {
    "duration": 5,
    "start_time": "2022-09-07T08:48:21.488Z"
   },
   {
    "duration": 61,
    "start_time": "2022-09-07T08:48:21.494Z"
   },
   {
    "duration": 21,
    "start_time": "2022-09-07T08:48:21.557Z"
   },
   {
    "duration": 76,
    "start_time": "2022-09-07T08:48:21.580Z"
   },
   {
    "duration": 24,
    "start_time": "2022-09-07T08:48:21.658Z"
   },
   {
    "duration": 2,
    "start_time": "2022-09-07T08:48:21.684Z"
   },
   {
    "duration": 5,
    "start_time": "2022-09-07T08:48:21.688Z"
   },
   {
    "duration": 19,
    "start_time": "2022-09-07T08:48:21.710Z"
   },
   {
    "duration": 20,
    "start_time": "2022-09-07T08:48:21.734Z"
   },
   {
    "duration": 395,
    "start_time": "2022-09-07T08:57:12.055Z"
   },
   {
    "duration": 311,
    "start_time": "2022-09-07T08:57:12.452Z"
   },
   {
    "duration": 6,
    "start_time": "2022-09-07T08:57:12.765Z"
   },
   {
    "duration": 38,
    "start_time": "2022-09-07T08:57:12.773Z"
   },
   {
    "duration": 9,
    "start_time": "2022-09-07T08:57:12.815Z"
   },
   {
    "duration": 18,
    "start_time": "2022-09-07T08:57:12.826Z"
   },
   {
    "duration": 19,
    "start_time": "2022-09-07T08:57:12.845Z"
   },
   {
    "duration": 38,
    "start_time": "2022-09-07T08:57:12.865Z"
   },
   {
    "duration": 43,
    "start_time": "2022-09-07T08:57:12.914Z"
   },
   {
    "duration": 20,
    "start_time": "2022-09-07T08:57:12.959Z"
   },
   {
    "duration": 76,
    "start_time": "2022-09-07T08:57:12.981Z"
   },
   {
    "duration": 78,
    "start_time": "2022-09-07T08:57:13.058Z"
   },
   {
    "duration": 54,
    "start_time": "2022-09-07T08:57:13.137Z"
   },
   {
    "duration": 58,
    "start_time": "2022-09-07T08:57:13.194Z"
   },
   {
    "duration": 2,
    "start_time": "2022-09-07T08:57:13.254Z"
   },
   {
    "duration": 13,
    "start_time": "2022-09-07T08:57:13.258Z"
   },
   {
    "duration": 57,
    "start_time": "2022-09-07T08:57:13.273Z"
   },
   {
    "duration": 12,
    "start_time": "2022-09-07T08:57:13.334Z"
   },
   {
    "duration": 10,
    "start_time": "2022-09-07T08:57:13.348Z"
   },
   {
    "duration": 3,
    "start_time": "2022-09-07T08:57:13.360Z"
   },
   {
    "duration": 26,
    "start_time": "2022-09-07T08:57:13.364Z"
   },
   {
    "duration": 32,
    "start_time": "2022-09-07T08:57:13.391Z"
   },
   {
    "duration": 25,
    "start_time": "2022-09-07T08:57:13.424Z"
   },
   {
    "duration": 13,
    "start_time": "2022-09-07T08:57:13.451Z"
   },
   {
    "duration": 14,
    "start_time": "2022-09-07T08:57:13.466Z"
   },
   {
    "duration": 12,
    "start_time": "2022-09-07T08:57:13.481Z"
   },
   {
    "duration": 22,
    "start_time": "2022-09-07T08:57:13.495Z"
   },
   {
    "duration": 39,
    "start_time": "2022-09-07T08:57:13.518Z"
   },
   {
    "duration": 15,
    "start_time": "2022-09-07T08:57:13.558Z"
   },
   {
    "duration": 6,
    "start_time": "2022-09-07T08:57:13.574Z"
   },
   {
    "duration": 112,
    "start_time": "2022-09-07T08:57:13.581Z"
   },
   {
    "duration": 0,
    "start_time": "2022-09-07T08:57:13.694Z"
   },
   {
    "duration": 0,
    "start_time": "2022-09-07T08:57:13.696Z"
   },
   {
    "duration": 0,
    "start_time": "2022-09-07T08:57:13.697Z"
   },
   {
    "duration": 0,
    "start_time": "2022-09-07T08:57:13.699Z"
   },
   {
    "duration": 0,
    "start_time": "2022-09-07T08:57:13.700Z"
   },
   {
    "duration": 0,
    "start_time": "2022-09-07T08:57:13.701Z"
   },
   {
    "duration": 0,
    "start_time": "2022-09-07T08:57:13.701Z"
   },
   {
    "duration": 374,
    "start_time": "2022-09-07T08:57:41.048Z"
   },
   {
    "duration": 283,
    "start_time": "2022-09-07T08:57:41.427Z"
   },
   {
    "duration": 10,
    "start_time": "2022-09-07T08:57:41.711Z"
   },
   {
    "duration": 40,
    "start_time": "2022-09-07T08:57:41.726Z"
   },
   {
    "duration": 3,
    "start_time": "2022-09-07T08:57:41.768Z"
   },
   {
    "duration": 14,
    "start_time": "2022-09-07T08:57:41.772Z"
   },
   {
    "duration": 7,
    "start_time": "2022-09-07T08:57:41.788Z"
   },
   {
    "duration": 52,
    "start_time": "2022-09-07T08:57:41.796Z"
   },
   {
    "duration": 35,
    "start_time": "2022-09-07T08:57:41.850Z"
   },
   {
    "duration": 24,
    "start_time": "2022-09-07T08:57:41.886Z"
   },
   {
    "duration": 77,
    "start_time": "2022-09-07T08:57:41.912Z"
   },
   {
    "duration": 77,
    "start_time": "2022-09-07T08:57:41.990Z"
   },
   {
    "duration": 67,
    "start_time": "2022-09-07T08:57:42.069Z"
   },
   {
    "duration": 34,
    "start_time": "2022-09-07T08:57:42.139Z"
   },
   {
    "duration": 3,
    "start_time": "2022-09-07T08:57:42.174Z"
   },
   {
    "duration": 29,
    "start_time": "2022-09-07T08:57:42.179Z"
   },
   {
    "duration": 44,
    "start_time": "2022-09-07T08:57:42.209Z"
   },
   {
    "duration": 10,
    "start_time": "2022-09-07T08:57:42.254Z"
   },
   {
    "duration": 11,
    "start_time": "2022-09-07T08:57:42.265Z"
   },
   {
    "duration": 4,
    "start_time": "2022-09-07T08:57:42.277Z"
   },
   {
    "duration": 64,
    "start_time": "2022-09-07T08:57:42.282Z"
   },
   {
    "duration": 12,
    "start_time": "2022-09-07T08:57:42.348Z"
   },
   {
    "duration": 14,
    "start_time": "2022-09-07T08:57:42.361Z"
   },
   {
    "duration": 15,
    "start_time": "2022-09-07T08:57:42.376Z"
   },
   {
    "duration": 27,
    "start_time": "2022-09-07T08:57:42.392Z"
   },
   {
    "duration": 16,
    "start_time": "2022-09-07T08:57:42.426Z"
   },
   {
    "duration": 6,
    "start_time": "2022-09-07T08:57:42.444Z"
   },
   {
    "duration": 12,
    "start_time": "2022-09-07T08:57:42.452Z"
   },
   {
    "duration": 10,
    "start_time": "2022-09-07T08:57:42.465Z"
   },
   {
    "duration": 5,
    "start_time": "2022-09-07T08:57:42.476Z"
   },
   {
    "duration": 98,
    "start_time": "2022-09-07T08:57:42.482Z"
   },
   {
    "duration": 0,
    "start_time": "2022-09-07T08:57:42.582Z"
   },
   {
    "duration": 0,
    "start_time": "2022-09-07T08:57:42.584Z"
   },
   {
    "duration": 0,
    "start_time": "2022-09-07T08:57:42.585Z"
   },
   {
    "duration": 0,
    "start_time": "2022-09-07T08:57:42.587Z"
   },
   {
    "duration": 0,
    "start_time": "2022-09-07T08:57:42.588Z"
   },
   {
    "duration": 0,
    "start_time": "2022-09-07T08:57:42.589Z"
   },
   {
    "duration": 0,
    "start_time": "2022-09-07T08:57:42.590Z"
   },
   {
    "duration": 392,
    "start_time": "2022-09-07T08:57:52.439Z"
   },
   {
    "duration": 303,
    "start_time": "2022-09-07T08:57:52.833Z"
   },
   {
    "duration": 8,
    "start_time": "2022-09-07T08:57:53.138Z"
   },
   {
    "duration": 26,
    "start_time": "2022-09-07T08:57:53.148Z"
   },
   {
    "duration": 3,
    "start_time": "2022-09-07T08:57:53.176Z"
   },
   {
    "duration": 32,
    "start_time": "2022-09-07T08:57:53.180Z"
   },
   {
    "duration": 24,
    "start_time": "2022-09-07T08:57:53.218Z"
   },
   {
    "duration": 43,
    "start_time": "2022-09-07T08:57:53.244Z"
   },
   {
    "duration": 45,
    "start_time": "2022-09-07T08:57:53.289Z"
   },
   {
    "duration": 22,
    "start_time": "2022-09-07T08:57:53.338Z"
   },
   {
    "duration": 79,
    "start_time": "2022-09-07T08:57:53.362Z"
   },
   {
    "duration": 76,
    "start_time": "2022-09-07T08:57:53.443Z"
   },
   {
    "duration": 56,
    "start_time": "2022-09-07T08:57:53.525Z"
   },
   {
    "duration": 51,
    "start_time": "2022-09-07T08:57:53.583Z"
   },
   {
    "duration": 3,
    "start_time": "2022-09-07T08:57:53.636Z"
   },
   {
    "duration": 16,
    "start_time": "2022-09-07T08:57:53.640Z"
   },
   {
    "duration": 33,
    "start_time": "2022-09-07T08:57:53.658Z"
   },
   {
    "duration": 29,
    "start_time": "2022-09-07T08:57:53.692Z"
   },
   {
    "duration": 15,
    "start_time": "2022-09-07T08:57:53.722Z"
   },
   {
    "duration": 6,
    "start_time": "2022-09-07T08:57:53.739Z"
   },
   {
    "duration": 21,
    "start_time": "2022-09-07T08:57:53.746Z"
   },
   {
    "duration": 14,
    "start_time": "2022-09-07T08:57:53.769Z"
   },
   {
    "duration": 29,
    "start_time": "2022-09-07T08:57:53.784Z"
   },
   {
    "duration": 32,
    "start_time": "2022-09-07T08:57:53.822Z"
   },
   {
    "duration": 15,
    "start_time": "2022-09-07T08:57:53.855Z"
   },
   {
    "duration": 13,
    "start_time": "2022-09-07T08:57:53.871Z"
   },
   {
    "duration": 6,
    "start_time": "2022-09-07T08:57:53.886Z"
   },
   {
    "duration": 22,
    "start_time": "2022-09-07T08:57:53.895Z"
   },
   {
    "duration": 30,
    "start_time": "2022-09-07T08:57:53.919Z"
   },
   {
    "duration": 4,
    "start_time": "2022-09-07T08:57:53.951Z"
   },
   {
    "duration": 58,
    "start_time": "2022-09-07T08:57:53.957Z"
   },
   {
    "duration": 31,
    "start_time": "2022-09-07T08:57:54.017Z"
   },
   {
    "duration": 68,
    "start_time": "2022-09-07T08:57:54.050Z"
   },
   {
    "duration": 30,
    "start_time": "2022-09-07T08:57:54.120Z"
   },
   {
    "duration": 2,
    "start_time": "2022-09-07T08:57:54.151Z"
   },
   {
    "duration": 7,
    "start_time": "2022-09-07T08:57:54.155Z"
   },
   {
    "duration": 21,
    "start_time": "2022-09-07T08:57:54.163Z"
   },
   {
    "duration": 9,
    "start_time": "2022-09-07T08:57:54.186Z"
   },
   {
    "duration": 438,
    "start_time": "2022-09-07T08:59:57.987Z"
   },
   {
    "duration": 311,
    "start_time": "2022-09-07T08:59:58.432Z"
   },
   {
    "duration": 7,
    "start_time": "2022-09-07T08:59:58.745Z"
   },
   {
    "duration": 43,
    "start_time": "2022-09-07T08:59:58.754Z"
   },
   {
    "duration": 12,
    "start_time": "2022-09-07T08:59:58.800Z"
   },
   {
    "duration": 31,
    "start_time": "2022-09-07T08:59:58.815Z"
   },
   {
    "duration": 8,
    "start_time": "2022-09-07T08:59:58.848Z"
   },
   {
    "duration": 43,
    "start_time": "2022-09-07T08:59:58.857Z"
   },
   {
    "duration": 47,
    "start_time": "2022-09-07T08:59:58.901Z"
   },
   {
    "duration": 19,
    "start_time": "2022-09-07T08:59:58.949Z"
   },
   {
    "duration": 78,
    "start_time": "2022-09-07T08:59:58.970Z"
   },
   {
    "duration": 65,
    "start_time": "2022-09-07T08:59:59.049Z"
   },
   {
    "duration": 55,
    "start_time": "2022-09-07T08:59:59.115Z"
   },
   {
    "duration": 63,
    "start_time": "2022-09-07T08:59:59.174Z"
   },
   {
    "duration": 3,
    "start_time": "2022-09-07T08:59:59.239Z"
   },
   {
    "duration": 20,
    "start_time": "2022-09-07T08:59:59.244Z"
   },
   {
    "duration": 33,
    "start_time": "2022-09-07T08:59:59.266Z"
   },
   {
    "duration": 24,
    "start_time": "2022-09-07T08:59:59.301Z"
   },
   {
    "duration": 15,
    "start_time": "2022-09-07T08:59:59.332Z"
   },
   {
    "duration": 4,
    "start_time": "2022-09-07T08:59:59.348Z"
   },
   {
    "duration": 22,
    "start_time": "2022-09-07T08:59:59.353Z"
   },
   {
    "duration": 13,
    "start_time": "2022-09-07T08:59:59.376Z"
   },
   {
    "duration": 18,
    "start_time": "2022-09-07T08:59:59.391Z"
   },
   {
    "duration": 18,
    "start_time": "2022-09-07T08:59:59.412Z"
   },
   {
    "duration": 21,
    "start_time": "2022-09-07T08:59:59.434Z"
   },
   {
    "duration": 12,
    "start_time": "2022-09-07T08:59:59.457Z"
   },
   {
    "duration": 6,
    "start_time": "2022-09-07T08:59:59.471Z"
   },
   {
    "duration": 47,
    "start_time": "2022-09-07T08:59:59.479Z"
   },
   {
    "duration": 9,
    "start_time": "2022-09-07T08:59:59.535Z"
   },
   {
    "duration": 5,
    "start_time": "2022-09-07T08:59:59.546Z"
   },
   {
    "duration": 41,
    "start_time": "2022-09-07T08:59:59.552Z"
   },
   {
    "duration": 32,
    "start_time": "2022-09-07T08:59:59.594Z"
   },
   {
    "duration": 47,
    "start_time": "2022-09-07T08:59:59.627Z"
   },
   {
    "duration": 25,
    "start_time": "2022-09-07T08:59:59.676Z"
   },
   {
    "duration": 13,
    "start_time": "2022-09-07T08:59:59.706Z"
   },
   {
    "duration": 26,
    "start_time": "2022-09-07T08:59:59.721Z"
   },
   {
    "duration": 5,
    "start_time": "2022-09-07T08:59:59.748Z"
   },
   {
    "duration": 8,
    "start_time": "2022-09-07T08:59:59.754Z"
   },
   {
    "duration": 415,
    "start_time": "2022-09-07T09:00:46.300Z"
   },
   {
    "duration": 273,
    "start_time": "2022-09-07T09:00:46.717Z"
   },
   {
    "duration": 6,
    "start_time": "2022-09-07T09:00:46.991Z"
   },
   {
    "duration": 54,
    "start_time": "2022-09-07T09:00:46.998Z"
   },
   {
    "duration": 4,
    "start_time": "2022-09-07T09:00:47.054Z"
   },
   {
    "duration": 20,
    "start_time": "2022-09-07T09:00:47.059Z"
   },
   {
    "duration": 6,
    "start_time": "2022-09-07T09:00:47.081Z"
   },
   {
    "duration": 56,
    "start_time": "2022-09-07T09:00:47.089Z"
   },
   {
    "duration": 36,
    "start_time": "2022-09-07T09:00:47.147Z"
   },
   {
    "duration": 42,
    "start_time": "2022-09-07T09:00:47.185Z"
   },
   {
    "duration": 71,
    "start_time": "2022-09-07T09:00:47.229Z"
   },
   {
    "duration": 70,
    "start_time": "2022-09-07T09:00:47.301Z"
   },
   {
    "duration": 75,
    "start_time": "2022-09-07T09:00:47.373Z"
   },
   {
    "duration": 32,
    "start_time": "2022-09-07T09:00:47.450Z"
   },
   {
    "duration": 2,
    "start_time": "2022-09-07T09:00:47.484Z"
   },
   {
    "duration": 36,
    "start_time": "2022-09-07T09:00:47.487Z"
   },
   {
    "duration": 39,
    "start_time": "2022-09-07T09:00:47.528Z"
   },
   {
    "duration": 10,
    "start_time": "2022-09-07T09:00:47.568Z"
   },
   {
    "duration": 9,
    "start_time": "2022-09-07T09:00:47.580Z"
   },
   {
    "duration": 3,
    "start_time": "2022-09-07T09:00:47.591Z"
   },
   {
    "duration": 31,
    "start_time": "2022-09-07T09:00:47.596Z"
   },
   {
    "duration": 17,
    "start_time": "2022-09-07T09:00:47.632Z"
   },
   {
    "duration": 13,
    "start_time": "2022-09-07T09:00:47.651Z"
   },
   {
    "duration": 12,
    "start_time": "2022-09-07T09:00:47.666Z"
   },
   {
    "duration": 37,
    "start_time": "2022-09-07T09:00:47.679Z"
   },
   {
    "duration": 17,
    "start_time": "2022-09-07T09:00:47.725Z"
   },
   {
    "duration": 6,
    "start_time": "2022-09-07T09:00:47.744Z"
   },
   {
    "duration": 14,
    "start_time": "2022-09-07T09:00:47.751Z"
   },
   {
    "duration": 9,
    "start_time": "2022-09-07T09:00:47.767Z"
   },
   {
    "duration": 4,
    "start_time": "2022-09-07T09:00:47.778Z"
   },
   {
    "duration": 66,
    "start_time": "2022-09-07T09:00:47.783Z"
   },
   {
    "duration": 25,
    "start_time": "2022-09-07T09:00:47.851Z"
   },
   {
    "duration": 69,
    "start_time": "2022-09-07T09:00:47.878Z"
   },
   {
    "duration": 24,
    "start_time": "2022-09-07T09:00:47.948Z"
   },
   {
    "duration": 7,
    "start_time": "2022-09-07T09:00:47.974Z"
   },
   {
    "duration": 6,
    "start_time": "2022-09-07T09:00:47.983Z"
   },
   {
    "duration": 27,
    "start_time": "2022-09-07T09:00:47.990Z"
   },
   {
    "duration": 24,
    "start_time": "2022-09-07T09:00:48.019Z"
   },
   {
    "duration": 425,
    "start_time": "2022-09-07T14:46:53.061Z"
   },
   {
    "duration": 387,
    "start_time": "2022-09-07T14:46:53.488Z"
   },
   {
    "duration": 10,
    "start_time": "2022-09-07T14:46:53.877Z"
   },
   {
    "duration": 70,
    "start_time": "2022-09-07T14:46:53.889Z"
   },
   {
    "duration": 4,
    "start_time": "2022-09-07T14:46:53.960Z"
   },
   {
    "duration": 33,
    "start_time": "2022-09-07T14:46:53.965Z"
   },
   {
    "duration": 40,
    "start_time": "2022-09-07T14:46:53.999Z"
   },
   {
    "duration": 72,
    "start_time": "2022-09-07T14:46:54.041Z"
   },
   {
    "duration": 38,
    "start_time": "2022-09-07T14:46:54.115Z"
   },
   {
    "duration": 32,
    "start_time": "2022-09-07T14:46:54.157Z"
   },
   {
    "duration": 87,
    "start_time": "2022-09-07T14:46:54.191Z"
   },
   {
    "duration": 64,
    "start_time": "2022-09-07T14:46:54.280Z"
   },
   {
    "duration": 62,
    "start_time": "2022-09-07T14:46:54.346Z"
   },
   {
    "duration": 39,
    "start_time": "2022-09-07T14:46:54.410Z"
   },
   {
    "duration": 14,
    "start_time": "2022-09-07T14:46:54.451Z"
   },
   {
    "duration": 44,
    "start_time": "2022-09-07T14:46:54.466Z"
   },
   {
    "duration": 65,
    "start_time": "2022-09-07T14:46:54.512Z"
   },
   {
    "duration": 12,
    "start_time": "2022-09-07T14:46:54.579Z"
   },
   {
    "duration": 23,
    "start_time": "2022-09-07T14:46:54.593Z"
   },
   {
    "duration": 34,
    "start_time": "2022-09-07T14:46:54.618Z"
   },
   {
    "duration": 57,
    "start_time": "2022-09-07T14:46:54.654Z"
   },
   {
    "duration": 30,
    "start_time": "2022-09-07T14:46:54.713Z"
   },
   {
    "duration": 40,
    "start_time": "2022-09-07T14:46:54.745Z"
   },
   {
    "duration": 26,
    "start_time": "2022-09-07T14:46:54.787Z"
   },
   {
    "duration": 24,
    "start_time": "2022-09-07T14:46:54.815Z"
   },
   {
    "duration": 40,
    "start_time": "2022-09-07T14:46:54.840Z"
   },
   {
    "duration": 23,
    "start_time": "2022-09-07T14:46:54.882Z"
   },
   {
    "duration": 36,
    "start_time": "2022-09-07T14:46:54.908Z"
   },
   {
    "duration": 29,
    "start_time": "2022-09-07T14:46:54.946Z"
   },
   {
    "duration": 11,
    "start_time": "2022-09-07T14:46:54.977Z"
   },
   {
    "duration": 72,
    "start_time": "2022-09-07T14:46:54.989Z"
   },
   {
    "duration": 23,
    "start_time": "2022-09-07T14:46:55.062Z"
   },
   {
    "duration": 46,
    "start_time": "2022-09-07T14:46:55.087Z"
   },
   {
    "duration": 24,
    "start_time": "2022-09-07T14:46:55.135Z"
   },
   {
    "duration": 39,
    "start_time": "2022-09-07T14:46:55.161Z"
   },
   {
    "duration": 28,
    "start_time": "2022-09-07T14:46:55.201Z"
   },
   {
    "duration": 42,
    "start_time": "2022-09-07T14:46:55.231Z"
   },
   {
    "duration": 17,
    "start_time": "2022-09-07T14:46:55.275Z"
   },
   {
    "duration": 416,
    "start_time": "2022-09-08T08:31:09.392Z"
   },
   {
    "duration": 573,
    "start_time": "2022-09-08T08:31:09.810Z"
   },
   {
    "duration": 6,
    "start_time": "2022-09-08T08:31:10.386Z"
   },
   {
    "duration": 35,
    "start_time": "2022-09-08T08:31:10.395Z"
   },
   {
    "duration": 3,
    "start_time": "2022-09-08T08:31:10.433Z"
   },
   {
    "duration": 18,
    "start_time": "2022-09-08T08:31:10.438Z"
   },
   {
    "duration": 12,
    "start_time": "2022-09-08T08:31:10.459Z"
   },
   {
    "duration": 66,
    "start_time": "2022-09-08T08:31:10.473Z"
   },
   {
    "duration": 37,
    "start_time": "2022-09-08T08:31:10.540Z"
   },
   {
    "duration": 36,
    "start_time": "2022-09-08T08:31:10.580Z"
   },
   {
    "duration": 62,
    "start_time": "2022-09-08T08:31:10.618Z"
   },
   {
    "duration": 82,
    "start_time": "2022-09-08T08:31:10.681Z"
   },
   {
    "duration": 64,
    "start_time": "2022-09-08T08:31:10.765Z"
   },
   {
    "duration": 38,
    "start_time": "2022-09-08T08:31:10.831Z"
   },
   {
    "duration": 3,
    "start_time": "2022-09-08T08:31:10.870Z"
   },
   {
    "duration": 12,
    "start_time": "2022-09-08T08:31:10.875Z"
   },
   {
    "duration": 39,
    "start_time": "2022-09-08T08:31:10.906Z"
   },
   {
    "duration": 11,
    "start_time": "2022-09-08T08:31:10.946Z"
   },
   {
    "duration": 10,
    "start_time": "2022-09-08T08:31:10.959Z"
   },
   {
    "duration": 6,
    "start_time": "2022-09-08T08:31:10.970Z"
   },
   {
    "duration": 42,
    "start_time": "2022-09-08T08:31:10.977Z"
   },
   {
    "duration": 13,
    "start_time": "2022-09-08T08:31:11.021Z"
   },
   {
    "duration": 16,
    "start_time": "2022-09-08T08:31:11.036Z"
   },
   {
    "duration": 14,
    "start_time": "2022-09-08T08:31:11.054Z"
   },
   {
    "duration": 44,
    "start_time": "2022-09-08T08:31:11.070Z"
   },
   {
    "duration": 15,
    "start_time": "2022-09-08T08:31:11.115Z"
   },
   {
    "duration": 7,
    "start_time": "2022-09-08T08:31:11.131Z"
   },
   {
    "duration": 15,
    "start_time": "2022-09-08T08:31:11.141Z"
   },
   {
    "duration": 11,
    "start_time": "2022-09-08T08:31:11.157Z"
   },
   {
    "duration": 5,
    "start_time": "2022-09-08T08:31:11.170Z"
   },
   {
    "duration": 70,
    "start_time": "2022-09-08T08:31:11.176Z"
   },
   {
    "duration": 21,
    "start_time": "2022-09-08T08:31:11.248Z"
   },
   {
    "duration": 53,
    "start_time": "2022-09-08T08:31:11.271Z"
   },
   {
    "duration": 22,
    "start_time": "2022-09-08T08:31:11.325Z"
   },
   {
    "duration": 8,
    "start_time": "2022-09-08T08:31:11.349Z"
   },
   {
    "duration": 3,
    "start_time": "2022-09-08T08:31:11.359Z"
   },
   {
    "duration": 94,
    "start_time": "2022-09-08T08:31:11.364Z"
   },
   {
    "duration": 0,
    "start_time": "2022-09-08T08:31:11.460Z"
   },
   {
    "duration": 0,
    "start_time": "2022-09-08T08:31:11.461Z"
   },
   {
    "duration": 387,
    "start_time": "2022-09-08T08:36:37.980Z"
   },
   {
    "duration": 249,
    "start_time": "2022-09-08T08:36:38.369Z"
   },
   {
    "duration": 7,
    "start_time": "2022-09-08T08:36:38.619Z"
   },
   {
    "duration": 29,
    "start_time": "2022-09-08T08:36:38.627Z"
   },
   {
    "duration": 3,
    "start_time": "2022-09-08T08:36:38.659Z"
   },
   {
    "duration": 14,
    "start_time": "2022-09-08T08:36:38.664Z"
   },
   {
    "duration": 28,
    "start_time": "2022-09-08T08:36:38.680Z"
   },
   {
    "duration": 44,
    "start_time": "2022-09-08T08:36:38.710Z"
   },
   {
    "duration": 82,
    "start_time": "2022-09-08T08:36:38.756Z"
   },
   {
    "duration": 0,
    "start_time": "2022-09-08T08:36:38.840Z"
   },
   {
    "duration": 0,
    "start_time": "2022-09-08T08:36:38.841Z"
   },
   {
    "duration": 0,
    "start_time": "2022-09-08T08:36:38.842Z"
   },
   {
    "duration": 0,
    "start_time": "2022-09-08T08:36:38.843Z"
   },
   {
    "duration": 0,
    "start_time": "2022-09-08T08:36:38.844Z"
   },
   {
    "duration": 0,
    "start_time": "2022-09-08T08:36:38.845Z"
   },
   {
    "duration": 0,
    "start_time": "2022-09-08T08:36:38.846Z"
   },
   {
    "duration": 0,
    "start_time": "2022-09-08T08:36:38.847Z"
   },
   {
    "duration": 0,
    "start_time": "2022-09-08T08:36:38.848Z"
   },
   {
    "duration": 0,
    "start_time": "2022-09-08T08:36:38.849Z"
   },
   {
    "duration": 0,
    "start_time": "2022-09-08T08:36:38.850Z"
   },
   {
    "duration": 0,
    "start_time": "2022-09-08T08:36:38.851Z"
   },
   {
    "duration": 1,
    "start_time": "2022-09-08T08:36:38.852Z"
   },
   {
    "duration": 0,
    "start_time": "2022-09-08T08:36:38.854Z"
   },
   {
    "duration": 0,
    "start_time": "2022-09-08T08:36:38.855Z"
   },
   {
    "duration": 0,
    "start_time": "2022-09-08T08:36:38.856Z"
   },
   {
    "duration": 0,
    "start_time": "2022-09-08T08:36:38.857Z"
   },
   {
    "duration": 0,
    "start_time": "2022-09-08T08:36:38.858Z"
   },
   {
    "duration": 0,
    "start_time": "2022-09-08T08:36:38.859Z"
   },
   {
    "duration": 0,
    "start_time": "2022-09-08T08:36:38.860Z"
   },
   {
    "duration": 0,
    "start_time": "2022-09-08T08:36:38.861Z"
   },
   {
    "duration": 0,
    "start_time": "2022-09-08T08:36:38.862Z"
   },
   {
    "duration": 0,
    "start_time": "2022-09-08T08:36:38.863Z"
   },
   {
    "duration": 0,
    "start_time": "2022-09-08T08:36:38.864Z"
   },
   {
    "duration": 0,
    "start_time": "2022-09-08T08:36:38.865Z"
   },
   {
    "duration": 0,
    "start_time": "2022-09-08T08:36:38.866Z"
   },
   {
    "duration": 0,
    "start_time": "2022-09-08T08:36:38.907Z"
   },
   {
    "duration": 0,
    "start_time": "2022-09-08T08:36:38.908Z"
   },
   {
    "duration": 0,
    "start_time": "2022-09-08T08:36:38.909Z"
   },
   {
    "duration": 0,
    "start_time": "2022-09-08T08:36:38.911Z"
   },
   {
    "duration": 368,
    "start_time": "2022-09-08T08:47:13.615Z"
   },
   {
    "duration": 238,
    "start_time": "2022-09-08T08:47:13.985Z"
   },
   {
    "duration": 6,
    "start_time": "2022-09-08T08:47:14.224Z"
   },
   {
    "duration": 34,
    "start_time": "2022-09-08T08:47:14.231Z"
   },
   {
    "duration": 2,
    "start_time": "2022-09-08T08:47:14.266Z"
   },
   {
    "duration": 27,
    "start_time": "2022-09-08T08:47:14.270Z"
   },
   {
    "duration": 13,
    "start_time": "2022-09-08T08:47:14.299Z"
   },
   {
    "duration": 40,
    "start_time": "2022-09-08T08:47:14.314Z"
   },
   {
    "duration": 54,
    "start_time": "2022-09-08T08:47:14.355Z"
   },
   {
    "duration": 0,
    "start_time": "2022-09-08T08:47:14.412Z"
   },
   {
    "duration": 0,
    "start_time": "2022-09-08T08:47:14.413Z"
   },
   {
    "duration": 0,
    "start_time": "2022-09-08T08:47:14.414Z"
   },
   {
    "duration": 0,
    "start_time": "2022-09-08T08:47:14.414Z"
   },
   {
    "duration": 0,
    "start_time": "2022-09-08T08:47:14.415Z"
   },
   {
    "duration": 0,
    "start_time": "2022-09-08T08:47:14.416Z"
   },
   {
    "duration": 0,
    "start_time": "2022-09-08T08:47:14.417Z"
   },
   {
    "duration": 0,
    "start_time": "2022-09-08T08:47:14.418Z"
   },
   {
    "duration": 0,
    "start_time": "2022-09-08T08:47:14.419Z"
   },
   {
    "duration": 0,
    "start_time": "2022-09-08T08:47:14.420Z"
   },
   {
    "duration": 0,
    "start_time": "2022-09-08T08:47:14.421Z"
   },
   {
    "duration": 0,
    "start_time": "2022-09-08T08:47:14.421Z"
   },
   {
    "duration": 0,
    "start_time": "2022-09-08T08:47:14.422Z"
   },
   {
    "duration": 0,
    "start_time": "2022-09-08T08:47:14.423Z"
   },
   {
    "duration": 0,
    "start_time": "2022-09-08T08:47:14.424Z"
   },
   {
    "duration": 0,
    "start_time": "2022-09-08T08:47:14.425Z"
   },
   {
    "duration": 0,
    "start_time": "2022-09-08T08:47:14.426Z"
   },
   {
    "duration": 0,
    "start_time": "2022-09-08T08:47:14.427Z"
   },
   {
    "duration": 0,
    "start_time": "2022-09-08T08:47:14.428Z"
   },
   {
    "duration": 0,
    "start_time": "2022-09-08T08:47:14.428Z"
   },
   {
    "duration": 0,
    "start_time": "2022-09-08T08:47:14.430Z"
   },
   {
    "duration": 0,
    "start_time": "2022-09-08T08:47:14.430Z"
   },
   {
    "duration": 0,
    "start_time": "2022-09-08T08:47:14.431Z"
   },
   {
    "duration": 0,
    "start_time": "2022-09-08T08:47:14.432Z"
   },
   {
    "duration": 0,
    "start_time": "2022-09-08T08:47:14.433Z"
   },
   {
    "duration": 0,
    "start_time": "2022-09-08T08:47:14.433Z"
   },
   {
    "duration": 0,
    "start_time": "2022-09-08T08:47:14.434Z"
   },
   {
    "duration": 0,
    "start_time": "2022-09-08T08:47:14.435Z"
   },
   {
    "duration": 0,
    "start_time": "2022-09-08T08:47:14.436Z"
   },
   {
    "duration": 0,
    "start_time": "2022-09-08T08:47:14.437Z"
   },
   {
    "duration": 382,
    "start_time": "2022-09-08T08:48:37.383Z"
   },
   {
    "duration": 229,
    "start_time": "2022-09-08T08:48:37.767Z"
   },
   {
    "duration": 9,
    "start_time": "2022-09-08T08:48:37.997Z"
   },
   {
    "duration": 25,
    "start_time": "2022-09-08T08:48:38.007Z"
   },
   {
    "duration": 3,
    "start_time": "2022-09-08T08:48:38.034Z"
   },
   {
    "duration": 14,
    "start_time": "2022-09-08T08:48:38.039Z"
   },
   {
    "duration": 5,
    "start_time": "2022-09-08T08:48:38.055Z"
   },
   {
    "duration": 50,
    "start_time": "2022-09-08T08:48:38.061Z"
   },
   {
    "duration": 55,
    "start_time": "2022-09-08T08:48:38.112Z"
   },
   {
    "duration": 0,
    "start_time": "2022-09-08T08:48:38.169Z"
   },
   {
    "duration": 0,
    "start_time": "2022-09-08T08:48:38.170Z"
   },
   {
    "duration": 0,
    "start_time": "2022-09-08T08:48:38.171Z"
   },
   {
    "duration": 0,
    "start_time": "2022-09-08T08:48:38.172Z"
   },
   {
    "duration": 0,
    "start_time": "2022-09-08T08:48:38.173Z"
   },
   {
    "duration": 0,
    "start_time": "2022-09-08T08:48:38.174Z"
   },
   {
    "duration": 0,
    "start_time": "2022-09-08T08:48:38.175Z"
   },
   {
    "duration": 0,
    "start_time": "2022-09-08T08:48:38.176Z"
   },
   {
    "duration": 0,
    "start_time": "2022-09-08T08:48:38.177Z"
   },
   {
    "duration": 0,
    "start_time": "2022-09-08T08:48:38.178Z"
   },
   {
    "duration": 0,
    "start_time": "2022-09-08T08:48:38.179Z"
   },
   {
    "duration": 0,
    "start_time": "2022-09-08T08:48:38.205Z"
   },
   {
    "duration": 0,
    "start_time": "2022-09-08T08:48:38.206Z"
   },
   {
    "duration": 0,
    "start_time": "2022-09-08T08:48:38.207Z"
   },
   {
    "duration": 0,
    "start_time": "2022-09-08T08:48:38.208Z"
   },
   {
    "duration": 0,
    "start_time": "2022-09-08T08:48:38.209Z"
   },
   {
    "duration": 0,
    "start_time": "2022-09-08T08:48:38.210Z"
   },
   {
    "duration": 0,
    "start_time": "2022-09-08T08:48:38.210Z"
   },
   {
    "duration": 0,
    "start_time": "2022-09-08T08:48:38.211Z"
   },
   {
    "duration": 0,
    "start_time": "2022-09-08T08:48:38.212Z"
   },
   {
    "duration": 0,
    "start_time": "2022-09-08T08:48:38.213Z"
   },
   {
    "duration": 0,
    "start_time": "2022-09-08T08:48:38.214Z"
   },
   {
    "duration": 0,
    "start_time": "2022-09-08T08:48:38.215Z"
   },
   {
    "duration": 0,
    "start_time": "2022-09-08T08:48:38.215Z"
   },
   {
    "duration": 0,
    "start_time": "2022-09-08T08:48:38.216Z"
   },
   {
    "duration": 0,
    "start_time": "2022-09-08T08:48:38.217Z"
   },
   {
    "duration": 0,
    "start_time": "2022-09-08T08:48:38.218Z"
   },
   {
    "duration": 0,
    "start_time": "2022-09-08T08:48:38.219Z"
   },
   {
    "duration": 0,
    "start_time": "2022-09-08T08:48:38.220Z"
   },
   {
    "duration": 0,
    "start_time": "2022-09-08T08:48:38.220Z"
   },
   {
    "duration": 42,
    "start_time": "2022-09-08T08:49:53.690Z"
   },
   {
    "duration": 374,
    "start_time": "2022-09-08T08:50:07.183Z"
   },
   {
    "duration": 227,
    "start_time": "2022-09-08T08:50:07.559Z"
   },
   {
    "duration": 5,
    "start_time": "2022-09-08T08:50:07.788Z"
   },
   {
    "duration": 35,
    "start_time": "2022-09-08T08:50:07.795Z"
   },
   {
    "duration": 5,
    "start_time": "2022-09-08T08:50:07.833Z"
   },
   {
    "duration": 23,
    "start_time": "2022-09-08T08:50:07.839Z"
   },
   {
    "duration": 11,
    "start_time": "2022-09-08T08:50:07.864Z"
   },
   {
    "duration": 43,
    "start_time": "2022-09-08T08:50:07.877Z"
   },
   {
    "duration": 55,
    "start_time": "2022-09-08T08:50:07.921Z"
   },
   {
    "duration": 0,
    "start_time": "2022-09-08T08:50:07.978Z"
   },
   {
    "duration": 0,
    "start_time": "2022-09-08T08:50:07.979Z"
   },
   {
    "duration": 0,
    "start_time": "2022-09-08T08:50:07.980Z"
   },
   {
    "duration": 0,
    "start_time": "2022-09-08T08:50:07.981Z"
   },
   {
    "duration": 0,
    "start_time": "2022-09-08T08:50:07.982Z"
   },
   {
    "duration": 0,
    "start_time": "2022-09-08T08:50:07.983Z"
   },
   {
    "duration": 1,
    "start_time": "2022-09-08T08:50:07.983Z"
   },
   {
    "duration": 0,
    "start_time": "2022-09-08T08:50:07.985Z"
   },
   {
    "duration": 0,
    "start_time": "2022-09-08T08:50:08.005Z"
   },
   {
    "duration": 0,
    "start_time": "2022-09-08T08:50:08.006Z"
   },
   {
    "duration": 0,
    "start_time": "2022-09-08T08:50:08.007Z"
   },
   {
    "duration": 0,
    "start_time": "2022-09-08T08:50:08.008Z"
   },
   {
    "duration": 0,
    "start_time": "2022-09-08T08:50:08.009Z"
   },
   {
    "duration": 0,
    "start_time": "2022-09-08T08:50:08.010Z"
   },
   {
    "duration": 0,
    "start_time": "2022-09-08T08:50:08.011Z"
   },
   {
    "duration": 0,
    "start_time": "2022-09-08T08:50:08.012Z"
   },
   {
    "duration": 1,
    "start_time": "2022-09-08T08:50:08.012Z"
   },
   {
    "duration": 0,
    "start_time": "2022-09-08T08:50:08.013Z"
   },
   {
    "duration": 0,
    "start_time": "2022-09-08T08:50:08.014Z"
   },
   {
    "duration": 0,
    "start_time": "2022-09-08T08:50:08.016Z"
   },
   {
    "duration": 0,
    "start_time": "2022-09-08T08:50:08.017Z"
   },
   {
    "duration": 0,
    "start_time": "2022-09-08T08:50:08.017Z"
   },
   {
    "duration": 0,
    "start_time": "2022-09-08T08:50:08.018Z"
   },
   {
    "duration": 0,
    "start_time": "2022-09-08T08:50:08.018Z"
   },
   {
    "duration": 0,
    "start_time": "2022-09-08T08:50:08.019Z"
   },
   {
    "duration": 0,
    "start_time": "2022-09-08T08:50:08.020Z"
   },
   {
    "duration": 0,
    "start_time": "2022-09-08T08:50:08.021Z"
   },
   {
    "duration": 0,
    "start_time": "2022-09-08T08:50:08.022Z"
   },
   {
    "duration": 0,
    "start_time": "2022-09-08T08:50:08.023Z"
   },
   {
    "duration": 0,
    "start_time": "2022-09-08T08:50:08.023Z"
   },
   {
    "duration": 389,
    "start_time": "2022-09-08T08:50:56.912Z"
   },
   {
    "duration": 257,
    "start_time": "2022-09-08T08:50:57.305Z"
   },
   {
    "duration": 6,
    "start_time": "2022-09-08T08:50:57.564Z"
   },
   {
    "duration": 30,
    "start_time": "2022-09-08T08:50:57.571Z"
   },
   {
    "duration": 3,
    "start_time": "2022-09-08T08:50:57.606Z"
   },
   {
    "duration": 21,
    "start_time": "2022-09-08T08:50:57.610Z"
   },
   {
    "duration": 14,
    "start_time": "2022-09-08T08:50:57.633Z"
   },
   {
    "duration": 39,
    "start_time": "2022-09-08T08:50:57.648Z"
   },
   {
    "duration": 60,
    "start_time": "2022-09-08T08:50:57.688Z"
   },
   {
    "duration": 0,
    "start_time": "2022-09-08T08:50:57.749Z"
   },
   {
    "duration": 0,
    "start_time": "2022-09-08T08:50:57.750Z"
   },
   {
    "duration": 0,
    "start_time": "2022-09-08T08:50:57.752Z"
   },
   {
    "duration": 0,
    "start_time": "2022-09-08T08:50:57.753Z"
   },
   {
    "duration": 0,
    "start_time": "2022-09-08T08:50:57.754Z"
   },
   {
    "duration": 0,
    "start_time": "2022-09-08T08:50:57.755Z"
   },
   {
    "duration": 0,
    "start_time": "2022-09-08T08:50:57.756Z"
   },
   {
    "duration": 0,
    "start_time": "2022-09-08T08:50:57.756Z"
   },
   {
    "duration": 0,
    "start_time": "2022-09-08T08:50:57.758Z"
   },
   {
    "duration": 0,
    "start_time": "2022-09-08T08:50:57.759Z"
   },
   {
    "duration": 0,
    "start_time": "2022-09-08T08:50:57.760Z"
   },
   {
    "duration": 0,
    "start_time": "2022-09-08T08:50:57.761Z"
   },
   {
    "duration": 0,
    "start_time": "2022-09-08T08:50:57.762Z"
   },
   {
    "duration": 0,
    "start_time": "2022-09-08T08:50:57.763Z"
   },
   {
    "duration": 0,
    "start_time": "2022-09-08T08:50:57.764Z"
   },
   {
    "duration": 0,
    "start_time": "2022-09-08T08:50:57.765Z"
   },
   {
    "duration": 0,
    "start_time": "2022-09-08T08:50:57.765Z"
   },
   {
    "duration": 0,
    "start_time": "2022-09-08T08:50:57.766Z"
   },
   {
    "duration": 1,
    "start_time": "2022-09-08T08:50:57.767Z"
   },
   {
    "duration": 0,
    "start_time": "2022-09-08T08:50:57.768Z"
   },
   {
    "duration": 0,
    "start_time": "2022-09-08T08:50:57.769Z"
   },
   {
    "duration": 0,
    "start_time": "2022-09-08T08:50:57.770Z"
   },
   {
    "duration": 0,
    "start_time": "2022-09-08T08:50:57.771Z"
   },
   {
    "duration": 0,
    "start_time": "2022-09-08T08:50:57.806Z"
   },
   {
    "duration": 6,
    "start_time": "2022-09-08T08:50:57.811Z"
   },
   {
    "duration": 0,
    "start_time": "2022-09-08T08:50:57.819Z"
   },
   {
    "duration": 0,
    "start_time": "2022-09-08T08:50:57.820Z"
   },
   {
    "duration": 0,
    "start_time": "2022-09-08T08:50:57.821Z"
   },
   {
    "duration": 0,
    "start_time": "2022-09-08T08:50:57.822Z"
   },
   {
    "duration": 0,
    "start_time": "2022-09-08T08:50:57.823Z"
   },
   {
    "duration": 53,
    "start_time": "2022-09-09T14:47:49.869Z"
   },
   {
    "duration": 421,
    "start_time": "2022-09-09T14:47:59.253Z"
   },
   {
    "duration": 647,
    "start_time": "2022-09-09T14:47:59.676Z"
   },
   {
    "duration": 9,
    "start_time": "2022-09-09T14:48:00.325Z"
   },
   {
    "duration": 48,
    "start_time": "2022-09-09T14:48:00.336Z"
   },
   {
    "duration": 9,
    "start_time": "2022-09-09T14:48:00.385Z"
   },
   {
    "duration": 18,
    "start_time": "2022-09-09T14:48:00.396Z"
   },
   {
    "duration": 17,
    "start_time": "2022-09-09T14:48:00.415Z"
   },
   {
    "duration": 56,
    "start_time": "2022-09-09T14:48:00.434Z"
   },
   {
    "duration": 44,
    "start_time": "2022-09-09T14:48:00.491Z"
   },
   {
    "duration": 26,
    "start_time": "2022-09-09T14:48:00.539Z"
   },
   {
    "duration": 100,
    "start_time": "2022-09-09T14:48:00.567Z"
   },
   {
    "duration": 95,
    "start_time": "2022-09-09T14:48:00.669Z"
   },
   {
    "duration": 74,
    "start_time": "2022-09-09T14:48:00.766Z"
   },
   {
    "duration": 57,
    "start_time": "2022-09-09T14:48:00.843Z"
   },
   {
    "duration": 3,
    "start_time": "2022-09-09T14:48:00.902Z"
   },
   {
    "duration": 52,
    "start_time": "2022-09-09T14:48:00.906Z"
   },
   {
    "duration": 60,
    "start_time": "2022-09-09T14:48:00.960Z"
   },
   {
    "duration": 33,
    "start_time": "2022-09-09T14:48:01.022Z"
   },
   {
    "duration": 66,
    "start_time": "2022-09-09T14:48:01.057Z"
   },
   {
    "duration": 16,
    "start_time": "2022-09-09T14:48:01.125Z"
   },
   {
    "duration": 49,
    "start_time": "2022-09-09T14:48:01.143Z"
   },
   {
    "duration": 26,
    "start_time": "2022-09-09T14:48:01.194Z"
   },
   {
    "duration": 34,
    "start_time": "2022-09-09T14:48:01.222Z"
   },
   {
    "duration": 27,
    "start_time": "2022-09-09T14:48:01.258Z"
   },
   {
    "duration": 22,
    "start_time": "2022-09-09T14:48:01.286Z"
   },
   {
    "duration": 43,
    "start_time": "2022-09-09T14:48:01.310Z"
   },
   {
    "duration": 20,
    "start_time": "2022-09-09T14:48:01.355Z"
   },
   {
    "duration": 36,
    "start_time": "2022-09-09T14:48:01.378Z"
   },
   {
    "duration": 27,
    "start_time": "2022-09-09T14:48:01.416Z"
   },
   {
    "duration": 22,
    "start_time": "2022-09-09T14:48:01.445Z"
   },
   {
    "duration": 98,
    "start_time": "2022-09-09T14:48:01.468Z"
   },
   {
    "duration": 24,
    "start_time": "2022-09-09T14:48:01.568Z"
   },
   {
    "duration": 66,
    "start_time": "2022-09-09T14:48:01.595Z"
   },
   {
    "duration": 26,
    "start_time": "2022-09-09T14:48:01.663Z"
   },
   {
    "duration": 9,
    "start_time": "2022-09-09T14:48:01.691Z"
   },
   {
    "duration": 17,
    "start_time": "2022-09-09T14:48:01.702Z"
   },
   {
    "duration": 807,
    "start_time": "2022-09-09T14:48:01.721Z"
   },
   {
    "duration": 0,
    "start_time": "2022-09-09T14:48:02.530Z"
   },
   {
    "duration": 0,
    "start_time": "2022-09-09T14:48:02.531Z"
   },
   {
    "duration": 580,
    "start_time": "2022-09-09T15:46:24.838Z"
   },
   {
    "duration": 557,
    "start_time": "2022-09-09T15:46:25.420Z"
   },
   {
    "duration": 7,
    "start_time": "2022-09-09T15:46:25.978Z"
   },
   {
    "duration": 34,
    "start_time": "2022-09-09T15:46:25.987Z"
   },
   {
    "duration": 3,
    "start_time": "2022-09-09T15:46:26.022Z"
   },
   {
    "duration": 13,
    "start_time": "2022-09-09T15:46:26.077Z"
   },
   {
    "duration": 9,
    "start_time": "2022-09-09T15:46:26.092Z"
   },
   {
    "duration": 107,
    "start_time": "2022-09-09T15:46:26.102Z"
   },
   {
    "duration": 88,
    "start_time": "2022-09-09T15:46:26.210Z"
   },
   {
    "duration": 20,
    "start_time": "2022-09-09T15:46:26.301Z"
   },
   {
    "duration": 172,
    "start_time": "2022-09-09T15:46:26.324Z"
   },
   {
    "duration": 117,
    "start_time": "2022-09-09T15:46:26.498Z"
   },
   {
    "duration": 108,
    "start_time": "2022-09-09T15:46:26.617Z"
   },
   {
    "duration": 34,
    "start_time": "2022-09-09T15:46:26.777Z"
   },
   {
    "duration": 2,
    "start_time": "2022-09-09T15:46:26.813Z"
   },
   {
    "duration": 33,
    "start_time": "2022-09-09T15:46:26.817Z"
   },
   {
    "duration": 43,
    "start_time": "2022-09-09T15:46:26.851Z"
   },
   {
    "duration": 10,
    "start_time": "2022-09-09T15:46:26.896Z"
   },
   {
    "duration": 27,
    "start_time": "2022-09-09T15:46:26.907Z"
   },
   {
    "duration": 7,
    "start_time": "2022-09-09T15:46:26.936Z"
   },
   {
    "duration": 33,
    "start_time": "2022-09-09T15:46:26.945Z"
   },
   {
    "duration": 21,
    "start_time": "2022-09-09T15:46:26.980Z"
   },
   {
    "duration": 37,
    "start_time": "2022-09-09T15:46:27.002Z"
   },
   {
    "duration": 11,
    "start_time": "2022-09-09T15:46:27.040Z"
   },
   {
    "duration": 14,
    "start_time": "2022-09-09T15:46:27.053Z"
   },
   {
    "duration": 13,
    "start_time": "2022-09-09T15:46:27.069Z"
   },
   {
    "duration": 7,
    "start_time": "2022-09-09T15:46:27.084Z"
   },
   {
    "duration": 13,
    "start_time": "2022-09-09T15:46:27.094Z"
   },
   {
    "duration": 9,
    "start_time": "2022-09-09T15:46:27.108Z"
   },
   {
    "duration": 5,
    "start_time": "2022-09-09T15:46:27.118Z"
   },
   {
    "duration": 77,
    "start_time": "2022-09-09T15:46:27.124Z"
   },
   {
    "duration": 20,
    "start_time": "2022-09-09T15:46:27.202Z"
   },
   {
    "duration": 54,
    "start_time": "2022-09-09T15:46:27.223Z"
   },
   {
    "duration": 19,
    "start_time": "2022-09-09T15:46:27.279Z"
   },
   {
    "duration": 7,
    "start_time": "2022-09-09T15:46:27.300Z"
   },
   {
    "duration": 7,
    "start_time": "2022-09-09T15:46:27.308Z"
   },
   {
    "duration": 71,
    "start_time": "2022-09-09T15:46:27.317Z"
   },
   {
    "duration": 0,
    "start_time": "2022-09-09T15:46:27.389Z"
   },
   {
    "duration": 0,
    "start_time": "2022-09-09T15:46:27.391Z"
   },
   {
    "duration": 7,
    "start_time": "2022-09-09T15:46:40.310Z"
   },
   {
    "duration": 3,
    "start_time": "2022-09-09T15:46:40.642Z"
   },
   {
    "duration": 5,
    "start_time": "2022-09-09T15:48:08.224Z"
   },
   {
    "duration": 37,
    "start_time": "2022-09-09T15:48:08.953Z"
   },
   {
    "duration": 37,
    "start_time": "2022-09-09T15:48:11.318Z"
   },
   {
    "duration": 438,
    "start_time": "2022-09-10T15:26:39.730Z"
   },
   {
    "duration": 384,
    "start_time": "2022-09-10T15:26:40.171Z"
   },
   {
    "duration": 6,
    "start_time": "2022-09-10T15:26:40.557Z"
   },
   {
    "duration": 39,
    "start_time": "2022-09-10T15:26:40.565Z"
   },
   {
    "duration": 3,
    "start_time": "2022-09-10T15:26:40.607Z"
   },
   {
    "duration": 19,
    "start_time": "2022-09-10T15:26:40.612Z"
   },
   {
    "duration": 14,
    "start_time": "2022-09-10T15:26:40.633Z"
   },
   {
    "duration": 47,
    "start_time": "2022-09-10T15:26:40.649Z"
   },
   {
    "duration": 68,
    "start_time": "2022-09-10T15:26:40.698Z"
   },
   {
    "duration": 23,
    "start_time": "2022-09-10T15:26:40.767Z"
   },
   {
    "duration": 78,
    "start_time": "2022-09-10T15:26:40.792Z"
   },
   {
    "duration": 82,
    "start_time": "2022-09-10T15:26:40.872Z"
   },
   {
    "duration": 60,
    "start_time": "2022-09-10T15:26:40.956Z"
   },
   {
    "duration": 57,
    "start_time": "2022-09-10T15:26:41.020Z"
   },
   {
    "duration": 13,
    "start_time": "2022-09-10T15:26:41.079Z"
   },
   {
    "duration": 29,
    "start_time": "2022-09-10T15:26:41.094Z"
   },
   {
    "duration": 49,
    "start_time": "2022-09-10T15:26:41.125Z"
   },
   {
    "duration": 12,
    "start_time": "2022-09-10T15:26:41.175Z"
   },
   {
    "duration": 12,
    "start_time": "2022-09-10T15:26:41.188Z"
   },
   {
    "duration": 20,
    "start_time": "2022-09-10T15:26:41.202Z"
   },
   {
    "duration": 40,
    "start_time": "2022-09-10T15:26:41.224Z"
   },
   {
    "duration": 23,
    "start_time": "2022-09-10T15:26:41.266Z"
   },
   {
    "duration": 31,
    "start_time": "2022-09-10T15:26:41.290Z"
   },
   {
    "duration": 40,
    "start_time": "2022-09-10T15:26:41.322Z"
   },
   {
    "duration": 40,
    "start_time": "2022-09-10T15:26:41.364Z"
   },
   {
    "duration": 41,
    "start_time": "2022-09-10T15:26:41.406Z"
   },
   {
    "duration": 32,
    "start_time": "2022-09-10T15:26:41.448Z"
   },
   {
    "duration": 31,
    "start_time": "2022-09-10T15:26:41.482Z"
   },
   {
    "duration": 53,
    "start_time": "2022-09-10T15:26:41.514Z"
   },
   {
    "duration": 26,
    "start_time": "2022-09-10T15:26:41.569Z"
   },
   {
    "duration": 97,
    "start_time": "2022-09-10T15:26:41.598Z"
   },
   {
    "duration": 0,
    "start_time": "2022-09-10T15:26:41.697Z"
   },
   {
    "duration": 0,
    "start_time": "2022-09-10T15:26:41.698Z"
   },
   {
    "duration": 0,
    "start_time": "2022-09-10T15:26:41.699Z"
   },
   {
    "duration": 0,
    "start_time": "2022-09-10T15:26:41.700Z"
   },
   {
    "duration": 0,
    "start_time": "2022-09-10T15:26:41.701Z"
   },
   {
    "duration": 0,
    "start_time": "2022-09-10T15:26:41.702Z"
   },
   {
    "duration": 0,
    "start_time": "2022-09-10T15:26:41.703Z"
   },
   {
    "duration": 400,
    "start_time": "2022-09-10T15:27:37.794Z"
   },
   {
    "duration": 341,
    "start_time": "2022-09-10T15:27:38.196Z"
   },
   {
    "duration": 23,
    "start_time": "2022-09-10T15:27:38.539Z"
   },
   {
    "duration": 34,
    "start_time": "2022-09-10T15:27:38.564Z"
   },
   {
    "duration": 13,
    "start_time": "2022-09-10T15:27:38.600Z"
   },
   {
    "duration": 17,
    "start_time": "2022-09-10T15:27:38.615Z"
   },
   {
    "duration": 11,
    "start_time": "2022-09-10T15:27:38.634Z"
   },
   {
    "duration": 58,
    "start_time": "2022-09-10T15:27:38.659Z"
   },
   {
    "duration": 56,
    "start_time": "2022-09-10T15:27:38.719Z"
   },
   {
    "duration": 23,
    "start_time": "2022-09-10T15:27:38.779Z"
   },
   {
    "duration": 80,
    "start_time": "2022-09-10T15:27:38.803Z"
   },
   {
    "duration": 98,
    "start_time": "2022-09-10T15:27:38.884Z"
   },
   {
    "duration": 78,
    "start_time": "2022-09-10T15:27:38.984Z"
   },
   {
    "duration": 59,
    "start_time": "2022-09-10T15:27:39.063Z"
   },
   {
    "duration": 4,
    "start_time": "2022-09-10T15:27:39.124Z"
   },
   {
    "duration": 50,
    "start_time": "2022-09-10T15:27:39.130Z"
   },
   {
    "duration": 40,
    "start_time": "2022-09-10T15:27:39.182Z"
   },
   {
    "duration": 12,
    "start_time": "2022-09-10T15:27:39.224Z"
   },
   {
    "duration": 25,
    "start_time": "2022-09-10T15:27:39.237Z"
   },
   {
    "duration": 10,
    "start_time": "2022-09-10T15:27:39.264Z"
   },
   {
    "duration": 26,
    "start_time": "2022-09-10T15:27:39.276Z"
   },
   {
    "duration": 22,
    "start_time": "2022-09-10T15:27:39.304Z"
   },
   {
    "duration": 34,
    "start_time": "2022-09-10T15:27:39.328Z"
   },
   {
    "duration": 20,
    "start_time": "2022-09-10T15:27:39.365Z"
   },
   {
    "duration": 30,
    "start_time": "2022-09-10T15:27:39.387Z"
   },
   {
    "duration": 34,
    "start_time": "2022-09-10T15:27:39.419Z"
   },
   {
    "duration": 6,
    "start_time": "2022-09-10T15:27:39.465Z"
   },
   {
    "duration": 12,
    "start_time": "2022-09-10T15:27:39.475Z"
   },
   {
    "duration": 10,
    "start_time": "2022-09-10T15:27:39.488Z"
   },
   {
    "duration": 8,
    "start_time": "2022-09-10T15:27:39.499Z"
   },
   {
    "duration": 78,
    "start_time": "2022-09-10T15:27:39.509Z"
   },
   {
    "duration": 6571,
    "start_time": "2022-09-10T15:27:39.589Z"
   },
   {
    "duration": 0,
    "start_time": "2022-09-10T15:27:46.165Z"
   },
   {
    "duration": 0,
    "start_time": "2022-09-10T15:27:46.168Z"
   },
   {
    "duration": 0,
    "start_time": "2022-09-10T15:27:46.170Z"
   },
   {
    "duration": 1,
    "start_time": "2022-09-10T15:27:46.171Z"
   },
   {
    "duration": 0,
    "start_time": "2022-09-10T15:27:46.173Z"
   },
   {
    "duration": 0,
    "start_time": "2022-09-10T15:27:46.175Z"
   },
   {
    "duration": 426,
    "start_time": "2022-09-10T15:28:53.634Z"
   },
   {
    "duration": 307,
    "start_time": "2022-09-10T15:28:54.063Z"
   },
   {
    "duration": 6,
    "start_time": "2022-09-10T15:28:54.372Z"
   },
   {
    "duration": 49,
    "start_time": "2022-09-10T15:28:54.380Z"
   },
   {
    "duration": 8,
    "start_time": "2022-09-10T15:28:54.431Z"
   },
   {
    "duration": 17,
    "start_time": "2022-09-10T15:28:54.441Z"
   },
   {
    "duration": 6,
    "start_time": "2022-09-10T15:28:54.460Z"
   },
   {
    "duration": 63,
    "start_time": "2022-09-10T15:28:54.468Z"
   },
   {
    "duration": 59,
    "start_time": "2022-09-10T15:28:54.533Z"
   },
   {
    "duration": 25,
    "start_time": "2022-09-10T15:28:54.596Z"
   },
   {
    "duration": 75,
    "start_time": "2022-09-10T15:28:54.622Z"
   },
   {
    "duration": 83,
    "start_time": "2022-09-10T15:28:54.699Z"
   },
   {
    "duration": 66,
    "start_time": "2022-09-10T15:28:54.784Z"
   },
   {
    "duration": 38,
    "start_time": "2022-09-10T15:28:54.852Z"
   },
   {
    "duration": 2,
    "start_time": "2022-09-10T15:28:54.892Z"
   },
   {
    "duration": 20,
    "start_time": "2022-09-10T15:28:54.896Z"
   },
   {
    "duration": 61,
    "start_time": "2022-09-10T15:28:54.918Z"
   },
   {
    "duration": 11,
    "start_time": "2022-09-10T15:28:54.981Z"
   },
   {
    "duration": 16,
    "start_time": "2022-09-10T15:28:54.993Z"
   },
   {
    "duration": 5,
    "start_time": "2022-09-10T15:28:55.011Z"
   },
   {
    "duration": 50,
    "start_time": "2022-09-10T15:28:55.018Z"
   },
   {
    "duration": 18,
    "start_time": "2022-09-10T15:28:55.071Z"
   },
   {
    "duration": 37,
    "start_time": "2022-09-10T15:28:55.091Z"
   },
   {
    "duration": 18,
    "start_time": "2022-09-10T15:28:55.130Z"
   },
   {
    "duration": 21,
    "start_time": "2022-09-10T15:28:55.150Z"
   },
   {
    "duration": 20,
    "start_time": "2022-09-10T15:28:55.173Z"
   },
   {
    "duration": 8,
    "start_time": "2022-09-10T15:28:55.194Z"
   },
   {
    "duration": 18,
    "start_time": "2022-09-10T15:28:55.205Z"
   },
   {
    "duration": 25,
    "start_time": "2022-09-10T15:28:55.225Z"
   },
   {
    "duration": 10,
    "start_time": "2022-09-10T15:28:55.252Z"
   },
   {
    "duration": 956,
    "start_time": "2022-09-10T15:28:55.264Z"
   },
   {
    "duration": 0,
    "start_time": "2022-09-10T15:28:56.223Z"
   },
   {
    "duration": 0,
    "start_time": "2022-09-10T15:28:56.225Z"
   },
   {
    "duration": 0,
    "start_time": "2022-09-10T15:28:56.227Z"
   },
   {
    "duration": 0,
    "start_time": "2022-09-10T15:28:56.228Z"
   },
   {
    "duration": 0,
    "start_time": "2022-09-10T15:28:56.230Z"
   },
   {
    "duration": 0,
    "start_time": "2022-09-10T15:28:56.231Z"
   },
   {
    "duration": 0,
    "start_time": "2022-09-10T15:28:56.232Z"
   },
   {
    "duration": 4,
    "start_time": "2022-09-10T15:29:18.346Z"
   },
   {
    "duration": 5,
    "start_time": "2022-09-10T15:29:21.269Z"
   },
   {
    "duration": 403,
    "start_time": "2022-09-10T15:29:31.267Z"
   },
   {
    "duration": 305,
    "start_time": "2022-09-10T15:29:31.672Z"
   },
   {
    "duration": 8,
    "start_time": "2022-09-10T15:29:31.978Z"
   },
   {
    "duration": 39,
    "start_time": "2022-09-10T15:29:31.989Z"
   },
   {
    "duration": 24,
    "start_time": "2022-09-10T15:29:32.030Z"
   },
   {
    "duration": 24,
    "start_time": "2022-09-10T15:29:32.056Z"
   },
   {
    "duration": 27,
    "start_time": "2022-09-10T15:29:32.082Z"
   },
   {
    "duration": 84,
    "start_time": "2022-09-10T15:29:32.111Z"
   },
   {
    "duration": 52,
    "start_time": "2022-09-10T15:29:32.197Z"
   },
   {
    "duration": 24,
    "start_time": "2022-09-10T15:29:32.252Z"
   },
   {
    "duration": 79,
    "start_time": "2022-09-10T15:29:32.278Z"
   },
   {
    "duration": 74,
    "start_time": "2022-09-10T15:29:32.358Z"
   },
   {
    "duration": 68,
    "start_time": "2022-09-10T15:29:32.434Z"
   },
   {
    "duration": 52,
    "start_time": "2022-09-10T15:29:32.504Z"
   },
   {
    "duration": 3,
    "start_time": "2022-09-10T15:29:32.558Z"
   },
   {
    "duration": 14,
    "start_time": "2022-09-10T15:29:32.563Z"
   },
   {
    "duration": 40,
    "start_time": "2022-09-10T15:29:32.578Z"
   },
   {
    "duration": 30,
    "start_time": "2022-09-10T15:29:32.620Z"
   },
   {
    "duration": 12,
    "start_time": "2022-09-10T15:29:32.652Z"
   },
   {
    "duration": 5,
    "start_time": "2022-09-10T15:29:32.667Z"
   },
   {
    "duration": 26,
    "start_time": "2022-09-10T15:29:32.674Z"
   },
   {
    "duration": 17,
    "start_time": "2022-09-10T15:29:32.702Z"
   },
   {
    "duration": 20,
    "start_time": "2022-09-10T15:29:32.747Z"
   },
   {
    "duration": 27,
    "start_time": "2022-09-10T15:29:32.769Z"
   },
   {
    "duration": 23,
    "start_time": "2022-09-10T15:29:32.798Z"
   },
   {
    "duration": 30,
    "start_time": "2022-09-10T15:29:32.823Z"
   },
   {
    "duration": 10,
    "start_time": "2022-09-10T15:29:32.855Z"
   },
   {
    "duration": 15,
    "start_time": "2022-09-10T15:29:32.868Z"
   },
   {
    "duration": 12,
    "start_time": "2022-09-10T15:29:32.885Z"
   },
   {
    "duration": 19,
    "start_time": "2022-09-10T15:29:32.899Z"
   },
   {
    "duration": 71,
    "start_time": "2022-09-10T15:29:32.920Z"
   },
   {
    "duration": 1181,
    "start_time": "2022-09-10T15:29:32.993Z"
   },
   {
    "duration": 0,
    "start_time": "2022-09-10T15:29:34.176Z"
   },
   {
    "duration": 0,
    "start_time": "2022-09-10T15:29:34.177Z"
   },
   {
    "duration": 0,
    "start_time": "2022-09-10T15:29:34.179Z"
   },
   {
    "duration": 0,
    "start_time": "2022-09-10T15:29:34.181Z"
   },
   {
    "duration": 0,
    "start_time": "2022-09-10T15:29:34.183Z"
   },
   {
    "duration": 0,
    "start_time": "2022-09-10T15:29:34.184Z"
   },
   {
    "duration": 413,
    "start_time": "2022-09-10T15:30:22.245Z"
   },
   {
    "duration": 306,
    "start_time": "2022-09-10T15:30:22.660Z"
   },
   {
    "duration": 7,
    "start_time": "2022-09-10T15:30:22.969Z"
   },
   {
    "duration": 32,
    "start_time": "2022-09-10T15:30:22.978Z"
   },
   {
    "duration": 3,
    "start_time": "2022-09-10T15:30:23.013Z"
   },
   {
    "duration": 36,
    "start_time": "2022-09-10T15:30:23.018Z"
   },
   {
    "duration": 8,
    "start_time": "2022-09-10T15:30:23.056Z"
   },
   {
    "duration": 50,
    "start_time": "2022-09-10T15:30:23.066Z"
   },
   {
    "duration": 60,
    "start_time": "2022-09-10T15:30:23.118Z"
   },
   {
    "duration": 25,
    "start_time": "2022-09-10T15:30:23.180Z"
   },
   {
    "duration": 77,
    "start_time": "2022-09-10T15:30:23.206Z"
   },
   {
    "duration": 88,
    "start_time": "2022-09-10T15:30:23.285Z"
   },
   {
    "duration": 78,
    "start_time": "2022-09-10T15:30:23.375Z"
   },
   {
    "duration": 46,
    "start_time": "2022-09-10T15:30:23.458Z"
   },
   {
    "duration": 4,
    "start_time": "2022-09-10T15:30:23.506Z"
   },
   {
    "duration": 13,
    "start_time": "2022-09-10T15:30:23.512Z"
   },
   {
    "duration": 41,
    "start_time": "2022-09-10T15:30:23.547Z"
   },
   {
    "duration": 13,
    "start_time": "2022-09-10T15:30:23.590Z"
   },
   {
    "duration": 12,
    "start_time": "2022-09-10T15:30:23.605Z"
   },
   {
    "duration": 29,
    "start_time": "2022-09-10T15:30:23.619Z"
   },
   {
    "duration": 19,
    "start_time": "2022-09-10T15:30:23.650Z"
   },
   {
    "duration": 14,
    "start_time": "2022-09-10T15:30:23.671Z"
   },
   {
    "duration": 22,
    "start_time": "2022-09-10T15:30:23.686Z"
   },
   {
    "duration": 14,
    "start_time": "2022-09-10T15:30:23.709Z"
   },
   {
    "duration": 37,
    "start_time": "2022-09-10T15:30:23.725Z"
   },
   {
    "duration": 14,
    "start_time": "2022-09-10T15:30:23.763Z"
   },
   {
    "duration": 8,
    "start_time": "2022-09-10T15:30:23.779Z"
   },
   {
    "duration": 15,
    "start_time": "2022-09-10T15:30:23.789Z"
   },
   {
    "duration": 13,
    "start_time": "2022-09-10T15:30:23.806Z"
   },
   {
    "duration": 28,
    "start_time": "2022-09-10T15:30:23.821Z"
   },
   {
    "duration": 47,
    "start_time": "2022-09-10T15:30:23.851Z"
   },
   {
    "duration": 24,
    "start_time": "2022-09-10T15:30:23.901Z"
   },
   {
    "duration": 45,
    "start_time": "2022-09-10T15:30:23.946Z"
   },
   {
    "duration": 23,
    "start_time": "2022-09-10T15:30:23.993Z"
   },
   {
    "duration": 30,
    "start_time": "2022-09-10T15:30:24.017Z"
   },
   {
    "duration": 4,
    "start_time": "2022-09-10T15:30:24.049Z"
   },
   {
    "duration": 10,
    "start_time": "2022-09-10T15:30:24.054Z"
   },
   {
    "duration": 5,
    "start_time": "2022-09-10T15:30:24.065Z"
   },
   {
    "duration": 373,
    "start_time": "2022-09-10T15:31:33.685Z"
   },
   {
    "duration": 301,
    "start_time": "2022-09-10T15:31:34.060Z"
   },
   {
    "duration": 7,
    "start_time": "2022-09-10T15:31:34.363Z"
   },
   {
    "duration": 36,
    "start_time": "2022-09-10T15:31:34.373Z"
   },
   {
    "duration": 3,
    "start_time": "2022-09-10T15:31:34.411Z"
   },
   {
    "duration": 33,
    "start_time": "2022-09-10T15:31:34.415Z"
   },
   {
    "duration": 7,
    "start_time": "2022-09-10T15:31:34.450Z"
   },
   {
    "duration": 50,
    "start_time": "2022-09-10T15:31:34.459Z"
   },
   {
    "duration": 51,
    "start_time": "2022-09-10T15:31:34.511Z"
   },
   {
    "duration": 24,
    "start_time": "2022-09-10T15:31:34.566Z"
   },
   {
    "duration": 77,
    "start_time": "2022-09-10T15:31:34.592Z"
   },
   {
    "duration": 83,
    "start_time": "2022-09-10T15:31:34.671Z"
   },
   {
    "duration": 63,
    "start_time": "2022-09-10T15:31:34.756Z"
   },
   {
    "duration": 51,
    "start_time": "2022-09-10T15:31:34.820Z"
   },
   {
    "duration": 3,
    "start_time": "2022-09-10T15:31:34.873Z"
   },
   {
    "duration": 18,
    "start_time": "2022-09-10T15:31:34.877Z"
   },
   {
    "duration": 77,
    "start_time": "2022-09-10T15:31:34.896Z"
   },
   {
    "duration": 19,
    "start_time": "2022-09-10T15:31:34.976Z"
   },
   {
    "duration": 11,
    "start_time": "2022-09-10T15:31:34.997Z"
   },
   {
    "duration": 7,
    "start_time": "2022-09-10T15:31:35.010Z"
   },
   {
    "duration": 44,
    "start_time": "2022-09-10T15:31:35.019Z"
   },
   {
    "duration": 15,
    "start_time": "2022-09-10T15:31:35.064Z"
   },
   {
    "duration": 15,
    "start_time": "2022-09-10T15:31:35.081Z"
   },
   {
    "duration": 23,
    "start_time": "2022-09-10T15:31:35.099Z"
   },
   {
    "duration": 33,
    "start_time": "2022-09-10T15:31:35.124Z"
   },
   {
    "duration": 15,
    "start_time": "2022-09-10T15:31:35.158Z"
   },
   {
    "duration": 8,
    "start_time": "2022-09-10T15:31:35.174Z"
   },
   {
    "duration": 26,
    "start_time": "2022-09-10T15:31:35.185Z"
   },
   {
    "duration": 12,
    "start_time": "2022-09-10T15:31:35.213Z"
   },
   {
    "duration": 7,
    "start_time": "2022-09-10T15:31:35.227Z"
   },
   {
    "duration": 48,
    "start_time": "2022-09-10T15:31:35.247Z"
   },
   {
    "duration": 13,
    "start_time": "2022-09-10T15:31:35.297Z"
   },
   {
    "duration": 23,
    "start_time": "2022-09-10T15:31:35.312Z"
   },
   {
    "duration": 15,
    "start_time": "2022-09-10T15:31:35.336Z"
   },
   {
    "duration": 10,
    "start_time": "2022-09-10T15:31:35.353Z"
   },
   {
    "duration": 12,
    "start_time": "2022-09-10T15:31:35.366Z"
   },
   {
    "duration": 18,
    "start_time": "2022-09-10T15:31:35.380Z"
   },
   {
    "duration": 13,
    "start_time": "2022-09-10T15:31:35.400Z"
   },
   {
    "duration": 438,
    "start_time": "2022-09-10T15:32:35.551Z"
   },
   {
    "duration": 434,
    "start_time": "2022-09-10T15:32:35.991Z"
   },
   {
    "duration": 9,
    "start_time": "2022-09-10T15:32:36.427Z"
   },
   {
    "duration": 59,
    "start_time": "2022-09-10T15:32:36.448Z"
   },
   {
    "duration": 4,
    "start_time": "2022-09-10T15:32:36.509Z"
   },
   {
    "duration": 40,
    "start_time": "2022-09-10T15:32:36.515Z"
   },
   {
    "duration": 8,
    "start_time": "2022-09-10T15:32:36.557Z"
   },
   {
    "duration": 52,
    "start_time": "2022-09-10T15:32:36.567Z"
   },
   {
    "duration": 67,
    "start_time": "2022-09-10T15:32:36.622Z"
   },
   {
    "duration": 25,
    "start_time": "2022-09-10T15:32:36.693Z"
   },
   {
    "duration": 108,
    "start_time": "2022-09-10T15:32:36.719Z"
   },
   {
    "duration": 89,
    "start_time": "2022-09-10T15:32:36.829Z"
   },
   {
    "duration": 77,
    "start_time": "2022-09-10T15:32:36.920Z"
   },
   {
    "duration": 62,
    "start_time": "2022-09-10T15:32:37.002Z"
   },
   {
    "duration": 3,
    "start_time": "2022-09-10T15:32:37.067Z"
   },
   {
    "duration": 21,
    "start_time": "2022-09-10T15:32:37.073Z"
   },
   {
    "duration": 65,
    "start_time": "2022-09-10T15:32:37.097Z"
   },
   {
    "duration": 12,
    "start_time": "2022-09-10T15:32:37.165Z"
   },
   {
    "duration": 26,
    "start_time": "2022-09-10T15:32:37.179Z"
   },
   {
    "duration": 13,
    "start_time": "2022-09-10T15:32:37.207Z"
   },
   {
    "duration": 22,
    "start_time": "2022-09-10T15:32:37.221Z"
   },
   {
    "duration": 15,
    "start_time": "2022-09-10T15:32:37.245Z"
   },
   {
    "duration": 18,
    "start_time": "2022-09-10T15:32:37.262Z"
   },
   {
    "duration": 20,
    "start_time": "2022-09-10T15:32:37.282Z"
   },
   {
    "duration": 19,
    "start_time": "2022-09-10T15:32:37.303Z"
   },
   {
    "duration": 34,
    "start_time": "2022-09-10T15:32:37.323Z"
   },
   {
    "duration": 14,
    "start_time": "2022-09-10T15:32:37.358Z"
   },
   {
    "duration": 24,
    "start_time": "2022-09-10T15:32:37.377Z"
   },
   {
    "duration": 20,
    "start_time": "2022-09-10T15:32:37.403Z"
   },
   {
    "duration": 7,
    "start_time": "2022-09-10T15:32:37.426Z"
   },
   {
    "duration": 893,
    "start_time": "2022-09-10T15:32:37.435Z"
   },
   {
    "duration": 0,
    "start_time": "2022-09-10T15:32:38.329Z"
   },
   {
    "duration": 0,
    "start_time": "2022-09-10T15:32:38.330Z"
   },
   {
    "duration": 0,
    "start_time": "2022-09-10T15:32:38.331Z"
   },
   {
    "duration": 0,
    "start_time": "2022-09-10T15:32:38.333Z"
   },
   {
    "duration": 0,
    "start_time": "2022-09-10T15:32:38.334Z"
   },
   {
    "duration": 0,
    "start_time": "2022-09-10T15:32:38.335Z"
   },
   {
    "duration": 0,
    "start_time": "2022-09-10T15:32:38.337Z"
   },
   {
    "duration": 383,
    "start_time": "2022-09-10T15:33:23.290Z"
   },
   {
    "duration": 327,
    "start_time": "2022-09-10T15:33:23.675Z"
   },
   {
    "duration": 7,
    "start_time": "2022-09-10T15:33:24.004Z"
   },
   {
    "duration": 45,
    "start_time": "2022-09-10T15:33:24.014Z"
   },
   {
    "duration": 11,
    "start_time": "2022-09-10T15:33:24.062Z"
   },
   {
    "duration": 17,
    "start_time": "2022-09-10T15:33:24.075Z"
   },
   {
    "duration": 11,
    "start_time": "2022-09-10T15:33:24.094Z"
   },
   {
    "duration": 60,
    "start_time": "2022-09-10T15:33:24.106Z"
   },
   {
    "duration": 46,
    "start_time": "2022-09-10T15:33:24.168Z"
   },
   {
    "duration": 37,
    "start_time": "2022-09-10T15:33:24.219Z"
   },
   {
    "duration": 72,
    "start_time": "2022-09-10T15:33:24.258Z"
   },
   {
    "duration": 86,
    "start_time": "2022-09-10T15:33:24.332Z"
   },
   {
    "duration": 72,
    "start_time": "2022-09-10T15:33:24.420Z"
   },
   {
    "duration": 53,
    "start_time": "2022-09-10T15:33:24.494Z"
   },
   {
    "duration": 3,
    "start_time": "2022-09-10T15:33:24.549Z"
   },
   {
    "duration": 25,
    "start_time": "2022-09-10T15:33:24.553Z"
   },
   {
    "duration": 41,
    "start_time": "2022-09-10T15:33:24.579Z"
   },
   {
    "duration": 31,
    "start_time": "2022-09-10T15:33:24.622Z"
   },
   {
    "duration": 13,
    "start_time": "2022-09-10T15:33:24.656Z"
   },
   {
    "duration": 4,
    "start_time": "2022-09-10T15:33:24.671Z"
   },
   {
    "duration": 19,
    "start_time": "2022-09-10T15:33:24.677Z"
   },
   {
    "duration": 51,
    "start_time": "2022-09-10T15:33:24.698Z"
   },
   {
    "duration": 17,
    "start_time": "2022-09-10T15:33:24.751Z"
   },
   {
    "duration": 14,
    "start_time": "2022-09-10T15:33:24.770Z"
   },
   {
    "duration": 23,
    "start_time": "2022-09-10T15:33:24.786Z"
   },
   {
    "duration": 41,
    "start_time": "2022-09-10T15:33:24.811Z"
   },
   {
    "duration": 9,
    "start_time": "2022-09-10T15:33:24.855Z"
   },
   {
    "duration": 14,
    "start_time": "2022-09-10T15:33:24.867Z"
   },
   {
    "duration": 14,
    "start_time": "2022-09-10T15:33:24.883Z"
   },
   {
    "duration": 5,
    "start_time": "2022-09-10T15:33:24.899Z"
   },
   {
    "duration": 50,
    "start_time": "2022-09-10T15:33:24.906Z"
   },
   {
    "duration": 12,
    "start_time": "2022-09-10T15:33:24.957Z"
   },
   {
    "duration": 28,
    "start_time": "2022-09-10T15:33:24.971Z"
   },
   {
    "duration": 14,
    "start_time": "2022-09-10T15:33:25.001Z"
   },
   {
    "duration": 12,
    "start_time": "2022-09-10T15:33:25.047Z"
   },
   {
    "duration": 13,
    "start_time": "2022-09-10T15:33:25.061Z"
   },
   {
    "duration": 13,
    "start_time": "2022-09-10T15:33:25.077Z"
   },
   {
    "duration": 4,
    "start_time": "2022-09-10T15:33:25.092Z"
   },
   {
    "duration": 387,
    "start_time": "2022-09-10T15:34:59.406Z"
   },
   {
    "duration": 317,
    "start_time": "2022-09-10T15:34:59.794Z"
   },
   {
    "duration": 8,
    "start_time": "2022-09-10T15:35:00.113Z"
   },
   {
    "duration": 46,
    "start_time": "2022-09-10T15:35:00.124Z"
   },
   {
    "duration": 12,
    "start_time": "2022-09-10T15:35:00.172Z"
   },
   {
    "duration": 21,
    "start_time": "2022-09-10T15:35:00.185Z"
   },
   {
    "duration": 35,
    "start_time": "2022-09-10T15:35:00.208Z"
   },
   {
    "duration": 63,
    "start_time": "2022-09-10T15:35:00.245Z"
   },
   {
    "duration": 205,
    "start_time": "2022-09-10T15:35:00.309Z"
   },
   {
    "duration": 0,
    "start_time": "2022-09-10T15:35:00.549Z"
   },
   {
    "duration": 0,
    "start_time": "2022-09-10T15:35:00.549Z"
   },
   {
    "duration": 0,
    "start_time": "2022-09-10T15:35:00.551Z"
   },
   {
    "duration": 0,
    "start_time": "2022-09-10T15:35:00.552Z"
   },
   {
    "duration": 0,
    "start_time": "2022-09-10T15:35:00.553Z"
   },
   {
    "duration": 0,
    "start_time": "2022-09-10T15:35:00.554Z"
   },
   {
    "duration": 0,
    "start_time": "2022-09-10T15:35:00.555Z"
   },
   {
    "duration": 0,
    "start_time": "2022-09-10T15:35:00.556Z"
   },
   {
    "duration": 0,
    "start_time": "2022-09-10T15:35:00.557Z"
   },
   {
    "duration": 0,
    "start_time": "2022-09-10T15:35:00.558Z"
   },
   {
    "duration": 0,
    "start_time": "2022-09-10T15:35:00.559Z"
   },
   {
    "duration": 0,
    "start_time": "2022-09-10T15:35:00.560Z"
   },
   {
    "duration": 0,
    "start_time": "2022-09-10T15:35:00.561Z"
   },
   {
    "duration": 0,
    "start_time": "2022-09-10T15:35:00.562Z"
   },
   {
    "duration": 0,
    "start_time": "2022-09-10T15:35:00.563Z"
   },
   {
    "duration": 0,
    "start_time": "2022-09-10T15:35:00.564Z"
   },
   {
    "duration": 0,
    "start_time": "2022-09-10T15:35:00.565Z"
   },
   {
    "duration": 0,
    "start_time": "2022-09-10T15:35:00.567Z"
   },
   {
    "duration": 0,
    "start_time": "2022-09-10T15:35:00.568Z"
   },
   {
    "duration": 0,
    "start_time": "2022-09-10T15:35:00.569Z"
   },
   {
    "duration": 0,
    "start_time": "2022-09-10T15:35:00.570Z"
   },
   {
    "duration": 0,
    "start_time": "2022-09-10T15:35:00.571Z"
   },
   {
    "duration": 0,
    "start_time": "2022-09-10T15:35:00.572Z"
   },
   {
    "duration": 0,
    "start_time": "2022-09-10T15:35:00.573Z"
   },
   {
    "duration": 0,
    "start_time": "2022-09-10T15:35:00.574Z"
   },
   {
    "duration": 0,
    "start_time": "2022-09-10T15:35:00.575Z"
   },
   {
    "duration": 0,
    "start_time": "2022-09-10T15:35:00.575Z"
   },
   {
    "duration": 0,
    "start_time": "2022-09-10T15:35:00.576Z"
   },
   {
    "duration": 0,
    "start_time": "2022-09-10T15:35:00.577Z"
   },
   {
    "duration": 10,
    "start_time": "2022-09-10T15:39:04.285Z"
   },
   {
    "duration": 411,
    "start_time": "2022-09-10T15:39:13.105Z"
   },
   {
    "duration": 353,
    "start_time": "2022-09-10T15:39:13.518Z"
   },
   {
    "duration": 7,
    "start_time": "2022-09-10T15:39:13.873Z"
   },
   {
    "duration": 39,
    "start_time": "2022-09-10T15:39:13.883Z"
   },
   {
    "duration": 3,
    "start_time": "2022-09-10T15:39:13.924Z"
   },
   {
    "duration": 45,
    "start_time": "2022-09-10T15:39:13.929Z"
   },
   {
    "duration": 8,
    "start_time": "2022-09-10T15:39:13.976Z"
   },
   {
    "duration": 50,
    "start_time": "2022-09-10T15:39:13.986Z"
   },
   {
    "duration": 75,
    "start_time": "2022-09-10T15:39:14.038Z"
   },
   {
    "duration": 0,
    "start_time": "2022-09-10T15:39:14.118Z"
   },
   {
    "duration": 0,
    "start_time": "2022-09-10T15:39:14.119Z"
   },
   {
    "duration": 0,
    "start_time": "2022-09-10T15:39:14.121Z"
   },
   {
    "duration": 0,
    "start_time": "2022-09-10T15:39:14.123Z"
   },
   {
    "duration": 0,
    "start_time": "2022-09-10T15:39:14.125Z"
   },
   {
    "duration": 0,
    "start_time": "2022-09-10T15:39:14.127Z"
   },
   {
    "duration": 0,
    "start_time": "2022-09-10T15:39:14.128Z"
   },
   {
    "duration": 0,
    "start_time": "2022-09-10T15:39:14.148Z"
   },
   {
    "duration": 0,
    "start_time": "2022-09-10T15:39:14.150Z"
   },
   {
    "duration": 0,
    "start_time": "2022-09-10T15:39:14.151Z"
   },
   {
    "duration": 0,
    "start_time": "2022-09-10T15:39:14.152Z"
   },
   {
    "duration": 0,
    "start_time": "2022-09-10T15:39:14.154Z"
   },
   {
    "duration": 0,
    "start_time": "2022-09-10T15:39:14.156Z"
   },
   {
    "duration": 0,
    "start_time": "2022-09-10T15:39:14.157Z"
   },
   {
    "duration": 0,
    "start_time": "2022-09-10T15:39:14.159Z"
   },
   {
    "duration": 0,
    "start_time": "2022-09-10T15:39:14.160Z"
   },
   {
    "duration": 0,
    "start_time": "2022-09-10T15:39:14.162Z"
   },
   {
    "duration": 0,
    "start_time": "2022-09-10T15:39:14.163Z"
   },
   {
    "duration": 1,
    "start_time": "2022-09-10T15:39:14.165Z"
   },
   {
    "duration": 0,
    "start_time": "2022-09-10T15:39:14.167Z"
   },
   {
    "duration": 1,
    "start_time": "2022-09-10T15:39:14.168Z"
   },
   {
    "duration": 0,
    "start_time": "2022-09-10T15:39:14.169Z"
   },
   {
    "duration": 0,
    "start_time": "2022-09-10T15:39:14.171Z"
   },
   {
    "duration": 0,
    "start_time": "2022-09-10T15:39:14.173Z"
   },
   {
    "duration": 0,
    "start_time": "2022-09-10T15:39:14.174Z"
   },
   {
    "duration": 0,
    "start_time": "2022-09-10T15:39:14.175Z"
   },
   {
    "duration": 0,
    "start_time": "2022-09-10T15:39:14.176Z"
   },
   {
    "duration": 0,
    "start_time": "2022-09-10T15:39:14.178Z"
   },
   {
    "duration": 0,
    "start_time": "2022-09-10T15:39:14.179Z"
   },
   {
    "duration": 435,
    "start_time": "2022-09-10T15:44:55.137Z"
   },
   {
    "duration": 301,
    "start_time": "2022-09-10T15:44:55.574Z"
   },
   {
    "duration": 7,
    "start_time": "2022-09-10T15:44:55.876Z"
   },
   {
    "duration": 31,
    "start_time": "2022-09-10T15:44:55.885Z"
   },
   {
    "duration": 4,
    "start_time": "2022-09-10T15:44:55.918Z"
   },
   {
    "duration": 38,
    "start_time": "2022-09-10T15:44:55.924Z"
   },
   {
    "duration": 7,
    "start_time": "2022-09-10T15:44:55.964Z"
   },
   {
    "duration": 57,
    "start_time": "2022-09-10T15:44:55.973Z"
   },
   {
    "duration": 218,
    "start_time": "2022-09-10T15:44:56.032Z"
   },
   {
    "duration": 1,
    "start_time": "2022-09-10T15:44:56.280Z"
   },
   {
    "duration": 0,
    "start_time": "2022-09-10T15:44:56.282Z"
   },
   {
    "duration": 0,
    "start_time": "2022-09-10T15:44:56.284Z"
   },
   {
    "duration": 0,
    "start_time": "2022-09-10T15:44:56.285Z"
   },
   {
    "duration": 0,
    "start_time": "2022-09-10T15:44:56.287Z"
   },
   {
    "duration": 0,
    "start_time": "2022-09-10T15:44:56.289Z"
   },
   {
    "duration": 0,
    "start_time": "2022-09-10T15:44:56.290Z"
   },
   {
    "duration": 0,
    "start_time": "2022-09-10T15:44:56.291Z"
   },
   {
    "duration": 0,
    "start_time": "2022-09-10T15:44:56.292Z"
   },
   {
    "duration": 0,
    "start_time": "2022-09-10T15:44:56.347Z"
   },
   {
    "duration": 0,
    "start_time": "2022-09-10T15:44:56.349Z"
   },
   {
    "duration": 0,
    "start_time": "2022-09-10T15:44:56.350Z"
   },
   {
    "duration": 0,
    "start_time": "2022-09-10T15:44:56.353Z"
   },
   {
    "duration": 0,
    "start_time": "2022-09-10T15:44:56.355Z"
   },
   {
    "duration": 0,
    "start_time": "2022-09-10T15:44:56.356Z"
   },
   {
    "duration": 0,
    "start_time": "2022-09-10T15:44:56.358Z"
   },
   {
    "duration": 0,
    "start_time": "2022-09-10T15:44:56.360Z"
   },
   {
    "duration": 0,
    "start_time": "2022-09-10T15:44:56.361Z"
   },
   {
    "duration": 0,
    "start_time": "2022-09-10T15:44:56.362Z"
   },
   {
    "duration": 0,
    "start_time": "2022-09-10T15:44:56.366Z"
   },
   {
    "duration": 0,
    "start_time": "2022-09-10T15:44:56.367Z"
   },
   {
    "duration": 0,
    "start_time": "2022-09-10T15:44:56.369Z"
   },
   {
    "duration": 0,
    "start_time": "2022-09-10T15:44:56.371Z"
   },
   {
    "duration": 0,
    "start_time": "2022-09-10T15:44:56.373Z"
   },
   {
    "duration": 1,
    "start_time": "2022-09-10T15:44:56.374Z"
   },
   {
    "duration": 0,
    "start_time": "2022-09-10T15:44:56.376Z"
   },
   {
    "duration": 0,
    "start_time": "2022-09-10T15:44:56.377Z"
   },
   {
    "duration": 0,
    "start_time": "2022-09-10T15:44:56.378Z"
   },
   {
    "duration": 0,
    "start_time": "2022-09-10T15:44:56.379Z"
   },
   {
    "duration": 400,
    "start_time": "2022-09-10T15:45:20.876Z"
   },
   {
    "duration": 331,
    "start_time": "2022-09-10T15:45:21.278Z"
   },
   {
    "duration": 7,
    "start_time": "2022-09-10T15:45:21.611Z"
   },
   {
    "duration": 43,
    "start_time": "2022-09-10T15:45:21.620Z"
   },
   {
    "duration": 4,
    "start_time": "2022-09-10T15:45:21.665Z"
   },
   {
    "duration": 23,
    "start_time": "2022-09-10T15:45:21.671Z"
   },
   {
    "duration": 8,
    "start_time": "2022-09-10T15:45:21.695Z"
   },
   {
    "duration": 57,
    "start_time": "2022-09-10T15:45:21.705Z"
   },
   {
    "duration": 226,
    "start_time": "2022-09-10T15:45:21.764Z"
   },
   {
    "duration": 0,
    "start_time": "2022-09-10T15:45:22.052Z"
   },
   {
    "duration": 0,
    "start_time": "2022-09-10T15:45:22.053Z"
   },
   {
    "duration": 0,
    "start_time": "2022-09-10T15:45:22.055Z"
   },
   {
    "duration": 0,
    "start_time": "2022-09-10T15:45:22.057Z"
   },
   {
    "duration": 0,
    "start_time": "2022-09-10T15:45:22.058Z"
   },
   {
    "duration": 0,
    "start_time": "2022-09-10T15:45:22.060Z"
   },
   {
    "duration": 0,
    "start_time": "2022-09-10T15:45:22.061Z"
   },
   {
    "duration": 0,
    "start_time": "2022-09-10T15:45:22.062Z"
   },
   {
    "duration": 0,
    "start_time": "2022-09-10T15:45:22.064Z"
   },
   {
    "duration": 0,
    "start_time": "2022-09-10T15:45:22.065Z"
   },
   {
    "duration": 0,
    "start_time": "2022-09-10T15:45:22.066Z"
   },
   {
    "duration": 0,
    "start_time": "2022-09-10T15:45:22.067Z"
   },
   {
    "duration": 0,
    "start_time": "2022-09-10T15:45:22.068Z"
   },
   {
    "duration": 0,
    "start_time": "2022-09-10T15:45:22.069Z"
   },
   {
    "duration": 0,
    "start_time": "2022-09-10T15:45:22.070Z"
   },
   {
    "duration": 0,
    "start_time": "2022-09-10T15:45:22.072Z"
   },
   {
    "duration": 0,
    "start_time": "2022-09-10T15:45:22.073Z"
   },
   {
    "duration": 0,
    "start_time": "2022-09-10T15:45:22.074Z"
   },
   {
    "duration": 0,
    "start_time": "2022-09-10T15:45:22.076Z"
   },
   {
    "duration": 0,
    "start_time": "2022-09-10T15:45:22.077Z"
   },
   {
    "duration": 0,
    "start_time": "2022-09-10T15:45:22.078Z"
   },
   {
    "duration": 0,
    "start_time": "2022-09-10T15:45:22.079Z"
   },
   {
    "duration": 0,
    "start_time": "2022-09-10T15:45:22.080Z"
   },
   {
    "duration": 0,
    "start_time": "2022-09-10T15:45:22.081Z"
   },
   {
    "duration": 0,
    "start_time": "2022-09-10T15:45:22.147Z"
   },
   {
    "duration": 0,
    "start_time": "2022-09-10T15:45:22.149Z"
   },
   {
    "duration": 0,
    "start_time": "2022-09-10T15:45:22.150Z"
   },
   {
    "duration": 0,
    "start_time": "2022-09-10T15:45:22.151Z"
   },
   {
    "duration": 0,
    "start_time": "2022-09-10T15:45:22.152Z"
   },
   {
    "duration": 551,
    "start_time": "2022-09-10T15:45:55.891Z"
   },
   {
    "duration": 375,
    "start_time": "2022-09-10T15:45:56.445Z"
   },
   {
    "duration": 8,
    "start_time": "2022-09-10T15:45:56.822Z"
   },
   {
    "duration": 42,
    "start_time": "2022-09-10T15:45:56.832Z"
   },
   {
    "duration": 4,
    "start_time": "2022-09-10T15:45:56.877Z"
   },
   {
    "duration": 19,
    "start_time": "2022-09-10T15:45:56.884Z"
   },
   {
    "duration": 6,
    "start_time": "2022-09-10T15:45:56.906Z"
   },
   {
    "duration": 75,
    "start_time": "2022-09-10T15:45:56.914Z"
   },
   {
    "duration": 124,
    "start_time": "2022-09-10T15:45:56.990Z"
   },
   {
    "duration": 0,
    "start_time": "2022-09-10T15:45:57.118Z"
   },
   {
    "duration": 0,
    "start_time": "2022-09-10T15:45:57.119Z"
   },
   {
    "duration": 0,
    "start_time": "2022-09-10T15:45:57.121Z"
   },
   {
    "duration": 0,
    "start_time": "2022-09-10T15:45:57.122Z"
   },
   {
    "duration": 0,
    "start_time": "2022-09-10T15:45:57.123Z"
   },
   {
    "duration": 0,
    "start_time": "2022-09-10T15:45:57.124Z"
   },
   {
    "duration": 0,
    "start_time": "2022-09-10T15:45:57.125Z"
   },
   {
    "duration": 0,
    "start_time": "2022-09-10T15:45:57.126Z"
   },
   {
    "duration": 0,
    "start_time": "2022-09-10T15:45:57.147Z"
   },
   {
    "duration": 0,
    "start_time": "2022-09-10T15:45:57.149Z"
   },
   {
    "duration": 0,
    "start_time": "2022-09-10T15:45:57.150Z"
   },
   {
    "duration": 0,
    "start_time": "2022-09-10T15:45:57.152Z"
   },
   {
    "duration": 0,
    "start_time": "2022-09-10T15:45:57.152Z"
   },
   {
    "duration": 0,
    "start_time": "2022-09-10T15:45:57.154Z"
   },
   {
    "duration": 0,
    "start_time": "2022-09-10T15:45:57.154Z"
   },
   {
    "duration": 0,
    "start_time": "2022-09-10T15:45:57.155Z"
   },
   {
    "duration": 0,
    "start_time": "2022-09-10T15:45:57.156Z"
   },
   {
    "duration": 0,
    "start_time": "2022-09-10T15:45:57.158Z"
   },
   {
    "duration": 0,
    "start_time": "2022-09-10T15:45:57.158Z"
   },
   {
    "duration": 0,
    "start_time": "2022-09-10T15:45:57.159Z"
   },
   {
    "duration": 0,
    "start_time": "2022-09-10T15:45:57.161Z"
   },
   {
    "duration": 0,
    "start_time": "2022-09-10T15:45:57.162Z"
   },
   {
    "duration": 0,
    "start_time": "2022-09-10T15:45:57.163Z"
   },
   {
    "duration": 0,
    "start_time": "2022-09-10T15:45:57.164Z"
   },
   {
    "duration": 0,
    "start_time": "2022-09-10T15:45:57.165Z"
   },
   {
    "duration": 0,
    "start_time": "2022-09-10T15:45:57.166Z"
   },
   {
    "duration": 0,
    "start_time": "2022-09-10T15:45:57.167Z"
   },
   {
    "duration": 0,
    "start_time": "2022-09-10T15:45:57.168Z"
   },
   {
    "duration": 0,
    "start_time": "2022-09-10T15:45:57.169Z"
   },
   {
    "duration": 150,
    "start_time": "2022-09-10T15:47:07.500Z"
   },
   {
    "duration": 48,
    "start_time": "2022-09-10T15:47:12.679Z"
   },
   {
    "duration": 119,
    "start_time": "2022-09-10T15:47:17.148Z"
   },
   {
    "duration": 26,
    "start_time": "2022-09-10T15:47:30.233Z"
   },
   {
    "duration": 61,
    "start_time": "2022-09-10T15:47:33.561Z"
   },
   {
    "duration": 66,
    "start_time": "2022-09-10T15:47:34.450Z"
   },
   {
    "duration": 10,
    "start_time": "2022-09-10T15:48:29.414Z"
   },
   {
    "duration": 43,
    "start_time": "2022-09-10T15:48:43.385Z"
   },
   {
    "duration": 110,
    "start_time": "2022-09-10T15:52:52.574Z"
   },
   {
    "duration": 14,
    "start_time": "2022-09-10T15:53:20.241Z"
   },
   {
    "duration": 36,
    "start_time": "2022-09-10T15:53:40.377Z"
   },
   {
    "duration": 410,
    "start_time": "2022-09-10T15:53:43.863Z"
   },
   {
    "duration": 330,
    "start_time": "2022-09-10T15:53:44.275Z"
   },
   {
    "duration": 7,
    "start_time": "2022-09-10T15:53:44.607Z"
   },
   {
    "duration": 59,
    "start_time": "2022-09-10T15:53:44.617Z"
   },
   {
    "duration": 4,
    "start_time": "2022-09-10T15:53:44.678Z"
   },
   {
    "duration": 21,
    "start_time": "2022-09-10T15:53:44.683Z"
   },
   {
    "duration": 9,
    "start_time": "2022-09-10T15:53:44.706Z"
   },
   {
    "duration": 59,
    "start_time": "2022-09-10T15:53:44.717Z"
   },
   {
    "duration": 126,
    "start_time": "2022-09-10T15:53:44.778Z"
   },
   {
    "duration": 0,
    "start_time": "2022-09-10T15:53:44.916Z"
   },
   {
    "duration": 0,
    "start_time": "2022-09-10T15:53:44.917Z"
   },
   {
    "duration": 0,
    "start_time": "2022-09-10T15:53:44.918Z"
   },
   {
    "duration": 0,
    "start_time": "2022-09-10T15:53:44.920Z"
   },
   {
    "duration": 0,
    "start_time": "2022-09-10T15:53:44.922Z"
   },
   {
    "duration": 0,
    "start_time": "2022-09-10T15:53:44.923Z"
   },
   {
    "duration": 0,
    "start_time": "2022-09-10T15:53:44.924Z"
   },
   {
    "duration": 0,
    "start_time": "2022-09-10T15:53:44.947Z"
   },
   {
    "duration": 0,
    "start_time": "2022-09-10T15:53:44.949Z"
   },
   {
    "duration": 0,
    "start_time": "2022-09-10T15:53:44.950Z"
   },
   {
    "duration": 0,
    "start_time": "2022-09-10T15:53:44.952Z"
   },
   {
    "duration": 0,
    "start_time": "2022-09-10T15:53:44.953Z"
   },
   {
    "duration": 0,
    "start_time": "2022-09-10T15:53:44.955Z"
   },
   {
    "duration": 0,
    "start_time": "2022-09-10T15:53:44.956Z"
   },
   {
    "duration": 0,
    "start_time": "2022-09-10T15:53:44.957Z"
   },
   {
    "duration": 0,
    "start_time": "2022-09-10T15:53:44.959Z"
   },
   {
    "duration": 0,
    "start_time": "2022-09-10T15:53:44.960Z"
   },
   {
    "duration": 0,
    "start_time": "2022-09-10T15:53:44.961Z"
   },
   {
    "duration": 0,
    "start_time": "2022-09-10T15:53:44.962Z"
   },
   {
    "duration": 0,
    "start_time": "2022-09-10T15:53:44.963Z"
   },
   {
    "duration": 0,
    "start_time": "2022-09-10T15:53:44.964Z"
   },
   {
    "duration": 0,
    "start_time": "2022-09-10T15:53:44.965Z"
   },
   {
    "duration": 0,
    "start_time": "2022-09-10T15:53:44.966Z"
   },
   {
    "duration": 0,
    "start_time": "2022-09-10T15:53:44.966Z"
   },
   {
    "duration": 0,
    "start_time": "2022-09-10T15:53:44.967Z"
   },
   {
    "duration": 0,
    "start_time": "2022-09-10T15:53:44.968Z"
   },
   {
    "duration": 0,
    "start_time": "2022-09-10T15:53:44.969Z"
   },
   {
    "duration": 0,
    "start_time": "2022-09-10T15:53:44.971Z"
   },
   {
    "duration": 0,
    "start_time": "2022-09-10T15:53:44.972Z"
   },
   {
    "duration": 121,
    "start_time": "2022-09-10T15:53:54.257Z"
   },
   {
    "duration": 393,
    "start_time": "2022-09-10T15:53:59.497Z"
   },
   {
    "duration": 312,
    "start_time": "2022-09-10T15:53:59.892Z"
   },
   {
    "duration": 7,
    "start_time": "2022-09-10T15:54:00.206Z"
   },
   {
    "duration": 44,
    "start_time": "2022-09-10T15:54:00.215Z"
   },
   {
    "duration": 10,
    "start_time": "2022-09-10T15:54:00.261Z"
   },
   {
    "duration": 45,
    "start_time": "2022-09-10T15:54:00.273Z"
   },
   {
    "duration": 27,
    "start_time": "2022-09-10T15:54:00.320Z"
   },
   {
    "duration": 103,
    "start_time": "2022-09-10T15:54:00.350Z"
   },
   {
    "duration": 243,
    "start_time": "2022-09-10T15:54:00.455Z"
   },
   {
    "duration": 0,
    "start_time": "2022-09-10T15:54:00.728Z"
   },
   {
    "duration": 0,
    "start_time": "2022-09-10T15:54:00.730Z"
   },
   {
    "duration": 0,
    "start_time": "2022-09-10T15:54:00.731Z"
   },
   {
    "duration": 0,
    "start_time": "2022-09-10T15:54:00.732Z"
   },
   {
    "duration": 0,
    "start_time": "2022-09-10T15:54:00.734Z"
   },
   {
    "duration": 0,
    "start_time": "2022-09-10T15:54:00.735Z"
   },
   {
    "duration": 0,
    "start_time": "2022-09-10T15:54:00.736Z"
   },
   {
    "duration": 0,
    "start_time": "2022-09-10T15:54:00.737Z"
   },
   {
    "duration": 0,
    "start_time": "2022-09-10T15:54:00.738Z"
   },
   {
    "duration": 0,
    "start_time": "2022-09-10T15:54:00.747Z"
   },
   {
    "duration": 0,
    "start_time": "2022-09-10T15:54:00.749Z"
   },
   {
    "duration": 0,
    "start_time": "2022-09-10T15:54:00.750Z"
   },
   {
    "duration": 0,
    "start_time": "2022-09-10T15:54:00.751Z"
   },
   {
    "duration": 0,
    "start_time": "2022-09-10T15:54:00.753Z"
   },
   {
    "duration": 0,
    "start_time": "2022-09-10T15:54:00.755Z"
   },
   {
    "duration": 0,
    "start_time": "2022-09-10T15:54:00.757Z"
   },
   {
    "duration": 0,
    "start_time": "2022-09-10T15:54:00.758Z"
   },
   {
    "duration": 1,
    "start_time": "2022-09-10T15:54:00.759Z"
   },
   {
    "duration": 0,
    "start_time": "2022-09-10T15:54:00.761Z"
   },
   {
    "duration": 0,
    "start_time": "2022-09-10T15:54:00.763Z"
   },
   {
    "duration": 0,
    "start_time": "2022-09-10T15:54:00.764Z"
   },
   {
    "duration": 0,
    "start_time": "2022-09-10T15:54:00.766Z"
   },
   {
    "duration": 0,
    "start_time": "2022-09-10T15:54:00.768Z"
   },
   {
    "duration": 0,
    "start_time": "2022-09-10T15:54:00.768Z"
   },
   {
    "duration": 0,
    "start_time": "2022-09-10T15:54:00.769Z"
   },
   {
    "duration": 0,
    "start_time": "2022-09-10T15:54:00.771Z"
   },
   {
    "duration": 0,
    "start_time": "2022-09-10T15:54:00.773Z"
   },
   {
    "duration": 0,
    "start_time": "2022-09-10T15:54:00.774Z"
   },
   {
    "duration": 0,
    "start_time": "2022-09-10T15:54:00.776Z"
   },
   {
    "duration": 49,
    "start_time": "2022-09-10T15:54:26.101Z"
   },
   {
    "duration": 499,
    "start_time": "2022-09-10T15:54:31.858Z"
   },
   {
    "duration": 408,
    "start_time": "2022-09-10T15:54:32.359Z"
   },
   {
    "duration": 8,
    "start_time": "2022-09-10T15:54:32.768Z"
   },
   {
    "duration": 37,
    "start_time": "2022-09-10T15:54:32.778Z"
   },
   {
    "duration": 3,
    "start_time": "2022-09-10T15:54:32.818Z"
   },
   {
    "duration": 30,
    "start_time": "2022-09-10T15:54:32.823Z"
   },
   {
    "duration": 26,
    "start_time": "2022-09-10T15:54:32.855Z"
   },
   {
    "duration": 84,
    "start_time": "2022-09-10T15:54:32.883Z"
   },
   {
    "duration": 49,
    "start_time": "2022-09-10T15:54:58.969Z"
   },
   {
    "duration": 450,
    "start_time": "2022-09-10T15:55:03.270Z"
   },
   {
    "duration": 409,
    "start_time": "2022-09-10T15:55:03.722Z"
   },
   {
    "duration": 6,
    "start_time": "2022-09-10T15:55:04.133Z"
   },
   {
    "duration": 45,
    "start_time": "2022-09-10T15:55:04.141Z"
   },
   {
    "duration": 3,
    "start_time": "2022-09-10T15:55:04.188Z"
   },
   {
    "duration": 17,
    "start_time": "2022-09-10T15:55:04.193Z"
   },
   {
    "duration": 6,
    "start_time": "2022-09-10T15:55:04.212Z"
   },
   {
    "duration": 66,
    "start_time": "2022-09-10T15:55:04.220Z"
   },
   {
    "duration": 234,
    "start_time": "2022-09-10T15:55:04.288Z"
   },
   {
    "duration": 0,
    "start_time": "2022-09-10T15:55:04.549Z"
   },
   {
    "duration": 0,
    "start_time": "2022-09-10T15:55:04.551Z"
   },
   {
    "duration": 0,
    "start_time": "2022-09-10T15:55:04.552Z"
   },
   {
    "duration": 0,
    "start_time": "2022-09-10T15:55:04.553Z"
   },
   {
    "duration": 0,
    "start_time": "2022-09-10T15:55:04.555Z"
   },
   {
    "duration": 0,
    "start_time": "2022-09-10T15:55:04.556Z"
   },
   {
    "duration": 0,
    "start_time": "2022-09-10T15:55:04.558Z"
   },
   {
    "duration": 0,
    "start_time": "2022-09-10T15:55:04.559Z"
   },
   {
    "duration": 0,
    "start_time": "2022-09-10T15:55:04.561Z"
   },
   {
    "duration": 0,
    "start_time": "2022-09-10T15:55:04.562Z"
   },
   {
    "duration": 0,
    "start_time": "2022-09-10T15:55:04.564Z"
   },
   {
    "duration": 0,
    "start_time": "2022-09-10T15:55:04.565Z"
   },
   {
    "duration": 0,
    "start_time": "2022-09-10T15:55:04.567Z"
   },
   {
    "duration": 0,
    "start_time": "2022-09-10T15:55:04.568Z"
   },
   {
    "duration": 0,
    "start_time": "2022-09-10T15:55:04.570Z"
   },
   {
    "duration": 0,
    "start_time": "2022-09-10T15:55:04.571Z"
   },
   {
    "duration": 0,
    "start_time": "2022-09-10T15:55:04.573Z"
   },
   {
    "duration": 0,
    "start_time": "2022-09-10T15:55:04.574Z"
   },
   {
    "duration": 0,
    "start_time": "2022-09-10T15:55:04.575Z"
   },
   {
    "duration": 0,
    "start_time": "2022-09-10T15:55:04.576Z"
   },
   {
    "duration": 0,
    "start_time": "2022-09-10T15:55:04.577Z"
   },
   {
    "duration": 0,
    "start_time": "2022-09-10T15:55:04.578Z"
   },
   {
    "duration": 0,
    "start_time": "2022-09-10T15:55:04.579Z"
   },
   {
    "duration": 1,
    "start_time": "2022-09-10T15:55:04.579Z"
   },
   {
    "duration": 0,
    "start_time": "2022-09-10T15:55:04.583Z"
   },
   {
    "duration": 0,
    "start_time": "2022-09-10T15:55:04.584Z"
   },
   {
    "duration": 0,
    "start_time": "2022-09-10T15:55:04.586Z"
   },
   {
    "duration": 0,
    "start_time": "2022-09-10T15:55:04.588Z"
   },
   {
    "duration": 1,
    "start_time": "2022-09-10T15:55:04.588Z"
   },
   {
    "duration": 10,
    "start_time": "2022-09-10T16:00:43.312Z"
   },
   {
    "duration": 61,
    "start_time": "2022-09-10T16:00:51.262Z"
   },
   {
    "duration": 23,
    "start_time": "2022-09-10T16:00:58.081Z"
   },
   {
    "duration": 41,
    "start_time": "2022-09-10T16:01:11.040Z"
   },
   {
    "duration": 435,
    "start_time": "2022-09-10T16:01:45.446Z"
   },
   {
    "duration": 280,
    "start_time": "2022-09-10T16:01:45.883Z"
   },
   {
    "duration": 6,
    "start_time": "2022-09-10T16:01:46.164Z"
   },
   {
    "duration": 40,
    "start_time": "2022-09-10T16:01:46.172Z"
   },
   {
    "duration": 13,
    "start_time": "2022-09-10T16:01:46.214Z"
   },
   {
    "duration": 25,
    "start_time": "2022-09-10T16:01:46.229Z"
   },
   {
    "duration": 9,
    "start_time": "2022-09-10T16:01:46.257Z"
   },
   {
    "duration": 66,
    "start_time": "2022-09-10T16:01:46.269Z"
   },
   {
    "duration": 72,
    "start_time": "2022-09-10T16:01:46.337Z"
   },
   {
    "duration": 43,
    "start_time": "2022-09-10T16:01:46.413Z"
   },
   {
    "duration": 70,
    "start_time": "2022-09-10T16:01:46.458Z"
   },
   {
    "duration": 89,
    "start_time": "2022-09-10T16:01:46.529Z"
   },
   {
    "duration": 73,
    "start_time": "2022-09-10T16:01:46.619Z"
   },
   {
    "duration": 69,
    "start_time": "2022-09-10T16:01:46.694Z"
   },
   {
    "duration": 3,
    "start_time": "2022-09-10T16:01:46.765Z"
   },
   {
    "duration": 16,
    "start_time": "2022-09-10T16:01:46.769Z"
   },
   {
    "duration": 73,
    "start_time": "2022-09-10T16:01:46.787Z"
   },
   {
    "duration": 11,
    "start_time": "2022-09-10T16:01:46.862Z"
   },
   {
    "duration": 10,
    "start_time": "2022-09-10T16:01:46.875Z"
   },
   {
    "duration": 4,
    "start_time": "2022-09-10T16:01:46.886Z"
   },
   {
    "duration": 32,
    "start_time": "2022-09-10T16:01:46.891Z"
   },
   {
    "duration": 26,
    "start_time": "2022-09-10T16:01:46.925Z"
   },
   {
    "duration": 14,
    "start_time": "2022-09-10T16:01:46.953Z"
   },
   {
    "duration": 12,
    "start_time": "2022-09-10T16:01:46.969Z"
   },
   {
    "duration": 17,
    "start_time": "2022-09-10T16:01:46.983Z"
   },
   {
    "duration": 16,
    "start_time": "2022-09-10T16:01:47.002Z"
   },
   {
    "duration": 30,
    "start_time": "2022-09-10T16:01:47.020Z"
   },
   {
    "duration": 12,
    "start_time": "2022-09-10T16:01:47.053Z"
   },
   {
    "duration": 11,
    "start_time": "2022-09-10T16:01:47.067Z"
   },
   {
    "duration": 5,
    "start_time": "2022-09-10T16:01:47.079Z"
   },
   {
    "duration": 24,
    "start_time": "2022-09-10T16:01:47.085Z"
   },
   {
    "duration": 11,
    "start_time": "2022-09-10T16:01:47.111Z"
   },
   {
    "duration": 41,
    "start_time": "2022-09-10T16:01:47.123Z"
   },
   {
    "duration": 13,
    "start_time": "2022-09-10T16:01:47.166Z"
   },
   {
    "duration": 35,
    "start_time": "2022-09-10T16:01:47.181Z"
   },
   {
    "duration": 4,
    "start_time": "2022-09-10T16:01:47.218Z"
   },
   {
    "duration": 51,
    "start_time": "2022-09-10T16:01:47.223Z"
   },
   {
    "duration": 4,
    "start_time": "2022-09-10T16:01:47.276Z"
   },
   {
    "duration": 506,
    "start_time": "2022-09-10T18:27:54.606Z"
   },
   {
    "duration": 378,
    "start_time": "2022-09-10T18:27:55.114Z"
   },
   {
    "duration": 6,
    "start_time": "2022-09-10T18:27:55.494Z"
   },
   {
    "duration": 57,
    "start_time": "2022-09-10T18:27:55.502Z"
   },
   {
    "duration": 18,
    "start_time": "2022-09-10T18:27:55.560Z"
   },
   {
    "duration": 16,
    "start_time": "2022-09-10T18:27:55.579Z"
   },
   {
    "duration": 9,
    "start_time": "2022-09-10T18:27:55.597Z"
   },
   {
    "duration": 109,
    "start_time": "2022-09-10T18:27:55.607Z"
   },
   {
    "duration": 105,
    "start_time": "2022-09-10T18:27:55.718Z"
   },
   {
    "duration": 0,
    "start_time": "2022-09-10T18:27:55.825Z"
   },
   {
    "duration": 0,
    "start_time": "2022-09-10T18:27:55.826Z"
   },
   {
    "duration": 0,
    "start_time": "2022-09-10T18:27:55.827Z"
   },
   {
    "duration": 0,
    "start_time": "2022-09-10T18:27:55.828Z"
   },
   {
    "duration": 0,
    "start_time": "2022-09-10T18:27:55.828Z"
   },
   {
    "duration": 0,
    "start_time": "2022-09-10T18:27:55.829Z"
   },
   {
    "duration": 0,
    "start_time": "2022-09-10T18:27:55.830Z"
   },
   {
    "duration": 0,
    "start_time": "2022-09-10T18:27:55.831Z"
   },
   {
    "duration": 0,
    "start_time": "2022-09-10T18:27:55.833Z"
   },
   {
    "duration": 1,
    "start_time": "2022-09-10T18:27:55.833Z"
   },
   {
    "duration": 0,
    "start_time": "2022-09-10T18:27:55.834Z"
   },
   {
    "duration": 0,
    "start_time": "2022-09-10T18:27:55.835Z"
   },
   {
    "duration": 0,
    "start_time": "2022-09-10T18:27:55.836Z"
   },
   {
    "duration": 0,
    "start_time": "2022-09-10T18:27:55.837Z"
   },
   {
    "duration": 0,
    "start_time": "2022-09-10T18:27:55.838Z"
   },
   {
    "duration": 0,
    "start_time": "2022-09-10T18:27:55.839Z"
   },
   {
    "duration": 0,
    "start_time": "2022-09-10T18:27:55.840Z"
   },
   {
    "duration": 0,
    "start_time": "2022-09-10T18:27:55.842Z"
   },
   {
    "duration": 0,
    "start_time": "2022-09-10T18:27:55.843Z"
   },
   {
    "duration": 0,
    "start_time": "2022-09-10T18:27:55.844Z"
   },
   {
    "duration": 0,
    "start_time": "2022-09-10T18:27:55.845Z"
   },
   {
    "duration": 0,
    "start_time": "2022-09-10T18:27:55.846Z"
   },
   {
    "duration": 0,
    "start_time": "2022-09-10T18:27:55.846Z"
   },
   {
    "duration": 0,
    "start_time": "2022-09-10T18:27:55.877Z"
   },
   {
    "duration": 0,
    "start_time": "2022-09-10T18:27:55.878Z"
   },
   {
    "duration": 0,
    "start_time": "2022-09-10T18:27:55.880Z"
   },
   {
    "duration": 0,
    "start_time": "2022-09-10T18:27:55.881Z"
   },
   {
    "duration": 0,
    "start_time": "2022-09-10T18:27:55.882Z"
   },
   {
    "duration": 0,
    "start_time": "2022-09-10T18:27:55.884Z"
   },
   {
    "duration": 55,
    "start_time": "2022-09-10T18:29:48.612Z"
   },
   {
    "duration": 79,
    "start_time": "2022-09-10T18:29:49.547Z"
   },
   {
    "duration": 65,
    "start_time": "2022-09-10T18:29:49.904Z"
   },
   {
    "duration": 78,
    "start_time": "2022-09-10T18:29:50.387Z"
   },
   {
    "duration": 56,
    "start_time": "2022-09-10T18:29:50.868Z"
   },
   {
    "duration": 3,
    "start_time": "2022-09-10T18:29:51.362Z"
   },
   {
    "duration": 17,
    "start_time": "2022-09-10T18:29:51.688Z"
   },
   {
    "duration": 54,
    "start_time": "2022-09-10T18:29:52.187Z"
   },
   {
    "duration": 14,
    "start_time": "2022-09-10T18:29:53.743Z"
   },
   {
    "duration": 14,
    "start_time": "2022-09-10T18:29:54.089Z"
   },
   {
    "duration": 5,
    "start_time": "2022-09-10T18:29:54.793Z"
   },
   {
    "duration": 38,
    "start_time": "2022-09-10T18:29:55.338Z"
   },
   {
    "duration": 14,
    "start_time": "2022-09-10T18:29:55.529Z"
   },
   {
    "duration": 20,
    "start_time": "2022-09-10T18:29:55.677Z"
   },
   {
    "duration": 18,
    "start_time": "2022-09-10T18:29:55.855Z"
   },
   {
    "duration": 23,
    "start_time": "2022-09-10T18:29:56.036Z"
   },
   {
    "duration": 19,
    "start_time": "2022-09-10T18:29:56.217Z"
   },
   {
    "duration": 7,
    "start_time": "2022-09-10T18:29:56.550Z"
   },
   {
    "duration": 11,
    "start_time": "2022-09-10T18:29:57.786Z"
   },
   {
    "duration": 9,
    "start_time": "2022-09-10T18:29:58.140Z"
   },
   {
    "duration": 5,
    "start_time": "2022-09-10T18:29:58.482Z"
   },
   {
    "duration": 16,
    "start_time": "2022-09-10T18:29:59.272Z"
   },
   {
    "duration": 11,
    "start_time": "2022-09-10T18:30:00.049Z"
   },
   {
    "duration": 17,
    "start_time": "2022-09-10T18:30:00.222Z"
   },
   {
    "duration": 12,
    "start_time": "2022-09-10T18:30:00.429Z"
   },
   {
    "duration": 426,
    "start_time": "2022-09-10T19:16:24.017Z"
   },
   {
    "duration": 325,
    "start_time": "2022-09-10T19:16:24.445Z"
   },
   {
    "duration": 6,
    "start_time": "2022-09-10T19:16:24.771Z"
   },
   {
    "duration": 30,
    "start_time": "2022-09-10T19:16:24.779Z"
   },
   {
    "duration": 3,
    "start_time": "2022-09-10T19:16:24.811Z"
   },
   {
    "duration": 17,
    "start_time": "2022-09-10T19:16:24.815Z"
   },
   {
    "duration": 13,
    "start_time": "2022-09-10T19:16:24.834Z"
   },
   {
    "duration": 41,
    "start_time": "2022-09-10T19:16:24.849Z"
   },
   {
    "duration": 68,
    "start_time": "2022-09-10T19:16:24.892Z"
   },
   {
    "duration": 23,
    "start_time": "2022-09-10T19:16:24.962Z"
   },
   {
    "duration": 72,
    "start_time": "2022-09-10T19:16:24.986Z"
   },
   {
    "duration": 71,
    "start_time": "2022-09-10T19:16:25.060Z"
   },
   {
    "duration": 66,
    "start_time": "2022-09-10T19:16:25.132Z"
   },
   {
    "duration": 69,
    "start_time": "2022-09-10T19:16:25.200Z"
   },
   {
    "duration": 3,
    "start_time": "2022-09-10T19:16:25.271Z"
   },
   {
    "duration": 18,
    "start_time": "2022-09-10T19:16:25.276Z"
   },
   {
    "duration": 87,
    "start_time": "2022-09-10T19:16:25.296Z"
   },
   {
    "duration": 15,
    "start_time": "2022-09-10T19:16:25.384Z"
   },
   {
    "duration": 16,
    "start_time": "2022-09-10T19:16:25.401Z"
   },
   {
    "duration": 4,
    "start_time": "2022-09-10T19:16:25.419Z"
   },
   {
    "duration": 34,
    "start_time": "2022-09-10T19:16:25.425Z"
   },
   {
    "duration": 14,
    "start_time": "2022-09-10T19:16:25.460Z"
   },
   {
    "duration": 13,
    "start_time": "2022-09-10T19:16:25.476Z"
   },
   {
    "duration": 11,
    "start_time": "2022-09-10T19:16:25.491Z"
   },
   {
    "duration": 16,
    "start_time": "2022-09-10T19:16:25.503Z"
   },
   {
    "duration": 34,
    "start_time": "2022-09-10T19:16:25.520Z"
   },
   {
    "duration": 7,
    "start_time": "2022-09-10T19:16:25.555Z"
   },
   {
    "duration": 10,
    "start_time": "2022-09-10T19:16:25.565Z"
   },
   {
    "duration": 12,
    "start_time": "2022-09-10T19:16:25.576Z"
   },
   {
    "duration": 6,
    "start_time": "2022-09-10T19:16:25.589Z"
   },
   {
    "duration": 51,
    "start_time": "2022-09-10T19:16:25.596Z"
   },
   {
    "duration": 15,
    "start_time": "2022-09-10T19:16:25.649Z"
   },
   {
    "duration": 30,
    "start_time": "2022-09-10T19:16:25.665Z"
   },
   {
    "duration": 13,
    "start_time": "2022-09-10T19:16:25.696Z"
   },
   {
    "duration": 72,
    "start_time": "2022-09-10T19:16:25.711Z"
   },
   {
    "duration": 4,
    "start_time": "2022-09-10T19:16:25.785Z"
   },
   {
    "duration": 29,
    "start_time": "2022-09-10T19:16:25.791Z"
   },
   {
    "duration": 4,
    "start_time": "2022-09-10T19:16:25.822Z"
   },
   {
    "duration": 425,
    "start_time": "2022-09-10T19:17:35.129Z"
   },
   {
    "duration": 274,
    "start_time": "2022-09-10T19:17:35.556Z"
   },
   {
    "duration": 6,
    "start_time": "2022-09-10T19:17:35.832Z"
   },
   {
    "duration": 38,
    "start_time": "2022-09-10T19:17:35.839Z"
   },
   {
    "duration": 3,
    "start_time": "2022-09-10T19:17:35.878Z"
   },
   {
    "duration": 15,
    "start_time": "2022-09-10T19:17:35.882Z"
   },
   {
    "duration": 4,
    "start_time": "2022-09-10T19:17:35.898Z"
   },
   {
    "duration": 61,
    "start_time": "2022-09-10T19:17:35.903Z"
   },
   {
    "duration": 55,
    "start_time": "2022-09-10T19:17:35.966Z"
   },
   {
    "duration": 40,
    "start_time": "2022-09-10T19:17:36.024Z"
   },
   {
    "duration": 61,
    "start_time": "2022-09-10T19:17:36.066Z"
   },
   {
    "duration": 100,
    "start_time": "2022-09-10T19:17:36.129Z"
   },
   {
    "duration": 88,
    "start_time": "2022-09-10T19:17:36.231Z"
   },
   {
    "duration": 92,
    "start_time": "2022-09-10T19:17:36.321Z"
   },
   {
    "duration": 3,
    "start_time": "2022-09-10T19:17:36.415Z"
   },
   {
    "duration": 22,
    "start_time": "2022-09-10T19:17:36.420Z"
   },
   {
    "duration": 77,
    "start_time": "2022-09-10T19:17:36.444Z"
   },
   {
    "duration": 24,
    "start_time": "2022-09-10T19:17:36.523Z"
   },
   {
    "duration": 9,
    "start_time": "2022-09-10T19:17:36.549Z"
   },
   {
    "duration": 3,
    "start_time": "2022-09-10T19:17:36.560Z"
   },
   {
    "duration": 29,
    "start_time": "2022-09-10T19:17:36.565Z"
   },
   {
    "duration": 19,
    "start_time": "2022-09-10T19:17:36.595Z"
   },
   {
    "duration": 16,
    "start_time": "2022-09-10T19:17:36.615Z"
   },
   {
    "duration": 22,
    "start_time": "2022-09-10T19:17:36.633Z"
   },
   {
    "duration": 22,
    "start_time": "2022-09-10T19:17:36.656Z"
   },
   {
    "duration": 12,
    "start_time": "2022-09-10T19:17:36.680Z"
   },
   {
    "duration": 15,
    "start_time": "2022-09-10T19:17:36.694Z"
   },
   {
    "duration": 18,
    "start_time": "2022-09-10T19:17:36.711Z"
   },
   {
    "duration": 32,
    "start_time": "2022-09-10T19:17:36.731Z"
   },
   {
    "duration": 9,
    "start_time": "2022-09-10T19:17:36.765Z"
   },
   {
    "duration": 42,
    "start_time": "2022-09-10T19:17:36.775Z"
   },
   {
    "duration": 19,
    "start_time": "2022-09-10T19:17:36.818Z"
   },
   {
    "duration": 21,
    "start_time": "2022-09-10T19:17:36.839Z"
   },
   {
    "duration": 13,
    "start_time": "2022-09-10T19:17:36.861Z"
   },
   {
    "duration": 43,
    "start_time": "2022-09-10T19:17:36.875Z"
   },
   {
    "duration": 3,
    "start_time": "2022-09-10T19:17:36.920Z"
   },
   {
    "duration": 32,
    "start_time": "2022-09-10T19:17:36.925Z"
   },
   {
    "duration": 4,
    "start_time": "2022-09-10T19:17:36.959Z"
   },
   {
    "duration": 360,
    "start_time": "2022-09-10T19:18:10.799Z"
   },
   {
    "duration": 283,
    "start_time": "2022-09-10T19:18:11.161Z"
   },
   {
    "duration": 6,
    "start_time": "2022-09-10T19:18:11.446Z"
   },
   {
    "duration": 39,
    "start_time": "2022-09-10T19:18:11.454Z"
   },
   {
    "duration": 5,
    "start_time": "2022-09-10T19:18:11.494Z"
   },
   {
    "duration": 16,
    "start_time": "2022-09-10T19:18:11.500Z"
   },
   {
    "duration": 9,
    "start_time": "2022-09-10T19:18:11.518Z"
   },
   {
    "duration": 52,
    "start_time": "2022-09-10T19:18:11.528Z"
   },
   {
    "duration": 16,
    "start_time": "2022-09-10T19:18:11.582Z"
   },
   {
    "duration": 27,
    "start_time": "2022-09-10T19:18:11.601Z"
   },
   {
    "duration": 70,
    "start_time": "2022-09-10T19:18:11.629Z"
   },
   {
    "duration": 77,
    "start_time": "2022-09-10T19:18:11.701Z"
   },
   {
    "duration": 51,
    "start_time": "2022-09-10T19:18:11.779Z"
   },
   {
    "duration": 44,
    "start_time": "2022-09-10T19:18:11.832Z"
   },
   {
    "duration": 5,
    "start_time": "2022-09-10T19:18:11.878Z"
   },
   {
    "duration": 16,
    "start_time": "2022-09-10T19:18:11.884Z"
   },
   {
    "duration": 53,
    "start_time": "2022-09-10T19:18:11.901Z"
   },
   {
    "duration": 11,
    "start_time": "2022-09-10T19:18:11.956Z"
   },
   {
    "duration": 10,
    "start_time": "2022-09-10T19:18:11.969Z"
   },
   {
    "duration": 3,
    "start_time": "2022-09-10T19:18:11.981Z"
   },
   {
    "duration": 25,
    "start_time": "2022-09-10T19:18:11.985Z"
   },
   {
    "duration": 35,
    "start_time": "2022-09-10T19:18:12.012Z"
   },
   {
    "duration": 14,
    "start_time": "2022-09-10T19:18:12.048Z"
   },
   {
    "duration": 12,
    "start_time": "2022-09-10T19:18:12.064Z"
   },
   {
    "duration": 14,
    "start_time": "2022-09-10T19:18:12.078Z"
   },
   {
    "duration": 13,
    "start_time": "2022-09-10T19:18:12.093Z"
   },
   {
    "duration": 39,
    "start_time": "2022-09-10T19:18:12.108Z"
   },
   {
    "duration": 16,
    "start_time": "2022-09-10T19:18:12.150Z"
   },
   {
    "duration": 9,
    "start_time": "2022-09-10T19:18:12.167Z"
   },
   {
    "duration": 5,
    "start_time": "2022-09-10T19:18:12.177Z"
   },
   {
    "duration": 21,
    "start_time": "2022-09-10T19:18:12.183Z"
   },
   {
    "duration": 11,
    "start_time": "2022-09-10T19:18:12.205Z"
   },
   {
    "duration": 40,
    "start_time": "2022-09-10T19:18:12.217Z"
   },
   {
    "duration": 11,
    "start_time": "2022-09-10T19:18:12.259Z"
   },
   {
    "duration": 8,
    "start_time": "2022-09-10T19:18:12.272Z"
   },
   {
    "duration": 3,
    "start_time": "2022-09-10T19:18:12.281Z"
   },
   {
    "duration": 8,
    "start_time": "2022-09-10T19:18:12.286Z"
   },
   {
    "duration": 5,
    "start_time": "2022-09-10T19:18:12.296Z"
   },
   {
    "duration": 349,
    "start_time": "2022-09-10T19:18:20.902Z"
   },
   {
    "duration": 281,
    "start_time": "2022-09-10T19:18:21.254Z"
   },
   {
    "duration": 10,
    "start_time": "2022-09-10T19:18:21.536Z"
   },
   {
    "duration": 35,
    "start_time": "2022-09-10T19:18:21.548Z"
   },
   {
    "duration": 3,
    "start_time": "2022-09-10T19:18:21.586Z"
   },
   {
    "duration": 18,
    "start_time": "2022-09-10T19:18:21.590Z"
   },
   {
    "duration": 6,
    "start_time": "2022-09-10T19:18:21.610Z"
   },
   {
    "duration": 59,
    "start_time": "2022-09-10T19:18:21.617Z"
   },
   {
    "duration": 17,
    "start_time": "2022-09-10T19:18:21.677Z"
   },
   {
    "duration": 23,
    "start_time": "2022-09-10T19:18:21.696Z"
   },
   {
    "duration": 77,
    "start_time": "2022-09-10T19:18:21.720Z"
   },
   {
    "duration": 78,
    "start_time": "2022-09-10T19:18:21.799Z"
   },
   {
    "duration": 52,
    "start_time": "2022-09-10T19:18:21.878Z"
   },
   {
    "duration": 48,
    "start_time": "2022-09-10T19:18:21.932Z"
   },
   {
    "duration": 2,
    "start_time": "2022-09-10T19:18:21.982Z"
   },
   {
    "duration": 14,
    "start_time": "2022-09-10T19:18:21.985Z"
   },
   {
    "duration": 51,
    "start_time": "2022-09-10T19:18:22.000Z"
   },
   {
    "duration": 11,
    "start_time": "2022-09-10T19:18:22.052Z"
   },
   {
    "duration": 9,
    "start_time": "2022-09-10T19:18:22.064Z"
   },
   {
    "duration": 3,
    "start_time": "2022-09-10T19:18:22.075Z"
   },
   {
    "duration": 33,
    "start_time": "2022-09-10T19:18:22.080Z"
   },
   {
    "duration": 16,
    "start_time": "2022-09-10T19:18:22.115Z"
   },
   {
    "duration": 27,
    "start_time": "2022-09-10T19:18:22.132Z"
   },
   {
    "duration": 14,
    "start_time": "2022-09-10T19:18:22.160Z"
   },
   {
    "duration": 16,
    "start_time": "2022-09-10T19:18:22.176Z"
   },
   {
    "duration": 18,
    "start_time": "2022-09-10T19:18:22.194Z"
   },
   {
    "duration": 6,
    "start_time": "2022-09-10T19:18:22.214Z"
   },
   {
    "duration": 29,
    "start_time": "2022-09-10T19:18:22.223Z"
   },
   {
    "duration": 10,
    "start_time": "2022-09-10T19:18:22.254Z"
   },
   {
    "duration": 7,
    "start_time": "2022-09-10T19:18:22.265Z"
   },
   {
    "duration": 22,
    "start_time": "2022-09-10T19:18:22.273Z"
   },
   {
    "duration": 10,
    "start_time": "2022-09-10T19:18:22.297Z"
   },
   {
    "duration": 16,
    "start_time": "2022-09-10T19:18:22.309Z"
   },
   {
    "duration": 29,
    "start_time": "2022-09-10T19:18:22.326Z"
   },
   {
    "duration": 9,
    "start_time": "2022-09-10T19:18:22.357Z"
   },
   {
    "duration": 15,
    "start_time": "2022-09-10T19:18:22.367Z"
   },
   {
    "duration": 18,
    "start_time": "2022-09-10T19:18:22.383Z"
   },
   {
    "duration": 10,
    "start_time": "2022-09-10T19:18:22.403Z"
   },
   {
    "duration": 15,
    "start_time": "2022-09-10T19:18:29.444Z"
   },
   {
    "duration": 40,
    "start_time": "2022-09-10T19:18:32.459Z"
   },
   {
    "duration": 15,
    "start_time": "2022-09-10T19:18:34.406Z"
   },
   {
    "duration": 21,
    "start_time": "2022-09-10T19:18:37.773Z"
   },
   {
    "duration": 408,
    "start_time": "2022-09-11T16:33:12.109Z"
   },
   {
    "duration": 920,
    "start_time": "2022-09-11T16:33:12.519Z"
   },
   {
    "duration": 6,
    "start_time": "2022-09-11T16:33:13.441Z"
   },
   {
    "duration": 34,
    "start_time": "2022-09-11T16:33:13.450Z"
   },
   {
    "duration": 6,
    "start_time": "2022-09-11T16:33:13.486Z"
   },
   {
    "duration": 15,
    "start_time": "2022-09-11T16:33:13.494Z"
   },
   {
    "duration": 6,
    "start_time": "2022-09-11T16:33:13.511Z"
   },
   {
    "duration": 49,
    "start_time": "2022-09-11T16:33:13.519Z"
   },
   {
    "duration": 18,
    "start_time": "2022-09-11T16:33:13.592Z"
   },
   {
    "duration": 27,
    "start_time": "2022-09-11T16:33:13.614Z"
   },
   {
    "duration": 86,
    "start_time": "2022-09-11T16:33:13.643Z"
   },
   {
    "duration": 92,
    "start_time": "2022-09-11T16:33:13.731Z"
   },
   {
    "duration": 56,
    "start_time": "2022-09-11T16:33:13.825Z"
   },
   {
    "duration": 40,
    "start_time": "2022-09-11T16:33:13.892Z"
   },
   {
    "duration": 2,
    "start_time": "2022-09-11T16:33:13.934Z"
   },
   {
    "duration": 14,
    "start_time": "2022-09-11T16:33:13.938Z"
   },
   {
    "duration": 65,
    "start_time": "2022-09-11T16:33:13.953Z"
   },
   {
    "duration": 11,
    "start_time": "2022-09-11T16:33:14.020Z"
   },
   {
    "duration": 13,
    "start_time": "2022-09-11T16:33:14.033Z"
   },
   {
    "duration": 4,
    "start_time": "2022-09-11T16:33:14.047Z"
   },
   {
    "duration": 44,
    "start_time": "2022-09-11T16:33:14.053Z"
   },
   {
    "duration": 19,
    "start_time": "2022-09-11T16:33:14.099Z"
   },
   {
    "duration": 16,
    "start_time": "2022-09-11T16:33:14.120Z"
   },
   {
    "duration": 14,
    "start_time": "2022-09-11T16:33:14.138Z"
   },
   {
    "duration": 49,
    "start_time": "2022-09-11T16:33:14.154Z"
   },
   {
    "duration": 16,
    "start_time": "2022-09-11T16:33:14.205Z"
   },
   {
    "duration": 6,
    "start_time": "2022-09-11T16:33:14.223Z"
   },
   {
    "duration": 15,
    "start_time": "2022-09-11T16:33:14.233Z"
   },
   {
    "duration": 15,
    "start_time": "2022-09-11T16:33:14.249Z"
   },
   {
    "duration": 26,
    "start_time": "2022-09-11T16:33:14.266Z"
   },
   {
    "duration": 18,
    "start_time": "2022-09-11T16:33:14.293Z"
   },
   {
    "duration": 12,
    "start_time": "2022-09-11T16:33:14.313Z"
   },
   {
    "duration": 20,
    "start_time": "2022-09-11T16:33:14.326Z"
   },
   {
    "duration": 14,
    "start_time": "2022-09-11T16:33:14.347Z"
   },
   {
    "duration": 9,
    "start_time": "2022-09-11T16:33:14.392Z"
   },
   {
    "duration": 4,
    "start_time": "2022-09-11T16:33:14.402Z"
   },
   {
    "duration": 10,
    "start_time": "2022-09-11T16:33:14.407Z"
   },
   {
    "duration": 4,
    "start_time": "2022-09-11T16:33:14.419Z"
   },
   {
    "duration": 393,
    "start_time": "2022-09-11T16:33:33.125Z"
   },
   {
    "duration": 309,
    "start_time": "2022-09-11T16:33:33.520Z"
   },
   {
    "duration": 7,
    "start_time": "2022-09-11T16:33:33.831Z"
   },
   {
    "duration": 46,
    "start_time": "2022-09-11T16:33:33.840Z"
   },
   {
    "duration": 9,
    "start_time": "2022-09-11T16:33:33.888Z"
   },
   {
    "duration": 22,
    "start_time": "2022-09-11T16:33:33.899Z"
   },
   {
    "duration": 9,
    "start_time": "2022-09-11T16:33:33.923Z"
   },
   {
    "duration": 61,
    "start_time": "2022-09-11T16:33:33.934Z"
   },
   {
    "duration": 20,
    "start_time": "2022-09-11T16:33:33.997Z"
   },
   {
    "duration": 36,
    "start_time": "2022-09-11T16:33:34.020Z"
   },
   {
    "duration": 73,
    "start_time": "2022-09-11T16:33:34.058Z"
   },
   {
    "duration": 86,
    "start_time": "2022-09-11T16:33:34.132Z"
   },
   {
    "duration": 56,
    "start_time": "2022-09-11T16:33:34.220Z"
   },
   {
    "duration": 49,
    "start_time": "2022-09-11T16:33:34.278Z"
   },
   {
    "duration": 3,
    "start_time": "2022-09-11T16:33:34.328Z"
   },
   {
    "duration": 18,
    "start_time": "2022-09-11T16:33:34.333Z"
   },
   {
    "duration": 55,
    "start_time": "2022-09-11T16:33:34.353Z"
   },
   {
    "duration": 11,
    "start_time": "2022-09-11T16:33:34.410Z"
   },
   {
    "duration": 24,
    "start_time": "2022-09-11T16:33:34.423Z"
   },
   {
    "duration": 3,
    "start_time": "2022-09-11T16:33:34.449Z"
   },
   {
    "duration": 21,
    "start_time": "2022-09-11T16:33:34.454Z"
   },
   {
    "duration": 24,
    "start_time": "2022-09-11T16:33:34.476Z"
   },
   {
    "duration": 15,
    "start_time": "2022-09-11T16:33:34.501Z"
   },
   {
    "duration": 15,
    "start_time": "2022-09-11T16:33:34.518Z"
   },
   {
    "duration": 17,
    "start_time": "2022-09-11T16:33:34.534Z"
   },
   {
    "duration": 45,
    "start_time": "2022-09-11T16:33:34.552Z"
   },
   {
    "duration": 8,
    "start_time": "2022-09-11T16:33:34.599Z"
   },
   {
    "duration": 13,
    "start_time": "2022-09-11T16:33:34.610Z"
   },
   {
    "duration": 10,
    "start_time": "2022-09-11T16:33:34.624Z"
   },
   {
    "duration": 6,
    "start_time": "2022-09-11T16:33:34.636Z"
   },
   {
    "duration": 26,
    "start_time": "2022-09-11T16:33:34.644Z"
   },
   {
    "duration": 13,
    "start_time": "2022-09-11T16:33:34.691Z"
   },
   {
    "duration": 19,
    "start_time": "2022-09-11T16:33:34.706Z"
   },
   {
    "duration": 13,
    "start_time": "2022-09-11T16:33:34.726Z"
   },
   {
    "duration": 8,
    "start_time": "2022-09-11T16:33:34.740Z"
   },
   {
    "duration": 7,
    "start_time": "2022-09-11T16:33:34.750Z"
   },
   {
    "duration": 42,
    "start_time": "2022-09-11T16:33:34.759Z"
   },
   {
    "duration": 4,
    "start_time": "2022-09-11T16:33:34.803Z"
   }
  ],
  "colab": {
   "collapsed_sections": [
    "E0vqbgi9ay0H",
    "VUC88oWjTJw2",
    "atZAxtq4_Zcu"
   ],
   "name": "EmptyFinalProject.ipynb\"",
   "provenance": []
  },
  "kernelspec": {
   "display_name": "Python 3 (ipykernel)",
   "language": "python",
   "name": "python3"
  },
  "language_info": {
   "codemirror_mode": {
    "name": "ipython",
    "version": 3
   },
   "file_extension": ".py",
   "mimetype": "text/x-python",
   "name": "python",
   "nbconvert_exporter": "python",
   "pygments_lexer": "ipython3",
   "version": "3.9.5"
  },
  "toc": {
   "base_numbering": 1,
   "nav_menu": {},
   "number_sections": true,
   "sideBar": true,
   "skip_h1_title": true,
   "title_cell": "Table of Contents",
   "title_sidebar": "Contents",
   "toc_cell": false,
   "toc_position": {},
   "toc_section_display": true,
   "toc_window_display": false
  }
 },
 "nbformat": 4,
 "nbformat_minor": 4
}
